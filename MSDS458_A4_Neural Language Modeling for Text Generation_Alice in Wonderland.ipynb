{
 "cells": [
  {
   "cell_type": "markdown",
   "metadata": {
    "colab_type": "text",
    "id": "n7AdVrzQq61E"
   },
   "source": [
    "# Neural language models for text generation\n",
    "\n",
    "<b>Objective</b><br>\n",
    "The ability to generate text that resembles the quality of human language has numerous applications, from machine translation to spelling correction, from text summarization to image captioning. At the heart of these larger tasks is the language model, which is a function or algorithm for learning that function that captures relevant statistical characteristics of the distribution of sequences of words in a natural language (Bengio, 2008). This study is an examination of the neural language model, specifically, as a foundation for larger NLP tasks and a representative step in the evolution beyond traditional statistical modeling. Its goal is two-fold: develop neural language models for capturing the “essence” of a large corpora of text and gain an in-depth understanding of how various factors affect fitting and ultimate performance with networks with differing deep learning architectures. This will shed light on how hidden nodes learn to extract features from inputs; with additional layers, the objective is to better understand how each successive layer extracts progressively abstract and generalized features. This is done through the development, evaluation, and comparison of word-based neural language models for text generation.<br>\n",
    "\n",
    "<b>Data source for model development and evaluation</b><br>\n",
    "Data for this study comes from __[Project Gutenberg](https://www.gutenberg.org)__, a repository of over 60,000 publicly-available books, with focus on older works for which U.S. copyright has expired. Beyond a source of great literature free and open to everyone, the text versions of these works offer countless opportunities for experimentation with machine learning techniques using unstructured text. Each group of experiments in the study focuses on a particular novel, in this case <i>Alice's Adventures in Wonderland</i>, an 1865 novel written by English author Lewis Carroll. A separate study is conducted using Franz Kafka's 1915 novel <i>The Metamorphosis</i>, serving as a point of comparison.<br>\n",
    "\n",
    "<b>Model development</b><br>\n",
    "Using these two separate texts, various network architectures are tested to determine their ability to capture meaning and context from these two texts and generate reliable, believable sequences of related text based on predictions of probability given an input sequence of text. Long Short-Term Memory (LSTM) Recurrent Neural Networks (RNNs) are employed primarily given these networks’ established performance with text generation and ability to help mitigate, in some cases, overfitting and the challenge of vanishing gradients. LSTM RNNs are also the focus due to their potential to retain sequence-based meaning, from words in sentences to sentences in paragraphs; the longer nature of these texts offers a useful data source for testing this possibility. Varying network depth and width are investigated for potential impact on performance, which is ultimately measured quantitatively (via loss and training time) and qualitatively (via generated text examples from seed text and comparison to actual text that follows). While this evaluation is not perfectly objective, these combined steps shed light on how well the various models capture meaning from text, which serves as useful in certain standalone cases and, more importantly, as a critical input to more complex NLP tasks.\n",
    "\n",
    "<b>Model evaluation</b><br>\n",
    "Model accuracy, loss, and training time are all measured for evaluation purposes. It is important to mention that the most accurate classification model of the training dataset is not the objective - this would reflect rote memorization of the text, which would reveal nothing meaningful about the neural networks' ability to capture the essence of the text. What is more important is a generalization of the dataset and the minimization of the chosen loss function, categorical cross-entropy. The ultimate goal is a balance between generalization and overfitting, which is difficult to measure. Qualitative evaluation and exploration of multiple examples will serve as proxy metrics for performance. "
   ]
  },
  {
   "cell_type": "markdown",
   "metadata": {
    "colab": {},
    "colab_type": "code",
    "id": "QvFpH3-ycZql"
   },
   "source": [
    "## 1. Environment preparation"
   ]
  },
  {
   "cell_type": "code",
   "execution_count": 1,
   "metadata": {
    "colab": {
     "base_uri": "https://localhost:8080/",
     "height": 90
    },
    "colab_type": "code",
    "id": "-0HBG_l-cZqw",
    "outputId": "3165df1a-ebd4-4eed-f50e-d721ab116ef5"
   },
   "outputs": [
    {
     "name": "stderr",
     "output_type": "stream",
     "text": [
      "/usr/local/lib/python3.6/dist-packages/statsmodels/tools/_testing.py:19: FutureWarning: pandas.util.testing is deprecated. Use the functions in the public API at pandas.testing instead.\n",
      "  import pandas.util.testing as tm\n",
      "Using TensorFlow backend.\n"
     ]
    }
   ],
   "source": [
    "# Import dependencies\n",
    "import string\n",
    "import re\n",
    "import os\n",
    "import time\n",
    "import numpy as np\n",
    "from numpy import array\n",
    "import pandas as pd\n",
    "from collections import Counter\n",
    "from random import randint\n",
    "from pickle import load, dump\n",
    "\n",
    "import nltk\n",
    "from nltk.corpus import stopwords\n",
    "\n",
    "import matplotlib.pyplot as plt\n",
    "%matplotlib inline\n",
    "import seaborn as sns\n",
    "\n",
    "import tensorflow as tf\n",
    "from keras.preprocessing.text import Tokenizer\n",
    "from keras.preprocessing.sequence import pad_sequences\n",
    "from keras.utils.vis_utils import plot_model\n",
    "from keras.utils import to_categorical\n",
    "from keras.models import Sequential, load_model\n",
    "from keras.layers import Dense, LSTM, Dropout, Embedding, Bidirectional\n",
    "from keras.callbacks import ModelCheckpoint, EarlyStopping"
   ]
  },
  {
   "cell_type": "code",
   "execution_count": 2,
   "metadata": {
    "colab": {
     "base_uri": "https://localhost:8080/",
     "height": 125
    },
    "colab_type": "code",
    "id": "fJy_JdmXcxkM",
    "outputId": "0e817575-619d-435c-f544-7b3a27857832"
   },
   "outputs": [
    {
     "name": "stdout",
     "output_type": "stream",
     "text": [
      "Go to this URL in a browser: https://accounts.google.com/o/oauth2/auth?client_id=947318989803-6bn6qk8qdgf4n4g3pfee6491hc0brc4i.apps.googleusercontent.com&redirect_uri=urn%3aietf%3awg%3aoauth%3a2.0%3aoob&response_type=code&scope=email%20https%3a%2f%2fwww.googleapis.com%2fauth%2fdocs.test%20https%3a%2f%2fwww.googleapis.com%2fauth%2fdrive%20https%3a%2f%2fwww.googleapis.com%2fauth%2fdrive.photos.readonly%20https%3a%2f%2fwww.googleapis.com%2fauth%2fpeopleapi.readonly\n",
      "\n",
      "Enter your authorization code:\n",
      "··········\n",
      "Mounted at /content/gdrive\n"
     ]
    }
   ],
   "source": [
    "# Mount point for Colab\n",
    "from google.colab import drive\n",
    "drive.mount('/content/gdrive')"
   ]
  },
  {
   "cell_type": "code",
   "execution_count": 3,
   "metadata": {
    "colab": {
     "base_uri": "https://localhost:8080/",
     "height": 88
    },
    "colab_type": "code",
    "id": "jdyY56HMcyZ1",
    "outputId": "c876123d-aa9d-47e2-f1bc-b0fba8bdebc0"
   },
   "outputs": [
    {
     "name": "stdout",
     "output_type": "stream",
     "text": [
      "/content/gdrive/My Drive/MSDS458/A4/alice\n",
      "/content/gdrive/My Drive/MSDS458/A4/alice\n",
      "Working Directory\n",
      "/content/gdrive/My Drive/MSDS458/A4/alice\n"
     ]
    }
   ],
   "source": [
    "# Save in Colab\n",
    "os.getcwd()\n",
    "%cd /content/gdrive/My\\ Drive/MSDS458/A4/alice\n",
    "!pwd\n",
    "# !ls\n",
    "print('Working Directory')\n",
    "print(os.getcwd())\n",
    "work_dir = \"content/gdrive/My Drive/MSDS458/A4/alice\""
   ]
  },
  {
   "cell_type": "code",
   "execution_count": 0,
   "metadata": {
    "colab": {},
    "colab_type": "code",
    "id": "zRVSt-WQ-1ub"
   },
   "outputs": [],
   "source": [
    "tf.keras.backend.clear_session()\n",
    "np.random.seed(42)\n",
    "tf.random.set_seed(42)"
   ]
  },
  {
   "cell_type": "markdown",
   "metadata": {
    "colab_type": "text",
    "id": "bIiW8vjYcZq7"
   },
   "source": [
    "## 2. Data load, pre-processing, and exploration\n",
    "Pre-processing steps involve the following:\n",
    "* Loading the text document\n",
    "* Cleaning the document (lower-casing, removal of punctuation, tokenization)\n",
    "* Saving a clean copy of the text\n",
    "\n",
    "Exploratory data analysis is conducted as well:\n",
    "* Outputting most- and least-frequent tokens (with and without stopwords removed) to explore word frequencies \n",
    "* Bigram counts to explore which two-word pairs of words occur frequently. This can help reveal (potentially) more meaningful frequencies than single words simply as they appear on their own in the text.\n",
    "* Defining a function for lexical diversity and calculating it for the text as is, and also with stopwords removed. Lexical diversity refers to the range of different words used in a text. Its meaning is text-dependent and not a perfect reflection, however it gives an indication of the scope of different kinds of words in the text; a greater range (higher number) may indicate higher diversity. It is the number of unique tokens in a text as a proportion of total tokens, calculated as follows:\n",
    "\n",
    "$$\n",
    "\\frac{len(set(text)}{len(text)}\n",
    "$$"
   ]
  },
  {
   "cell_type": "code",
   "execution_count": 0,
   "metadata": {
    "colab": {},
    "colab_type": "code",
    "id": "GHR65nU_cZrC"
   },
   "outputs": [],
   "source": [
    "# Define function to load document into memory\n",
    "def load_doc(filename):\n",
    "    # Open the file as read only\n",
    "    file = open(filename, 'r')\n",
    "    # Read all text\n",
    "    text = file.read()\n",
    "    # Close the file\n",
    "    file.close()\n",
    "    return text"
   ]
  },
  {
   "cell_type": "code",
   "execution_count": 6,
   "metadata": {
    "colab": {
     "base_uri": "https://localhost:8080/",
     "height": 229
    },
    "colab_type": "code",
    "id": "7kHtX9tucZrg",
    "outputId": "cca2d91a-b54b-4cc4-d2f0-f6a2df7ba7d3"
   },
   "outputs": [
    {
     "name": "stdout",
     "output_type": "stream",
     "text": [
      "CHAPTER I\n",
      "\n",
      "\n",
      "[Sidenote: _Down the Rabbit-Hole_]\n",
      "\n",
      "ALICE was beginning to get very tired of sitting by her\n",
      "sister on the bank, and of having nothing to do: once or twice she had\n",
      "peeped into the book her sister was reading, but it had no pictures or\n",
      "conversations in it, \"and what is the use of a book,\" thought Alice,\n",
      "\"without pictures or conversations?\"\n",
      "\n",
      "So she was considering in her own mind (as well\n"
     ]
    }
   ],
   "source": [
    "# Load document\n",
    "in_filename = 'input/alice-clean.txt'\n",
    "doc = load_doc(in_filename)\n",
    "print(doc[:400])"
   ]
  },
  {
   "cell_type": "markdown",
   "metadata": {
    "colab_type": "text",
    "id": "wQRsedJRcZrO"
   },
   "source": [
    "### 1. Clean text"
   ]
  },
  {
   "cell_type": "code",
   "execution_count": 0,
   "metadata": {
    "colab": {},
    "colab_type": "code",
    "id": "0NSy16sbLjJL"
   },
   "outputs": [],
   "source": [
    "# Define function for turning document into clean tokens\n",
    "def clean_doc(doc):\n",
    "    # replace '--' with a space ' '\n",
    "    doc = doc.replace('--', ' ')\n",
    "    # split into tokens by white space\n",
    "    tokens = doc.split()\n",
    "    # remove punctuation from each token\n",
    "    table = str.maketrans('', '', string.punctuation)\n",
    "    tokens = [w.translate(table) for w in tokens]\n",
    "    # remove remaining tokens that are not alphabetic\n",
    "    tokens = [word for word in tokens if word.isalpha()]\n",
    "    # make lower case\n",
    "    tokens = [word.lower() for word in tokens]\n",
    "    return tokens"
   ]
  },
  {
   "cell_type": "code",
   "execution_count": 8,
   "metadata": {
    "colab": {
     "base_uri": "https://localhost:8080/",
     "height": 125
    },
    "colab_type": "code",
    "id": "BPJbDRndcZrl",
    "outputId": "9ecfdd6b-d70b-4305-feb8-3f8ca29d6eec"
   },
   "outputs": [
    {
     "name": "stdout",
     "output_type": "stream",
     "text": [
      "['chapter', 'i', 'sidenote', 'down', 'the', 'rabbithole', 'alice', 'was', 'beginning', 'to', 'get', 'very', 'tired', 'of', 'sitting', 'by', 'her', 'sister', 'on', 'the', 'bank', 'and', 'of', 'having', 'nothing', 'to', 'do', 'once', 'or', 'twice', 'she', 'had', 'peeped', 'into', 'the', 'book', 'her', 'sister', 'was', 'reading', 'but', 'it', 'had', 'no', 'pictures', 'or', 'conversations', 'in', 'it', 'and', 'what', 'is', 'the', 'use', 'of', 'a', 'book', 'thought', 'alice', 'without', 'pictures', 'or', 'conversations', 'so', 'she', 'was', 'considering', 'in', 'her', 'own', 'mind', 'as', 'well', 'as', 'she', 'could', 'for', 'the', 'hot', 'day', 'made', 'her', 'feel', 'very', 'sleepy', 'and', 'stupid', 'whether', 'the', 'pleasure', 'of', 'making', 'a', 'daisychain', 'would', 'be', 'worth', 'the', 'trouble', 'of', 'getting', 'up', 'and', 'picking', 'the', 'daisies', 'when', 'suddenly', 'a', 'white', 'rabbit', 'with', 'pink', 'eyes', 'ran', 'close', 'by', 'her', 'there', 'was', 'nothing', 'so', 'very', 'remarkable', 'in', 'that', 'nor', 'did', 'alice', 'think', 'it', 'so', 'very', 'much', 'out', 'of', 'the', 'way', 'to', 'hear', 'the', 'rabbit', 'say', 'to', 'itself', 'oh', 'dear', 'oh', 'dear', 'i', 'shall', 'be', 'too', 'late', 'when', 'she', 'thought', 'it', 'over', 'afterwards', 'it', 'occurred', 'to', 'her', 'that', 'she', 'ought', 'to', 'have', 'wondered', 'at', 'this', 'but', 'at', 'the', 'time', 'it', 'all', 'seemed', 'quite', 'natural', 'but', 'when', 'the', 'rabbit', 'actually', 'took', 'a', 'watch', 'out', 'of', 'its', 'waistcoatpocket', 'and', 'looked', 'at', 'it', 'and', 'then', 'hurried']\n",
      "---------------------------------------\n",
      "Total tokens: 26717\n",
      "--------------------------\n",
      "Unique tokens: 2645\n"
     ]
    }
   ],
   "source": [
    "# Clean document and output total and unique values\n",
    "tokens = clean_doc(doc)\n",
    "vocab = set(tokens)\n",
    "print(tokens[:200])\n",
    "print('---------------------------------------')\n",
    "print('Total tokens: %d' % len(tokens))\n",
    "print('--------------------------')\n",
    "print('Unique tokens: %d' % len(set(tokens)))"
   ]
  },
  {
   "cell_type": "markdown",
   "metadata": {
    "colab_type": "text",
    "id": "-118wk1bfXHs"
   },
   "source": [
    "### 2. Exploratory data analysis"
   ]
  },
  {
   "cell_type": "code",
   "execution_count": 0,
   "metadata": {
    "colab": {},
    "colab_type": "code",
    "id": "bp5b4nA3cj-5"
   },
   "outputs": [],
   "source": [
    "# Define functions for lexical diversity and percentage of total\n",
    "def lexical_diversity(text):\n",
    "    return len(set(text)) / len(text) \n",
    "\n",
    "def percentage(count, total):   \n",
    "    return 100 * count / total"
   ]
  },
  {
   "cell_type": "code",
   "execution_count": 10,
   "metadata": {
    "colab": {
     "base_uri": "https://localhost:8080/",
     "height": 35
    },
    "colab_type": "code",
    "id": "4bi3MgDMcs5z",
    "outputId": "29df1878-d61c-437f-eb33-a4a0e2bd57c8"
   },
   "outputs": [
    {
     "data": {
      "text/plain": [
       "0.09900063629898566"
      ]
     },
     "execution_count": 10,
     "metadata": {
      "tags": []
     },
     "output_type": "execute_result"
    }
   ],
   "source": [
    "lexical_diversity(tokens)"
   ]
  },
  {
   "cell_type": "code",
   "execution_count": 0,
   "metadata": {
    "colab": {},
    "colab_type": "code",
    "id": "N1I7V2Ux6D_T"
   },
   "outputs": [],
   "source": [
    "# Plot word frequency\n",
    "# Initialize a dictionary\n",
    "dict = {}\n",
    "\n",
    "# Count number of times each word comes up in list of words\n",
    "for key in tokens: \n",
    "    dict[key] = dict.get(key, 0) + 1\n",
    "\n",
    "counts = sorted(dict.items(), key = lambda x: x[1], reverse = True)"
   ]
  },
  {
   "cell_type": "code",
   "execution_count": 0,
   "metadata": {
    "colab": {},
    "colab_type": "code",
    "id": "R0w2PS4E6S_r"
   },
   "outputs": [],
   "source": [
    "# Most and least frequent word occurence\n",
    "top_counts = counts[:30]\n",
    "least_counts = counts[-30:]"
   ]
  },
  {
   "cell_type": "code",
   "execution_count": 13,
   "metadata": {
    "colab": {
     "base_uri": "https://localhost:8080/",
     "height": 90
    },
    "colab_type": "code",
    "id": "xC0YlQliWYs3",
    "outputId": "5907a367-a705-400f-aba1-198fbbef28e9"
   },
   "outputs": [
    {
     "name": "stdout",
     "output_type": "stream",
     "text": [
      "top_counts: [('the', 1645), ('and', 870), ('to', 729), ('a', 632), ('she', 543), ('it', 533), ('of', 509), ('said', 465), ('i', 408), ('alice', 386), ('in', 366), ('you', 366), ('was', 358), ('that', 284), ('as', 261), ('her', 250), ('at', 210), ('on', 192), ('with', 186), ('all', 184), ('had', 179), ('but', 172), ('so', 154), ('for', 150), ('be', 150), ('not', 146), ('very', 144), ('what', 140), ('this', 137), ('they', 131)]\n",
      "--------------------------\n",
      "least_counts: [('lizards', 1), ('slatepencil', 1), ('choking', 1), ('believed', 1), ('reality', 1), ('rustling', 1), ('rippling', 1), ('reeds', 1), ('tinkling', 1), ('sheepbells', 1), ('cries', 1), ('shepherd', 1), ('noises', 1), ('clamour', 1), ('farmyard', 1), ('lowing', 1), ('cattle', 1), ('lastly', 1), ('pictured', 1), ('aftertime', 1), ('riper', 1), ('years', 1), ('loving', 1), ('childhood', 1), ('gather', 1), ('sorrows', 1), ('joys', 1), ('remembering', 1), ('childlife', 1), ('happy', 1)]\n"
     ]
    }
   ],
   "source": [
    "print('top_counts:', top_counts)\n",
    "print('--------------------------')\n",
    "print('least_counts:', least_counts)"
   ]
  },
  {
   "cell_type": "markdown",
   "metadata": {},
   "source": [
    "**Figure 1: 30 most frequently occurring tokens in text**"
   ]
  },
  {
   "cell_type": "code",
   "execution_count": 14,
   "metadata": {
    "colab": {
     "base_uri": "https://localhost:8080/",
     "height": 624
    },
    "colab_type": "code",
    "id": "PMx9sWdDol7T",
    "outputId": "7c2c2eb6-405e-48c0-a238-6c93028f390c"
   },
   "outputs": [
    {
     "data": {
      "text/plain": [
       "<matplotlib.axes._subplots.AxesSubplot at 0x7ff5d82f5b38>"
      ]
     },
     "execution_count": 14,
     "metadata": {
      "tags": []
     },
     "output_type": "execute_result"
    },
    {
     "data": {
      "image/png": "[encoded data removed]",
      "text/plain": [
       "<Figure size 576x720 with 1 Axes>"
      ]
     },
     "metadata": {
      "needs_background": "light",
      "tags": []
     },
     "output_type": "display_data"
    }
   ],
   "source": [
    "# Plot frequencies\n",
    "words_plot = pd.DataFrame(top_counts, columns = ['Words', 'Counts'])\n",
    "plt.figure(figsize=(8,10))\n",
    "sns.barplot(y=\"Words\", x=\"Counts\", data=words_plot, palette = \"YlGnBu_r\")"
   ]
  },
  {
   "cell_type": "code",
   "execution_count": 15,
   "metadata": {
    "colab": {
     "base_uri": "https://localhost:8080/",
     "height": 70
    },
    "colab_type": "code",
    "id": "WdRWwSXqbJSA",
    "outputId": "6b790bbe-ca86-4fb9-9586-abca7cd1610f"
   },
   "outputs": [
    {
     "name": "stdout",
     "output_type": "stream",
     "text": [
      "[nltk_data] Downloading package stopwords to /root/nltk_data...\n",
      "[nltk_data]   Unzipping corpora/stopwords.zip.\n"
     ]
    },
    {
     "data": {
      "text/plain": [
       "True"
      ]
     },
     "execution_count": 15,
     "metadata": {
      "tags": []
     },
     "output_type": "execute_result"
    }
   ],
   "source": [
    "nltk.download('stopwords')"
   ]
  },
  {
   "cell_type": "code",
   "execution_count": 0,
   "metadata": {
    "colab": {},
    "colab_type": "code",
    "id": "6BDXPVZsbJIW"
   },
   "outputs": [],
   "source": [
    "# Function to create clean doc with stopwords removed\n",
    "def clean_doc_sw(doc):\n",
    "    # replace '--' with a space ' '\n",
    "    doc = doc.replace('--', ' ')\n",
    "    # split into tokens by white space\n",
    "    tokens = doc.split()\n",
    "    # remove punctuation from each token\n",
    "    table = str.maketrans('', '', string.punctuation)\n",
    "    tokens = [w.translate(table) for w in tokens]\n",
    "    # remove remaining tokens that are not alphabetic\n",
    "    tokens = [word for word in tokens if word.isalpha()]\n",
    "    # make lower case\n",
    "    tokens = [word.lower() for word in tokens]\n",
    "    # remove stopwords\n",
    "    stop_words = set(stopwords.words('english')) \n",
    "    # stop_words = nltk.corpus.stopwords.words('english')\n",
    "    newStopWords = ['i','the','he','on','shall']\n",
    "    stop_words.update(newStopWords)\n",
    "    tokens = [w for w in tokens if not w in stop_words]\n",
    "    return tokens"
   ]
  },
  {
   "cell_type": "code",
   "execution_count": 17,
   "metadata": {
    "colab": {
     "base_uri": "https://localhost:8080/",
     "height": 108
    },
    "colab_type": "code",
    "id": "X_5DNK9bblwG",
    "outputId": "abf5907c-2b33-4046-8462-6fbff752ea81"
   },
   "outputs": [
    {
     "name": "stdout",
     "output_type": "stream",
     "text": [
      "['chapter', 'sidenote', 'rabbithole', 'alice', 'beginning', 'get', 'tired', 'sitting', 'sister', 'bank', 'nothing', 'twice', 'peeped', 'book', 'sister', 'reading', 'pictures', 'conversations', 'use', 'book', 'thought', 'alice', 'without', 'pictures', 'conversations', 'considering', 'mind', 'well', 'could', 'hot', 'day', 'made', 'feel', 'sleepy', 'stupid', 'whether', 'pleasure', 'making', 'daisychain', 'would', 'worth', 'trouble', 'getting', 'picking', 'daisies', 'suddenly', 'white', 'rabbit', 'pink', 'eyes', 'ran', 'close', 'nothing', 'remarkable', 'alice', 'think', 'much', 'way', 'hear', 'rabbit', 'say', 'oh', 'dear', 'oh', 'dear', 'late', 'thought', 'afterwards', 'occurred', 'ought', 'wondered', 'time', 'seemed', 'quite', 'natural', 'rabbit', 'actually', 'took', 'watch', 'waistcoatpocket', 'looked', 'hurried', 'alice', 'started', 'feet', 'flashed', 'across', 'mind', 'never', 'seen', 'rabbit', 'either', 'waistcoatpocket', 'watch', 'take', 'burning', 'curiosity', 'ran', 'across', 'field', 'time', 'see', 'pop', 'large', 'rabbithole', 'hedge', 'another', 'moment', 'went', 'alice', 'never', 'considering', 'world', 'get', 'rabbithole', 'went', 'straight', 'like', 'tunnel', 'way', 'dipped', 'suddenly', 'suddenly', 'alice', 'moment', 'think', 'stopping', 'found', 'falling', 'seemed', 'deep', 'well', 'illustration', 'either', 'well', 'deep', 'fell', 'slowly', 'plenty', 'time', 'went', 'look', 'wonder', 'going', 'happen', 'next', 'first', 'tried', 'look', 'make', 'coming', 'dark', 'see', 'anything', 'looked', 'sides', 'well', 'noticed', 'filled', 'cupboards', 'bookshelves', 'saw', 'maps', 'pictures', 'hung', 'upon', 'pegs', 'took', 'jar', 'one', 'shelves', 'passed', 'labelled', 'orange', 'marmalade', 'disappointment', 'empty', 'like', 'drop', 'jar', 'fear', 'killing', 'somebody', 'underneath', 'managed', 'put', 'one', 'cupboards', 'fell', 'past', 'well', 'thought', 'alice', 'fall', 'think', 'nothing', 'tumbling', 'stairs', 'brave', 'theyll']\n",
      "Total tokens: 12712\n",
      "--------------------------\n",
      "Unique tokens: 2515\n"
     ]
    }
   ],
   "source": [
    "# clean document\n",
    "tokens_sw = clean_doc_sw(doc)\n",
    "print(tokens_sw[:200])\n",
    "print('Total tokens: %d' % len(tokens_sw))\n",
    "print('--------------------------')\n",
    "print('Unique tokens: %d' % len(set(tokens_sw)))"
   ]
  },
  {
   "cell_type": "code",
   "execution_count": 18,
   "metadata": {
    "colab": {
     "base_uri": "https://localhost:8080/",
     "height": 35
    },
    "colab_type": "code",
    "id": "VISdQU5Ibltd",
    "outputId": "18a4310a-eec1-4f59-de54-d7dc9991fe60"
   },
   "outputs": [
    {
     "data": {
      "text/plain": [
       "0.19784455632473252"
      ]
     },
     "execution_count": 18,
     "metadata": {
      "tags": []
     },
     "output_type": "execute_result"
    }
   ],
   "source": [
    "lexical_diversity(tokens_sw)"
   ]
  },
  {
   "cell_type": "code",
   "execution_count": 0,
   "metadata": {
    "colab": {},
    "colab_type": "code",
    "id": "cGKLHuO6blp5"
   },
   "outputs": [],
   "source": [
    "# Plot word frequency\n",
    "# Initialize a dictionary\n",
    "dict_sw = {}\n",
    "\n",
    "# Count number of times each word comes up in list of words\n",
    "for key in tokens_sw: \n",
    "    dict_sw[key] = dict_sw.get(key, 0) + 1\n",
    "\n",
    "counts_sw = sorted(dict_sw.items(), key = lambda x: x[1], reverse = True)"
   ]
  },
  {
   "cell_type": "code",
   "execution_count": 0,
   "metadata": {
    "colab": {},
    "colab_type": "code",
    "id": "ITKLRn--b7Jr"
   },
   "outputs": [],
   "source": [
    "# Most and least frequent word occurence\n",
    "top_counts_sw = counts_sw[:30]\n",
    "least_counts_sw = counts_sw[-30:]"
   ]
  },
  {
   "cell_type": "code",
   "execution_count": 21,
   "metadata": {
    "colab": {
     "base_uri": "https://localhost:8080/",
     "height": 90
    },
    "colab_type": "code",
    "id": "3Ud6TRbRb7GL",
    "outputId": "5a4e484c-0da1-4cc2-f483-2a479928331a"
   },
   "outputs": [
    {
     "name": "stdout",
     "output_type": "stream",
     "text": [
      "top_counts with stopwords removed: [('said', 465), ('alice', 386), ('little', 129), ('one', 104), ('know', 87), ('would', 85), ('like', 85), ('went', 81), ('could', 78), ('thought', 73), ('queen', 71), ('time', 68), ('see', 67), ('dont', 61), ('king', 61), ('well', 60), ('im', 59), ('began', 58), ('turtle', 58), ('mock', 57), ('quite', 55), ('hatter', 55), ('gryphon', 55), ('way', 54), ('think', 52), ('much', 51), ('first', 51), ('head', 51), ('go', 51), ('say', 50)]\n",
      "--------------------------\n",
      "least_counts with stopwords removed: [('lizards', 1), ('slatepencil', 1), ('choking', 1), ('believed', 1), ('reality', 1), ('rustling', 1), ('rippling', 1), ('reeds', 1), ('tinkling', 1), ('sheepbells', 1), ('cries', 1), ('shepherd', 1), ('noises', 1), ('clamour', 1), ('farmyard', 1), ('lowing', 1), ('cattle', 1), ('lastly', 1), ('pictured', 1), ('aftertime', 1), ('riper', 1), ('years', 1), ('loving', 1), ('childhood', 1), ('gather', 1), ('sorrows', 1), ('joys', 1), ('remembering', 1), ('childlife', 1), ('happy', 1)]\n"
     ]
    }
   ],
   "source": [
    "print('top_counts with stopwords removed:', top_counts_sw)\n",
    "print('--------------------------')\n",
    "print('least_counts with stopwords removed:', least_counts_sw)"
   ]
  },
  {
   "cell_type": "markdown",
   "metadata": {},
   "source": [
    "**Figure 2: 30 most frequently occurring tokens in text, stopwords removed**"
   ]
  },
  {
   "cell_type": "code",
   "execution_count": 23,
   "metadata": {
    "colab": {
     "base_uri": "https://localhost:8080/",
     "height": 624
    },
    "colab_type": "code",
    "id": "DukBJir4b7DB",
    "outputId": "9bde8a80-6910-450c-b839-88bfea97acb5"
   },
   "outputs": [
    {
     "data": {
      "text/plain": [
       "<matplotlib.axes._subplots.AxesSubplot at 0x7ff56988e400>"
      ]
     },
     "execution_count": 23,
     "metadata": {
      "tags": []
     },
     "output_type": "execute_result"
    },
    {
     "data": {
      "image/png": "[encoded data removed]",
      "text/plain": [
       "<Figure size 576x720 with 1 Axes>"
      ]
     },
     "metadata": {
      "needs_background": "light",
      "tags": []
     },
     "output_type": "display_data"
    }
   ],
   "source": [
    "# Plot frequencies\n",
    "words_plot_sw = pd.DataFrame(top_counts_sw, columns = ['Words', 'Counts'])\n",
    "plt.figure(figsize=(8,10))\n",
    "sns.barplot(y=\"Words\", x=\"Counts\", data=words_plot_sw, palette = \"YlGnBu_r\")"
   ]
  },
  {
   "cell_type": "code",
   "execution_count": 24,
   "metadata": {
    "colab": {
     "base_uri": "https://localhost:8080/",
     "height": 1000
    },
    "colab_type": "code",
    "id": "rGS1z9F0dZHx",
    "outputId": "6ddbac3d-e749-47de-e79c-83bd42c96f5a"
   },
   "outputs": [
    {
     "data": {
      "text/plain": [
       "['accidentally',\n",
       " 'affectionately',\n",
       " 'alternately',\n",
       " 'antipathies',\n",
       " 'backsomersault',\n",
       " 'barleysugar',\n",
       " 'beautifully',\n",
       " 'bookshelves',\n",
       " 'breadandbutter',\n",
       " 'caterpillar',\n",
       " 'caterpillars',\n",
       " 'circumstances',\n",
       " 'comfortable',\n",
       " 'comfortably',\n",
       " 'complaining',\n",
       " 'considering',\n",
       " 'consultation',\n",
       " 'contemptuous',\n",
       " 'contemptuously',\n",
       " 'contradicted',\n",
       " 'conversation',\n",
       " 'conversations',\n",
       " 'croquetground',\n",
       " 'crossexamine',\n",
       " 'cucumberframe',\n",
       " 'cucumberframes',\n",
       " 'desperately',\n",
       " 'difficulties',\n",
       " 'disappeared',\n",
       " 'disappointment',\n",
       " 'distraction',\n",
       " 'drawlingmaster',\n",
       " 'encouraging',\n",
       " 'everythings',\n",
       " 'exclamation',\n",
       " 'executioner',\n",
       " 'executioners',\n",
       " 'explanation',\n",
       " 'explanations',\n",
       " 'extraordinary',\n",
       " 'fishfootman',\n",
       " 'frogfootman',\n",
       " 'goodnatured',\n",
       " 'goodnaturedly',\n",
       " 'handwriting',\n",
       " 'hippopotamus',\n",
       " 'hottempered',\n",
       " 'illustration',\n",
       " 'immediately',\n",
       " 'impatiently',\n",
       " 'impertinent',\n",
       " 'incessantly',\n",
       " 'indignantly',\n",
       " 'inquisitively',\n",
       " 'interesting',\n",
       " 'interrupted',\n",
       " 'interrupting',\n",
       " 'jackinthebox',\n",
       " 'lessonbooks',\n",
       " 'lookingglass',\n",
       " 'lowspirited',\n",
       " 'multiplication',\n",
       " 'mustardmine',\n",
       " 'neighbouring',\n",
       " 'neverending',\n",
       " 'nevertheless',\n",
       " 'northumbria',\n",
       " 'occasionally',\n",
       " 'opportunity',\n",
       " 'outoftheway',\n",
       " 'processions',\n",
       " 'quarrelling',\n",
       " 'queerlooking',\n",
       " 'queershaped',\n",
       " 'refreshments',\n",
       " 'remembering',\n",
       " 'respectable',\n",
       " 'shakespeare',\n",
       " 'slatepencil',\n",
       " 'steamengine',\n",
       " 'straightened',\n",
       " 'straightening',\n",
       " 'sweettempered',\n",
       " 'thoughtfully',\n",
       " 'threelegged',\n",
       " 'thunderstorm',\n",
       " 'treaclewell',\n",
       " 'triumphantly',\n",
       " 'uglification',\n",
       " 'uncomfortable',\n",
       " 'uncomfortably',\n",
       " 'undertoneimportant',\n",
       " 'unfortunate',\n",
       " 'unimportant',\n",
       " 'unwillingly',\n",
       " 'waistcoatpocket',\n",
       " 'writingdesk',\n",
       " 'writingdesks']"
      ]
     },
     "execution_count": 24,
     "metadata": {
      "tags": []
     },
     "output_type": "execute_result"
    }
   ],
   "source": [
    "# Explore longer words, potentially as a signal for more \"meaningful\" words. Notice that some of these words\n",
    "# were compound phrases and adjectives, such as \"cucumberframe,\" which appears in the text as \"cucumber-frame.\"\n",
    "V = set(tokens)\n",
    "long_words = [w for w in V if len(w) > 10]\n",
    "print('Unique words over 10 characters:', len(long_words))\n",
    "print('--------------------------------')\n",
    "sorted(long_words)"
   ]
  },
  {
   "cell_type": "code",
   "execution_count": 25,
   "metadata": {
    "colab": {
     "base_uri": "https://localhost:8080/",
     "height": 52
    },
    "colab_type": "code",
    "id": "Jqt_huCPqPiP",
    "outputId": "0fe6f05c-0ee7-4333-e2c2-e8eb40ac36d5"
   },
   "outputs": [
    {
     "name": "stdout",
     "output_type": "stream",
     "text": [
      "Total bigrams across text: 26716\n",
      "Unique bigrams across text: 14720\n"
     ]
    }
   ],
   "source": [
    "# Bigram analysis\n",
    "bigram_list = list(nltk.bigrams(tokens))\n",
    "\n",
    "# Display number of total bigrams and number of unique bigrams\n",
    "print('Total bigrams across text: ' + str(len(bigram_list)))\n",
    "print('Unique bigrams across text: ' + str(len(set(bigram_list))))"
   ]
  },
  {
   "cell_type": "code",
   "execution_count": 0,
   "metadata": {
    "colab": {},
    "colab_type": "code",
    "id": "guvH2O1osY1x"
   },
   "outputs": [],
   "source": [
    "# Plot word frequency\n",
    "# Initialize a dictionary\n",
    "dict_bigrams = {}\n",
    "\n",
    "# Count number of times each word comes up in list of words\n",
    "for key in bigram_list: \n",
    "    dict_bigrams[key] = dict_bigrams.get(key, 0) + 1\n",
    "\n",
    "counts_bigrams = sorted(dict_bigrams.items(), key = lambda x: x[1], reverse = True)"
   ]
  },
  {
   "cell_type": "code",
   "execution_count": 0,
   "metadata": {
    "colab": {},
    "colab_type": "code",
    "id": "npEe4P-vsYyF"
   },
   "outputs": [],
   "source": [
    "# Most and least frequent word occurence\n",
    "top_counts_bigrams = counts_bigrams[:30]\n",
    "least_counts_bigrams = counts_bigrams[-30:]"
   ]
  },
  {
   "cell_type": "code",
   "execution_count": 28,
   "metadata": {
    "colab": {
     "base_uri": "https://localhost:8080/",
     "height": 90
    },
    "colab_type": "code",
    "id": "1EAXxtA_sYrZ",
    "outputId": "cf91949e-cbd4-4564-fc20-316e10995779"
   },
   "outputs": [
    {
     "name": "stdout",
     "output_type": "stream",
     "text": [
      "top occuring bigrams: [(('said', 'the'), 210), (('of', 'the'), 130), (('said', 'alice'), 116), (('in', 'a'), 97), (('and', 'the'), 83), (('in', 'the'), 78), (('it', 'was'), 75), (('to', 'the'), 73), (('the', 'queen'), 68), (('she', 'had'), 61), (('as', 'she'), 61), (('a', 'little'), 61), (('the', 'king'), 60), (('at', 'the'), 57), (('she', 'was'), 55), (('mock', 'turtle'), 55), (('the', 'mock'), 54), (('to', 'be'), 53), (('and', 'she'), 53), (('the', 'gryphon'), 53), (('the', 'hatter'), 51), (('went', 'on'), 47), (('to', 'herself'), 46), (('you', 'know'), 45), (('said', 'to'), 40), (('the', 'duchess'), 39), (('out', 'of'), 37), (('there', 'was'), 36), (('that', 'she'), 36), (('with', 'the'), 36)]\n",
      "--------------------------\n",
      "least occuring bigrams: [(('and', 'eager'), 1), (('eager', 'with'), 1), (('with', 'many'), 1), (('many', 'a'), 1), (('a', 'strange'), 1), (('strange', 'tale'), 1), (('tale', 'perhaps'), 1), (('perhaps', 'even'), 1), (('even', 'with'), 1), (('the', 'dream'), 1), (('dream', 'of'), 1), (('of', 'wonderland'), 1), (('wonderland', 'of'), 1), (('of', 'long'), 1), (('ago', 'and'), 1), (('feel', 'with'), 1), (('simple', 'sorrows'), 1), (('sorrows', 'and'), 1), (('and', 'find'), 1), (('a', 'pleasure'), 1), (('pleasure', 'in'), 1), (('simple', 'joys'), 1), (('joys', 'remembering'), 1), (('remembering', 'her'), 1), (('own', 'childlife'), 1), (('childlife', 'and'), 1), (('the', 'happy'), 1), (('happy', 'summer'), 1), (('summer', 'days'), 1), (('days', 'the'), 1)]\n"
     ]
    }
   ],
   "source": [
    "print('top occuring bigrams:', top_counts_bigrams)\n",
    "print('--------------------------')\n",
    "print('least occuring bigrams:', least_counts_bigrams)"
   ]
  },
  {
   "cell_type": "markdown",
   "metadata": {},
   "source": [
    "**Figure 3: 30 most frequently occurring bi-grams in text**"
   ]
  },
  {
   "cell_type": "code",
   "execution_count": 29,
   "metadata": {
    "colab": {
     "base_uri": "https://localhost:8080/",
     "height": 624
    },
    "colab_type": "code",
    "id": "Owd08LJ8tFfk",
    "outputId": "84d5a672-56fa-447d-e34a-7a4807dfac31"
   },
   "outputs": [
    {
     "data": {
      "text/plain": [
       "<matplotlib.axes._subplots.AxesSubplot at 0x7ff5699fe9e8>"
      ]
     },
     "execution_count": 29,
     "metadata": {
      "tags": []
     },
     "output_type": "execute_result"
    },
    {
     "data": {
      "image/png": "[encoded data removed]",
      "text/plain": [
       "<Figure size 576x720 with 1 Axes>"
      ]
     },
     "metadata": {
      "needs_background": "light",
      "tags": []
     },
     "output_type": "display_data"
    }
   ],
   "source": [
    "# Plot frequencies\n",
    "bigrams_plot = pd.DataFrame(top_counts_bigrams, columns = ['Bigrams', 'Counts'])\n",
    "plt.figure(figsize=(8,10))\n",
    "sns.barplot(y=\"Bigrams\", x=\"Counts\", data=bigrams_plot, palette = \"YlGnBu_r\")"
   ]
  },
  {
   "cell_type": "code",
   "execution_count": 0,
   "metadata": {
    "colab": {},
    "colab_type": "code",
    "id": "tIAXkteqqp17"
   },
   "outputs": [],
   "source": [
    "# # Find most frequently occurring bigrams (top 30)\n",
    "# counter=Counter(bigram_list)\n",
    "# # print(counter.most_common(30))\n",
    "# print('Most common bigrams: ' + '\\n' + str(counter.most_common(30)))"
   ]
  },
  {
   "cell_type": "markdown",
   "metadata": {
    "colab_type": "text",
    "id": "FLmrOWmbKakB"
   },
   "source": [
    "## 3. Save clean text as sequences and load document into memory\n",
    "Sequence length is a key design decision: they must be long enough to properly allow models to learn the context and make reasonable predictions. The sequence length also defines the seed text length used to generate text sequences for model evaluation. A length of 50 is selected for this study, with sequences serving as inputs and training patterns to the various models. "
   ]
  },
  {
   "cell_type": "code",
   "execution_count": 31,
   "metadata": {
    "colab": {
     "base_uri": "https://localhost:8080/",
     "height": 35
    },
    "colab_type": "code",
    "id": "sQ4fSe5TcZrr",
    "outputId": "744efbd1-7ad5-4832-cf32-53a3c9a78821"
   },
   "outputs": [
    {
     "name": "stdout",
     "output_type": "stream",
     "text": [
      "Total sequences: 26666\n"
     ]
    }
   ],
   "source": [
    "# Organize into sequences of tokens\n",
    "length = 50 + 1\n",
    "sequences = list()\n",
    "for i in range(length, len(tokens)):\n",
    "    # Select sequence of tokens\n",
    "    seq = tokens[i-length:i]\n",
    "    # Convert into a line\n",
    "    line = ' '.join(seq)\n",
    "    # Store\n",
    "    sequences.append(line)\n",
    "print('Total sequences: %d' % len(sequences))"
   ]
  },
  {
   "cell_type": "code",
   "execution_count": 0,
   "metadata": {
    "colab": {},
    "colab_type": "code",
    "id": "UNeDCgvWcZrc"
   },
   "outputs": [],
   "source": [
    "# Save tokens to file, one dialog per line\n",
    "def save_doc(lines, filename):\n",
    "    data = '\\n'.join(lines)\n",
    "    file = open(filename, 'w')\n",
    "    file.write(data)\n",
    "    file.close()"
   ]
  },
  {
   "cell_type": "code",
   "execution_count": 0,
   "metadata": {
    "colab": {},
    "colab_type": "code",
    "id": "8l42KSkocZrv"
   },
   "outputs": [],
   "source": [
    "# Save sequences to file\n",
    "out_filename = 'alice_sequences.txt'\n",
    "save_doc(sequences, out_filename)"
   ]
  },
  {
   "cell_type": "code",
   "execution_count": 0,
   "metadata": {
    "colab": {},
    "colab_type": "code",
    "id": "LwfuPaGqcZsJ"
   },
   "outputs": [],
   "source": [
    "# Define function to load doc into memory\n",
    "def load_doc(filename):\n",
    "    # open the file as read only\n",
    "    file = open(filename, 'r')\n",
    "    # read all text\n",
    "    text = file.read()\n",
    "    # close the file\n",
    "    file.close()\n",
    "    return text"
   ]
  },
  {
   "cell_type": "code",
   "execution_count": 0,
   "metadata": {
    "colab": {},
    "colab_type": "code",
    "id": "YWT3OL0lcZsY"
   },
   "outputs": [],
   "source": [
    "# Load doc\n",
    "in_filename = 'alice_sequences.txt'\n",
    "doc = load_doc(in_filename)\n",
    "lines = doc.split('\\n')"
   ]
  },
  {
   "cell_type": "markdown",
   "metadata": {
    "colab_type": "text",
    "id": "8VGjxVRoKakZ"
   },
   "source": [
    "## 4. Prepare data sequences for neural network input\n",
    "\n",
    "The Tokenizer class in Keras is used to encode input sequences to integers, which the neural networks expect as input. The vocabulary size, defined by this encoding process, is defined as the vocabulary + 1 in length for feeding to the Embedding layer. After encoding, sequences are separated into input (X) and output (y) elements using array slicing. Output words are one hot encoded so the models in the study can predict the probability distribution for the next word."
   ]
  },
  {
   "cell_type": "code",
   "execution_count": 0,
   "metadata": {
    "colab": {},
    "colab_type": "code",
    "id": "F68EIvBdcZsd"
   },
   "outputs": [],
   "source": [
    "# Integer encode sequences of words\n",
    "tokenizer = Tokenizer()\n",
    "tokenizer.fit_on_texts(lines)\n",
    "sequences = tokenizer.texts_to_sequences(lines)"
   ]
  },
  {
   "cell_type": "code",
   "execution_count": 0,
   "metadata": {
    "colab": {},
    "colab_type": "code",
    "id": "9yvvCXc5cZsh"
   },
   "outputs": [],
   "source": [
    "# Define vocabulary size\n",
    "vocab_size = len(tokenizer.word_index) + 1"
   ]
  },
  {
   "cell_type": "code",
   "execution_count": 38,
   "metadata": {
    "colab": {
     "base_uri": "https://localhost:8080/",
     "height": 35
    },
    "colab_type": "code",
    "id": "C5z5zbgoKaki",
    "outputId": "0e884fa2-7829-4d4e-b428-5c31ff6270e6"
   },
   "outputs": [
    {
     "data": {
      "text/plain": [
       "2646"
      ]
     },
     "execution_count": 38,
     "metadata": {
      "tags": []
     },
     "output_type": "execute_result"
    }
   ],
   "source": [
    "vocab_size"
   ]
  },
  {
   "cell_type": "code",
   "execution_count": 0,
   "metadata": {
    "colab": {},
    "colab_type": "code",
    "id": "3m8WD0amcZsj"
   },
   "outputs": [],
   "source": [
    "# Separate sequences into input and output\n",
    "sequences = array(sequences)\n",
    "X, y = sequences[:,:-1], sequences[:,-1]\n",
    "y = to_categorical(y, num_classes=vocab_size)\n",
    "seq_length = X.shape[1]"
   ]
  },
  {
   "cell_type": "code",
   "execution_count": 40,
   "metadata": {
    "colab": {
     "base_uri": "https://localhost:8080/",
     "height": 35
    },
    "colab_type": "code",
    "id": "4DuGqwUZOnz0",
    "outputId": "d529e1e9-152e-4a81-cc9c-f5cf8b77f52c"
   },
   "outputs": [
    {
     "name": "stdout",
     "output_type": "stream",
     "text": [
      "Total Sequences: 26666\n"
     ]
    }
   ],
   "source": [
    "print('Total Sequences: %d' % len(sequences))"
   ]
  },
  {
   "cell_type": "markdown",
   "metadata": {
    "colab_type": "text",
    "id": "32Lzq13_q64B"
   },
   "source": [
    "## 5. Train language models\n",
    "\n",
    "To train statistical models from the data, these experiments all employ an embedding layer to learn the representation of words. Parameterization of words as vectors in this manner, learned as part of the training process, enables words with a similar meaning to have a similar representation. LSTM RNNs then learn to predict words based on context. There is no test dataset: models are trained on the entire training dataset to learn the probability of each word in a sequence.\n",
    "\n",
    "All models will employ the following hyperparameters for consistency and evaluation purposes:\n",
    "* Loss function: categorical cross-entropy\n",
    "* Optimizer: adam\n",
    "* Batch size: 128\n",
    "* Training epochs: 50\n",
    "* Early stopping with patience of 5"
   ]
  },
  {
   "cell_type": "markdown",
   "metadata": {
    "colab_type": "text",
    "id": "akR8Uf7NKaks"
   },
   "source": [
    "### <i>Baseline experiment 1: LSTM RNN</i> \n",
    "This first neural network serves as a baseline, with a simple architecture and fewer memory cell units, to evaluate model performance on this text with a relatively spare neural network.\n",
    "* 1 hidden layer\n",
    "* 100 memory cell units\n",
    "* Embedding vector space size 50"
   ]
  },
  {
   "cell_type": "code",
   "execution_count": 0,
   "metadata": {
    "colab": {},
    "colab_type": "code",
    "id": "SbqvoH_ccZsp"
   },
   "outputs": [],
   "source": [
    "# Define model\n",
    "model_1 = Sequential()\n",
    "model_1.add(Embedding(vocab_size, 50, input_length=seq_length))\n",
    "model_1.add(LSTM(100))\n",
    "# model_1.add(LSTM(100))\n",
    "model_1.add(Dense(100, activation='relu'))\n",
    "model_1.add(Dense(vocab_size, activation='softmax'))"
   ]
  },
  {
   "cell_type": "code",
   "execution_count": 42,
   "metadata": {
    "colab": {
     "base_uri": "https://localhost:8080/",
     "height": 815
    },
    "colab_type": "code",
    "id": "GMxdNV5qcZss",
    "outputId": "b3dc20e1-d915-4979-9621-c5c98ed17405"
   },
   "outputs": [
    {
     "name": "stdout",
     "output_type": "stream",
     "text": [
      "Model: \"sequential_1\"\n",
      "_________________________________________________________________\n",
      "Layer (type)                 Output Shape              Param #   \n",
      "=================================================================\n",
      "embedding_1 (Embedding)      (None, 50, 50)            132300    \n",
      "_________________________________________________________________\n",
      "lstm_1 (LSTM)                (None, 100)               60400     \n",
      "_________________________________________________________________\n",
      "dense_1 (Dense)              (None, 100)               10100     \n",
      "_________________________________________________________________\n",
      "dense_2 (Dense)              (None, 2646)              267246    \n",
      "=================================================================\n",
      "Total params: 470,046\n",
      "Trainable params: 470,046\n",
      "Non-trainable params: 0\n",
      "_________________________________________________________________\n"
     ]
    },
    {
     "data": {
      "image/png": "[encoded data removed]",
      "text/plain": [
       "<IPython.core.display.Image object>"
      ]
     },
     "execution_count": 42,
     "metadata": {
      "tags": []
     },
     "output_type": "execute_result"
    }
   ],
   "source": [
    "# Model summary\n",
    "model_1.summary()\n",
    "plot_model(model_1, to_file='figures/model_1.png', show_shapes=True)"
   ]
  },
  {
   "cell_type": "code",
   "execution_count": 0,
   "metadata": {
    "colab": {},
    "colab_type": "code",
    "id": "JnolrDUFcZsz"
   },
   "outputs": [],
   "source": [
    "# Compile model\n",
    "model_1.compile(loss='categorical_crossentropy', optimizer='adam', metrics=['accuracy'])"
   ]
  },
  {
   "cell_type": "code",
   "execution_count": 0,
   "metadata": {
    "colab": {},
    "colab_type": "code",
    "id": "gvhlezDJKak3"
   },
   "outputs": [],
   "source": [
    "# Define the checkpoint\n",
    "# filepath='results/exp1/weights-improvement-{epoch:02d}-{loss:.4f}.hdf5'\n",
    "filepath='results/exp1/best_model.hdf5'\n",
    "checkpoint = ModelCheckpoint(filepath, monitor='loss', verbose=1, save_best_only=True, mode='min')\n",
    "es = EarlyStopping(monitor='loss', mode='min', verbose=1, patience=5)\n",
    "callbacks_list = [checkpoint, es]"
   ]
  },
  {
   "cell_type": "code",
   "execution_count": 45,
   "metadata": {
    "colab": {
     "base_uri": "https://localhost:8080/",
     "height": 1000
    },
    "colab_type": "code",
    "id": "bN541PRacZs8",
    "outputId": "06ab3dc1-2c5a-4511-ddf9-ed8df9c5d87d"
   },
   "outputs": [
    {
     "name": "stderr",
     "output_type": "stream",
     "text": [
      "/usr/local/lib/python3.6/dist-packages/tensorflow/python/framework/indexed_slices.py:434: UserWarning: Converting sparse IndexedSlices to a dense Tensor of unknown shape. This may consume a large amount of memory.\n",
      "  \"Converting sparse IndexedSlices to a dense Tensor of unknown shape. \"\n"
     ]
    },
    {
     "name": "stdout",
     "output_type": "stream",
     "text": [
      "Epoch 1/50\n",
      "26666/26666 [==============================] - 31s 1ms/step - loss: 6.3278 - accuracy: 0.0564\n",
      "\n",
      "Epoch 00001: loss improved from inf to 6.32783, saving model to results/exp1/best_model.hdf5\n",
      "Epoch 2/50\n",
      "26666/26666 [==============================] - 29s 1ms/step - loss: 5.9107 - accuracy: 0.0624\n",
      "\n",
      "Epoch 00002: loss improved from 6.32783 to 5.91066, saving model to results/exp1/best_model.hdf5\n",
      "Epoch 3/50\n",
      "26666/26666 [==============================] - 30s 1ms/step - loss: 5.7379 - accuracy: 0.0659\n",
      "\n",
      "Epoch 00003: loss improved from 5.91066 to 5.73790, saving model to results/exp1/best_model.hdf5\n",
      "Epoch 4/50\n",
      "26666/26666 [==============================] - 29s 1ms/step - loss: 5.5910 - accuracy: 0.0740\n",
      "\n",
      "Epoch 00004: loss improved from 5.73790 to 5.59101, saving model to results/exp1/best_model.hdf5\n",
      "Epoch 5/50\n",
      "26666/26666 [==============================] - 29s 1ms/step - loss: 5.4520 - accuracy: 0.0828\n",
      "\n",
      "Epoch 00005: loss improved from 5.59101 to 5.45196, saving model to results/exp1/best_model.hdf5\n",
      "Epoch 6/50\n",
      "26666/26666 [==============================] - 29s 1ms/step - loss: 5.3054 - accuracy: 0.1003\n",
      "\n",
      "Epoch 00006: loss improved from 5.45196 to 5.30539, saving model to results/exp1/best_model.hdf5\n",
      "Epoch 7/50\n",
      "26666/26666 [==============================] - 29s 1ms/step - loss: 5.1673 - accuracy: 0.1106\n",
      "\n",
      "Epoch 00007: loss improved from 5.30539 to 5.16725, saving model to results/exp1/best_model.hdf5\n",
      "Epoch 8/50\n",
      "26666/26666 [==============================] - 29s 1ms/step - loss: 5.0493 - accuracy: 0.1213\n",
      "\n",
      "Epoch 00008: loss improved from 5.16725 to 5.04933, saving model to results/exp1/best_model.hdf5\n",
      "Epoch 9/50\n",
      "26666/26666 [==============================] - 30s 1ms/step - loss: 4.9504 - accuracy: 0.1274\n",
      "\n",
      "Epoch 00009: loss improved from 5.04933 to 4.95043, saving model to results/exp1/best_model.hdf5\n",
      "Epoch 10/50\n",
      "26666/26666 [==============================] - 28s 1ms/step - loss: 4.8599 - accuracy: 0.1356\n",
      "\n",
      "Epoch 00010: loss improved from 4.95043 to 4.85988, saving model to results/exp1/best_model.hdf5\n",
      "Epoch 11/50\n",
      "26666/26666 [==============================] - 29s 1ms/step - loss: 4.7804 - accuracy: 0.1385\n",
      "\n",
      "Epoch 00011: loss improved from 4.85988 to 4.78039, saving model to results/exp1/best_model.hdf5\n",
      "Epoch 12/50\n",
      "26666/26666 [==============================] - 30s 1ms/step - loss: 4.7031 - accuracy: 0.1432\n",
      "\n",
      "Epoch 00012: loss improved from 4.78039 to 4.70312, saving model to results/exp1/best_model.hdf5\n",
      "Epoch 13/50\n",
      "26666/26666 [==============================] - 30s 1ms/step - loss: 4.6286 - accuracy: 0.1497\n",
      "\n",
      "Epoch 00013: loss improved from 4.70312 to 4.62861, saving model to results/exp1/best_model.hdf5\n",
      "Epoch 14/50\n",
      "26666/26666 [==============================] - 30s 1ms/step - loss: 4.5565 - accuracy: 0.1533\n",
      "\n",
      "Epoch 00014: loss improved from 4.62861 to 4.55652, saving model to results/exp1/best_model.hdf5\n",
      "Epoch 15/50\n",
      "26666/26666 [==============================] - 29s 1ms/step - loss: 4.4835 - accuracy: 0.1584\n",
      "\n",
      "Epoch 00015: loss improved from 4.55652 to 4.48352, saving model to results/exp1/best_model.hdf5\n",
      "Epoch 16/50\n",
      "26666/26666 [==============================] - 29s 1ms/step - loss: 4.4103 - accuracy: 0.1627\n",
      "\n",
      "Epoch 00016: loss improved from 4.48352 to 4.41029, saving model to results/exp1/best_model.hdf5\n",
      "Epoch 17/50\n",
      "26666/26666 [==============================] - 29s 1ms/step - loss: 4.3334 - accuracy: 0.1701\n",
      "\n",
      "Epoch 00017: loss improved from 4.41029 to 4.33341, saving model to results/exp1/best_model.hdf5\n",
      "Epoch 18/50\n",
      "26666/26666 [==============================] - 29s 1ms/step - loss: 4.2545 - accuracy: 0.1749\n",
      "\n",
      "Epoch 00018: loss improved from 4.33341 to 4.25446, saving model to results/exp1/best_model.hdf5\n",
      "Epoch 19/50\n",
      "26666/26666 [==============================] - 29s 1ms/step - loss: 4.1784 - accuracy: 0.1799\n",
      "\n",
      "Epoch 00019: loss improved from 4.25446 to 4.17842, saving model to results/exp1/best_model.hdf5\n",
      "Epoch 20/50\n",
      "26666/26666 [==============================] - 30s 1ms/step - loss: 4.0995 - accuracy: 0.1867\n",
      "\n",
      "Epoch 00020: loss improved from 4.17842 to 4.09950, saving model to results/exp1/best_model.hdf5\n",
      "Epoch 21/50\n",
      "26666/26666 [==============================] - 29s 1ms/step - loss: 4.0235 - accuracy: 0.1925\n",
      "\n",
      "Epoch 00021: loss improved from 4.09950 to 4.02346, saving model to results/exp1/best_model.hdf5\n",
      "Epoch 22/50\n",
      "26666/26666 [==============================] - 29s 1ms/step - loss: 3.9512 - accuracy: 0.1986\n",
      "\n",
      "Epoch 00022: loss improved from 4.02346 to 3.95117, saving model to results/exp1/best_model.hdf5\n",
      "Epoch 23/50\n",
      "26666/26666 [==============================] - 30s 1ms/step - loss: 3.8756 - accuracy: 0.2050\n",
      "\n",
      "Epoch 00023: loss improved from 3.95117 to 3.87556, saving model to results/exp1/best_model.hdf5\n",
      "Epoch 24/50\n",
      "26666/26666 [==============================] - 30s 1ms/step - loss: 3.8021 - accuracy: 0.2123\n",
      "\n",
      "Epoch 00024: loss improved from 3.87556 to 3.80212, saving model to results/exp1/best_model.hdf5\n",
      "Epoch 25/50\n",
      "26666/26666 [==============================] - 28s 1ms/step - loss: 3.7332 - accuracy: 0.2186\n",
      "\n",
      "Epoch 00025: loss improved from 3.80212 to 3.73324, saving model to results/exp1/best_model.hdf5\n",
      "Epoch 26/50\n",
      "26666/26666 [==============================] - 28s 1ms/step - loss: 3.6621 - accuracy: 0.2257\n",
      "\n",
      "Epoch 00026: loss improved from 3.73324 to 3.66207, saving model to results/exp1/best_model.hdf5\n",
      "Epoch 27/50\n",
      "26666/26666 [==============================] - 29s 1ms/step - loss: 3.5957 - accuracy: 0.2333\n",
      "\n",
      "Epoch 00027: loss improved from 3.66207 to 3.59575, saving model to results/exp1/best_model.hdf5\n",
      "Epoch 28/50\n",
      "26666/26666 [==============================] - 30s 1ms/step - loss: 3.5321 - accuracy: 0.2391\n",
      "\n",
      "Epoch 00028: loss improved from 3.59575 to 3.53206, saving model to results/exp1/best_model.hdf5\n",
      "Epoch 29/50\n",
      "26666/26666 [==============================] - 29s 1ms/step - loss: 3.4653 - accuracy: 0.2471\n",
      "\n",
      "Epoch 00029: loss improved from 3.53206 to 3.46525, saving model to results/exp1/best_model.hdf5\n",
      "Epoch 30/50\n",
      "26666/26666 [==============================] - 29s 1ms/step - loss: 3.4033 - accuracy: 0.2553\n",
      "\n",
      "Epoch 00030: loss improved from 3.46525 to 3.40328, saving model to results/exp1/best_model.hdf5\n",
      "Epoch 31/50\n",
      "26666/26666 [==============================] - 30s 1ms/step - loss: 3.3448 - accuracy: 0.2627\n",
      "\n",
      "Epoch 00031: loss improved from 3.40328 to 3.34479, saving model to results/exp1/best_model.hdf5\n",
      "Epoch 32/50\n",
      "26666/26666 [==============================] - 29s 1ms/step - loss: 3.2840 - accuracy: 0.2712\n",
      "\n",
      "Epoch 00032: loss improved from 3.34479 to 3.28403, saving model to results/exp1/best_model.hdf5\n",
      "Epoch 33/50\n",
      "26666/26666 [==============================] - 29s 1ms/step - loss: 3.2312 - accuracy: 0.2804\n",
      "\n",
      "Epoch 00033: loss improved from 3.28403 to 3.23120, saving model to results/exp1/best_model.hdf5\n",
      "Epoch 34/50\n",
      "26666/26666 [==============================] - 29s 1ms/step - loss: 3.1728 - accuracy: 0.2873\n",
      "\n",
      "Epoch 00034: loss improved from 3.23120 to 3.17282, saving model to results/exp1/best_model.hdf5\n",
      "Epoch 35/50\n",
      "26666/26666 [==============================] - 28s 1ms/step - loss: 3.1201 - accuracy: 0.2972\n",
      "\n",
      "Epoch 00035: loss improved from 3.17282 to 3.12009, saving model to results/exp1/best_model.hdf5\n",
      "Epoch 36/50\n",
      "26666/26666 [==============================] - 29s 1ms/step - loss: 3.0674 - accuracy: 0.3041\n",
      "\n",
      "Epoch 00036: loss improved from 3.12009 to 3.06738, saving model to results/exp1/best_model.hdf5\n",
      "Epoch 37/50\n",
      "26666/26666 [==============================] - 30s 1ms/step - loss: 3.0173 - accuracy: 0.3104\n",
      "\n",
      "Epoch 00037: loss improved from 3.06738 to 3.01728, saving model to results/exp1/best_model.hdf5\n",
      "Epoch 38/50\n",
      "26666/26666 [==============================] - 29s 1ms/step - loss: 2.9661 - accuracy: 0.3204\n",
      "\n",
      "Epoch 00038: loss improved from 3.01728 to 2.96611, saving model to results/exp1/best_model.hdf5\n",
      "Epoch 39/50\n",
      "26666/26666 [==============================] - 29s 1ms/step - loss: 2.9194 - accuracy: 0.3284\n",
      "\n",
      "Epoch 00039: loss improved from 2.96611 to 2.91937, saving model to results/exp1/best_model.hdf5\n",
      "Epoch 40/50\n",
      "26666/26666 [==============================] - 30s 1ms/step - loss: 2.8729 - accuracy: 0.3351\n",
      "\n",
      "Epoch 00040: loss improved from 2.91937 to 2.87291, saving model to results/exp1/best_model.hdf5\n",
      "Epoch 41/50\n",
      "26666/26666 [==============================] - 29s 1ms/step - loss: 2.8284 - accuracy: 0.3450\n",
      "\n",
      "Epoch 00041: loss improved from 2.87291 to 2.82843, saving model to results/exp1/best_model.hdf5\n",
      "Epoch 42/50\n",
      "26666/26666 [==============================] - 29s 1ms/step - loss: 2.7816 - accuracy: 0.3523\n",
      "\n",
      "Epoch 00042: loss improved from 2.82843 to 2.78161, saving model to results/exp1/best_model.hdf5\n",
      "Epoch 43/50\n",
      "26666/26666 [==============================] - 29s 1ms/step - loss: 2.7344 - accuracy: 0.3599\n",
      "\n",
      "Epoch 00043: loss improved from 2.78161 to 2.73445, saving model to results/exp1/best_model.hdf5\n",
      "Epoch 44/50\n",
      "26666/26666 [==============================] - 29s 1ms/step - loss: 2.6955 - accuracy: 0.3680\n",
      "\n",
      "Epoch 00044: loss improved from 2.73445 to 2.69553, saving model to results/exp1/best_model.hdf5\n",
      "Epoch 45/50\n",
      "26666/26666 [==============================] - 29s 1ms/step - loss: 2.6545 - accuracy: 0.3770\n",
      "\n",
      "Epoch 00045: loss improved from 2.69553 to 2.65455, saving model to results/exp1/best_model.hdf5\n",
      "Epoch 46/50\n",
      "26666/26666 [==============================] - 29s 1ms/step - loss: 2.6118 - accuracy: 0.3821\n",
      "\n",
      "Epoch 00046: loss improved from 2.65455 to 2.61175, saving model to results/exp1/best_model.hdf5\n",
      "Epoch 47/50\n",
      "26666/26666 [==============================] - 29s 1ms/step - loss: 2.5735 - accuracy: 0.3880\n",
      "\n",
      "Epoch 00047: loss improved from 2.61175 to 2.57355, saving model to results/exp1/best_model.hdf5\n",
      "Epoch 48/50\n",
      "26666/26666 [==============================] - 30s 1ms/step - loss: 2.5338 - accuracy: 0.4002\n",
      "\n",
      "Epoch 00048: loss improved from 2.57355 to 2.53379, saving model to results/exp1/best_model.hdf5\n",
      "Epoch 49/50\n",
      "26666/26666 [==============================] - 28s 1ms/step - loss: 2.4982 - accuracy: 0.4046\n",
      "\n",
      "Epoch 00049: loss improved from 2.53379 to 2.49818, saving model to results/exp1/best_model.hdf5\n",
      "Epoch 50/50\n",
      "26666/26666 [==============================] - 29s 1ms/step - loss: 2.4589 - accuracy: 0.4113\n",
      "\n",
      "Epoch 00050: loss improved from 2.49818 to 2.45894, saving model to results/exp1/best_model.hdf5\n",
      "--------------------------\n",
      "Training time in seconds:  1496.37\n",
      "--------------------------\n"
     ]
    }
   ],
   "source": [
    "# Fit the model\n",
    "start_time = time.time()\n",
    "history = model_1.fit(X, \n",
    "                      y, \n",
    "                      batch_size=128, \n",
    "                      epochs=50,\n",
    "                      callbacks=callbacks_list)\n",
    "\n",
    "elapsed_time = time.time() - start_time\n",
    "print('--------------------------')\n",
    "print('Training time in seconds: ', round(elapsed_time,2))\n",
    "print('--------------------------')"
   ]
  },
  {
   "cell_type": "code",
   "execution_count": 0,
   "metadata": {
    "colab": {},
    "colab_type": "code",
    "id": "HG3ISn33Kak8"
   },
   "outputs": [],
   "source": [
    "# Plot model performance"
   ]
  },
  {
   "cell_type": "code",
   "execution_count": 0,
   "metadata": {
    "colab": {},
    "colab_type": "code",
    "id": "hqw9GdIVKak_"
   },
   "outputs": [],
   "source": [
    "# history_dict = history.history\n",
    "# history_dict.keys()"
   ]
  },
  {
   "cell_type": "markdown",
   "metadata": {},
   "source": [
    "**Figure 4: Learning curves for Model 1**"
   ]
  },
  {
   "cell_type": "code",
   "execution_count": 46,
   "metadata": {
    "colab": {
     "base_uri": "https://localhost:8080/",
     "height": 324
    },
    "colab_type": "code",
    "id": "k_uAqqYtKalC",
    "outputId": "a9d7b59e-a33b-4d45-d33c-560fa68a9170"
   },
   "outputs": [
    {
     "data": {
      "image/png": "[encoded data removed]",
      "text/plain": [
       "<Figure size 576x360 with 1 Axes>"
      ]
     },
     "metadata": {
      "needs_background": "light",
      "tags": []
     },
     "output_type": "display_data"
    }
   ],
   "source": [
    "# Plot learning curves for model\n",
    "pd.DataFrame(history.history).plot(figsize=(8, 5))\n",
    "plt.grid(True)\n",
    "plt.gca().set_ylim(0, 5) # set the vertical range to [0-5]\n",
    "plt.savefig('figures/learning_curves_model_1', tight_layout=False)\n",
    "plt.show()"
   ]
  },
  {
   "cell_type": "code",
   "execution_count": 0,
   "metadata": {
    "colab": {},
    "colab_type": "code",
    "id": "dVymDkefcZtB"
   },
   "outputs": [],
   "source": [
    "# Save the model to file\n",
    "model_1.save('results/exp1/model_1.h5')\n",
    "# Save the tokenizer\n",
    "dump(tokenizer, open('alice_tokenizer.pkl', 'wb'))"
   ]
  },
  {
   "cell_type": "code",
   "execution_count": 0,
   "metadata": {
    "colab": {},
    "colab_type": "code",
    "id": "Iy1YO_sJKalF"
   },
   "outputs": [],
   "source": [
    "# Prepare the language model"
   ]
  },
  {
   "cell_type": "code",
   "execution_count": 0,
   "metadata": {
    "colab": {},
    "colab_type": "code",
    "id": "lbg_qQiKKalH"
   },
   "outputs": [],
   "source": [
    "# Load cleaned text sequences\n",
    "in_filename = 'alice_sequences.txt'\n",
    "doc = load_doc(in_filename)\n",
    "lines = doc.split('\\n')\n",
    "\n",
    "# Define sequence length\n",
    "seq_length = len(lines[0].split()) - 1"
   ]
  },
  {
   "cell_type": "code",
   "execution_count": 50,
   "metadata": {
    "colab": {
     "base_uri": "https://localhost:8080/",
     "height": 72
    },
    "colab_type": "code",
    "id": "wiWDLhFHKalK",
    "outputId": "c6aabd48-bc52-487b-f909-202b76ef92fa"
   },
   "outputs": [
    {
     "name": "stderr",
     "output_type": "stream",
     "text": [
      "/usr/local/lib/python3.6/dist-packages/tensorflow/python/framework/indexed_slices.py:434: UserWarning: Converting sparse IndexedSlices to a dense Tensor of unknown shape. This may consume a large amount of memory.\n",
      "  \"Converting sparse IndexedSlices to a dense Tensor of unknown shape. \"\n"
     ]
    }
   ],
   "source": [
    "# Load the model\n",
    "model = load_model('results/exp1/model_1.h5')"
   ]
  },
  {
   "cell_type": "code",
   "execution_count": 0,
   "metadata": {
    "colab": {},
    "colab_type": "code",
    "id": "UL9DA23qKalM"
   },
   "outputs": [],
   "source": [
    "# Load the tokenizer\n",
    "tokenizer = load(open('alice_tokenizer.pkl', 'rb'))"
   ]
  },
  {
   "cell_type": "code",
   "execution_count": 0,
   "metadata": {
    "colab": {},
    "colab_type": "code",
    "id": "UTkIc4sVKalP"
   },
   "outputs": [],
   "source": [
    "# Generate text and evaluate"
   ]
  },
  {
   "cell_type": "code",
   "execution_count": 0,
   "metadata": {
    "colab": {},
    "colab_type": "code",
    "id": "tiFijANEKalV"
   },
   "outputs": [],
   "source": [
    "# Define function to generate sequence from language model\n",
    "def generate_seq(model, tokenizer, seq_length, seed_text, n_words):\n",
    "    result = list()\n",
    "    in_text = seed_text\n",
    "    # generate a fixed number of words\n",
    "    for _ in range(n_words):\n",
    "        # encode the text as integer\n",
    "        encoded = tokenizer.texts_to_sequences([in_text])[0]\n",
    "        # truncate sequences to a fixed length\n",
    "        encoded = pad_sequences([encoded], maxlen=seq_length, truncating='pre')\n",
    "        # predict probabilities for each word\n",
    "        yhat = model.predict_classes(encoded, verbose=0)\n",
    "        # map predicted word index to word\n",
    "        out_word = ''\n",
    "        for word, index in tokenizer.word_index.items():\n",
    "            if index == yhat:\n",
    "                out_word = word\n",
    "                break\n",
    "        # append to input\n",
    "        in_text += ' ' + out_word\n",
    "        result.append(out_word)\n",
    "    return ' '.join(result)"
   ]
  },
  {
   "cell_type": "code",
   "execution_count": 0,
   "metadata": {
    "colab": {},
    "colab_type": "code",
    "id": "TqtCwSLWyN-v"
   },
   "outputs": [],
   "source": [
    "# Select a seed text\n",
    "seed_text = lines[randint(0,len(lines))]"
   ]
  },
  {
   "cell_type": "code",
   "execution_count": 54,
   "metadata": {
    "colab": {
     "base_uri": "https://localhost:8080/",
     "height": 90
    },
    "colab_type": "code",
    "id": "w1YrJdRtnp64",
    "outputId": "a37ba898-149c-47d0-8185-011dcc17bdef"
   },
   "outputs": [
    {
     "name": "stdout",
     "output_type": "stream",
     "text": [
      "Seed text 1: hurry an enormous puppy was looking down at her with large round eyes and feebly stretching out one paw trying to touch her poor little thing said alice in a coaxing tone and she tried hard to whistle to it but she was terribly frightened all the time at the thought\n",
      "----------------------------------\n",
      "Generated text 1: to the jury they all a little quicker that your majesty said the king and then it was a little startled by seeing the world lets try the king when the march hare meekly is you might like the mock turtle said the mock turtle to her age give him\n"
     ]
    }
   ],
   "source": [
    "# Generate new text\n",
    "print('Seed text 1:', seed_text)\n",
    "print('----------------------------------')\n",
    "generated = generate_seq(model, tokenizer, seq_length, seed_text, 50)\n",
    "print('Generated text 1:', generated)"
   ]
  },
  {
   "cell_type": "code",
   "execution_count": 0,
   "metadata": {
    "colab": {},
    "colab_type": "code",
    "id": "_bcd9BinKala"
   },
   "outputs": [],
   "source": [
    "# Select a new seed text\n",
    "seed_text = lines[randint(0,len(lines))]"
   ]
  },
  {
   "cell_type": "code",
   "execution_count": 56,
   "metadata": {
    "colab": {
     "base_uri": "https://localhost:8080/",
     "height": 90
    },
    "colab_type": "code",
    "id": "aRKkGgcbKale",
    "outputId": "f361e357-1dbd-4c2e-ecf0-1d1f53a98cdf"
   },
   "outputs": [
    {
     "name": "stdout",
     "output_type": "stream",
     "text": [
      "Seed text 2: down would the fall never come to an end i wonder how many miles ive fallen by this time she said aloud i must be getting somewhere near the centre of the earth let me see that would be four thousand miles down i think for you see alice had learnt\n",
      "----------------------------------\n",
      "Generated text 2: several times six minute and then you know pointing to the little door and was suppressed to the other side the queen was so much already as it was a little startled improve his shining tail and pour the waters of the nile on which instantly and the other side\n"
     ]
    }
   ],
   "source": [
    "# Generate new text\n",
    "print('Seed text 2:', seed_text)\n",
    "print('----------------------------------')\n",
    "generated = generate_seq(model, tokenizer, seq_length, seed_text, 50)\n",
    "print('Generated text 2:', generated)"
   ]
  },
  {
   "cell_type": "code",
   "execution_count": 0,
   "metadata": {
    "colab": {},
    "colab_type": "code",
    "id": "JsutbOaHO5z_"
   },
   "outputs": [],
   "source": [
    "# Select a new seed text\n",
    "seed_text = lines[randint(0,len(lines))]"
   ]
  },
  {
   "cell_type": "code",
   "execution_count": 58,
   "metadata": {
    "colab": {
     "base_uri": "https://localhost:8080/",
     "height": 90
    },
    "colab_type": "code",
    "id": "ymroXAPyKalg",
    "outputId": "99fa2416-9eb0-4f32-c81e-e647fab15a32"
   },
   "outputs": [
    {
     "name": "stdout",
     "output_type": "stream",
     "text": [
      "Seed text 3: burn the house down said the rabbits voice and alice called out as loud as she could if you do ill set dinah at you there was a dead silence instantly and alice thought to herself i wonder what they will do next if they had any sense theyd take the\n",
      "----------------------------------\n",
      "Generated text 3: same size to the jury all wrote down their slates and was a little startled when she heard a little pattering of feet as it was a little nervous about it and feebly stretching out straight anxiously into the pool the queen was thatched with fur the frogfootman repeated with\n"
     ]
    }
   ],
   "source": [
    "# Generate new text\n",
    "print('Seed text 3:', seed_text)\n",
    "print('----------------------------------')\n",
    "generated = generate_seq(model, tokenizer, seq_length, seed_text, 50)\n",
    "print('Generated text 3:', generated)"
   ]
  },
  {
   "cell_type": "code",
   "execution_count": 0,
   "metadata": {
    "colab": {},
    "colab_type": "code",
    "id": "n8jL6rqjh54e"
   },
   "outputs": [],
   "source": [
    "tf.keras.backend.clear_session()"
   ]
  },
  {
   "cell_type": "markdown",
   "metadata": {
    "colab_type": "text",
    "id": "jzDjwzeBKali"
   },
   "source": [
    "### <i>Experiment 2: LSTM RNN </i>\n",
    "This neural network differs from the baseline with additional memory cell units.\n",
    "* 1 hidden layer\n",
    "* 256 memory cell units\n",
    "* Embedding vector space size 50"
   ]
  },
  {
   "cell_type": "code",
   "execution_count": 0,
   "metadata": {
    "colab": {},
    "colab_type": "code",
    "id": "D4EtnzCmKall"
   },
   "outputs": [],
   "source": [
    "# Define model\n",
    "model_2 = Sequential()\n",
    "model_2.add(Embedding(vocab_size, 50, input_length=seq_length))\n",
    "model_2.add(LSTM(256))\n",
    "model_2.add(Dense(100, activation='relu'))\n",
    "model_2.add(Dense(vocab_size, activation='softmax'))"
   ]
  },
  {
   "cell_type": "code",
   "execution_count": 61,
   "metadata": {
    "colab": {
     "base_uri": "https://localhost:8080/",
     "height": 815
    },
    "colab_type": "code",
    "id": "yeKcnKVmKaln",
    "outputId": "e4444be7-3394-4aab-9579-3eb016745a61"
   },
   "outputs": [
    {
     "name": "stdout",
     "output_type": "stream",
     "text": [
      "Model: \"sequential_1\"\n",
      "_________________________________________________________________\n",
      "Layer (type)                 Output Shape              Param #   \n",
      "=================================================================\n",
      "embedding_1 (Embedding)      (None, 50, 50)            132300    \n",
      "_________________________________________________________________\n",
      "lstm_1 (LSTM)                (None, 256)               314368    \n",
      "_________________________________________________________________\n",
      "dense_1 (Dense)              (None, 100)               25700     \n",
      "_________________________________________________________________\n",
      "dense_2 (Dense)              (None, 2646)              267246    \n",
      "=================================================================\n",
      "Total params: 739,614\n",
      "Trainable params: 739,614\n",
      "Non-trainable params: 0\n",
      "_________________________________________________________________\n"
     ]
    },
    {
     "data": {
      "image/png": "[encoded data removed]",
      "text/plain": [
       "<IPython.core.display.Image object>"
      ]
     },
     "execution_count": 61,
     "metadata": {
      "tags": []
     },
     "output_type": "execute_result"
    }
   ],
   "source": [
    "# Model summary\n",
    "model_2.summary()\n",
    "plot_model(model_2, to_file='figures/model_2.png', show_shapes=True)"
   ]
  },
  {
   "cell_type": "code",
   "execution_count": 0,
   "metadata": {
    "colab": {},
    "colab_type": "code",
    "id": "-ksi86wGKalr"
   },
   "outputs": [],
   "source": [
    "# Compile model\n",
    "model_2.compile(loss='categorical_crossentropy', optimizer='adam', metrics=['accuracy'])"
   ]
  },
  {
   "cell_type": "code",
   "execution_count": 0,
   "metadata": {
    "colab": {},
    "colab_type": "code",
    "id": "2TUGxPNzKalt"
   },
   "outputs": [],
   "source": [
    "# Define the checkpoint\n",
    "# filepath='results/exp2/weights-improvement-{epoch:02d}-{loss:.4f}.hdf5'\n",
    "filepath='results/exp2/best_model.hdf5'\n",
    "checkpoint = ModelCheckpoint(filepath, monitor='loss', verbose=1, save_best_only=True, mode='min')\n",
    "es = EarlyStopping(monitor='loss', mode='min', verbose=1, patience=5)\n",
    "callbacks_list = [checkpoint,es]"
   ]
  },
  {
   "cell_type": "code",
   "execution_count": 64,
   "metadata": {
    "colab": {
     "base_uri": "https://localhost:8080/",
     "height": 1000
    },
    "colab_type": "code",
    "id": "pIOFx4nBKalv",
    "outputId": "fc778b32-90c5-4ce0-8bfd-0d1cecd0cc0a"
   },
   "outputs": [
    {
     "name": "stderr",
     "output_type": "stream",
     "text": [
      "/usr/local/lib/python3.6/dist-packages/tensorflow/python/framework/indexed_slices.py:434: UserWarning: Converting sparse IndexedSlices to a dense Tensor of unknown shape. This may consume a large amount of memory.\n",
      "  \"Converting sparse IndexedSlices to a dense Tensor of unknown shape. \"\n"
     ]
    },
    {
     "name": "stdout",
     "output_type": "stream",
     "text": [
      "Epoch 1/50\n",
      "26666/26666 [==============================] - 32s 1ms/step - loss: 6.2853 - accuracy: 0.0609\n",
      "\n",
      "Epoch 00001: loss improved from inf to 6.28529, saving model to results/exp2/best_model.hdf5\n",
      "Epoch 2/50\n",
      "26666/26666 [==============================] - 32s 1ms/step - loss: 5.8896 - accuracy: 0.0646\n",
      "\n",
      "Epoch 00002: loss improved from 6.28529 to 5.88962, saving model to results/exp2/best_model.hdf5\n",
      "Epoch 3/50\n",
      "26666/26666 [==============================] - 31s 1ms/step - loss: 5.6907 - accuracy: 0.0714\n",
      "\n",
      "Epoch 00003: loss improved from 5.88962 to 5.69068, saving model to results/exp2/best_model.hdf5\n",
      "Epoch 4/50\n",
      "26666/26666 [==============================] - 31s 1ms/step - loss: 5.5605 - accuracy: 0.0779\n",
      "\n",
      "Epoch 00004: loss improved from 5.69068 to 5.56048, saving model to results/exp2/best_model.hdf5\n",
      "Epoch 5/50\n",
      "26666/26666 [==============================] - 32s 1ms/step - loss: 5.4123 - accuracy: 0.0877\n",
      "\n",
      "Epoch 00005: loss improved from 5.56048 to 5.41232, saving model to results/exp2/best_model.hdf5\n",
      "Epoch 6/50\n",
      "26666/26666 [==============================] - 32s 1ms/step - loss: 5.2573 - accuracy: 0.1066\n",
      "\n",
      "Epoch 00006: loss improved from 5.41232 to 5.25726, saving model to results/exp2/best_model.hdf5\n",
      "Epoch 7/50\n",
      "26666/26666 [==============================] - 31s 1ms/step - loss: 5.1226 - accuracy: 0.1115\n",
      "\n",
      "Epoch 00007: loss improved from 5.25726 to 5.12259, saving model to results/exp2/best_model.hdf5\n",
      "Epoch 8/50\n",
      "26666/26666 [==============================] - 32s 1ms/step - loss: 5.0090 - accuracy: 0.1211\n",
      "\n",
      "Epoch 00008: loss improved from 5.12259 to 5.00899, saving model to results/exp2/best_model.hdf5\n",
      "Epoch 9/50\n",
      "26666/26666 [==============================] - 31s 1ms/step - loss: 4.9038 - accuracy: 0.1283\n",
      "\n",
      "Epoch 00009: loss improved from 5.00899 to 4.90377, saving model to results/exp2/best_model.hdf5\n",
      "Epoch 10/50\n",
      "26666/26666 [==============================] - 31s 1ms/step - loss: 4.8123 - accuracy: 0.1357\n",
      "\n",
      "Epoch 00010: loss improved from 4.90377 to 4.81231, saving model to results/exp2/best_model.hdf5\n",
      "Epoch 11/50\n",
      "26666/26666 [==============================] - 31s 1ms/step - loss: 4.7196 - accuracy: 0.1400\n",
      "\n",
      "Epoch 00011: loss improved from 4.81231 to 4.71957, saving model to results/exp2/best_model.hdf5\n",
      "Epoch 12/50\n",
      "26666/26666 [==============================] - 32s 1ms/step - loss: 4.6387 - accuracy: 0.1448\n",
      "\n",
      "Epoch 00012: loss improved from 4.71957 to 4.63871, saving model to results/exp2/best_model.hdf5\n",
      "Epoch 13/50\n",
      "26666/26666 [==============================] - 32s 1ms/step - loss: 4.5598 - accuracy: 0.1494\n",
      "\n",
      "Epoch 00013: loss improved from 4.63871 to 4.55982, saving model to results/exp2/best_model.hdf5\n",
      "Epoch 14/50\n",
      "26666/26666 [==============================] - 31s 1ms/step - loss: 4.4826 - accuracy: 0.1577\n",
      "\n",
      "Epoch 00014: loss improved from 4.55982 to 4.48262, saving model to results/exp2/best_model.hdf5\n",
      "Epoch 15/50\n",
      "26666/26666 [==============================] - 31s 1ms/step - loss: 4.4125 - accuracy: 0.1643\n",
      "\n",
      "Epoch 00015: loss improved from 4.48262 to 4.41247, saving model to results/exp2/best_model.hdf5\n",
      "Epoch 16/50\n",
      "26666/26666 [==============================] - 30s 1ms/step - loss: 4.3394 - accuracy: 0.1679\n",
      "\n",
      "Epoch 00016: loss improved from 4.41247 to 4.33941, saving model to results/exp2/best_model.hdf5\n",
      "Epoch 17/50\n",
      "26666/26666 [==============================] - 32s 1ms/step - loss: 4.2768 - accuracy: 0.1704\n",
      "\n",
      "Epoch 00017: loss improved from 4.33941 to 4.27676, saving model to results/exp2/best_model.hdf5\n",
      "Epoch 18/50\n",
      "26666/26666 [==============================] - 30s 1ms/step - loss: 4.2228 - accuracy: 0.1786\n",
      "\n",
      "Epoch 00018: loss improved from 4.27676 to 4.22279, saving model to results/exp2/best_model.hdf5\n",
      "Epoch 19/50\n",
      "26666/26666 [==============================] - 32s 1ms/step - loss: 4.1463 - accuracy: 0.1814\n",
      "\n",
      "Epoch 00019: loss improved from 4.22279 to 4.14629, saving model to results/exp2/best_model.hdf5\n",
      "Epoch 20/50\n",
      "26666/26666 [==============================] - 31s 1ms/step - loss: 4.0826 - accuracy: 0.1848\n",
      "\n",
      "Epoch 00020: loss improved from 4.14629 to 4.08262, saving model to results/exp2/best_model.hdf5\n",
      "Epoch 21/50\n",
      "26666/26666 [==============================] - 32s 1ms/step - loss: 4.0162 - accuracy: 0.1914\n",
      "\n",
      "Epoch 00021: loss improved from 4.08262 to 4.01621, saving model to results/exp2/best_model.hdf5\n",
      "Epoch 22/50\n",
      "26666/26666 [==============================] - 31s 1ms/step - loss: 3.9548 - accuracy: 0.1946\n",
      "\n",
      "Epoch 00022: loss improved from 4.01621 to 3.95476, saving model to results/exp2/best_model.hdf5\n",
      "Epoch 23/50\n",
      "26666/26666 [==============================] - 31s 1ms/step - loss: 3.8898 - accuracy: 0.1997\n",
      "\n",
      "Epoch 00023: loss improved from 3.95476 to 3.88977, saving model to results/exp2/best_model.hdf5\n",
      "Epoch 24/50\n",
      "26666/26666 [==============================] - 31s 1ms/step - loss: 3.8303 - accuracy: 0.2030\n",
      "\n",
      "Epoch 00024: loss improved from 3.88977 to 3.83034, saving model to results/exp2/best_model.hdf5\n",
      "Epoch 25/50\n",
      "26666/26666 [==============================] - 31s 1ms/step - loss: 3.7698 - accuracy: 0.2089\n",
      "\n",
      "Epoch 00025: loss improved from 3.83034 to 3.76977, saving model to results/exp2/best_model.hdf5\n",
      "Epoch 26/50\n",
      "26666/26666 [==============================] - 31s 1ms/step - loss: 3.7116 - accuracy: 0.2163\n",
      "\n",
      "Epoch 00026: loss improved from 3.76977 to 3.71156, saving model to results/exp2/best_model.hdf5\n",
      "Epoch 27/50\n",
      "26666/26666 [==============================] - 31s 1ms/step - loss: 3.6577 - accuracy: 0.2209\n",
      "\n",
      "Epoch 00027: loss improved from 3.71156 to 3.65768, saving model to results/exp2/best_model.hdf5\n",
      "Epoch 28/50\n",
      "26666/26666 [==============================] - 32s 1ms/step - loss: 3.6110 - accuracy: 0.2255\n",
      "\n",
      "Epoch 00028: loss improved from 3.65768 to 3.61104, saving model to results/exp2/best_model.hdf5\n",
      "Epoch 29/50\n",
      "26666/26666 [==============================] - 30s 1ms/step - loss: 3.5539 - accuracy: 0.2318\n",
      "\n",
      "Epoch 00029: loss improved from 3.61104 to 3.55389, saving model to results/exp2/best_model.hdf5\n",
      "Epoch 30/50\n",
      "26666/26666 [==============================] - 31s 1ms/step - loss: 3.4985 - accuracy: 0.2395\n",
      "\n",
      "Epoch 00030: loss improved from 3.55389 to 3.49847, saving model to results/exp2/best_model.hdf5\n",
      "Epoch 31/50\n",
      "26666/26666 [==============================] - 31s 1ms/step - loss: 3.4497 - accuracy: 0.2448\n",
      "\n",
      "Epoch 00031: loss improved from 3.49847 to 3.44970, saving model to results/exp2/best_model.hdf5\n",
      "Epoch 32/50\n",
      "26666/26666 [==============================] - 31s 1ms/step - loss: 3.3988 - accuracy: 0.2517\n",
      "\n",
      "Epoch 00032: loss improved from 3.44970 to 3.39881, saving model to results/exp2/best_model.hdf5\n",
      "Epoch 33/50\n",
      "26666/26666 [==============================] - 31s 1ms/step - loss: 3.3526 - accuracy: 0.2587\n",
      "\n",
      "Epoch 00033: loss improved from 3.39881 to 3.35264, saving model to results/exp2/best_model.hdf5\n",
      "Epoch 34/50\n",
      "26666/26666 [==============================] - 31s 1ms/step - loss: 3.3052 - accuracy: 0.2636\n",
      "\n",
      "Epoch 00034: loss improved from 3.35264 to 3.30523, saving model to results/exp2/best_model.hdf5\n",
      "Epoch 35/50\n",
      "26666/26666 [==============================] - 30s 1ms/step - loss: 3.2622 - accuracy: 0.2715\n",
      "\n",
      "Epoch 00035: loss improved from 3.30523 to 3.26223, saving model to results/exp2/best_model.hdf5\n",
      "Epoch 36/50\n",
      "26666/26666 [==============================] - 31s 1ms/step - loss: 3.2152 - accuracy: 0.2786\n",
      "\n",
      "Epoch 00036: loss improved from 3.26223 to 3.21524, saving model to results/exp2/best_model.hdf5\n",
      "Epoch 37/50\n",
      "26666/26666 [==============================] - 30s 1ms/step - loss: 3.1731 - accuracy: 0.2831\n",
      "\n",
      "Epoch 00037: loss improved from 3.21524 to 3.17310, saving model to results/exp2/best_model.hdf5\n",
      "Epoch 38/50\n",
      "26666/26666 [==============================] - 31s 1ms/step - loss: 3.1292 - accuracy: 0.2909\n",
      "\n",
      "Epoch 00038: loss improved from 3.17310 to 3.12920, saving model to results/exp2/best_model.hdf5\n",
      "Epoch 39/50\n",
      "26666/26666 [==============================] - 30s 1ms/step - loss: 3.0860 - accuracy: 0.2995\n",
      "\n",
      "Epoch 00039: loss improved from 3.12920 to 3.08604, saving model to results/exp2/best_model.hdf5\n",
      "Epoch 40/50\n",
      "26666/26666 [==============================] - 31s 1ms/step - loss: 3.0547 - accuracy: 0.3035\n",
      "\n",
      "Epoch 00040: loss improved from 3.08604 to 3.05474, saving model to results/exp2/best_model.hdf5\n",
      "Epoch 41/50\n",
      "26666/26666 [==============================] - 30s 1ms/step - loss: 3.0228 - accuracy: 0.3093\n",
      "\n",
      "Epoch 00041: loss improved from 3.05474 to 3.02281, saving model to results/exp2/best_model.hdf5\n",
      "Epoch 42/50\n",
      "26666/26666 [==============================] - 31s 1ms/step - loss: 2.9780 - accuracy: 0.3172\n",
      "\n",
      "Epoch 00042: loss improved from 3.02281 to 2.97800, saving model to results/exp2/best_model.hdf5\n",
      "Epoch 43/50\n",
      "26666/26666 [==============================] - 31s 1ms/step - loss: 2.9393 - accuracy: 0.3223\n",
      "\n",
      "Epoch 00043: loss improved from 2.97800 to 2.93935, saving model to results/exp2/best_model.hdf5\n",
      "Epoch 44/50\n",
      "26666/26666 [==============================] - 31s 1ms/step - loss: 2.8986 - accuracy: 0.3312\n",
      "\n",
      "Epoch 00044: loss improved from 2.93935 to 2.89858, saving model to results/exp2/best_model.hdf5\n",
      "Epoch 45/50\n",
      "26666/26666 [==============================] - 31s 1ms/step - loss: 2.8617 - accuracy: 0.3374\n",
      "\n",
      "Epoch 00045: loss improved from 2.89858 to 2.86173, saving model to results/exp2/best_model.hdf5\n",
      "Epoch 46/50\n",
      "26666/26666 [==============================] - 32s 1ms/step - loss: 2.8295 - accuracy: 0.3408\n",
      "\n",
      "Epoch 00046: loss improved from 2.86173 to 2.82953, saving model to results/exp2/best_model.hdf5\n",
      "Epoch 47/50\n",
      "26666/26666 [==============================] - 31s 1ms/step - loss: 2.7880 - accuracy: 0.3501\n",
      "\n",
      "Epoch 00047: loss improved from 2.82953 to 2.78803, saving model to results/exp2/best_model.hdf5\n",
      "Epoch 48/50\n",
      "26666/26666 [==============================] - 31s 1ms/step - loss: 2.7562 - accuracy: 0.3545\n",
      "\n",
      "Epoch 00048: loss improved from 2.78803 to 2.75616, saving model to results/exp2/best_model.hdf5\n",
      "Epoch 49/50\n",
      "26666/26666 [==============================] - 32s 1ms/step - loss: 2.7192 - accuracy: 0.3617\n",
      "\n",
      "Epoch 00049: loss improved from 2.75616 to 2.71919, saving model to results/exp2/best_model.hdf5\n",
      "Epoch 50/50\n",
      "26666/26666 [==============================] - 31s 1ms/step - loss: 2.6865 - accuracy: 0.3674\n",
      "\n",
      "Epoch 00050: loss improved from 2.71919 to 2.68652, saving model to results/exp2/best_model.hdf5\n",
      "--------------------------\n",
      "Training time in seconds:  1593.32\n",
      "--------------------------\n"
     ]
    }
   ],
   "source": [
    "# Fit the model\n",
    "start_time = time.time()\n",
    "history = model_2.fit(X, \n",
    "                      y, \n",
    "                      batch_size=128, \n",
    "                      epochs=50,\n",
    "                      callbacks=callbacks_list)\n",
    "\n",
    "elapsed_time = time.time() - start_time\n",
    "print('--------------------------')\n",
    "print('Training time in seconds: ', round(elapsed_time,2))\n",
    "print('--------------------------')"
   ]
  },
  {
   "cell_type": "code",
   "execution_count": 0,
   "metadata": {
    "colab": {},
    "colab_type": "code",
    "id": "-POWHRIHKaly"
   },
   "outputs": [],
   "source": [
    "# Plot model performance"
   ]
  },
  {
   "cell_type": "code",
   "execution_count": 0,
   "metadata": {
    "colab": {},
    "colab_type": "code",
    "id": "9IIQUeLOKal0"
   },
   "outputs": [],
   "source": [
    "# history_dict = history.history\n",
    "# history_dict.keys()"
   ]
  },
  {
   "cell_type": "markdown",
   "metadata": {},
   "source": [
    "**Figure 5: Learning curves for Model 2**"
   ]
  },
  {
   "cell_type": "code",
   "execution_count": 66,
   "metadata": {
    "colab": {
     "base_uri": "https://localhost:8080/",
     "height": 324
    },
    "colab_type": "code",
    "id": "6BbEzwHEKal1",
    "outputId": "39240896-661a-4d30-f297-d5d0bf5bcc4f"
   },
   "outputs": [
    {
     "data": {
      "image/png": "[encoded data removed]",
      "text/plain": [
       "<Figure size 576x360 with 1 Axes>"
      ]
     },
     "metadata": {
      "needs_background": "light",
      "tags": []
     },
     "output_type": "display_data"
    }
   ],
   "source": [
    "# Plot learning curves for model\n",
    "pd.DataFrame(history.history).plot(figsize=(8, 5))\n",
    "plt.grid(True)\n",
    "plt.gca().set_ylim(0, 5) # set the vertical range to [0-1]\n",
    "plt.savefig('figures/learning_curves_model_2', tight_layout=False)\n",
    "plt.show()"
   ]
  },
  {
   "cell_type": "code",
   "execution_count": 0,
   "metadata": {
    "colab": {},
    "colab_type": "code",
    "id": "BZ-oyk45Kal3"
   },
   "outputs": [],
   "source": [
    "# Save the model to file\n",
    "model_2.save('results/exp2/model_2.h5')\n",
    "# save the tokenizer\n",
    "# dump(tokenizer, open('alice_tokenizer.pkl', 'wb'))"
   ]
  },
  {
   "cell_type": "code",
   "execution_count": 0,
   "metadata": {
    "colab": {},
    "colab_type": "code",
    "id": "wRcodkuTKal6"
   },
   "outputs": [],
   "source": [
    "# Prepare the language model"
   ]
  },
  {
   "cell_type": "code",
   "execution_count": 0,
   "metadata": {
    "colab": {},
    "colab_type": "code",
    "id": "NOuCddSnKal8"
   },
   "outputs": [],
   "source": [
    "# Load cleaned text sequences\n",
    "in_filename = 'alice_sequences.txt'\n",
    "doc = load_doc(in_filename)\n",
    "lines = doc.split('\\n')\n",
    "\n",
    "# Define sequence length\n",
    "seq_length = len(lines[0].split()) - 1"
   ]
  },
  {
   "cell_type": "code",
   "execution_count": 69,
   "metadata": {
    "colab": {
     "base_uri": "https://localhost:8080/",
     "height": 72
    },
    "colab_type": "code",
    "id": "s10TA4cWKal9",
    "outputId": "56d78464-6a37-4cea-bfba-e0fab9560c14"
   },
   "outputs": [
    {
     "name": "stderr",
     "output_type": "stream",
     "text": [
      "/usr/local/lib/python3.6/dist-packages/tensorflow/python/framework/indexed_slices.py:434: UserWarning: Converting sparse IndexedSlices to a dense Tensor of unknown shape. This may consume a large amount of memory.\n",
      "  \"Converting sparse IndexedSlices to a dense Tensor of unknown shape. \"\n"
     ]
    }
   ],
   "source": [
    "# Load the model - use name from best model\n",
    "model = load_model('results/exp2/model_2.h5')"
   ]
  },
  {
   "cell_type": "code",
   "execution_count": 0,
   "metadata": {
    "colab": {},
    "colab_type": "code",
    "id": "coAlAu0SKamA"
   },
   "outputs": [],
   "source": [
    "# Load the tokenizer\n",
    "tokenizer = load(open('alice_tokenizer.pkl', 'rb'))"
   ]
  },
  {
   "cell_type": "code",
   "execution_count": 0,
   "metadata": {
    "colab": {},
    "colab_type": "code",
    "id": "NiW6AieOKamC"
   },
   "outputs": [],
   "source": [
    "# Generate text and evaluate"
   ]
  },
  {
   "cell_type": "code",
   "execution_count": 0,
   "metadata": {
    "colab": {},
    "colab_type": "code",
    "id": "vmsmg9BZ2lXw"
   },
   "outputs": [],
   "source": [
    "# Select a seed text\n",
    "seed_text = lines[randint(0,len(lines))]"
   ]
  },
  {
   "cell_type": "code",
   "execution_count": 73,
   "metadata": {
    "colab": {
     "base_uri": "https://localhost:8080/",
     "height": 90
    },
    "colab_type": "code",
    "id": "Gn34kZsQKamL",
    "outputId": "6ddc6ce6-360b-43cf-9220-50dafe135556"
   },
   "outputs": [
    {
     "name": "stdout",
     "output_type": "stream",
     "text": [
      "Seed text 1: change the subject ten hours the first day said the mock turtle nine the next and so on what a curious plan exclaimed alice thats the reason theyre called lessons the gryphon remarked because they lessen from day to day this was quite a new idea to alice and she thought\n",
      "----------------------------------\n",
      "Generated text 1: till it was very glad to be a bit hurt and went on when it grunted again and pictures hung upon pegs she waited to the cur a large cauldron among the door and she was the best butter a little girl shell think it to be true you know\n"
     ]
    }
   ],
   "source": [
    "# Generate new text\n",
    "print('Seed text 1:', seed_text)\n",
    "print('----------------------------------')\n",
    "generated = generate_seq(model, tokenizer, seq_length, seed_text, 50)\n",
    "print('Generated text 1:', generated)"
   ]
  },
  {
   "cell_type": "code",
   "execution_count": 0,
   "metadata": {
    "colab": {},
    "colab_type": "code",
    "id": "Sfpqc8lOKamR"
   },
   "outputs": [],
   "source": [
    "# Select a new seed text\n",
    "seed_text = lines[randint(0,len(lines))]"
   ]
  },
  {
   "cell_type": "code",
   "execution_count": 75,
   "metadata": {
    "colab": {
     "base_uri": "https://localhost:8080/",
     "height": 90
    },
    "colab_type": "code",
    "id": "m7uP_O5nKamT",
    "outputId": "37215d87-ba24-4b12-b0eb-a67b00f3cad0",
    "scrolled": true
   },
   "outputs": [
    {
     "name": "stdout",
     "output_type": "stream",
     "text": [
      "Seed text 2: a good character but said i could not swim he sent them word i had not gone we know it to be true if she should push the matter on what would become of you i gave her one they gave him two you gave us three or more they all\n",
      "----------------------------------\n",
      "Generated text 2: returned from him and began to the queen of the court and the baby was too sulkily but she had never been to the classical master though the rabbit blew first filled with a low voice with the middle alice had just begun to the other side of the court\n"
     ]
    }
   ],
   "source": [
    "# Generate new text\n",
    "print('Seed text 2:', seed_text)\n",
    "print('----------------------------------')\n",
    "generated = generate_seq(model, tokenizer, seq_length, seed_text, 50)\n",
    "print('Generated text 2:', generated)"
   ]
  },
  {
   "cell_type": "code",
   "execution_count": 0,
   "metadata": {
    "colab": {},
    "colab_type": "code",
    "id": "S4H1_dkGP1oc"
   },
   "outputs": [],
   "source": [
    "# Select a new seed text\n",
    "seed_text = lines[randint(0,len(lines))]"
   ]
  },
  {
   "cell_type": "code",
   "execution_count": 77,
   "metadata": {
    "colab": {
     "base_uri": "https://localhost:8080/",
     "height": 90
    },
    "colab_type": "code",
    "id": "vNu3eZVPP1oe",
    "outputId": "576c2bda-a4f9-4aa8-f9dc-f328d36efc6a"
   },
   "outputs": [
    {
     "name": "stdout",
     "output_type": "stream",
     "text": [
      "Seed text 3: began to cry again for she felt very lonely and lowspirited in a little while however she again heard a little pattering of footsteps in the distance and she looked up eagerly half hoping that the mouse had changed his mind and was coming back to finish his story chapter iv\n",
      "----------------------------------\n",
      "Generated text 3: sidenote the door and knocked you cant help it said the king and the moral of the e e evening beautiful soup soup said to the gryphon and the moral of the court and a partner to be a bit hurt and went on when it grunted again and pictures\n"
     ]
    }
   ],
   "source": [
    "# Generate new text\n",
    "print('Seed text 3:', seed_text)\n",
    "print('----------------------------------')\n",
    "generated = generate_seq(model, tokenizer, seq_length, seed_text, 50)\n",
    "print('Generated text 3:', generated)"
   ]
  },
  {
   "cell_type": "code",
   "execution_count": 0,
   "metadata": {
    "colab": {},
    "colab_type": "code",
    "id": "3rGGxZ3Wj3mX"
   },
   "outputs": [],
   "source": [
    "tf.keras.backend.clear_session()"
   ]
  },
  {
   "cell_type": "markdown",
   "metadata": {
    "colab_type": "text",
    "id": "KQU3dL89KamV"
   },
   "source": [
    "### <i>Experiment 3: LSTM RNN </i>\n",
    "This deeper neural network adds a hidden layer to determine impact on performance, training time, and ability to capture context of the document and generate meaningful text from seed text.\n",
    "* 2 hidden layers\n",
    "* 100 memory cell units\n",
    "* Embedding vector space size 50"
   ]
  },
  {
   "cell_type": "code",
   "execution_count": 0,
   "metadata": {
    "colab": {},
    "colab_type": "code",
    "id": "clwKWAbGKamX"
   },
   "outputs": [],
   "source": [
    "# Define model\n",
    "model_3 = Sequential()\n",
    "model_3.add(Embedding(vocab_size, 50, input_length=seq_length))\n",
    "model_3.add(LSTM(100, return_sequences=True))\n",
    "model_3.add(LSTM(100))\n",
    "model_3.add(Dense(100, activation='relu'))\n",
    "model_3.add(Dense(vocab_size, activation='softmax'))"
   ]
  },
  {
   "cell_type": "code",
   "execution_count": 79,
   "metadata": {
    "colab": {
     "base_uri": "https://localhost:8080/",
     "height": 962
    },
    "colab_type": "code",
    "id": "R9hge1GQKamZ",
    "outputId": "3d751032-4b4c-4243-fb29-aa831aa4cdea"
   },
   "outputs": [
    {
     "name": "stdout",
     "output_type": "stream",
     "text": [
      "Model: \"sequential_2\"\n",
      "_________________________________________________________________\n",
      "Layer (type)                 Output Shape              Param #   \n",
      "=================================================================\n",
      "embedding_2 (Embedding)      (None, 50, 50)            132300    \n",
      "_________________________________________________________________\n",
      "lstm_2 (LSTM)                (None, 50, 100)           60400     \n",
      "_________________________________________________________________\n",
      "lstm_3 (LSTM)                (None, 100)               80400     \n",
      "_________________________________________________________________\n",
      "dense_3 (Dense)              (None, 100)               10100     \n",
      "_________________________________________________________________\n",
      "dense_4 (Dense)              (None, 2646)              267246    \n",
      "=================================================================\n",
      "Total params: 550,446\n",
      "Trainable params: 550,446\n",
      "Non-trainable params: 0\n",
      "_________________________________________________________________\n"
     ]
    },
    {
     "data": {
      "image/png": "[encoded data removed]",
      "text/plain": [
       "<IPython.core.display.Image object>"
      ]
     },
     "execution_count": 79,
     "metadata": {
      "tags": []
     },
     "output_type": "execute_result"
    }
   ],
   "source": [
    "# Model summary\n",
    "model_3.summary()\n",
    "plot_model(model_3, to_file='figures/model_3.png', show_shapes=True)"
   ]
  },
  {
   "cell_type": "code",
   "execution_count": 0,
   "metadata": {
    "colab": {},
    "colab_type": "code",
    "id": "s4JEx-SQKamn"
   },
   "outputs": [],
   "source": [
    "# Compile model\n",
    "model_3.compile(loss='categorical_crossentropy', optimizer='adam', metrics=['accuracy'])"
   ]
  },
  {
   "cell_type": "code",
   "execution_count": 0,
   "metadata": {
    "colab": {},
    "colab_type": "code",
    "id": "WC-d19bMKamr"
   },
   "outputs": [],
   "source": [
    "# Define the checkpoint\n",
    "filepath='results/exp3/best_model.hdf5'\n",
    "checkpoint = ModelCheckpoint(filepath, monitor='loss', verbose=1, save_best_only=True, mode='min')\n",
    "es = EarlyStopping(monitor='loss', mode='min', verbose=1, patience=5)\n",
    "callbacks_list = [checkpoint, es]"
   ]
  },
  {
   "cell_type": "code",
   "execution_count": 82,
   "metadata": {
    "colab": {
     "base_uri": "https://localhost:8080/",
     "height": 1000
    },
    "colab_type": "code",
    "id": "_vuJyk8HKams",
    "outputId": "a5853f3b-247a-4c47-af68-ca96d71a4acf"
   },
   "outputs": [
    {
     "name": "stderr",
     "output_type": "stream",
     "text": [
      "/usr/local/lib/python3.6/dist-packages/tensorflow/python/framework/indexed_slices.py:434: UserWarning: Converting sparse IndexedSlices to a dense Tensor of unknown shape. This may consume a large amount of memory.\n",
      "  \"Converting sparse IndexedSlices to a dense Tensor of unknown shape. \"\n"
     ]
    },
    {
     "name": "stdout",
     "output_type": "stream",
     "text": [
      "Epoch 1/50\n",
      "26666/26666 [==============================] - 56s 2ms/step - loss: 6.3449 - accuracy: 0.0585\n",
      "\n",
      "Epoch 00001: loss improved from inf to 6.34490, saving model to results/exp3/best_model.hdf5\n",
      "Epoch 2/50\n",
      "26666/26666 [==============================] - 55s 2ms/step - loss: 5.9796 - accuracy: 0.0615\n",
      "\n",
      "Epoch 00002: loss improved from 6.34490 to 5.97957, saving model to results/exp3/best_model.hdf5\n",
      "Epoch 3/50\n",
      "26666/26666 [==============================] - 55s 2ms/step - loss: 5.8124 - accuracy: 0.0647\n",
      "\n",
      "Epoch 00003: loss improved from 5.97957 to 5.81244, saving model to results/exp3/best_model.hdf5\n",
      "Epoch 4/50\n",
      "26666/26666 [==============================] - 54s 2ms/step - loss: 5.6570 - accuracy: 0.0732\n",
      "\n",
      "Epoch 00004: loss improved from 5.81244 to 5.65704, saving model to results/exp3/best_model.hdf5\n",
      "Epoch 5/50\n",
      "26666/26666 [==============================] - 54s 2ms/step - loss: 5.5328 - accuracy: 0.0767\n",
      "\n",
      "Epoch 00005: loss improved from 5.65704 to 5.53276, saving model to results/exp3/best_model.hdf5\n",
      "Epoch 6/50\n",
      "26666/26666 [==============================] - 55s 2ms/step - loss: 5.4392 - accuracy: 0.0790\n",
      "\n",
      "Epoch 00006: loss improved from 5.53276 to 5.43924, saving model to results/exp3/best_model.hdf5\n",
      "Epoch 7/50\n",
      "26666/26666 [==============================] - 55s 2ms/step - loss: 5.3596 - accuracy: 0.0823\n",
      "\n",
      "Epoch 00007: loss improved from 5.43924 to 5.35965, saving model to results/exp3/best_model.hdf5\n",
      "Epoch 8/50\n",
      "26666/26666 [==============================] - 54s 2ms/step - loss: 5.2784 - accuracy: 0.0866\n",
      "\n",
      "Epoch 00008: loss improved from 5.35965 to 5.27838, saving model to results/exp3/best_model.hdf5\n",
      "Epoch 9/50\n",
      "26666/26666 [==============================] - 54s 2ms/step - loss: 5.1947 - accuracy: 0.0949\n",
      "\n",
      "Epoch 00009: loss improved from 5.27838 to 5.19466, saving model to results/exp3/best_model.hdf5\n",
      "Epoch 10/50\n",
      "26666/26666 [==============================] - 55s 2ms/step - loss: 5.1169 - accuracy: 0.1010\n",
      "\n",
      "Epoch 00010: loss improved from 5.19466 to 5.11691, saving model to results/exp3/best_model.hdf5\n",
      "Epoch 11/50\n",
      "26666/26666 [==============================] - 54s 2ms/step - loss: 5.0430 - accuracy: 0.1068\n",
      "\n",
      "Epoch 00011: loss improved from 5.11691 to 5.04304, saving model to results/exp3/best_model.hdf5\n",
      "Epoch 12/50\n",
      "26666/26666 [==============================] - 55s 2ms/step - loss: 4.9776 - accuracy: 0.1109\n",
      "\n",
      "Epoch 00012: loss improved from 5.04304 to 4.97756, saving model to results/exp3/best_model.hdf5\n",
      "Epoch 13/50\n",
      "26666/26666 [==============================] - 54s 2ms/step - loss: 4.9133 - accuracy: 0.1147\n",
      "\n",
      "Epoch 00013: loss improved from 4.97756 to 4.91332, saving model to results/exp3/best_model.hdf5\n",
      "Epoch 14/50\n",
      "26666/26666 [==============================] - 57s 2ms/step - loss: 4.8492 - accuracy: 0.1188\n",
      "\n",
      "Epoch 00014: loss improved from 4.91332 to 4.84916, saving model to results/exp3/best_model.hdf5\n",
      "Epoch 15/50\n",
      "26666/26666 [==============================] - 54s 2ms/step - loss: 4.8203 - accuracy: 0.1215\n",
      "\n",
      "Epoch 00015: loss improved from 4.84916 to 4.82032, saving model to results/exp3/best_model.hdf5\n",
      "Epoch 16/50\n",
      "26666/26666 [==============================] - 55s 2ms/step - loss: 4.8835 - accuracy: 0.1202\n",
      "\n",
      "Epoch 00016: loss did not improve from 4.82032\n",
      "Epoch 17/50\n",
      "26666/26666 [==============================] - 55s 2ms/step - loss: 4.7536 - accuracy: 0.1249\n",
      "\n",
      "Epoch 00017: loss improved from 4.82032 to 4.75364, saving model to results/exp3/best_model.hdf5\n",
      "Epoch 18/50\n",
      "26666/26666 [==============================] - 54s 2ms/step - loss: 4.6763 - accuracy: 0.1313\n",
      "\n",
      "Epoch 00018: loss improved from 4.75364 to 4.67625, saving model to results/exp3/best_model.hdf5\n",
      "Epoch 19/50\n",
      "26666/26666 [==============================] - 54s 2ms/step - loss: 4.6238 - accuracy: 0.1341\n",
      "\n",
      "Epoch 00019: loss improved from 4.67625 to 4.62376, saving model to results/exp3/best_model.hdf5\n",
      "Epoch 20/50\n",
      "26666/26666 [==============================] - 53s 2ms/step - loss: 4.5708 - accuracy: 0.1377\n",
      "\n",
      "Epoch 00020: loss improved from 4.62376 to 4.57077, saving model to results/exp3/best_model.hdf5\n",
      "Epoch 21/50\n",
      "26666/26666 [==============================] - 54s 2ms/step - loss: 4.5232 - accuracy: 0.1404\n",
      "\n",
      "Epoch 00021: loss improved from 4.57077 to 4.52320, saving model to results/exp3/best_model.hdf5\n",
      "Epoch 22/50\n",
      "26666/26666 [==============================] - 54s 2ms/step - loss: 4.4828 - accuracy: 0.1427\n",
      "\n",
      "Epoch 00022: loss improved from 4.52320 to 4.48280, saving model to results/exp3/best_model.hdf5\n",
      "Epoch 23/50\n",
      "26666/26666 [==============================] - 54s 2ms/step - loss: 4.4385 - accuracy: 0.1463\n",
      "\n",
      "Epoch 00023: loss improved from 4.48280 to 4.43848, saving model to results/exp3/best_model.hdf5\n",
      "Epoch 24/50\n",
      "26666/26666 [==============================] - 55s 2ms/step - loss: 4.3942 - accuracy: 0.1496\n",
      "\n",
      "Epoch 00024: loss improved from 4.43848 to 4.39420, saving model to results/exp3/best_model.hdf5\n",
      "Epoch 25/50\n",
      "26666/26666 [==============================] - 55s 2ms/step - loss: 4.3499 - accuracy: 0.1516\n",
      "\n",
      "Epoch 00025: loss improved from 4.39420 to 4.34995, saving model to results/exp3/best_model.hdf5\n",
      "Epoch 26/50\n",
      "26666/26666 [==============================] - 54s 2ms/step - loss: 4.3083 - accuracy: 0.1531\n",
      "\n",
      "Epoch 00026: loss improved from 4.34995 to 4.30825, saving model to results/exp3/best_model.hdf5\n",
      "Epoch 27/50\n",
      "26666/26666 [==============================] - 54s 2ms/step - loss: 4.2652 - accuracy: 0.1578\n",
      "\n",
      "Epoch 00027: loss improved from 4.30825 to 4.26522, saving model to results/exp3/best_model.hdf5\n",
      "Epoch 28/50\n",
      "26666/26666 [==============================] - 56s 2ms/step - loss: 4.2269 - accuracy: 0.1599\n",
      "\n",
      "Epoch 00028: loss improved from 4.26522 to 4.22691, saving model to results/exp3/best_model.hdf5\n",
      "Epoch 29/50\n",
      "26666/26666 [==============================] - 55s 2ms/step - loss: 4.1825 - accuracy: 0.1617\n",
      "\n",
      "Epoch 00029: loss improved from 4.22691 to 4.18251, saving model to results/exp3/best_model.hdf5\n",
      "Epoch 30/50\n",
      "26666/26666 [==============================] - 53s 2ms/step - loss: 4.1415 - accuracy: 0.1629\n",
      "\n",
      "Epoch 00030: loss improved from 4.18251 to 4.14154, saving model to results/exp3/best_model.hdf5\n",
      "Epoch 31/50\n",
      "26666/26666 [==============================] - 54s 2ms/step - loss: 4.0999 - accuracy: 0.1671\n",
      "\n",
      "Epoch 00031: loss improved from 4.14154 to 4.09989, saving model to results/exp3/best_model.hdf5\n",
      "Epoch 32/50\n",
      "26666/26666 [==============================] - 56s 2ms/step - loss: 4.0596 - accuracy: 0.1717\n",
      "\n",
      "Epoch 00032: loss improved from 4.09989 to 4.05956, saving model to results/exp3/best_model.hdf5\n",
      "Epoch 33/50\n",
      "26666/26666 [==============================] - 56s 2ms/step - loss: 4.0273 - accuracy: 0.1720\n",
      "\n",
      "Epoch 00033: loss improved from 4.05956 to 4.02727, saving model to results/exp3/best_model.hdf5\n",
      "Epoch 34/50\n",
      "26666/26666 [==============================] - 55s 2ms/step - loss: 4.0090 - accuracy: 0.1732\n",
      "\n",
      "Epoch 00034: loss improved from 4.02727 to 4.00903, saving model to results/exp3/best_model.hdf5\n",
      "Epoch 35/50\n",
      "26666/26666 [==============================] - 54s 2ms/step - loss: 3.9481 - accuracy: 0.1781\n",
      "\n",
      "Epoch 00035: loss improved from 4.00903 to 3.94808, saving model to results/exp3/best_model.hdf5\n",
      "Epoch 36/50\n",
      "26666/26666 [==============================] - 55s 2ms/step - loss: 3.9580 - accuracy: 0.1764\n",
      "\n",
      "Epoch 00036: loss did not improve from 3.94808\n",
      "Epoch 37/50\n",
      "26666/26666 [==============================] - 55s 2ms/step - loss: 3.9248 - accuracy: 0.1797\n",
      "\n",
      "Epoch 00037: loss improved from 3.94808 to 3.92476, saving model to results/exp3/best_model.hdf5\n",
      "Epoch 38/50\n",
      "26666/26666 [==============================] - 55s 2ms/step - loss: 3.8695 - accuracy: 0.1822\n",
      "\n",
      "Epoch 00038: loss improved from 3.92476 to 3.86948, saving model to results/exp3/best_model.hdf5\n",
      "Epoch 39/50\n",
      "26666/26666 [==============================] - 55s 2ms/step - loss: 3.8180 - accuracy: 0.1871\n",
      "\n",
      "Epoch 00039: loss improved from 3.86948 to 3.81795, saving model to results/exp3/best_model.hdf5\n",
      "Epoch 40/50\n",
      "26666/26666 [==============================] - 54s 2ms/step - loss: 3.7671 - accuracy: 0.1920\n",
      "\n",
      "Epoch 00040: loss improved from 3.81795 to 3.76707, saving model to results/exp3/best_model.hdf5\n",
      "Epoch 41/50\n",
      "26666/26666 [==============================] - 53s 2ms/step - loss: 3.7225 - accuracy: 0.1970\n",
      "\n",
      "Epoch 00041: loss improved from 3.76707 to 3.72254, saving model to results/exp3/best_model.hdf5\n",
      "Epoch 42/50\n",
      "26666/26666 [==============================] - 53s 2ms/step - loss: 3.6911 - accuracy: 0.2017\n",
      "\n",
      "Epoch 00042: loss improved from 3.72254 to 3.69110, saving model to results/exp3/best_model.hdf5\n",
      "Epoch 43/50\n",
      "26666/26666 [==============================] - 54s 2ms/step - loss: 3.6691 - accuracy: 0.2016\n",
      "\n",
      "Epoch 00043: loss improved from 3.69110 to 3.66908, saving model to results/exp3/best_model.hdf5\n",
      "Epoch 44/50\n",
      "26666/26666 [==============================] - 56s 2ms/step - loss: 3.6195 - accuracy: 0.2064\n",
      "\n",
      "Epoch 00044: loss improved from 3.66908 to 3.61952, saving model to results/exp3/best_model.hdf5\n",
      "Epoch 45/50\n",
      "26666/26666 [==============================] - 55s 2ms/step - loss: 3.5715 - accuracy: 0.2137\n",
      "\n",
      "Epoch 00045: loss improved from 3.61952 to 3.57155, saving model to results/exp3/best_model.hdf5\n",
      "Epoch 46/50\n",
      "26666/26666 [==============================] - 54s 2ms/step - loss: 3.5344 - accuracy: 0.2171\n",
      "\n",
      "Epoch 00046: loss improved from 3.57155 to 3.53439, saving model to results/exp3/best_model.hdf5\n",
      "Epoch 47/50\n",
      "26666/26666 [==============================] - 54s 2ms/step - loss: 3.4930 - accuracy: 0.2221\n",
      "\n",
      "Epoch 00047: loss improved from 3.53439 to 3.49304, saving model to results/exp3/best_model.hdf5\n",
      "Epoch 48/50\n",
      "26666/26666 [==============================] - 53s 2ms/step - loss: 3.4713 - accuracy: 0.2270\n",
      "\n",
      "Epoch 00048: loss improved from 3.49304 to 3.47131, saving model to results/exp3/best_model.hdf5\n",
      "Epoch 49/50\n",
      "26666/26666 [==============================] - 55s 2ms/step - loss: 3.4267 - accuracy: 0.2336\n",
      "\n",
      "Epoch 00049: loss improved from 3.47131 to 3.42674, saving model to results/exp3/best_model.hdf5\n",
      "Epoch 50/50\n",
      "26666/26666 [==============================] - 55s 2ms/step - loss: 3.3879 - accuracy: 0.2392\n",
      "\n",
      "Epoch 00050: loss improved from 3.42674 to 3.38787, saving model to results/exp3/best_model.hdf5\n",
      "--------------------------\n",
      "Training time in seconds:  2758.05\n",
      "--------------------------\n"
     ]
    }
   ],
   "source": [
    "# Fit the model\n",
    "start_time = time.time()\n",
    "history = model_3.fit(X, \n",
    "                      y, \n",
    "                      batch_size=128, \n",
    "                      epochs=50,\n",
    "                      callbacks=callbacks_list)\n",
    "\n",
    "elapsed_time = time.time() - start_time\n",
    "print('--------------------------')\n",
    "print('Training time in seconds: ', round(elapsed_time,2))\n",
    "print('--------------------------')"
   ]
  },
  {
   "cell_type": "code",
   "execution_count": 0,
   "metadata": {
    "colab": {},
    "colab_type": "code",
    "id": "tdM792KTKamu"
   },
   "outputs": [],
   "source": [
    " # Plot model performance"
   ]
  },
  {
   "cell_type": "code",
   "execution_count": 0,
   "metadata": {
    "colab": {},
    "colab_type": "code",
    "id": "MKr84s_VKamw"
   },
   "outputs": [],
   "source": [
    "# history_dict = history.history\n",
    "# history_dict.keys()"
   ]
  },
  {
   "cell_type": "markdown",
   "metadata": {},
   "source": [
    "**Figure 6: Learning curves for Model 3**"
   ]
  },
  {
   "cell_type": "code",
   "execution_count": 85,
   "metadata": {
    "colab": {
     "base_uri": "https://localhost:8080/",
     "height": 324
    },
    "colab_type": "code",
    "id": "jMV8zbGdKamy",
    "outputId": "841c0284-a487-40bd-927e-522b55e6c4cb"
   },
   "outputs": [
    {
     "data": {
      "image/png": "[encoded data removed]",
      "text/plain": [
       "<Figure size 576x360 with 1 Axes>"
      ]
     },
     "metadata": {
      "needs_background": "light",
      "tags": []
     },
     "output_type": "display_data"
    }
   ],
   "source": [
    "# Plot learning curves for model\n",
    "pd.DataFrame(history.history).plot(figsize=(8, 5))\n",
    "plt.grid(True)\n",
    "plt.gca().set_ylim(0, 8) # set the vertical range to [0-1]\n",
    "plt.savefig(\"figures/learning_curves_model_3\", tight_layout=False)\n",
    "plt.show()"
   ]
  },
  {
   "cell_type": "code",
   "execution_count": 0,
   "metadata": {
    "colab": {},
    "colab_type": "code",
    "id": "XJRDJo1DKam0"
   },
   "outputs": [],
   "source": [
    "# Save the model to file\n",
    "model_3.save('results/exp3/model_3.h5')\n",
    "# save the tokenizer\n",
    "# dump(tokenizer, open('alice_tokenizer.pkl', 'wb'))"
   ]
  },
  {
   "cell_type": "code",
   "execution_count": 0,
   "metadata": {
    "colab": {},
    "colab_type": "code",
    "id": "4fef-XevKam3"
   },
   "outputs": [],
   "source": [
    "# Prepare the language model"
   ]
  },
  {
   "cell_type": "code",
   "execution_count": 0,
   "metadata": {
    "colab": {},
    "colab_type": "code",
    "id": "qJQX-Q8sKam4"
   },
   "outputs": [],
   "source": [
    "# Load cleaned text sequences\n",
    "in_filename = 'alice_sequences.txt'\n",
    "doc = load_doc(in_filename)\n",
    "lines = doc.split('\\n')\n",
    "\n",
    "# Define sequence length\n",
    "seq_length = len(lines[0].split()) - 1"
   ]
  },
  {
   "cell_type": "code",
   "execution_count": 88,
   "metadata": {
    "colab": {
     "base_uri": "https://localhost:8080/",
     "height": 72
    },
    "colab_type": "code",
    "id": "Uy5kIdP8Kam6",
    "outputId": "7a9e267d-52da-45a2-f0ee-64987cdc83db"
   },
   "outputs": [
    {
     "name": "stderr",
     "output_type": "stream",
     "text": [
      "/usr/local/lib/python3.6/dist-packages/tensorflow/python/framework/indexed_slices.py:434: UserWarning: Converting sparse IndexedSlices to a dense Tensor of unknown shape. This may consume a large amount of memory.\n",
      "  \"Converting sparse IndexedSlices to a dense Tensor of unknown shape. \"\n"
     ]
    }
   ],
   "source": [
    "# Load the model - use name from best model\n",
    "model = load_model('results/exp3/model_3.h5')"
   ]
  },
  {
   "cell_type": "code",
   "execution_count": 0,
   "metadata": {
    "colab": {},
    "colab_type": "code",
    "id": "kkgxkTLNKam8"
   },
   "outputs": [],
   "source": [
    "# Load the tokenizer\n",
    "tokenizer = load(open('alice_tokenizer.pkl', 'rb'))"
   ]
  },
  {
   "cell_type": "code",
   "execution_count": 0,
   "metadata": {
    "colab": {},
    "colab_type": "code",
    "id": "j9jdBiScKam9"
   },
   "outputs": [],
   "source": [
    "# Generate text and evaluate"
   ]
  },
  {
   "cell_type": "code",
   "execution_count": 0,
   "metadata": {
    "colab": {},
    "colab_type": "code",
    "id": "2yhFhpHI-wbo"
   },
   "outputs": [],
   "source": [
    "# Select a seed text\n",
    "seed_text = lines[randint(0,len(lines))]"
   ]
  },
  {
   "cell_type": "code",
   "execution_count": 93,
   "metadata": {
    "colab": {
     "base_uri": "https://localhost:8080/",
     "height": 108
    },
    "colab_type": "code",
    "id": "Wz5LMNouKanH",
    "outputId": "30482bd6-510f-46eb-82fd-b6ef414dc699"
   },
   "outputs": [
    {
     "name": "stdout",
     "output_type": "stream",
     "text": [
      "Seed text 1: used to say when i was a child said the gryphon well i never heard it before said the mock turtle but it sounds uncommon nonsense alice said nothing she had sat down with her face in her hands wondering if anything would ever happen in a natural way again i\n",
      "\n",
      "----------------------------------\n",
      "Generated text 1: should think it was a little startled she carried it a little startled she carried it a little startled she carried it to itself it as she had been to be out of sight and the flame of the pool and the march hare interrupted in a minute tone two\n"
     ]
    }
   ],
   "source": [
    "# Generate new text\n",
    "print('Seed text 1:', seed_text + '\\n')\n",
    "print('----------------------------------')\n",
    "generated = generate_seq(model, tokenizer, seq_length, seed_text, 50)\n",
    "print('Generated text 1:', generated)"
   ]
  },
  {
   "cell_type": "code",
   "execution_count": 0,
   "metadata": {
    "colab": {},
    "colab_type": "code",
    "id": "tUoA1RW_KanK"
   },
   "outputs": [],
   "source": [
    "# Select a new seed text\n",
    "seed_text = lines[randint(0,len(lines))]"
   ]
  },
  {
   "cell_type": "code",
   "execution_count": 95,
   "metadata": {
    "colab": {
     "base_uri": "https://localhost:8080/",
     "height": 108
    },
    "colab_type": "code",
    "id": "qiADUNDsKanL",
    "outputId": "60a5cf22-9fd4-4aa8-9b55-055be917382d"
   },
   "outputs": [
    {
     "name": "stdout",
     "output_type": "stream",
     "text": [
      "Seed text 2: say anything about it even if i fell off the top of the house which was very likely true down down down would the fall never come to an end i wonder how many miles ive fallen by this time she said aloud i must be getting somewhere near the centre\n",
      "\n",
      "----------------------------------\n",
      "Generated text 2: of the door and the march hare she was form and then she had been to be out to the window and the march hare interrupted yawning and the gryphon was the queen was in the middle of the distance and the march hare interrupted yawning and looked down and\n"
     ]
    }
   ],
   "source": [
    "# Generate new text\n",
    "print('Seed text 2:', seed_text + '\\n')\n",
    "print('----------------------------------')\n",
    "generated = generate_seq(model, tokenizer, seq_length, seed_text, 50)\n",
    "print('Generated text 2:', generated)"
   ]
  },
  {
   "cell_type": "code",
   "execution_count": 0,
   "metadata": {
    "colab": {},
    "colab_type": "code",
    "id": "_SR62cE_P1o_"
   },
   "outputs": [],
   "source": [
    "# Select a new seed text\n",
    "seed_text = lines[randint(0,len(lines))]"
   ]
  },
  {
   "cell_type": "code",
   "execution_count": 97,
   "metadata": {
    "colab": {
     "base_uri": "https://localhost:8080/",
     "height": 108
    },
    "colab_type": "code",
    "id": "NTvVivtkP1pB",
    "outputId": "186362c1-e62f-4e57-a6e0-8d82e769a66f"
   },
   "outputs": [
    {
     "name": "stdout",
     "output_type": "stream",
     "text": [
      "Seed text 3: voice thats bill thought alice well i hardly know no more thank ye im better now but im a deal too flustered to tell you all i know is something comes at me like a jackinthebox and up i goes like a skyrocket so you did old fellow said the others\n",
      "\n",
      "----------------------------------\n",
      "Generated text 3: and the hatter was the queen was in a smile she was a little startled she carried it a little turnup were howling than it was the same shedding gallons of tears and then she had been to be otherwise than that she was a little turnup were of the\n"
     ]
    }
   ],
   "source": [
    "# Generate new text\n",
    "print('Seed text 3:', seed_text + '\\n')\n",
    "print('----------------------------------')\n",
    "generated = generate_seq(model, tokenizer, seq_length, seed_text, 50)\n",
    "print('Generated text 3:', generated)"
   ]
  },
  {
   "cell_type": "code",
   "execution_count": 0,
   "metadata": {
    "colab": {},
    "colab_type": "code",
    "id": "Rm_H_-86S5Pn"
   },
   "outputs": [],
   "source": [
    "tf.keras.backend.clear_session()"
   ]
  },
  {
   "cell_type": "markdown",
   "metadata": {
    "colab_type": "text",
    "id": "qa-1Y_cKKanM"
   },
   "source": [
    "### <i>Experiment 4: LSTM RNN with 2 hidden layers and additional memory cell units</i>\n",
    "This deeper neural network adds memory cell units to the architecture of the model from Experiment 3 to determine impact on performance, training time, and ability to capture context of the document and generate meaningful text from seed text.\n",
    "* 2 hidden layers\n",
    "* 256 memory cell units\n",
    "* Embedding vector space size 50"
   ]
  },
  {
   "cell_type": "code",
   "execution_count": 0,
   "metadata": {
    "colab": {},
    "colab_type": "code",
    "id": "sbv-tN-3KanN"
   },
   "outputs": [],
   "source": [
    "# Define model\n",
    "model_4 = Sequential()\n",
    "model_4.add(Embedding(vocab_size, 50, input_length=seq_length))\n",
    "model_4.add(LSTM(256, return_sequences=True))\n",
    "model_4.add(LSTM(256))\n",
    "model_4.add(Dense(256, activation='relu'))\n",
    "model_4.add(Dense(vocab_size, activation='softmax'))"
   ]
  },
  {
   "cell_type": "code",
   "execution_count": 100,
   "metadata": {
    "colab": {
     "base_uri": "https://localhost:8080/",
     "height": 962
    },
    "colab_type": "code",
    "id": "WuYAHbc7KanP",
    "outputId": "6559a1c5-2e65-46e6-e39a-9a4ed088d687"
   },
   "outputs": [
    {
     "name": "stdout",
     "output_type": "stream",
     "text": [
      "Model: \"sequential_1\"\n",
      "_________________________________________________________________\n",
      "Layer (type)                 Output Shape              Param #   \n",
      "=================================================================\n",
      "embedding_1 (Embedding)      (None, 50, 50)            132300    \n",
      "_________________________________________________________________\n",
      "lstm_1 (LSTM)                (None, 50, 256)           314368    \n",
      "_________________________________________________________________\n",
      "lstm_2 (LSTM)                (None, 256)               525312    \n",
      "_________________________________________________________________\n",
      "dense_1 (Dense)              (None, 256)               65792     \n",
      "_________________________________________________________________\n",
      "dense_2 (Dense)              (None, 2646)              680022    \n",
      "=================================================================\n",
      "Total params: 1,717,794\n",
      "Trainable params: 1,717,794\n",
      "Non-trainable params: 0\n",
      "_________________________________________________________________\n"
     ]
    },
    {
     "data": {
      "image/png": "[encoded data removed]",
      "text/plain": [
       "<IPython.core.display.Image object>"
      ]
     },
     "execution_count": 100,
     "metadata": {
      "tags": []
     },
     "output_type": "execute_result"
    }
   ],
   "source": [
    "# Model summary\n",
    "model_4.summary()\n",
    "plot_model(model_4, to_file='figures/model_4.png', show_shapes=True)"
   ]
  },
  {
   "cell_type": "code",
   "execution_count": 0,
   "metadata": {
    "colab": {},
    "colab_type": "code",
    "id": "d3ajIv7KKanQ"
   },
   "outputs": [],
   "source": [
    "# Compile model\n",
    "model_4.compile(loss='categorical_crossentropy', optimizer='adam', metrics=['accuracy'])"
   ]
  },
  {
   "cell_type": "code",
   "execution_count": 0,
   "metadata": {
    "colab": {},
    "colab_type": "code",
    "id": "frnlkjkRKanS"
   },
   "outputs": [],
   "source": [
    "# Define the checkpoint\n",
    "filepath='results/exp4/est_model.hdf5'\n",
    "checkpoint = ModelCheckpoint(filepath, monitor='loss', verbose=1, save_best_only=True, mode='min')\n",
    "es = EarlyStopping(monitor='loss', mode='min', verbose=1, patience=5)\n",
    "callbacks_list = [checkpoint, es]"
   ]
  },
  {
   "cell_type": "code",
   "execution_count": 103,
   "metadata": {
    "colab": {
     "base_uri": "https://localhost:8080/",
     "height": 1000
    },
    "colab_type": "code",
    "id": "GCMqn5hwKanU",
    "outputId": "c032a3a0-87d5-4e64-bb07-c50c8df3c8a0"
   },
   "outputs": [
    {
     "name": "stderr",
     "output_type": "stream",
     "text": [
      "/usr/local/lib/python3.6/dist-packages/tensorflow/python/framework/indexed_slices.py:434: UserWarning: Converting sparse IndexedSlices to a dense Tensor of unknown shape. This may consume a large amount of memory.\n",
      "  \"Converting sparse IndexedSlices to a dense Tensor of unknown shape. \"\n"
     ]
    },
    {
     "name": "stdout",
     "output_type": "stream",
     "text": [
      "Epoch 1/50\n",
      "26666/26666 [==============================] - 61s 2ms/step - loss: 6.2938 - accuracy: 0.0591\n",
      "\n",
      "Epoch 00001: loss improved from inf to 6.29379, saving model to results/exp4/est_model.hdf5\n",
      "Epoch 2/50\n",
      "26666/26666 [==============================] - 60s 2ms/step - loss: 5.9340 - accuracy: 0.0625\n",
      "\n",
      "Epoch 00002: loss improved from 6.29379 to 5.93400, saving model to results/exp4/est_model.hdf5\n",
      "Epoch 3/50\n",
      "26666/26666 [==============================] - 60s 2ms/step - loss: 5.7089 - accuracy: 0.0714\n",
      "\n",
      "Epoch 00003: loss improved from 5.93400 to 5.70886, saving model to results/exp4/est_model.hdf5\n",
      "Epoch 4/50\n",
      "26666/26666 [==============================] - 60s 2ms/step - loss: 5.5231 - accuracy: 0.0771\n",
      "\n",
      "Epoch 00004: loss improved from 5.70886 to 5.52310, saving model to results/exp4/est_model.hdf5\n",
      "Epoch 5/50\n",
      "26666/26666 [==============================] - 60s 2ms/step - loss: 5.4023 - accuracy: 0.0807\n",
      "\n",
      "Epoch 00005: loss improved from 5.52310 to 5.40227, saving model to results/exp4/est_model.hdf5\n",
      "Epoch 6/50\n",
      "26666/26666 [==============================] - 60s 2ms/step - loss: 5.3066 - accuracy: 0.0836\n",
      "\n",
      "Epoch 00006: loss improved from 5.40227 to 5.30664, saving model to results/exp4/est_model.hdf5\n",
      "Epoch 7/50\n",
      "26666/26666 [==============================] - 59s 2ms/step - loss: 5.2252 - accuracy: 0.0866\n",
      "\n",
      "Epoch 00007: loss improved from 5.30664 to 5.22521, saving model to results/exp4/est_model.hdf5\n",
      "Epoch 8/50\n",
      "26666/26666 [==============================] - 59s 2ms/step - loss: 5.1375 - accuracy: 0.0901\n",
      "\n",
      "Epoch 00008: loss improved from 5.22521 to 5.13748, saving model to results/exp4/est_model.hdf5\n",
      "Epoch 9/50\n",
      "26666/26666 [==============================] - 60s 2ms/step - loss: 5.0432 - accuracy: 0.0954\n",
      "\n",
      "Epoch 00009: loss improved from 5.13748 to 5.04315, saving model to results/exp4/est_model.hdf5\n",
      "Epoch 10/50\n",
      "26666/26666 [==============================] - 59s 2ms/step - loss: 4.9238 - accuracy: 0.1091\n",
      "\n",
      "Epoch 00010: loss improved from 5.04315 to 4.92377, saving model to results/exp4/est_model.hdf5\n",
      "Epoch 11/50\n",
      "26666/26666 [==============================] - 61s 2ms/step - loss: 4.8008 - accuracy: 0.1206\n",
      "\n",
      "Epoch 00011: loss improved from 4.92377 to 4.80082, saving model to results/exp4/est_model.hdf5\n",
      "Epoch 12/50\n",
      "26666/26666 [==============================] - 59s 2ms/step - loss: 4.6901 - accuracy: 0.1276\n",
      "\n",
      "Epoch 00012: loss improved from 4.80082 to 4.69011, saving model to results/exp4/est_model.hdf5\n",
      "Epoch 13/50\n",
      "26666/26666 [==============================] - 60s 2ms/step - loss: 4.5842 - accuracy: 0.1344\n",
      "\n",
      "Epoch 00013: loss improved from 4.69011 to 4.58416, saving model to results/exp4/est_model.hdf5\n",
      "Epoch 14/50\n",
      "26666/26666 [==============================] - 60s 2ms/step - loss: 4.4848 - accuracy: 0.1408\n",
      "\n",
      "Epoch 00014: loss improved from 4.58416 to 4.48477, saving model to results/exp4/est_model.hdf5\n",
      "Epoch 15/50\n",
      "26666/26666 [==============================] - 60s 2ms/step - loss: 4.3897 - accuracy: 0.1463\n",
      "\n",
      "Epoch 00015: loss improved from 4.48477 to 4.38975, saving model to results/exp4/est_model.hdf5\n",
      "Epoch 16/50\n",
      "26666/26666 [==============================] - 60s 2ms/step - loss: 4.2971 - accuracy: 0.1520\n",
      "\n",
      "Epoch 00016: loss improved from 4.38975 to 4.29706, saving model to results/exp4/est_model.hdf5\n",
      "Epoch 17/50\n",
      "26666/26666 [==============================] - 60s 2ms/step - loss: 4.2097 - accuracy: 0.1544\n",
      "\n",
      "Epoch 00017: loss improved from 4.29706 to 4.20969, saving model to results/exp4/est_model.hdf5\n",
      "Epoch 18/50\n",
      "26666/26666 [==============================] - 60s 2ms/step - loss: 4.1188 - accuracy: 0.1607\n",
      "\n",
      "Epoch 00018: loss improved from 4.20969 to 4.11877, saving model to results/exp4/est_model.hdf5\n",
      "Epoch 19/50\n",
      "26666/26666 [==============================] - 59s 2ms/step - loss: 4.0348 - accuracy: 0.1660\n",
      "\n",
      "Epoch 00019: loss improved from 4.11877 to 4.03480, saving model to results/exp4/est_model.hdf5\n",
      "Epoch 20/50\n",
      "26666/26666 [==============================] - 60s 2ms/step - loss: 3.9541 - accuracy: 0.1712\n",
      "\n",
      "Epoch 00020: loss improved from 4.03480 to 3.95407, saving model to results/exp4/est_model.hdf5\n",
      "Epoch 21/50\n",
      "26666/26666 [==============================] - 59s 2ms/step - loss: 3.8828 - accuracy: 0.1783\n",
      "\n",
      "Epoch 00021: loss improved from 3.95407 to 3.88276, saving model to results/exp4/est_model.hdf5\n",
      "Epoch 22/50\n",
      "26666/26666 [==============================] - 59s 2ms/step - loss: 3.7992 - accuracy: 0.1827\n",
      "\n",
      "Epoch 00022: loss improved from 3.88276 to 3.79924, saving model to results/exp4/est_model.hdf5\n",
      "Epoch 23/50\n",
      "26666/26666 [==============================] - 58s 2ms/step - loss: 4.0714 - accuracy: 0.1682\n",
      "\n",
      "Epoch 00023: loss did not improve from 3.79924\n",
      "Epoch 24/50\n",
      "26666/26666 [==============================] - 59s 2ms/step - loss: 4.0550 - accuracy: 0.1625\n",
      "\n",
      "Epoch 00024: loss did not improve from 3.79924\n",
      "Epoch 25/50\n",
      "26666/26666 [==============================] - 59s 2ms/step - loss: 3.8227 - accuracy: 0.1801\n",
      "\n",
      "Epoch 00025: loss did not improve from 3.79924\n",
      "Epoch 26/50\n",
      "26666/26666 [==============================] - 59s 2ms/step - loss: 3.6716 - accuracy: 0.1952\n",
      "\n",
      "Epoch 00026: loss improved from 3.79924 to 3.67162, saving model to results/exp4/est_model.hdf5\n",
      "Epoch 27/50\n",
      "26666/26666 [==============================] - 60s 2ms/step - loss: 3.5658 - accuracy: 0.2065\n",
      "\n",
      "Epoch 00027: loss improved from 3.67162 to 3.56583, saving model to results/exp4/est_model.hdf5\n",
      "Epoch 28/50\n",
      "26666/26666 [==============================] - 59s 2ms/step - loss: 3.4783 - accuracy: 0.2175\n",
      "\n",
      "Epoch 00028: loss improved from 3.56583 to 3.47833, saving model to results/exp4/est_model.hdf5\n",
      "Epoch 29/50\n",
      "26666/26666 [==============================] - 58s 2ms/step - loss: 3.3905 - accuracy: 0.2286\n",
      "\n",
      "Epoch 00029: loss improved from 3.47833 to 3.39053, saving model to results/exp4/est_model.hdf5\n",
      "Epoch 30/50\n",
      "26666/26666 [==============================] - 59s 2ms/step - loss: 3.3040 - accuracy: 0.2409\n",
      "\n",
      "Epoch 00030: loss improved from 3.39053 to 3.30404, saving model to results/exp4/est_model.hdf5\n",
      "Epoch 31/50\n",
      "26666/26666 [==============================] - 59s 2ms/step - loss: 3.2315 - accuracy: 0.2499\n",
      "\n",
      "Epoch 00031: loss improved from 3.30404 to 3.23155, saving model to results/exp4/est_model.hdf5\n",
      "Epoch 32/50\n",
      "26666/26666 [==============================] - 60s 2ms/step - loss: 3.1389 - accuracy: 0.2633\n",
      "\n",
      "Epoch 00032: loss improved from 3.23155 to 3.13891, saving model to results/exp4/est_model.hdf5\n",
      "Epoch 33/50\n",
      "26666/26666 [==============================] - 60s 2ms/step - loss: 3.0652 - accuracy: 0.2759\n",
      "\n",
      "Epoch 00033: loss improved from 3.13891 to 3.06524, saving model to results/exp4/est_model.hdf5\n",
      "Epoch 34/50\n",
      "26666/26666 [==============================] - 59s 2ms/step - loss: 3.0012 - accuracy: 0.2881\n",
      "\n",
      "Epoch 00034: loss improved from 3.06524 to 3.00117, saving model to results/exp4/est_model.hdf5\n",
      "Epoch 35/50\n",
      "26666/26666 [==============================] - 59s 2ms/step - loss: 2.9671 - accuracy: 0.2919\n",
      "\n",
      "Epoch 00035: loss improved from 3.00117 to 2.96712, saving model to results/exp4/est_model.hdf5\n",
      "Epoch 36/50\n",
      "26666/26666 [==============================] - 59s 2ms/step - loss: 2.8924 - accuracy: 0.3072\n",
      "\n",
      "Epoch 00036: loss improved from 2.96712 to 2.89243, saving model to results/exp4/est_model.hdf5\n",
      "Epoch 37/50\n",
      "26666/26666 [==============================] - 61s 2ms/step - loss: 2.8166 - accuracy: 0.3216\n",
      "\n",
      "Epoch 00037: loss improved from 2.89243 to 2.81660, saving model to results/exp4/est_model.hdf5\n",
      "Epoch 38/50\n",
      "26666/26666 [==============================] - 59s 2ms/step - loss: 2.8729 - accuracy: 0.3149\n",
      "\n",
      "Epoch 00038: loss did not improve from 2.81660\n",
      "Epoch 39/50\n",
      "26666/26666 [==============================] - 59s 2ms/step - loss: 2.7966 - accuracy: 0.3278\n",
      "\n",
      "Epoch 00039: loss improved from 2.81660 to 2.79656, saving model to results/exp4/est_model.hdf5\n",
      "Epoch 40/50\n",
      "26666/26666 [==============================] - 60s 2ms/step - loss: 2.6977 - accuracy: 0.3392\n",
      "\n",
      "Epoch 00040: loss improved from 2.79656 to 2.69767, saving model to results/exp4/est_model.hdf5\n",
      "Epoch 41/50\n",
      "26666/26666 [==============================] - 59s 2ms/step - loss: 2.5983 - accuracy: 0.3585\n",
      "\n",
      "Epoch 00041: loss improved from 2.69767 to 2.59831, saving model to results/exp4/est_model.hdf5\n",
      "Epoch 42/50\n",
      "26666/26666 [==============================] - 60s 2ms/step - loss: 2.5146 - accuracy: 0.3761\n",
      "\n",
      "Epoch 00042: loss improved from 2.59831 to 2.51459, saving model to results/exp4/est_model.hdf5\n",
      "Epoch 43/50\n",
      "26666/26666 [==============================] - 60s 2ms/step - loss: 2.4286 - accuracy: 0.3933\n",
      "\n",
      "Epoch 00043: loss improved from 2.51459 to 2.42861, saving model to results/exp4/est_model.hdf5\n",
      "Epoch 44/50\n",
      "26666/26666 [==============================] - 60s 2ms/step - loss: 2.3713 - accuracy: 0.4087\n",
      "\n",
      "Epoch 00044: loss improved from 2.42861 to 2.37133, saving model to results/exp4/est_model.hdf5\n",
      "Epoch 45/50\n",
      "26666/26666 [==============================] - 59s 2ms/step - loss: 2.2939 - accuracy: 0.4223\n",
      "\n",
      "Epoch 00045: loss improved from 2.37133 to 2.29389, saving model to results/exp4/est_model.hdf5\n",
      "Epoch 46/50\n",
      "26666/26666 [==============================] - 60s 2ms/step - loss: 2.2200 - accuracy: 0.4378\n",
      "\n",
      "Epoch 00046: loss improved from 2.29389 to 2.22002, saving model to results/exp4/est_model.hdf5\n",
      "Epoch 47/50\n",
      "26666/26666 [==============================] - 59s 2ms/step - loss: 2.1861 - accuracy: 0.4493\n",
      "\n",
      "Epoch 00047: loss improved from 2.22002 to 2.18608, saving model to results/exp4/est_model.hdf5\n",
      "Epoch 48/50\n",
      "26666/26666 [==============================] - 60s 2ms/step - loss: 2.1355 - accuracy: 0.4595\n",
      "\n",
      "Epoch 00048: loss improved from 2.18608 to 2.13551, saving model to results/exp4/est_model.hdf5\n",
      "Epoch 49/50\n",
      "26666/26666 [==============================] - 61s 2ms/step - loss: 2.0946 - accuracy: 0.4724\n",
      "\n",
      "Epoch 00049: loss improved from 2.13551 to 2.09460, saving model to results/exp4/est_model.hdf5\n",
      "Epoch 50/50\n",
      "26666/26666 [==============================] - 60s 2ms/step - loss: 2.0480 - accuracy: 0.4845\n",
      "\n",
      "Epoch 00050: loss improved from 2.09460 to 2.04798, saving model to results/exp4/est_model.hdf5\n",
      "--------------------------\n",
      "Training time in seconds:  3022.32\n",
      "--------------------------\n"
     ]
    }
   ],
   "source": [
    "# Fit the model\n",
    "start_time = time.time()\n",
    "history = model_4.fit(X, \n",
    "                      y, \n",
    "                      batch_size=128, \n",
    "                      epochs=50,\n",
    "                      callbacks=callbacks_list)\n",
    "\n",
    "elapsed_time = time.time() - start_time\n",
    "print('--------------------------')\n",
    "print('Training time in seconds: ', round(elapsed_time,2))\n",
    "print('--------------------------')"
   ]
  },
  {
   "cell_type": "code",
   "execution_count": 0,
   "metadata": {
    "colab": {},
    "colab_type": "code",
    "id": "DEFT3jS3KanW"
   },
   "outputs": [],
   "source": [
    "# Plot model performance"
   ]
  },
  {
   "cell_type": "code",
   "execution_count": 0,
   "metadata": {
    "colab": {},
    "colab_type": "code",
    "id": "4fuZyEnNKanX"
   },
   "outputs": [],
   "source": [
    "# history_dict = history.history\n",
    "# history_dict.keys()"
   ]
  },
  {
   "cell_type": "markdown",
   "metadata": {},
   "source": [
    "**Figure 7: Learning curves for Model 4**"
   ]
  },
  {
   "cell_type": "code",
   "execution_count": 104,
   "metadata": {
    "colab": {
     "base_uri": "https://localhost:8080/",
     "height": 324
    },
    "colab_type": "code",
    "id": "DyIgIjrTKanZ",
    "outputId": "ea210017-5563-48c8-c7a4-6b70e691f2fe"
   },
   "outputs": [
    {
     "data": {
      "image/png": "[encoded data removed]",
      "text/plain": [
       "<Figure size 576x360 with 1 Axes>"
      ]
     },
     "metadata": {
      "needs_background": "light",
      "tags": []
     },
     "output_type": "display_data"
    }
   ],
   "source": [
    "# Plot learning curves for model\n",
    "pd.DataFrame(history.history).plot(figsize=(8, 5))\n",
    "plt.grid(True)\n",
    "plt.gca().set_ylim(0, 4) # set the vertical range to [0-1]\n",
    "plt.savefig('figures/learning_curves_model_4', tight_layout=False)\n",
    "plt.show()"
   ]
  },
  {
   "cell_type": "code",
   "execution_count": 0,
   "metadata": {
    "colab": {},
    "colab_type": "code",
    "id": "ZvRnVtZTKana"
   },
   "outputs": [],
   "source": [
    "# Save the model to file\n",
    "model_4.save('results/exp4/model_4.h5')\n",
    "# save the tokenizer\n",
    "# dump(tokenizer, open('alice_tokenizer.pkl', 'wb'))"
   ]
  },
  {
   "cell_type": "code",
   "execution_count": 0,
   "metadata": {
    "colab": {},
    "colab_type": "code",
    "id": "VmzG5QXoKanc"
   },
   "outputs": [],
   "source": [
    "# Prepare the language model"
   ]
  },
  {
   "cell_type": "code",
   "execution_count": 0,
   "metadata": {
    "colab": {},
    "colab_type": "code",
    "id": "cJKlEjlBKand"
   },
   "outputs": [],
   "source": [
    "# Load cleaned text sequences\n",
    "in_filename = 'alice_sequences.txt'\n",
    "doc = load_doc(in_filename)\n",
    "lines = doc.split('\\n')\n",
    "\n",
    "# Define sequence length\n",
    "seq_length = len(lines[0].split()) - 1"
   ]
  },
  {
   "cell_type": "code",
   "execution_count": 107,
   "metadata": {
    "colab": {
     "base_uri": "https://localhost:8080/",
     "height": 72
    },
    "colab_type": "code",
    "id": "xC3ycv1xKane",
    "outputId": "8f4283c0-cd3c-45f1-ebf8-e21cf1cd334d"
   },
   "outputs": [
    {
     "name": "stderr",
     "output_type": "stream",
     "text": [
      "/usr/local/lib/python3.6/dist-packages/tensorflow/python/framework/indexed_slices.py:434: UserWarning: Converting sparse IndexedSlices to a dense Tensor of unknown shape. This may consume a large amount of memory.\n",
      "  \"Converting sparse IndexedSlices to a dense Tensor of unknown shape. \"\n"
     ]
    }
   ],
   "source": [
    "# Load the model - use name from best model\n",
    "model = load_model('results/exp4/model_4.h5')"
   ]
  },
  {
   "cell_type": "code",
   "execution_count": 0,
   "metadata": {
    "colab": {},
    "colab_type": "code",
    "id": "Y7k6v-LAKanf"
   },
   "outputs": [],
   "source": [
    "# Load the tokenizer\n",
    "tokenizer = load(open('alice_tokenizer.pkl', 'rb'))"
   ]
  },
  {
   "cell_type": "code",
   "execution_count": 0,
   "metadata": {
    "colab": {},
    "colab_type": "code",
    "id": "jvNb7SAoKanh"
   },
   "outputs": [],
   "source": [
    "# Generate text and evaluate"
   ]
  },
  {
   "cell_type": "code",
   "execution_count": 0,
   "metadata": {
    "colab": {},
    "colab_type": "code",
    "id": "AIzNBeGWGH6q"
   },
   "outputs": [],
   "source": [
    "# Select a seed text\n",
    "seed_text = lines[randint(0,len(lines))]"
   ]
  },
  {
   "cell_type": "code",
   "execution_count": 110,
   "metadata": {
    "colab": {
     "base_uri": "https://localhost:8080/",
     "height": 108
    },
    "colab_type": "code",
    "id": "zNv-todIKanq",
    "outputId": "f05dea9c-cc0b-4629-9aa1-4dd9d4c592e8"
   },
   "outputs": [
    {
     "name": "stdout",
     "output_type": "stream",
     "text": [
      "Seed text 1: going to begin again it was very provoking to find that the hedgehog had unrolled itself and was in the act of crawling away besides all this there was generally a ridge or a furrow in the way wherever she wanted to send the hedgehog to and as the doubledup soldiers\n",
      "\n",
      "----------------------------------\n",
      "Generated text 1: were always getting up and walking off with william the queen and the march hare said in a great hurry that was linked up into the sky in a low trembling voice than she set to work shaking him and ourselves and she did not venture to have finished the\n"
     ]
    }
   ],
   "source": [
    "# Generate new text\n",
    "print('Seed text 1:', seed_text + '\\n')\n",
    "print('----------------------------------')\n",
    "generated = generate_seq(model, tokenizer, seq_length, seed_text, 50)\n",
    "print('Generated text 1:', generated)"
   ]
  },
  {
   "cell_type": "code",
   "execution_count": 0,
   "metadata": {
    "colab": {},
    "colab_type": "code",
    "id": "aHSvD5oTKanr"
   },
   "outputs": [],
   "source": [
    "# Select a new seed text\n",
    "seed_text = lines[randint(0,len(lines))]"
   ]
  },
  {
   "cell_type": "code",
   "execution_count": 112,
   "metadata": {
    "colab": {
     "base_uri": "https://localhost:8080/",
     "height": 108
    },
    "colab_type": "code",
    "id": "u76r_PKUKans",
    "outputId": "1f6f1826-fe22-49f5-8efc-7ff0c47c2c33"
   },
   "outputs": [
    {
     "name": "stdout",
     "output_type": "stream",
     "text": [
      "Seed text 2: him you by the hedge then silence and then another confusion of voices hold up his head brandy now dont choke him how was it old fellow what happened to you tell us all about it at last came a little feeble squeaking voice thats bill thought alice well i hardly\n",
      "\n",
      "----------------------------------\n",
      "Generated text 2: know how to herself what she looked up at once in a graceful air and was going back in a natural way at the top of the march hare she were all locked of the morning the shriek of the gryphon the squeaking of the lizards slatepencil and the choking\n"
     ]
    }
   ],
   "source": [
    "# Generate new text\n",
    "print('Seed text 2:', seed_text + '\\n')\n",
    "print('----------------------------------')\n",
    "generated = generate_seq(model, tokenizer, seq_length, seed_text, 50)\n",
    "print('Generated text 2:', generated)"
   ]
  },
  {
   "cell_type": "code",
   "execution_count": 0,
   "metadata": {
    "colab": {},
    "colab_type": "code",
    "id": "L0j7-r7oP1pe"
   },
   "outputs": [],
   "source": [
    "# Select a new seed text\n",
    "seed_text = lines[randint(0,len(lines))]"
   ]
  },
  {
   "cell_type": "code",
   "execution_count": 114,
   "metadata": {
    "colab": {
     "base_uri": "https://localhost:8080/",
     "height": 108
    },
    "colab_type": "code",
    "id": "kIZnF7a4P1pf",
    "outputId": "367b5417-130b-48a2-f420-18470475849d"
   },
   "outputs": [
    {
     "name": "stdout",
     "output_type": "stream",
     "text": [
      "Seed text 3: crown over the wig he did not look at all comfortable and it was certainly not becoming and thats the jurybox thought alice and those twelve creatures she was obliged to say creatures you see because some of them were animals and some were birds i suppose they are the jurors\n",
      "\n",
      "----------------------------------\n",
      "Generated text 3: said to the knave fetch me about the fire in the middle nursing the bill thought the king was the queen said to the jury who instantly not get up and leave back to the other side of the suppressed guineapigs filled the gryphon mixed up and bawled out into\n"
     ]
    }
   ],
   "source": [
    "# Generate new text\n",
    "print('Seed text 3:', seed_text + '\\n')\n",
    "print('----------------------------------')\n",
    "generated = generate_seq(model, tokenizer, seq_length, seed_text, 50)\n",
    "print('Generated text 3:', generated)"
   ]
  },
  {
   "cell_type": "code",
   "execution_count": 0,
   "metadata": {
    "colab": {},
    "colab_type": "code",
    "id": "HavMPaSJP1pp"
   },
   "outputs": [],
   "source": [
    "tf.keras.backend.clear_session()"
   ]
  },
  {
   "cell_type": "markdown",
   "metadata": {
    "colab_type": "text",
    "id": "DTvK8eBPKanu"
   },
   "source": [
    "### <i>Experiment 5: LSTM RNN with larger embedding vector space</i>\n",
    "This experiment takes the best model from Experiment 4, with 2 hidden layers and 256 memory cell units, and tests the increased embedding vector space on performance and interpretability.\n",
    "* 2 hidden layers\n",
    "* 100 memory cell units\n",
    "* Embedding vector space size 100"
   ]
  },
  {
   "cell_type": "code",
   "execution_count": 0,
   "metadata": {
    "colab": {},
    "colab_type": "code",
    "id": "rINawmzjKanv"
   },
   "outputs": [],
   "source": [
    "# Define model\n",
    "model_5 = Sequential()\n",
    "model_5.add(Embedding(vocab_size, 100, input_length=seq_length))\n",
    "model_5.add(LSTM(256))\n",
    "model_5.add(Dense(256, activation='relu'))\n",
    "model_5.add(Dense(vocab_size, activation='softmax'))"
   ]
  },
  {
   "cell_type": "code",
   "execution_count": 117,
   "metadata": {
    "colab": {
     "base_uri": "https://localhost:8080/",
     "height": 815
    },
    "colab_type": "code",
    "id": "b5FfSQAqKanv",
    "outputId": "c2ca8496-fb53-4257-9434-76ca93d30778"
   },
   "outputs": [
    {
     "name": "stdout",
     "output_type": "stream",
     "text": [
      "Model: \"sequential_1\"\n",
      "_________________________________________________________________\n",
      "Layer (type)                 Output Shape              Param #   \n",
      "=================================================================\n",
      "embedding_1 (Embedding)      (None, 50, 100)           264600    \n",
      "_________________________________________________________________\n",
      "lstm_1 (LSTM)                (None, 256)               365568    \n",
      "_________________________________________________________________\n",
      "dense_1 (Dense)              (None, 256)               65792     \n",
      "_________________________________________________________________\n",
      "dense_2 (Dense)              (None, 2646)              680022    \n",
      "=================================================================\n",
      "Total params: 1,375,982\n",
      "Trainable params: 1,375,982\n",
      "Non-trainable params: 0\n",
      "_________________________________________________________________\n"
     ]
    },
    {
     "data": {
      "image/png": "[encoded data removed]",
      "text/plain": [
       "<IPython.core.display.Image object>"
      ]
     },
     "execution_count": 117,
     "metadata": {
      "tags": []
     },
     "output_type": "execute_result"
    }
   ],
   "source": [
    "# Model summary\n",
    "model_5.summary()\n",
    "plot_model(model_5, to_file='figures/model_5.png', show_shapes=True)"
   ]
  },
  {
   "cell_type": "code",
   "execution_count": 0,
   "metadata": {
    "colab": {},
    "colab_type": "code",
    "id": "9CKFkroQKanx"
   },
   "outputs": [],
   "source": [
    "# Compile model\n",
    "model_5.compile(loss='categorical_crossentropy', optimizer='adam', metrics=['accuracy'])"
   ]
  },
  {
   "cell_type": "code",
   "execution_count": 0,
   "metadata": {
    "colab": {},
    "colab_type": "code",
    "id": "E0F4D3EJKany"
   },
   "outputs": [],
   "source": [
    "# Define the checkpoint\n",
    "filepath='results/exp5/best_model.hdf5'\n",
    "checkpoint = ModelCheckpoint(filepath, monitor='loss', verbose=1, save_best_only=True, mode='min')\n",
    "es = EarlyStopping(monitor='loss', mode='min', verbose=1, patience=10)\n",
    "callbacks_list = [checkpoint, es]"
   ]
  },
  {
   "cell_type": "code",
   "execution_count": 120,
   "metadata": {
    "colab": {
     "base_uri": "https://localhost:8080/",
     "height": 1000
    },
    "colab_type": "code",
    "id": "cs5tzVAJKanz",
    "outputId": "bbec7d4a-c283-40a2-f091-056319b186b5"
   },
   "outputs": [
    {
     "name": "stderr",
     "output_type": "stream",
     "text": [
      "/usr/local/lib/python3.6/dist-packages/tensorflow/python/framework/indexed_slices.py:434: UserWarning: Converting sparse IndexedSlices to a dense Tensor of unknown shape. This may consume a large amount of memory.\n",
      "  \"Converting sparse IndexedSlices to a dense Tensor of unknown shape. \"\n"
     ]
    },
    {
     "name": "stdout",
     "output_type": "stream",
     "text": [
      "Epoch 1/50\n",
      "26666/26666 [==============================] - 33s 1ms/step - loss: 6.2583 - accuracy: 0.0579\n",
      "\n",
      "Epoch 00001: loss improved from inf to 6.25835, saving model to results/exp5/best_model.hdf5\n",
      "Epoch 2/50\n",
      "26666/26666 [==============================] - 32s 1ms/step - loss: 5.8440 - accuracy: 0.0655\n",
      "\n",
      "Epoch 00002: loss improved from 6.25835 to 5.84398, saving model to results/exp5/best_model.hdf5\n",
      "Epoch 3/50\n",
      "26666/26666 [==============================] - 31s 1ms/step - loss: 5.6113 - accuracy: 0.0774\n",
      "\n",
      "Epoch 00003: loss improved from 5.84398 to 5.61131, saving model to results/exp5/best_model.hdf5\n",
      "Epoch 4/50\n",
      "26666/26666 [==============================] - 33s 1ms/step - loss: 5.3583 - accuracy: 0.0974\n",
      "\n",
      "Epoch 00004: loss improved from 5.61131 to 5.35834, saving model to results/exp5/best_model.hdf5\n",
      "Epoch 5/50\n",
      "26666/26666 [==============================] - 32s 1ms/step - loss: 5.1375 - accuracy: 0.1185\n",
      "\n",
      "Epoch 00005: loss improved from 5.35834 to 5.13751, saving model to results/exp5/best_model.hdf5\n",
      "Epoch 6/50\n",
      "26666/26666 [==============================] - 31s 1ms/step - loss: 4.9654 - accuracy: 0.1307\n",
      "\n",
      "Epoch 00006: loss improved from 5.13751 to 4.96543, saving model to results/exp5/best_model.hdf5\n",
      "Epoch 7/50\n",
      "26666/26666 [==============================] - 32s 1ms/step - loss: 4.9937 - accuracy: 0.1244\n",
      "\n",
      "Epoch 00007: loss did not improve from 4.96543\n",
      "Epoch 8/50\n",
      "26666/26666 [==============================] - 32s 1ms/step - loss: 4.7347 - accuracy: 0.1427\n",
      "\n",
      "Epoch 00008: loss improved from 4.96543 to 4.73470, saving model to results/exp5/best_model.hdf5\n",
      "Epoch 9/50\n",
      "26666/26666 [==============================] - 31s 1ms/step - loss: 4.6038 - accuracy: 0.1508\n",
      "\n",
      "Epoch 00009: loss improved from 4.73470 to 4.60378, saving model to results/exp5/best_model.hdf5\n",
      "Epoch 10/50\n",
      "26666/26666 [==============================] - 32s 1ms/step - loss: 4.4827 - accuracy: 0.1560\n",
      "\n",
      "Epoch 00010: loss improved from 4.60378 to 4.48266, saving model to results/exp5/best_model.hdf5\n",
      "Epoch 11/50\n",
      "26666/26666 [==============================] - 31s 1ms/step - loss: 4.3627 - accuracy: 0.1655\n",
      "\n",
      "Epoch 00011: loss improved from 4.48266 to 4.36269, saving model to results/exp5/best_model.hdf5\n",
      "Epoch 12/50\n",
      "26666/26666 [==============================] - 32s 1ms/step - loss: 4.2447 - accuracy: 0.1724\n",
      "\n",
      "Epoch 00012: loss improved from 4.36269 to 4.24472, saving model to results/exp5/best_model.hdf5\n",
      "Epoch 13/50\n",
      "26666/26666 [==============================] - 32s 1ms/step - loss: 4.1213 - accuracy: 0.1817\n",
      "\n",
      "Epoch 00013: loss improved from 4.24472 to 4.12135, saving model to results/exp5/best_model.hdf5\n",
      "Epoch 14/50\n",
      "26666/26666 [==============================] - 32s 1ms/step - loss: 4.0034 - accuracy: 0.1922\n",
      "\n",
      "Epoch 00014: loss improved from 4.12135 to 4.00336, saving model to results/exp5/best_model.hdf5\n",
      "Epoch 15/50\n",
      "26666/26666 [==============================] - 31s 1ms/step - loss: 3.8819 - accuracy: 0.2003\n",
      "\n",
      "Epoch 00015: loss improved from 4.00336 to 3.88190, saving model to results/exp5/best_model.hdf5\n",
      "Epoch 16/50\n",
      "26666/26666 [==============================] - 32s 1ms/step - loss: 3.7619 - accuracy: 0.2110\n",
      "\n",
      "Epoch 00016: loss improved from 3.88190 to 3.76195, saving model to results/exp5/best_model.hdf5\n",
      "Epoch 17/50\n",
      "26666/26666 [==============================] - 31s 1ms/step - loss: 3.6419 - accuracy: 0.2244\n",
      "\n",
      "Epoch 00017: loss improved from 3.76195 to 3.64186, saving model to results/exp5/best_model.hdf5\n",
      "Epoch 18/50\n",
      "26666/26666 [==============================] - 32s 1ms/step - loss: 3.5217 - accuracy: 0.2362\n",
      "\n",
      "Epoch 00018: loss improved from 3.64186 to 3.52167, saving model to results/exp5/best_model.hdf5\n",
      "Epoch 19/50\n",
      "26666/26666 [==============================] - 32s 1ms/step - loss: 3.4035 - accuracy: 0.2475\n",
      "\n",
      "Epoch 00019: loss improved from 3.52167 to 3.40354, saving model to results/exp5/best_model.hdf5\n",
      "Epoch 20/50\n",
      "26666/26666 [==============================] - 32s 1ms/step - loss: 3.2748 - accuracy: 0.2644\n",
      "\n",
      "Epoch 00020: loss improved from 3.40354 to 3.27477, saving model to results/exp5/best_model.hdf5\n",
      "Epoch 21/50\n",
      "26666/26666 [==============================] - 32s 1ms/step - loss: 3.1540 - accuracy: 0.2834\n",
      "\n",
      "Epoch 00021: loss improved from 3.27477 to 3.15405, saving model to results/exp5/best_model.hdf5\n",
      "Epoch 22/50\n",
      "26666/26666 [==============================] - 31s 1ms/step - loss: 3.0272 - accuracy: 0.3036\n",
      "\n",
      "Epoch 00022: loss improved from 3.15405 to 3.02722, saving model to results/exp5/best_model.hdf5\n",
      "Epoch 23/50\n",
      "26666/26666 [==============================] - 32s 1ms/step - loss: 2.9025 - accuracy: 0.3225\n",
      "\n",
      "Epoch 00023: loss improved from 3.02722 to 2.90251, saving model to results/exp5/best_model.hdf5\n",
      "Epoch 24/50\n",
      "26666/26666 [==============================] - 31s 1ms/step - loss: 2.7809 - accuracy: 0.3430\n",
      "\n",
      "Epoch 00024: loss improved from 2.90251 to 2.78092, saving model to results/exp5/best_model.hdf5\n",
      "Epoch 25/50\n",
      "26666/26666 [==============================] - 31s 1ms/step - loss: 2.6613 - accuracy: 0.3644\n",
      "\n",
      "Epoch 00025: loss improved from 2.78092 to 2.66134, saving model to results/exp5/best_model.hdf5\n",
      "Epoch 26/50\n",
      "26666/26666 [==============================] - 32s 1ms/step - loss: 2.5448 - accuracy: 0.3849\n",
      "\n",
      "Epoch 00026: loss improved from 2.66134 to 2.54476, saving model to results/exp5/best_model.hdf5\n",
      "Epoch 27/50\n",
      "26666/26666 [==============================] - 32s 1ms/step - loss: 2.4289 - accuracy: 0.4086\n",
      "\n",
      "Epoch 00027: loss improved from 2.54476 to 2.42889, saving model to results/exp5/best_model.hdf5\n",
      "Epoch 28/50\n",
      "26666/26666 [==============================] - 32s 1ms/step - loss: 2.3107 - accuracy: 0.4312\n",
      "\n",
      "Epoch 00028: loss improved from 2.42889 to 2.31073, saving model to results/exp5/best_model.hdf5\n",
      "Epoch 29/50\n",
      "26666/26666 [==============================] - 32s 1ms/step - loss: 2.1983 - accuracy: 0.4538\n",
      "\n",
      "Epoch 00029: loss improved from 2.31073 to 2.19826, saving model to results/exp5/best_model.hdf5\n",
      "Epoch 30/50\n",
      "26666/26666 [==============================] - 33s 1ms/step - loss: 2.0927 - accuracy: 0.4763\n",
      "\n",
      "Epoch 00030: loss improved from 2.19826 to 2.09270, saving model to results/exp5/best_model.hdf5\n",
      "Epoch 31/50\n",
      "26666/26666 [==============================] - 31s 1ms/step - loss: 1.9890 - accuracy: 0.5016\n",
      "\n",
      "Epoch 00031: loss improved from 2.09270 to 1.98897, saving model to results/exp5/best_model.hdf5\n",
      "Epoch 32/50\n",
      "26666/26666 [==============================] - 31s 1ms/step - loss: 1.8838 - accuracy: 0.5254\n",
      "\n",
      "Epoch 00032: loss improved from 1.98897 to 1.88377, saving model to results/exp5/best_model.hdf5\n",
      "Epoch 33/50\n",
      "26666/26666 [==============================] - 32s 1ms/step - loss: 1.7810 - accuracy: 0.5485\n",
      "\n",
      "Epoch 00033: loss improved from 1.88377 to 1.78098, saving model to results/exp5/best_model.hdf5\n",
      "Epoch 34/50\n",
      "26666/26666 [==============================] - 31s 1ms/step - loss: 1.6904 - accuracy: 0.5684\n",
      "\n",
      "Epoch 00034: loss improved from 1.78098 to 1.69038, saving model to results/exp5/best_model.hdf5\n",
      "Epoch 35/50\n",
      "26666/26666 [==============================] - 31s 1ms/step - loss: 1.5960 - accuracy: 0.5947\n",
      "\n",
      "Epoch 00035: loss improved from 1.69038 to 1.59602, saving model to results/exp5/best_model.hdf5\n",
      "Epoch 36/50\n",
      "26666/26666 [==============================] - 32s 1ms/step - loss: 1.5085 - accuracy: 0.6130\n",
      "\n",
      "Epoch 00036: loss improved from 1.59602 to 1.50845, saving model to results/exp5/best_model.hdf5\n",
      "Epoch 37/50\n",
      "26666/26666 [==============================] - 32s 1ms/step - loss: 1.4152 - accuracy: 0.6400\n",
      "\n",
      "Epoch 00037: loss improved from 1.50845 to 1.41524, saving model to results/exp5/best_model.hdf5\n",
      "Epoch 38/50\n",
      "26666/26666 [==============================] - 31s 1ms/step - loss: 1.3338 - accuracy: 0.6587\n",
      "\n",
      "Epoch 00038: loss improved from 1.41524 to 1.33383, saving model to results/exp5/best_model.hdf5\n",
      "Epoch 39/50\n",
      "26666/26666 [==============================] - 32s 1ms/step - loss: 1.2464 - accuracy: 0.6833\n",
      "\n",
      "Epoch 00039: loss improved from 1.33383 to 1.24641, saving model to results/exp5/best_model.hdf5\n",
      "Epoch 40/50\n",
      "26666/26666 [==============================] - 32s 1ms/step - loss: 1.1692 - accuracy: 0.6998\n",
      "\n",
      "Epoch 00040: loss improved from 1.24641 to 1.16918, saving model to results/exp5/best_model.hdf5\n",
      "Epoch 41/50\n",
      "26666/26666 [==============================] - 31s 1ms/step - loss: 1.0912 - accuracy: 0.7220\n",
      "\n",
      "Epoch 00041: loss improved from 1.16918 to 1.09120, saving model to results/exp5/best_model.hdf5\n",
      "Epoch 42/50\n",
      "26666/26666 [==============================] - 32s 1ms/step - loss: 1.0147 - accuracy: 0.7421\n",
      "\n",
      "Epoch 00042: loss improved from 1.09120 to 1.01467, saving model to results/exp5/best_model.hdf5\n",
      "Epoch 43/50\n",
      "26666/26666 [==============================] - 32s 1ms/step - loss: 0.9462 - accuracy: 0.7607\n",
      "\n",
      "Epoch 00043: loss improved from 1.01467 to 0.94621, saving model to results/exp5/best_model.hdf5\n",
      "Epoch 44/50\n",
      "26666/26666 [==============================] - 30s 1ms/step - loss: 0.8731 - accuracy: 0.7818\n",
      "\n",
      "Epoch 00044: loss improved from 0.94621 to 0.87312, saving model to results/exp5/best_model.hdf5\n",
      "Epoch 45/50\n",
      "26666/26666 [==============================] - 31s 1ms/step - loss: 0.8068 - accuracy: 0.8003\n",
      "\n",
      "Epoch 00045: loss improved from 0.87312 to 0.80683, saving model to results/exp5/best_model.hdf5\n",
      "Epoch 46/50\n",
      "26666/26666 [==============================] - 31s 1ms/step - loss: 0.7476 - accuracy: 0.8135\n",
      "\n",
      "Epoch 00046: loss improved from 0.80683 to 0.74755, saving model to results/exp5/best_model.hdf5\n",
      "Epoch 47/50\n",
      "26666/26666 [==============================] - 32s 1ms/step - loss: 0.6934 - accuracy: 0.8329\n",
      "\n",
      "Epoch 00047: loss improved from 0.74755 to 0.69340, saving model to results/exp5/best_model.hdf5\n",
      "Epoch 48/50\n",
      "26666/26666 [==============================] - 31s 1ms/step - loss: 0.6329 - accuracy: 0.8494\n",
      "\n",
      "Epoch 00048: loss improved from 0.69340 to 0.63288, saving model to results/exp5/best_model.hdf5\n",
      "Epoch 49/50\n",
      "26666/26666 [==============================] - 32s 1ms/step - loss: 0.5811 - accuracy: 0.8638\n",
      "\n",
      "Epoch 00049: loss improved from 0.63288 to 0.58111, saving model to results/exp5/best_model.hdf5\n",
      "Epoch 50/50\n",
      "26666/26666 [==============================] - 31s 1ms/step - loss: 0.5241 - accuracy: 0.8815\n",
      "\n",
      "Epoch 00050: loss improved from 0.58111 to 0.52413, saving model to results/exp5/best_model.hdf5\n",
      "--------------------------\n",
      "Training time in seconds:  1630.74\n",
      "--------------------------\n"
     ]
    }
   ],
   "source": [
    "# Fit the model\n",
    "start_time = time.time()\n",
    "history = model_5.fit(X, \n",
    "                      y, \n",
    "                      batch_size=128, \n",
    "                      epochs=50,\n",
    "                      callbacks=callbacks_list)\n",
    "\n",
    "elapsed_time = time.time() - start_time\n",
    "print('--------------------------')\n",
    "print('Training time in seconds: ', round(elapsed_time,2))\n",
    "print('--------------------------')"
   ]
  },
  {
   "cell_type": "code",
   "execution_count": 0,
   "metadata": {
    "colab": {},
    "colab_type": "code",
    "id": "O69AYMPPKan1"
   },
   "outputs": [],
   "source": [
    "# Plot model performance"
   ]
  },
  {
   "cell_type": "code",
   "execution_count": 0,
   "metadata": {
    "colab": {},
    "colab_type": "code",
    "id": "2dqikvOZKan2"
   },
   "outputs": [],
   "source": [
    "# history_dict = history.history\n",
    "# history_dict.keys()"
   ]
  },
  {
   "cell_type": "markdown",
   "metadata": {},
   "source": [
    "**Figure 8: Learning curves for Model 5**"
   ]
  },
  {
   "cell_type": "code",
   "execution_count": 121,
   "metadata": {
    "colab": {
     "base_uri": "https://localhost:8080/",
     "height": 324
    },
    "colab_type": "code",
    "id": "hb0i6fOLKan4",
    "outputId": "f076f978-73a7-49b0-a77a-8a9af239f5c4"
   },
   "outputs": [
    {
     "data": {
      "image/png": "[encoded data removed]",
      "text/plain": [
       "<Figure size 576x360 with 1 Axes>"
      ]
     },
     "metadata": {
      "needs_background": "light",
      "tags": []
     },
     "output_type": "display_data"
    }
   ],
   "source": [
    "# Plot learning curves for model\n",
    "pd.DataFrame(history.history).plot(figsize=(8, 5))\n",
    "plt.grid(True)\n",
    "plt.gca().set_ylim(0, 4) # set the vertical range to [0-1]\n",
    "plt.savefig('figures/learning_curves_model_5', tight_layout=False)\n",
    "plt.show()"
   ]
  },
  {
   "cell_type": "code",
   "execution_count": 0,
   "metadata": {
    "colab": {},
    "colab_type": "code",
    "id": "9A8HmVaAKan5"
   },
   "outputs": [],
   "source": [
    "# Save the model to file\n",
    "model_5.save('results/exp5/model_5.h5')\n",
    "# save the tokenizer\n",
    "# dump(tokenizer, open('alice_tokenizer.pkl', 'wb'))"
   ]
  },
  {
   "cell_type": "code",
   "execution_count": 0,
   "metadata": {
    "colab": {},
    "colab_type": "code",
    "id": "RFVY5EcYKan6"
   },
   "outputs": [],
   "source": [
    "# Prepare the language model"
   ]
  },
  {
   "cell_type": "code",
   "execution_count": 0,
   "metadata": {
    "colab": {},
    "colab_type": "code",
    "id": "z_muD6FxKan8"
   },
   "outputs": [],
   "source": [
    "# Load cleaned text sequences\n",
    "in_filename = 'alice_sequences.txt'\n",
    "doc = load_doc(in_filename)\n",
    "lines = doc.split('\\n')\n",
    "\n",
    "# Define sequence length\n",
    "seq_length = len(lines[0].split()) - 1"
   ]
  },
  {
   "cell_type": "code",
   "execution_count": 124,
   "metadata": {
    "colab": {
     "base_uri": "https://localhost:8080/",
     "height": 72
    },
    "colab_type": "code",
    "id": "kLyvncPkKan9",
    "outputId": "0b127f21-9b5f-4eac-f416-74eb0a9870e0"
   },
   "outputs": [
    {
     "name": "stderr",
     "output_type": "stream",
     "text": [
      "/usr/local/lib/python3.6/dist-packages/tensorflow/python/framework/indexed_slices.py:434: UserWarning: Converting sparse IndexedSlices to a dense Tensor of unknown shape. This may consume a large amount of memory.\n",
      "  \"Converting sparse IndexedSlices to a dense Tensor of unknown shape. \"\n"
     ]
    }
   ],
   "source": [
    "# Load the model - use name from best model\n",
    "model = load_model('results/exp5/model_5.h5')"
   ]
  },
  {
   "cell_type": "code",
   "execution_count": 0,
   "metadata": {
    "colab": {},
    "colab_type": "code",
    "id": "LP9I8jaIKan-"
   },
   "outputs": [],
   "source": [
    "# Load the tokenizer\n",
    "tokenizer = load(open('alice_tokenizer.pkl', 'rb'))"
   ]
  },
  {
   "cell_type": "code",
   "execution_count": 0,
   "metadata": {
    "colab": {},
    "colab_type": "code",
    "id": "-JZGE3K6KaoA"
   },
   "outputs": [],
   "source": [
    "# Generate text and evaluate"
   ]
  },
  {
   "cell_type": "code",
   "execution_count": 0,
   "metadata": {
    "colab": {},
    "colab_type": "code",
    "id": "XRzKsiIIGNU0"
   },
   "outputs": [],
   "source": [
    "# Select a seed text\n",
    "seed_text = lines[randint(0,len(lines))]"
   ]
  },
  {
   "cell_type": "code",
   "execution_count": 127,
   "metadata": {
    "colab": {
     "base_uri": "https://localhost:8080/",
     "height": 108
    },
    "colab_type": "code",
    "id": "_ZQbiT4CKaoJ",
    "outputId": "5425fbf0-867e-4291-fc82-cd0f5e9e3fe0"
   },
   "outputs": [
    {
     "name": "stdout",
     "output_type": "stream",
     "text": [
      "Seed text 1: swam to the shore chapter iii sidenote a caucusrace and a long tale they were indeed a queerlooking party that assembled on the bank the birds with draggled feathers the animals with their fur clinging close to them and all dripping wet cross and uncomfortable the first question of course was\n",
      "\n",
      "----------------------------------\n",
      "Generated text 1: in the same age as herself to see if she could see this down no strange or to see what she were wanted to say said the dodo pointing to alice and sighing its the first day shell think it tells them being fast asleep after the while and was\n"
     ]
    }
   ],
   "source": [
    "# Generate new text\n",
    "print('Seed text 1:', seed_text + '\\n')\n",
    "print('----------------------------------')\n",
    "generated = generate_seq(model, tokenizer, seq_length, seed_text, 50)\n",
    "print('Generated text 1:', generated)"
   ]
  },
  {
   "cell_type": "code",
   "execution_count": 0,
   "metadata": {
    "colab": {},
    "colab_type": "code",
    "id": "CoiGgN7mKaoL"
   },
   "outputs": [],
   "source": [
    "# select a new seed text\n",
    "seed_text = lines[randint(0,len(lines))]"
   ]
  },
  {
   "cell_type": "code",
   "execution_count": 129,
   "metadata": {
    "colab": {
     "base_uri": "https://localhost:8080/",
     "height": 108
    },
    "colab_type": "code",
    "id": "vF1UrcxDKaoY",
    "outputId": "ac6810a1-1e60-4b2a-cccb-18c91f12276c"
   },
   "outputs": [
    {
     "name": "stdout",
     "output_type": "stream",
     "text": [
      "Seed text 2: begin again it was very provoking to find that the hedgehog had unrolled itself and was in the act of crawling away besides all this there was generally a ridge or a furrow in the way wherever she wanted to send the hedgehog to and as the doubledup soldiers were always\n",
      "\n",
      "----------------------------------\n",
      "Generated text 2: getting up and walking away without speaking but it was the jurors were writing on his cup of the ground as she added it isnt a little door and she did her to begin with it were beautifully else to make off the time my dear paws oh my fur\n"
     ]
    }
   ],
   "source": [
    "# generate new text\n",
    "print('Seed text 2:', seed_text + '\\n')\n",
    "print('----------------------------------')\n",
    "generated = generate_seq(model, tokenizer, seq_length, seed_text, 50)\n",
    "print('Generated text 2:', generated)"
   ]
  },
  {
   "cell_type": "code",
   "execution_count": 0,
   "metadata": {
    "colab": {},
    "colab_type": "code",
    "id": "ARabNTW8P1qF"
   },
   "outputs": [],
   "source": [
    "# select a new seed text\n",
    "seed_text = lines[randint(0,len(lines))]"
   ]
  },
  {
   "cell_type": "code",
   "execution_count": 131,
   "metadata": {
    "colab": {
     "base_uri": "https://localhost:8080/",
     "height": 108
    },
    "colab_type": "code",
    "id": "16qhRf7uP1qH",
    "outputId": "e30bc03d-50c0-490c-990c-f94e6b055d81"
   },
   "outputs": [
    {
     "name": "stdout",
     "output_type": "stream",
     "text": [
      "Seed text 3: comes to at this moment five who had been anxiously looking across the garden called out the queen the queen and the three gardeners instantly threw themselves flat upon their faces there was a sound of many footsteps and alice looked round eager to see the queen first came ten soldiers\n",
      "\n",
      "----------------------------------\n",
      "Generated text 3: carrying clubs these were all shaped like the three gardeners oblong and flat with their hands and feet at the corners next the ten courtiers these were ornamented all over with diamonds and walked two and two she stood looking round the court and she began to watch it again\n"
     ]
    }
   ],
   "source": [
    "# generate new text\n",
    "print('Seed text 3:', seed_text + '\\n')\n",
    "print('----------------------------------')\n",
    "generated = generate_seq(model, tokenizer, seq_length, seed_text, 50)\n",
    "print('Generated text 3:', generated)"
   ]
  },
  {
   "cell_type": "code",
   "execution_count": 0,
   "metadata": {
    "colab": {},
    "colab_type": "code",
    "id": "XNx0yTITK7Zi"
   },
   "outputs": [],
   "source": [
    "tf.keras.backend.clear_session()"
   ]
  },
  {
   "cell_type": "markdown",
   "metadata": {
    "colab_type": "text",
    "id": "AkUbRPnDKxtC"
   },
   "source": [
    "### <i>Experiment 6: Bidirectional LSTM with 1 HL and 50% dropout</i>\n",
    "This final experiment employs a Bidirectional LSTM and 50 percent dropout to evaluate WHAT.\n",
    "* 1 hidden layer\n",
    "* 256 memory cell units\n",
    "* Embedding vector space size 50"
   ]
  },
  {
   "cell_type": "code",
   "execution_count": 0,
   "metadata": {
    "colab": {},
    "colab_type": "code",
    "id": "2l8w1dCtK3w8"
   },
   "outputs": [],
   "source": [
    "# Define model\n",
    "model_6 = Sequential()\n",
    "model_6.add(Embedding(vocab_size, 50, input_length=seq_length))\n",
    "model_6.add(Bidirectional(LSTM(256)))\n",
    "model_6.add(Dropout(0.5))\n",
    "# model_6.add(LSTM(256))\n",
    "# model_6.add(Dense(256, activation='relu'))\n",
    "model_6.add(Dense(vocab_size, activation='softmax'))"
   ]
  },
  {
   "cell_type": "code",
   "execution_count": 134,
   "metadata": {
    "colab": {
     "base_uri": "https://localhost:8080/",
     "height": 815
    },
    "colab_type": "code",
    "id": "Azf5geJoKwhi",
    "outputId": "19d3032a-aebb-4139-9209-900d52393292"
   },
   "outputs": [
    {
     "name": "stdout",
     "output_type": "stream",
     "text": [
      "Model: \"sequential_1\"\n",
      "_________________________________________________________________\n",
      "Layer (type)                 Output Shape              Param #   \n",
      "=================================================================\n",
      "embedding_1 (Embedding)      (None, 50, 50)            132300    \n",
      "_________________________________________________________________\n",
      "bidirectional_1 (Bidirection (None, 512)               628736    \n",
      "_________________________________________________________________\n",
      "dropout_1 (Dropout)          (None, 512)               0         \n",
      "_________________________________________________________________\n",
      "dense_1 (Dense)              (None, 2646)              1357398   \n",
      "=================================================================\n",
      "Total params: 2,118,434\n",
      "Trainable params: 2,118,434\n",
      "Non-trainable params: 0\n",
      "_________________________________________________________________\n"
     ]
    },
    {
     "data": {
      "image/png": "[encoded data removed]",
      "text/plain": [
       "<IPython.core.display.Image object>"
      ]
     },
     "execution_count": 134,
     "metadata": {
      "tags": []
     },
     "output_type": "execute_result"
    }
   ],
   "source": [
    "# Model summary\n",
    "model_6.summary()\n",
    "plot_model(model_6, to_file='figures/model_6.png', show_shapes=True)"
   ]
  },
  {
   "cell_type": "code",
   "execution_count": 0,
   "metadata": {
    "colab": {},
    "colab_type": "code",
    "id": "ttgwchU8KweG"
   },
   "outputs": [],
   "source": [
    "# Compile model\n",
    "model_6.compile(loss='categorical_crossentropy', optimizer='adam', metrics=['accuracy'])"
   ]
  },
  {
   "cell_type": "code",
   "execution_count": 0,
   "metadata": {
    "colab": {},
    "colab_type": "code",
    "id": "awaxP1M9KwZV"
   },
   "outputs": [],
   "source": [
    "# Define the checkpoint\n",
    "filepath='results/exp6/best_model.hdf5'\n",
    "checkpoint = ModelCheckpoint(filepath, monitor='loss', verbose=1, save_best_only=True, mode='min')\n",
    "es = EarlyStopping(monitor='loss', mode='min', verbose=1, patience=5)\n",
    "callbacks_list = [checkpoint, es]"
   ]
  },
  {
   "cell_type": "code",
   "execution_count": 137,
   "metadata": {
    "colab": {
     "base_uri": "https://localhost:8080/",
     "height": 1000
    },
    "colab_type": "code",
    "id": "BAxx5kwCKwW9",
    "outputId": "cc65c9c0-3320-415a-d8e2-c45d50a1a75f"
   },
   "outputs": [
    {
     "name": "stderr",
     "output_type": "stream",
     "text": [
      "/usr/local/lib/python3.6/dist-packages/tensorflow/python/framework/indexed_slices.py:434: UserWarning: Converting sparse IndexedSlices to a dense Tensor of unknown shape. This may consume a large amount of memory.\n",
      "  \"Converting sparse IndexedSlices to a dense Tensor of unknown shape. \"\n"
     ]
    },
    {
     "name": "stdout",
     "output_type": "stream",
     "text": [
      "Epoch 1/50\n",
      "26666/26666 [==============================] - 61s 2ms/step - loss: 6.3400 - accuracy: 0.0566\n",
      "\n",
      "Epoch 00001: loss improved from inf to 6.34002, saving model to results/exp6/best_model.hdf5\n",
      "Epoch 2/50\n",
      "26666/26666 [==============================] - 59s 2ms/step - loss: 5.9931 - accuracy: 0.0623\n",
      "\n",
      "Epoch 00002: loss improved from 6.34002 to 5.99306, saving model to results/exp6/best_model.hdf5\n",
      "Epoch 3/50\n",
      "26666/26666 [==============================] - 60s 2ms/step - loss: 5.8538 - accuracy: 0.0663\n",
      "\n",
      "Epoch 00003: loss improved from 5.99306 to 5.85375, saving model to results/exp6/best_model.hdf5\n",
      "Epoch 4/50\n",
      "26666/26666 [==============================] - 61s 2ms/step - loss: 5.7213 - accuracy: 0.0729\n",
      "\n",
      "Epoch 00004: loss improved from 5.85375 to 5.72133, saving model to results/exp6/best_model.hdf5\n",
      "Epoch 5/50\n",
      "26666/26666 [==============================] - 60s 2ms/step - loss: 5.6016 - accuracy: 0.0763\n",
      "\n",
      "Epoch 00005: loss improved from 5.72133 to 5.60162, saving model to results/exp6/best_model.hdf5\n",
      "Epoch 6/50\n",
      "26666/26666 [==============================] - 59s 2ms/step - loss: 5.4826 - accuracy: 0.0836\n",
      "\n",
      "Epoch 00006: loss improved from 5.60162 to 5.48257, saving model to results/exp6/best_model.hdf5\n",
      "Epoch 7/50\n",
      "26666/26666 [==============================] - 60s 2ms/step - loss: 5.3424 - accuracy: 0.0936\n",
      "\n",
      "Epoch 00007: loss improved from 5.48257 to 5.34239, saving model to results/exp6/best_model.hdf5\n",
      "Epoch 8/50\n",
      "26666/26666 [==============================] - 59s 2ms/step - loss: 5.1930 - accuracy: 0.1032\n",
      "\n",
      "Epoch 00008: loss improved from 5.34239 to 5.19295, saving model to results/exp6/best_model.hdf5\n",
      "Epoch 9/50\n",
      "26666/26666 [==============================] - 59s 2ms/step - loss: 5.0373 - accuracy: 0.1157\n",
      "\n",
      "Epoch 00009: loss improved from 5.19295 to 5.03734, saving model to results/exp6/best_model.hdf5\n",
      "Epoch 10/50\n",
      "26666/26666 [==============================] - 60s 2ms/step - loss: 4.8662 - accuracy: 0.1234\n",
      "\n",
      "Epoch 00010: loss improved from 5.03734 to 4.86625, saving model to results/exp6/best_model.hdf5\n",
      "Epoch 11/50\n",
      "26666/26666 [==============================] - 60s 2ms/step - loss: 4.6923 - accuracy: 0.1310\n",
      "\n",
      "Epoch 00011: loss improved from 4.86625 to 4.69227, saving model to results/exp6/best_model.hdf5\n",
      "Epoch 12/50\n",
      "26666/26666 [==============================] - 58s 2ms/step - loss: 4.5130 - accuracy: 0.1440\n",
      "\n",
      "Epoch 00012: loss improved from 4.69227 to 4.51295, saving model to results/exp6/best_model.hdf5\n",
      "Epoch 13/50\n",
      "26666/26666 [==============================] - 61s 2ms/step - loss: 4.3180 - accuracy: 0.1541\n",
      "\n",
      "Epoch 00013: loss improved from 4.51295 to 4.31803, saving model to results/exp6/best_model.hdf5\n",
      "Epoch 14/50\n",
      "26666/26666 [==============================] - 60s 2ms/step - loss: 4.1143 - accuracy: 0.1753\n",
      "\n",
      "Epoch 00014: loss improved from 4.31803 to 4.11431, saving model to results/exp6/best_model.hdf5\n",
      "Epoch 15/50\n",
      "26666/26666 [==============================] - 60s 2ms/step - loss: 3.9022 - accuracy: 0.2000\n",
      "\n",
      "Epoch 00015: loss improved from 4.11431 to 3.90221, saving model to results/exp6/best_model.hdf5\n",
      "Epoch 16/50\n",
      "26666/26666 [==============================] - 59s 2ms/step - loss: 3.6850 - accuracy: 0.2287\n",
      "\n",
      "Epoch 00016: loss improved from 3.90221 to 3.68505, saving model to results/exp6/best_model.hdf5\n",
      "Epoch 17/50\n",
      "26666/26666 [==============================] - 60s 2ms/step - loss: 3.4840 - accuracy: 0.2611\n",
      "\n",
      "Epoch 00017: loss improved from 3.68505 to 3.48403, saving model to results/exp6/best_model.hdf5\n",
      "Epoch 18/50\n",
      "26666/26666 [==============================] - 58s 2ms/step - loss: 3.2897 - accuracy: 0.2903\n",
      "\n",
      "Epoch 00018: loss improved from 3.48403 to 3.28972, saving model to results/exp6/best_model.hdf5\n",
      "Epoch 19/50\n",
      "26666/26666 [==============================] - 60s 2ms/step - loss: 3.1159 - accuracy: 0.3186\n",
      "\n",
      "Epoch 00019: loss improved from 3.28972 to 3.11590, saving model to results/exp6/best_model.hdf5\n",
      "Epoch 20/50\n",
      "26666/26666 [==============================] - 59s 2ms/step - loss: 2.9554 - accuracy: 0.3469\n",
      "\n",
      "Epoch 00020: loss improved from 3.11590 to 2.95537, saving model to results/exp6/best_model.hdf5\n",
      "Epoch 21/50\n",
      "26666/26666 [==============================] - 61s 2ms/step - loss: 2.8218 - accuracy: 0.3682\n",
      "\n",
      "Epoch 00021: loss improved from 2.95537 to 2.82176, saving model to results/exp6/best_model.hdf5\n",
      "Epoch 22/50\n",
      "26666/26666 [==============================] - 60s 2ms/step - loss: 2.6882 - accuracy: 0.3881\n",
      "\n",
      "Epoch 00022: loss improved from 2.82176 to 2.68825, saving model to results/exp6/best_model.hdf5\n",
      "Epoch 23/50\n",
      "26666/26666 [==============================] - 61s 2ms/step - loss: 2.5690 - accuracy: 0.4121\n",
      "\n",
      "Epoch 00023: loss improved from 2.68825 to 2.56904, saving model to results/exp6/best_model.hdf5\n",
      "Epoch 24/50\n",
      "26666/26666 [==============================] - 62s 2ms/step - loss: 2.4426 - accuracy: 0.4344\n",
      "\n",
      "Epoch 00024: loss improved from 2.56904 to 2.44264, saving model to results/exp6/best_model.hdf5\n",
      "Epoch 25/50\n",
      "26666/26666 [==============================] - 62s 2ms/step - loss: 2.3365 - accuracy: 0.4538\n",
      "\n",
      "Epoch 00025: loss improved from 2.44264 to 2.33653, saving model to results/exp6/best_model.hdf5\n",
      "Epoch 26/50\n",
      "26666/26666 [==============================] - 62s 2ms/step - loss: 2.4311 - accuracy: 0.4278\n",
      "\n",
      "Epoch 00026: loss did not improve from 2.33653\n",
      "Epoch 27/50\n",
      "26666/26666 [==============================] - 61s 2ms/step - loss: 2.2087 - accuracy: 0.4776\n",
      "\n",
      "Epoch 00027: loss improved from 2.33653 to 2.20872, saving model to results/exp6/best_model.hdf5\n",
      "Epoch 28/50\n",
      "26666/26666 [==============================] - 62s 2ms/step - loss: 2.0943 - accuracy: 0.4973\n",
      "\n",
      "Epoch 00028: loss improved from 2.20872 to 2.09426, saving model to results/exp6/best_model.hdf5\n",
      "Epoch 29/50\n",
      "26666/26666 [==============================] - 61s 2ms/step - loss: 2.0062 - accuracy: 0.5144\n",
      "\n",
      "Epoch 00029: loss improved from 2.09426 to 2.00619, saving model to results/exp6/best_model.hdf5\n",
      "Epoch 30/50\n",
      "26666/26666 [==============================] - 61s 2ms/step - loss: 1.9297 - accuracy: 0.5341\n",
      "\n",
      "Epoch 00030: loss improved from 2.00619 to 1.92966, saving model to results/exp6/best_model.hdf5\n",
      "Epoch 31/50\n",
      "26666/26666 [==============================] - 60s 2ms/step - loss: 1.8598 - accuracy: 0.5440\n",
      "\n",
      "Epoch 00031: loss improved from 1.92966 to 1.85985, saving model to results/exp6/best_model.hdf5\n",
      "Epoch 32/50\n",
      "26666/26666 [==============================] - 61s 2ms/step - loss: 1.7954 - accuracy: 0.5579\n",
      "\n",
      "Epoch 00032: loss improved from 1.85985 to 1.79545, saving model to results/exp6/best_model.hdf5\n",
      "Epoch 33/50\n",
      "26666/26666 [==============================] - 60s 2ms/step - loss: 1.7294 - accuracy: 0.5669\n",
      "\n",
      "Epoch 00033: loss improved from 1.79545 to 1.72936, saving model to results/exp6/best_model.hdf5\n",
      "Epoch 34/50\n",
      "26666/26666 [==============================] - 60s 2ms/step - loss: 1.6827 - accuracy: 0.5785\n",
      "\n",
      "Epoch 00034: loss improved from 1.72936 to 1.68266, saving model to results/exp6/best_model.hdf5\n",
      "Epoch 35/50\n",
      "26666/26666 [==============================] - 59s 2ms/step - loss: 1.6164 - accuracy: 0.5946\n",
      "\n",
      "Epoch 00035: loss improved from 1.68266 to 1.61640, saving model to results/exp6/best_model.hdf5\n",
      "Epoch 36/50\n",
      "26666/26666 [==============================] - 59s 2ms/step - loss: 1.5658 - accuracy: 0.6017\n",
      "\n",
      "Epoch 00036: loss improved from 1.61640 to 1.56576, saving model to results/exp6/best_model.hdf5\n",
      "Epoch 37/50\n",
      "26666/26666 [==============================] - 59s 2ms/step - loss: 1.5071 - accuracy: 0.6166\n",
      "\n",
      "Epoch 00037: loss improved from 1.56576 to 1.50707, saving model to results/exp6/best_model.hdf5\n",
      "Epoch 38/50\n",
      "26666/26666 [==============================] - 61s 2ms/step - loss: 1.4489 - accuracy: 0.6347\n",
      "\n",
      "Epoch 00038: loss improved from 1.50707 to 1.44891, saving model to results/exp6/best_model.hdf5\n",
      "Epoch 39/50\n",
      "26666/26666 [==============================] - 59s 2ms/step - loss: 1.4164 - accuracy: 0.6373\n",
      "\n",
      "Epoch 00039: loss improved from 1.44891 to 1.41640, saving model to results/exp6/best_model.hdf5\n",
      "Epoch 40/50\n",
      "26666/26666 [==============================] - 59s 2ms/step - loss: 1.3638 - accuracy: 0.6487\n",
      "\n",
      "Epoch 00040: loss improved from 1.41640 to 1.36384, saving model to results/exp6/best_model.hdf5\n",
      "Epoch 41/50\n",
      "26666/26666 [==============================] - 59s 2ms/step - loss: 1.3400 - accuracy: 0.6521\n",
      "\n",
      "Epoch 00041: loss improved from 1.36384 to 1.34004, saving model to results/exp6/best_model.hdf5\n",
      "Epoch 42/50\n",
      "26666/26666 [==============================] - 59s 2ms/step - loss: 1.2826 - accuracy: 0.6648\n",
      "\n",
      "Epoch 00042: loss improved from 1.34004 to 1.28265, saving model to results/exp6/best_model.hdf5\n",
      "Epoch 43/50\n",
      "26666/26666 [==============================] - 60s 2ms/step - loss: 1.2358 - accuracy: 0.6723\n",
      "\n",
      "Epoch 00043: loss improved from 1.28265 to 1.23584, saving model to results/exp6/best_model.hdf5\n",
      "Epoch 44/50\n",
      "26666/26666 [==============================] - 60s 2ms/step - loss: 1.2076 - accuracy: 0.6839\n",
      "\n",
      "Epoch 00044: loss improved from 1.23584 to 1.20759, saving model to results/exp6/best_model.hdf5\n",
      "Epoch 45/50\n",
      "26666/26666 [==============================] - 60s 2ms/step - loss: 1.1664 - accuracy: 0.6909\n",
      "\n",
      "Epoch 00045: loss improved from 1.20759 to 1.16636, saving model to results/exp6/best_model.hdf5\n",
      "Epoch 46/50\n",
      "26666/26666 [==============================] - 60s 2ms/step - loss: 1.1289 - accuracy: 0.6988\n",
      "\n",
      "Epoch 00046: loss improved from 1.16636 to 1.12887, saving model to results/exp6/best_model.hdf5\n",
      "Epoch 47/50\n",
      "26666/26666 [==============================] - 59s 2ms/step - loss: 1.0959 - accuracy: 0.7066\n",
      "\n",
      "Epoch 00047: loss improved from 1.12887 to 1.09586, saving model to results/exp6/best_model.hdf5\n",
      "Epoch 48/50\n",
      "26666/26666 [==============================] - 59s 2ms/step - loss: 1.0730 - accuracy: 0.7111\n",
      "\n",
      "Epoch 00048: loss improved from 1.09586 to 1.07303, saving model to results/exp6/best_model.hdf5\n",
      "Epoch 49/50\n",
      "26666/26666 [==============================] - 59s 2ms/step - loss: 1.0318 - accuracy: 0.7246\n",
      "\n",
      "Epoch 00049: loss improved from 1.07303 to 1.03179, saving model to results/exp6/best_model.hdf5\n",
      "Epoch 50/50\n",
      "26666/26666 [==============================] - 59s 2ms/step - loss: 1.0110 - accuracy: 0.7289\n",
      "\n",
      "Epoch 00050: loss improved from 1.03179 to 1.01096, saving model to results/exp6/best_model.hdf5\n",
      "--------------------------\n",
      "Training time in seconds:  3043.52\n",
      "--------------------------\n"
     ]
    }
   ],
   "source": [
    "# Fit the model\n",
    "start_time = time.time()\n",
    "history = model_6.fit(X, \n",
    "                      y, \n",
    "                      batch_size=128, \n",
    "                      epochs=50,\n",
    "                      callbacks=callbacks_list)\n",
    "\n",
    "elapsed_time = time.time() - start_time\n",
    "print('--------------------------')\n",
    "print('Training time in seconds: ', round(elapsed_time,2))\n",
    "print('--------------------------')"
   ]
  },
  {
   "cell_type": "code",
   "execution_count": 0,
   "metadata": {
    "colab": {},
    "colab_type": "code",
    "id": "WITaVNQGP1qQ"
   },
   "outputs": [],
   "source": [
    "# Plot model performance"
   ]
  },
  {
   "cell_type": "code",
   "execution_count": 0,
   "metadata": {
    "colab": {},
    "colab_type": "code",
    "id": "U2MkGf7UP1qT"
   },
   "outputs": [],
   "source": [
    "# history_dict = history.history\n",
    "# history_dict.keys()"
   ]
  },
  {
   "cell_type": "markdown",
   "metadata": {},
   "source": [
    "**Figure 9: Learning curves for Model 6**"
   ]
  },
  {
   "cell_type": "code",
   "execution_count": 138,
   "metadata": {
    "colab": {
     "base_uri": "https://localhost:8080/",
     "height": 324
    },
    "colab_type": "code",
    "id": "o3CTyY4FP1qT",
    "outputId": "2a59856d-c957-4c50-e6d6-623a97f1022e"
   },
   "outputs": [
    {
     "data": {
      "image/png": "[encoded data removed]",
      "text/plain": [
       "<Figure size 576x360 with 1 Axes>"
      ]
     },
     "metadata": {
      "needs_background": "light",
      "tags": []
     },
     "output_type": "display_data"
    }
   ],
   "source": [
    "# Plot learning curves for model\n",
    "pd.DataFrame(history.history).plot(figsize=(8, 5))\n",
    "plt.grid(True)\n",
    "plt.gca().set_ylim(0, 2) # set the vertical range to [0-1]\n",
    "plt.savefig('figures/learning_curves_model_6', tight_layout=False)\n",
    "plt.show()"
   ]
  },
  {
   "cell_type": "code",
   "execution_count": 0,
   "metadata": {
    "colab": {},
    "colab_type": "code",
    "id": "WAr93BXLP1qU"
   },
   "outputs": [],
   "source": [
    "# Save the model to file\n",
    "model_6.save('results/exp6/model_6.h5')\n",
    "# save the tokenizer\n",
    "# dump(tokenizer, open('alice_tokenizer.pkl', 'wb'))"
   ]
  },
  {
   "cell_type": "code",
   "execution_count": 0,
   "metadata": {
    "colab": {},
    "colab_type": "code",
    "id": "sMF0Xkx5P1qW"
   },
   "outputs": [],
   "source": [
    "# Prepare the language model"
   ]
  },
  {
   "cell_type": "code",
   "execution_count": 0,
   "metadata": {
    "colab": {},
    "colab_type": "code",
    "id": "Ar7YP59YP1qW"
   },
   "outputs": [],
   "source": [
    "# Load cleaned text sequences\n",
    "in_filename = 'alice_sequences.txt'\n",
    "doc = load_doc(in_filename)\n",
    "lines = doc.split('\\n')\n",
    "\n",
    "# Define sequence length\n",
    "seq_length = len(lines[0].split()) - 1"
   ]
  },
  {
   "cell_type": "code",
   "execution_count": 142,
   "metadata": {
    "colab": {
     "base_uri": "https://localhost:8080/",
     "height": 72
    },
    "colab_type": "code",
    "id": "Qv16w5o6P1qY",
    "outputId": "c88ca123-b1f8-46f4-c8ed-382aa202972b"
   },
   "outputs": [
    {
     "name": "stderr",
     "output_type": "stream",
     "text": [
      "/usr/local/lib/python3.6/dist-packages/tensorflow/python/framework/indexed_slices.py:434: UserWarning: Converting sparse IndexedSlices to a dense Tensor of unknown shape. This may consume a large amount of memory.\n",
      "  \"Converting sparse IndexedSlices to a dense Tensor of unknown shape. \"\n"
     ]
    }
   ],
   "source": [
    "# Load the model - use name from best model\n",
    "model = load_model('results/exp6/model_6.h5')"
   ]
  },
  {
   "cell_type": "code",
   "execution_count": 0,
   "metadata": {
    "colab": {},
    "colab_type": "code",
    "id": "_S4U63XkP1qZ"
   },
   "outputs": [],
   "source": [
    "# Load the tokenizer\n",
    "tokenizer = load(open('alice_tokenizer.pkl', 'rb'))"
   ]
  },
  {
   "cell_type": "code",
   "execution_count": 0,
   "metadata": {
    "colab": {},
    "colab_type": "code",
    "id": "bErsJBEyP1qa"
   },
   "outputs": [],
   "source": [
    "# Generate text and evaluate"
   ]
  },
  {
   "cell_type": "code",
   "execution_count": 0,
   "metadata": {
    "colab": {},
    "colab_type": "code",
    "id": "6tcEjjXzGTin"
   },
   "outputs": [],
   "source": [
    "# Select a seed text\n",
    "seed_text = lines[randint(0,len(lines))]"
   ]
  },
  {
   "cell_type": "code",
   "execution_count": 146,
   "metadata": {
    "colab": {
     "base_uri": "https://localhost:8080/",
     "height": 108
    },
    "colab_type": "code",
    "id": "YkNO8UXDP1qe",
    "outputId": "72e2b958-6a1a-4b5d-9c1a-acc3b298084a"
   },
   "outputs": [
    {
     "name": "stdout",
     "output_type": "stream",
     "text": [
      "Seed text 1: knave was standing before them in chains with a soldier on each side to guard him and near the king was the white rabbit with a trumpet in one hand and a scroll of parchment in the other in the very middle of the court was a table with a large\n",
      "\n",
      "----------------------------------\n",
      "Generated text 1: dish of tarts upon it they looked so good that it made alice quite hungry to look at the house and the table was in the door of the door pray the refreshments was out of the other and alice was the court to the queens who were the queens\n"
     ]
    }
   ],
   "source": [
    "# Generate new text\n",
    "print('Seed text 1:', seed_text + '\\n')\n",
    "print('----------------------------------')\n",
    "generated = generate_seq(model, tokenizer, seq_length, seed_text, 50)\n",
    "print('Generated text 1:', generated)"
   ]
  },
  {
   "cell_type": "code",
   "execution_count": 0,
   "metadata": {
    "colab": {},
    "colab_type": "code",
    "id": "Rm0d0ahcP1qf"
   },
   "outputs": [],
   "source": [
    "# select a new seed text\n",
    "seed_text = lines[randint(0,len(lines))]"
   ]
  },
  {
   "cell_type": "code",
   "execution_count": 148,
   "metadata": {
    "colab": {
     "base_uri": "https://localhost:8080/",
     "height": 108
    },
    "colab_type": "code",
    "id": "tLSh3l_jP1qg",
    "outputId": "1f91652a-cf25-4bc9-8044-0e71479ae837"
   },
   "outputs": [
    {
     "name": "stdout",
     "output_type": "stream",
     "text": [
      "Seed text 2: she had to run back into the wood for fear of their hearing her and when she next peeped out the fishfootman was gone and the other was sitting on the ground near the door staring stupidly up into the sky alice went timidly up to the door and knocked theres\n",
      "\n",
      "----------------------------------\n",
      "Generated text 2: no use in knocking the queen was on for the executioner drink out of the distance and the next sidenote the royal soo oop of the evening beautiful soup of the e evening beautiful soup who chapter oop of the e e evening beautiful beautiful soup chapter soup of the\n"
     ]
    }
   ],
   "source": [
    "# generate new text\n",
    "print('Seed text 2:', seed_text + '\\n')\n",
    "print('----------------------------------')\n",
    "generated = generate_seq(model, tokenizer, seq_length, seed_text, 50)\n",
    "print('Generated text 2:', generated)"
   ]
  },
  {
   "cell_type": "code",
   "execution_count": 0,
   "metadata": {
    "colab": {},
    "colab_type": "code",
    "id": "MBx_MFhVP1qh"
   },
   "outputs": [],
   "source": [
    "# select a new seed text\n",
    "seed_text = lines[randint(0,len(lines))]"
   ]
  },
  {
   "cell_type": "code",
   "execution_count": 150,
   "metadata": {
    "colab": {
     "base_uri": "https://localhost:8080/",
     "height": 108
    },
    "colab_type": "code",
    "id": "pBNGu5Q4P1qi",
    "outputId": "64b41826-3954-4619-a621-db0053d8f426"
   },
   "outputs": [
    {
     "name": "stdout",
     "output_type": "stream",
     "text": [
      "Seed text 3: which was to twist it up into a knot and then keep tight hold of its right ear and left foot so as to prevent its undoing itself she carried it out into the open air if i dont take this child away with me thought alice theyre sure to kill\n",
      "\n",
      "----------------------------------\n",
      "Generated text 3: it in a day or two wouldnt be a murder of it and she said to herself it was out of the little thing and she was very like for it she had like her by this time she was a little bit however she thought to herself as she\n"
     ]
    }
   ],
   "source": [
    "# generate new text\n",
    "print('Seed text 3:', seed_text + '\\n')\n",
    "print('----------------------------------')\n",
    "generated = generate_seq(model, tokenizer, seq_length, seed_text, 50)\n",
    "print('Generated text 3:', generated)"
   ]
  },
  {
   "cell_type": "code",
   "execution_count": 0,
   "metadata": {
    "colab": {},
    "colab_type": "code",
    "id": "7DEW_3qGP1qj"
   },
   "outputs": [],
   "source": [
    "tf.keras.backend.clear_session()"
   ]
  },
  {
   "cell_type": "code",
   "execution_count": 0,
   "metadata": {
    "colab": {},
    "colab_type": "code",
    "id": "Xph9EPgcKwVB"
   },
   "outputs": [],
   "source": []
  }
 ],
 "metadata": {
  "accelerator": "GPU",
  "colab": {
   "collapsed_sections": [],
   "name": "Alice_v18.ipynb",
   "provenance": []
  },
  "kernelspec": {
   "display_name": "Python 3",
   "language": "python",
   "name": "python3"
  },
  "language_info": {
   "codemirror_mode": {
    "name": "ipython",
    "version": 3
   },
   "file_extension": ".py",
   "mimetype": "text/x-python",
   "name": "python",
   "nbconvert_exporter": "python",
   "pygments_lexer": "ipython3",
   "version": "3.6.10"
  }
 },
 "nbformat": 4,
 "nbformat_minor": 1
}
