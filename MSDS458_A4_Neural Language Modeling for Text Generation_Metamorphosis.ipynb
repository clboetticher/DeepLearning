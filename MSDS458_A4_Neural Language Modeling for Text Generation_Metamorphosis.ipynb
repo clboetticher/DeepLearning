{
 "cells": [
  {
   "cell_type": "markdown",
   "metadata": {},
   "source": [
    "# Neural language models for text generation\n",
    "<b>Objective</b><br>\n",
    "The ability to generate text that resembles the quality of human language has numerous applications, from machine translation to spelling correction, from text summarization to image captioning. At the heart of these larger tasks is the language model, which is a function or algorithm for learning that function that captures relevant statistical characteristics of the distribution of sequences of words in a natural language (Bengio, 2008). This study is an examination of the neural language model, specifically, as a foundation for larger NLP tasks and a representative step in the evolution beyond traditional statistical modeling. Its goal is two-fold: develop neural language models for capturing the “essence” of a large corpora of text and gain an in-depth understanding of how various factors affect fitting and ultimate performance with networks with differing deep learning architectures. This will shed light on how hidden nodes learn to extract features from inputs; with additional layers, the objective is to better understand how each successive layer extracts progressively abstract and generalized features. This is done through the development, evaluation, and comparison of word-based neural language models for text generation.<br>\n",
    "\n",
    "<b>Data source for model development and evaluation</b><br>\n",
    "Data for this study comes from __[Project Gutenberg](https://www.gutenberg.org)__, a repository of over 60,000 publicly-available books, with focus on older works for which U.S. copyright has expired. Beyond a source of great literature free and open to everyone, the text versions of these works offer countless opportunities for experimentation with machine learning techniques using unstructured text. Each group of experiments in the study focuses on a particular novel, in this case Franz Kafka's 1915 novel <i>The Metamorphosis</i>. A separate study is conducted as a point of comparison using <i>Alice's Adventures in Wonderland</i>, an 1865 novel written by English author Lewis Carroll.<br>\n",
    "\n",
    "<b>Model development</b><br>\n",
    "Using these two separate texts, various network architectures are tested to determine their ability to capture meaning and context from these two texts and generate reliable, believable sequences of related text based on predictions of probability given an input sequence of text. Long Short-Term Memory (LSTM) Recurrent Neural Networks (RNNs) are employed primarily given these networks’ established performance with text generation and ability to help mitigate, in some cases, overfitting and the challenge of vanishing gradients. LSTM RNNs are also the focus due to their potential to retain sequence-based meaning, from words in sentences to sentences in paragraphs; the longer nature of these texts offers a useful data source for testing this possibility. Varying network depth and width are investigated for potential impact on performance, which is ultimately measured quantitatively (via loss and training time) and qualitatively (via generated text examples from seed text and comparison to actual text that follows). While this evaluation is not perfectly objective, these combined steps shed light on how well the various models capture meaning from text, which serves as useful in certain standalone cases and, more importantly, as a critical input to more complex NLP tasks.\n",
    "\n",
    "<b>Model evaluation</b><br>\n",
    "Model accuracy, loss, and training time are all measured for evaluation purposes. It is important to mention that the most accurate classification model of the training dataset is not the objective - this would reflect rote memorization of the text, which would reveal nothing meaningful about the neural networks' ability to capture the essence of the text. What is more important is a generalization of the dataset and the minimization of the chosen loss function, categorical cross-entropy. The ultimate goal is a balance between generalization and overfitting, which is difficult to measure. Qualitative evaluation and exploration of multiple examples will serve as proxy metrics for performance. "
   ]
  },
  {
   "cell_type": "markdown",
   "metadata": {
    "colab_type": "text",
    "id": "QvFpH3-ycZql"
   },
   "source": [
    "## 1. Environment preparation"
   ]
  },
  {
   "cell_type": "code",
   "execution_count": 0,
   "metadata": {
    "colab": {},
    "colab_type": "code",
    "id": "-0HBG_l-cZqw"
   },
   "outputs": [],
   "source": [
    "# Import dependencies\n",
    "import string\n",
    "import re\n",
    "import os\n",
    "import time\n",
    "import numpy as np\n",
    "from numpy import array\n",
    "import pandas as pd\n",
    "from collections import Counter\n",
    "from random import randint\n",
    "from pickle import load, dump\n",
    "\n",
    "import nltk\n",
    "from nltk.corpus import stopwords\n",
    "\n",
    "import matplotlib.pyplot as plt\n",
    "%matplotlib inline\n",
    "import seaborn as sns\n",
    "\n",
    "import tensorflow as tf\n",
    "from keras.preprocessing.text import Tokenizer\n",
    "from keras.preprocessing.sequence import pad_sequences\n",
    "from keras.utils.vis_utils import plot_model\n",
    "from keras.utils import to_categorical\n",
    "from keras.models import Sequential, load_model\n",
    "from keras.layers import Dense, LSTM, Dropout, Embedding, Bidirectional\n",
    "from keras.callbacks import ModelCheckpoint, EarlyStopping"
   ]
  },
  {
   "cell_type": "code",
   "execution_count": 144,
   "metadata": {
    "colab": {
     "base_uri": "https://localhost:8080/",
     "height": 35
    },
    "colab_type": "code",
    "id": "fJy_JdmXcxkM",
    "outputId": "dedc136b-08d8-45cb-b7a3-b463a894d9d1"
   },
   "outputs": [
    {
     "name": "stdout",
     "output_type": "stream",
     "text": [
      "Drive already mounted at /content/gdrive; to attempt to forcibly remount, call drive.mount(\"/content/gdrive\", force_remount=True).\n"
     ]
    }
   ],
   "source": [
    "# Mount point for Colab\n",
    "from google.colab import drive\n",
    "drive.mount('/content/gdrive')"
   ]
  },
  {
   "cell_type": "code",
   "execution_count": 145,
   "metadata": {
    "colab": {
     "base_uri": "https://localhost:8080/",
     "height": 88
    },
    "colab_type": "code",
    "id": "jdyY56HMcyZ1",
    "outputId": "0dc521c3-8adc-4988-f15a-a8ccb8b79507"
   },
   "outputs": [
    {
     "name": "stdout",
     "output_type": "stream",
     "text": [
      "/content/gdrive/My Drive/MSDS458/A4/meta\n",
      "/content/gdrive/My Drive/MSDS458/A4/meta\n",
      "Working Directory\n",
      "/content/gdrive/My Drive/MSDS458/A4/meta\n"
     ]
    }
   ],
   "source": [
    "# Save in Colab\n",
    "os.getcwd()\n",
    "%cd /content/gdrive/My\\ Drive/MSDS458/A4/meta\n",
    "!pwd\n",
    "# !ls\n",
    "print('Working Directory')\n",
    "print(os.getcwd())\n",
    "work_dir = \"content/gdrive/My Drive/MSDS458/A4/meta\""
   ]
  },
  {
   "cell_type": "code",
   "execution_count": 0,
   "metadata": {
    "colab": {},
    "colab_type": "code",
    "id": "zRVSt-WQ-1ub"
   },
   "outputs": [],
   "source": [
    "tf.keras.backend.clear_session()\n",
    "np.random.seed(42)\n",
    "tf.random.set_seed(42)"
   ]
  },
  {
   "cell_type": "markdown",
   "metadata": {
    "colab_type": "text",
    "id": "bIiW8vjYcZq7"
   },
   "source": [
    "## 2. Data load, pre-processing, and exploration\n",
    "Each group of experiments in the study focuses on a particular novel, in this case <i>The Metamorphosis</i>, a 1915 novel written by Czech author Franz Kafka, originally in German and translated to multiple languages. The English translation from David Wyllie is used for this study.  \n",
    "\n",
    "Pre-processing steps involve the following:\n",
    "* Loading the text document\n",
    "* Cleaning the document (lower-casing, removal of punctuation, tokenization)\n",
    "* Saving a clean copy of the text\n",
    "\n",
    "Exploratory data analysis is conducted as well:\n",
    "* Outputting most- and least-frequent tokens (with and without stopwords removed) to explore word frequencies \n",
    "* Bigram counts to explore which two-word pairs of words occur frequently. This can help reveal (potentially) more meaningful frequencies than single words simply as they appear on their own in the text.\n",
    "* Defining a function for lexical diversity and calculating it for the text as is, and also with stopwords removed. Lexical diversity refers to the range of different words used in a text. Its meaning is text-dependent and not a perfect reflection, however it gives an indication of the scope of different kinds of words in the text; a greater range (higher number) may indicate higher diversity. It is the number of unique tokens in a text as a proportion of total tokens, calculated as follows:\n",
    "\n",
    "$$\n",
    "\\frac{len(set(text)}{len(text)}\n",
    "$$"
   ]
  },
  {
   "cell_type": "code",
   "execution_count": 1,
   "metadata": {
    "colab": {},
    "colab_type": "code",
    "id": "GHR65nU_cZrC"
   },
   "outputs": [],
   "source": [
    "# Define function to load document into memory\n",
    "def load_doc(filename):\n",
    "    # Open the file as read only\n",
    "    file = open(filename, 'r')\n",
    "    # Read all text\n",
    "    text = file.read()\n",
    "    # Close the file\n",
    "    file.close()\n",
    "    return text"
   ]
  },
  {
   "cell_type": "code",
   "execution_count": 6,
   "metadata": {
    "colab": {
     "base_uri": "https://localhost:8080/",
     "height": 123
    },
    "colab_type": "code",
    "id": "7kHtX9tucZrg",
    "outputId": "266296e0-0111-4d3f-9479-b238691d76bd"
   },
   "outputs": [
    {
     "name": "stdout",
     "output_type": "stream",
     "text": [
      "One morning, when Gregor Samsa woke from troubled dreams, he found\n",
      "himself transformed in his bed into a horrible vermin.  He lay on\n",
      "his armour-like back, and if he lifted his head a little he could\n",
      "see his brown belly, slightly domed and divided by arches into stiff\n",
      "sections.  The bedding was hardly able to cover it and seemed ready\n",
      "to slide off any moment.  His many legs, pitifully thin compared\n"
     ]
    }
   ],
   "source": [
    "# Load document\n",
    "in_filename = 'input/meta-clean.txt'\n",
    "doc = load_doc(in_filename)\n",
    "print(doc[:400])"
   ]
  },
  {
   "cell_type": "markdown",
   "metadata": {
    "colab_type": "text",
    "id": "wQRsedJRcZrO"
   },
   "source": [
    "### 1. Clean text"
   ]
  },
  {
   "cell_type": "code",
   "execution_count": 0,
   "metadata": {
    "colab": {},
    "colab_type": "code",
    "id": "0NSy16sbLjJL"
   },
   "outputs": [],
   "source": [
    "# Define function for turning document into clean tokens\n",
    "def clean_doc(doc):\n",
    "    # replace '--' with a space ' '\n",
    "    doc = doc.replace('--', ' ')\n",
    "    # split into tokens by white space\n",
    "    tokens = doc.split()\n",
    "    # remove punctuation from each token\n",
    "    table = str.maketrans('', '', string.punctuation)\n",
    "    tokens = [w.translate(table) for w in tokens]\n",
    "    # remove remaining tokens that are not alphabetic\n",
    "    tokens = [word for word in tokens if word.isalpha()]\n",
    "    # make lower case\n",
    "    tokens = [word.lower() for word in tokens]\n",
    "    return tokens"
   ]
  },
  {
   "cell_type": "code",
   "execution_count": 8,
   "metadata": {
    "colab": {
     "base_uri": "https://localhost:8080/",
     "height": 125
    },
    "colab_type": "code",
    "id": "BPJbDRndcZrl",
    "outputId": "378773ea-77cb-4a71-cb69-7fc5f0939245"
   },
   "outputs": [
    {
     "name": "stdout",
     "output_type": "stream",
     "text": [
      "['one', 'morning', 'when', 'gregor', 'samsa', 'woke', 'from', 'troubled', 'dreams', 'he', 'found', 'himself', 'transformed', 'in', 'his', 'bed', 'into', 'a', 'horrible', 'vermin', 'he', 'lay', 'on', 'his', 'armourlike', 'back', 'and', 'if', 'he', 'lifted', 'his', 'head', 'a', 'little', 'he', 'could', 'see', 'his', 'brown', 'belly', 'slightly', 'domed', 'and', 'divided', 'by', 'arches', 'into', 'stiff', 'sections', 'the', 'bedding', 'was', 'hardly', 'able', 'to', 'cover', 'it', 'and', 'seemed', 'ready', 'to', 'slide', 'off', 'any', 'moment', 'his', 'many', 'legs', 'pitifully', 'thin', 'compared', 'with', 'the', 'size', 'of', 'the', 'rest', 'of', 'him', 'waved', 'about', 'helplessly', 'as', 'he', 'looked', 'whats', 'happened', 'to', 'me', 'he', 'thought', 'it', 'wasnt', 'a', 'dream', 'his', 'room', 'a', 'proper', 'human', 'room', 'although', 'a', 'little', 'too', 'small', 'lay', 'peacefully', 'between', 'its', 'four', 'familiar', 'walls', 'a', 'collection', 'of', 'textile', 'samples', 'lay', 'spread', 'out', 'on', 'the', 'table', 'samsa', 'was', 'a', 'travelling', 'salesman', 'and', 'above', 'it', 'there', 'hung', 'a', 'picture', 'that', 'he', 'had', 'recently', 'cut', 'out', 'of', 'an', 'illustrated', 'magazine', 'and', 'housed', 'in', 'a', 'nice', 'gilded', 'frame', 'it', 'showed', 'a', 'lady', 'fitted', 'out', 'with', 'a', 'fur', 'hat', 'and', 'fur', 'boa', 'who', 'sat', 'upright', 'raising', 'a', 'heavy', 'fur', 'muff', 'that', 'covered', 'the', 'whole', 'of', 'her', 'lower', 'arm', 'towards', 'the', 'viewer', 'gregor', 'then', 'turned', 'to', 'look', 'out', 'the', 'window', 'at', 'the', 'dull', 'weather', 'drops', 'of', 'rain']\n",
      "---------------------------------------\n",
      "Total tokens: 22010\n",
      "--------------------------\n",
      "Unique tokens: 2613\n"
     ]
    }
   ],
   "source": [
    "# Clean document and output total and unique values\n",
    "tokens = clean_doc(doc)\n",
    "vocab = set(tokens)\n",
    "print(tokens[:200])\n",
    "print('---------------------------------------')\n",
    "print('Total tokens: %d' % len(tokens))\n",
    "print('--------------------------')\n",
    "print('Unique tokens: %d' % len(set(tokens)))"
   ]
  },
  {
   "cell_type": "markdown",
   "metadata": {
    "colab_type": "text",
    "id": "-118wk1bfXHs"
   },
   "source": [
    "### 2. Exploratory data analysis"
   ]
  },
  {
   "cell_type": "code",
   "execution_count": 0,
   "metadata": {
    "colab": {},
    "colab_type": "code",
    "id": "bp5b4nA3cj-5"
   },
   "outputs": [],
   "source": [
    "# Define functions for lexical diversity and percentage of total\n",
    "def lexical_diversity(text):\n",
    "    return len(set(text)) / len(text) \n",
    "\n",
    "def percentage(count, total):   \n",
    "    return 100 * count / total"
   ]
  },
  {
   "cell_type": "code",
   "execution_count": 10,
   "metadata": {
    "colab": {
     "base_uri": "https://localhost:8080/",
     "height": 35
    },
    "colab_type": "code",
    "id": "4bi3MgDMcs5z",
    "outputId": "b726c5fe-cc9e-4202-aae6-5aa8daf56fba"
   },
   "outputs": [
    {
     "data": {
      "text/plain": [
       "0.11871876419809177"
      ]
     },
     "execution_count": 10,
     "metadata": {
      "tags": []
     },
     "output_type": "execute_result"
    }
   ],
   "source": [
    "lexical_diversity(tokens)"
   ]
  },
  {
   "cell_type": "code",
   "execution_count": 0,
   "metadata": {
    "colab": {},
    "colab_type": "code",
    "id": "N1I7V2Ux6D_T"
   },
   "outputs": [],
   "source": [
    "# Plot word frequency\n",
    "# Initialize a dictionary\n",
    "dict = {}\n",
    "\n",
    "# Count number of times each word comes up in list of words\n",
    "for key in tokens: \n",
    "    dict[key] = dict.get(key, 0) + 1\n",
    "\n",
    "counts = sorted(dict.items(), key = lambda x: x[1], reverse = True)"
   ]
  },
  {
   "cell_type": "code",
   "execution_count": 0,
   "metadata": {
    "colab": {},
    "colab_type": "code",
    "id": "R0w2PS4E6S_r"
   },
   "outputs": [],
   "source": [
    "# Most and least frequent word occurence\n",
    "top_counts = counts[:30]\n",
    "least_counts = counts[-30:]"
   ]
  },
  {
   "cell_type": "code",
   "execution_count": 13,
   "metadata": {
    "colab": {
     "base_uri": "https://localhost:8080/",
     "height": 90
    },
    "colab_type": "code",
    "id": "xC0YlQliWYs3",
    "outputId": "b7acd03e-7b98-4e27-d949-243bfe6a351f"
   },
   "outputs": [
    {
     "name": "stdout",
     "output_type": "stream",
     "text": [
      "top_counts: [('the', 1148), ('to', 753), ('and', 642), ('he', 577), ('his', 550), ('of', 429), ('was', 409), ('it', 352), ('had', 352), ('in', 348), ('that', 333), ('a', 285), ('as', 242), ('gregor', 199), ('with', 199), ('she', 196), ('him', 188), ('her', 187), ('would', 187), ('not', 176), ('but', 171), ('at', 169), ('for', 166), ('they', 156), ('on', 152), ('all', 134), ('room', 131), ('from', 119), ('could', 119), ('be', 119)]\n",
      "--------------------------\n",
      "least_counts: [('terribly', 1), ('tonight', 1), ('gets', 1), ('destroyed', 1), ('gained', 1), ('twisted', 1), ('stuff', 1), ('kissed', 1), ('hugged', 1), ('country', 1), ('sunshine', 1), ('comfortably', 1), ('seats', 1), ('discussed', 1), ('examination', 1), ('jobs', 1), ('promise', 1), ('cheaper', 1), ('location', 1), ('practical', 1), ('livelier', 1), ('cheeks', 1), ('pale', 1), ('simultaneously', 1), ('blossoming', 1), ('built', 1), ('quieter', 1), ('agreed', 1), ('confirmation', 1), ('destination', 1)]\n"
     ]
    }
   ],
   "source": [
    "print('top_counts:', top_counts)\n",
    "print('--------------------------')\n",
    "print('least_counts:', least_counts)"
   ]
  },
  {
   "cell_type": "markdown",
   "metadata": {},
   "source": [
    "**Figure 1: Top 30 most frequently occurring tokens from text**"
   ]
  },
  {
   "cell_type": "code",
   "execution_count": 14,
   "metadata": {
    "colab": {
     "base_uri": "https://localhost:8080/",
     "height": 624
    },
    "colab_type": "code",
    "id": "PMx9sWdDol7T",
    "outputId": "056922aa-b266-4be9-f19d-56c3d52dcff1"
   },
   "outputs": [
    {
     "data": {
      "text/plain": [
       "<matplotlib.axes._subplots.AxesSubplot at 0x7fbec3c46ac8>"
      ]
     },
     "execution_count": 14,
     "metadata": {
      "tags": []
     },
     "output_type": "execute_result"
    },
    {
     "data": {
      "image/png": "[encoded data removed]",
      "text/plain": [
       "<Figure size 576x720 with 1 Axes>"
      ]
     },
     "metadata": {
      "needs_background": "light",
      "tags": []
     },
     "output_type": "display_data"
    }
   ],
   "source": [
    "# Plot frequencies\n",
    "words_plot = pd.DataFrame(top_counts, columns = ['Words', 'Counts'])\n",
    "plt.figure(figsize=(8,10))\n",
    "sns.barplot(y=\"Words\", x=\"Counts\", data=words_plot, palette = \"YlGnBu_r\")"
   ]
  },
  {
   "cell_type": "code",
   "execution_count": 15,
   "metadata": {
    "colab": {
     "base_uri": "https://localhost:8080/",
     "height": 70
    },
    "colab_type": "code",
    "id": "WdRWwSXqbJSA",
    "outputId": "05911918-88c2-4e41-c3dd-fe58ef35f5a1"
   },
   "outputs": [
    {
     "name": "stdout",
     "output_type": "stream",
     "text": [
      "[nltk_data] Downloading package stopwords to /root/nltk_data...\n",
      "[nltk_data]   Unzipping corpora/stopwords.zip.\n"
     ]
    },
    {
     "data": {
      "text/plain": [
       "True"
      ]
     },
     "execution_count": 15,
     "metadata": {
      "tags": []
     },
     "output_type": "execute_result"
    }
   ],
   "source": [
    "nltk.download('stopwords')"
   ]
  },
  {
   "cell_type": "code",
   "execution_count": 0,
   "metadata": {
    "colab": {},
    "colab_type": "code",
    "id": "6BDXPVZsbJIW"
   },
   "outputs": [],
   "source": [
    "# Function to create clean doc with stopwords removed\n",
    "def clean_doc_sw(doc):\n",
    "    # replace '--' with a space ' '\n",
    "    doc = doc.replace('--', ' ')\n",
    "    # split into tokens by white space\n",
    "    tokens = doc.split()\n",
    "    # remove punctuation from each token\n",
    "    table = str.maketrans('', '', string.punctuation)\n",
    "    tokens = [w.translate(table) for w in tokens]\n",
    "    # remove remaining tokens that are not alphabetic\n",
    "    tokens = [word for word in tokens if word.isalpha()]\n",
    "    # make lower case\n",
    "    tokens = [word.lower() for word in tokens]\n",
    "    # remove stopwords\n",
    "    stop_words = set(stopwords.words('english')) \n",
    "    # stop_words = nltk.corpus.stopwords.words('english')\n",
    "    newStopWords = ['i','the','he','on','shall']\n",
    "    stop_words.update(newStopWords)\n",
    "    tokens = [w for w in tokens if not w in stop_words]\n",
    "    return tokens"
   ]
  },
  {
   "cell_type": "code",
   "execution_count": 17,
   "metadata": {
    "colab": {
     "base_uri": "https://localhost:8080/",
     "height": 108
    },
    "colab_type": "code",
    "id": "X_5DNK9bblwG",
    "outputId": "355a2cb3-0136-453f-d836-aa857cbfd83a"
   },
   "outputs": [
    {
     "name": "stdout",
     "output_type": "stream",
     "text": [
      "['one', 'morning', 'gregor', 'samsa', 'woke', 'troubled', 'dreams', 'found', 'transformed', 'bed', 'horrible', 'vermin', 'lay', 'armourlike', 'back', 'lifted', 'head', 'little', 'could', 'see', 'brown', 'belly', 'slightly', 'domed', 'divided', 'arches', 'stiff', 'sections', 'bedding', 'hardly', 'able', 'cover', 'seemed', 'ready', 'slide', 'moment', 'many', 'legs', 'pitifully', 'thin', 'compared', 'size', 'rest', 'waved', 'helplessly', 'looked', 'whats', 'happened', 'thought', 'wasnt', 'dream', 'room', 'proper', 'human', 'room', 'although', 'little', 'small', 'lay', 'peacefully', 'four', 'familiar', 'walls', 'collection', 'textile', 'samples', 'lay', 'spread', 'table', 'samsa', 'travelling', 'salesman', 'hung', 'picture', 'recently', 'cut', 'illustrated', 'magazine', 'housed', 'nice', 'gilded', 'frame', 'showed', 'lady', 'fitted', 'fur', 'hat', 'fur', 'boa', 'sat', 'upright', 'raising', 'heavy', 'fur', 'muff', 'covered', 'whole', 'lower', 'arm', 'towards', 'viewer', 'gregor', 'turned', 'look', 'window', 'dull', 'weather', 'drops', 'rain', 'could', 'heard', 'hitting', 'pane', 'made', 'feel', 'quite', 'sad', 'sleep', 'little', 'bit', 'longer', 'forget', 'nonsense', 'thought', 'something', 'unable', 'used', 'sleeping', 'right', 'present', 'state', 'couldnt', 'get', 'position', 'however', 'hard', 'threw', 'onto', 'right', 'always', 'rolled', 'back', 'must', 'tried', 'hundred', 'times', 'shut', 'eyes', 'wouldnt', 'look', 'floundering', 'legs', 'stopped', 'began', 'feel', 'mild', 'dull', 'pain', 'never', 'felt', 'oh', 'god', 'thought', 'strenuous', 'career', 'ive', 'chosen', 'travelling', 'day', 'day', 'business', 'like', 'takes', 'much', 'effort', 'business', 'home', 'top', 'theres', 'curse', 'travelling', 'worries', 'making', 'train', 'connections', 'bad', 'irregular', 'food', 'contact', 'different', 'people', 'time', 'never', 'get', 'know', 'anyone', 'become', 'friendly', 'go', 'hell']\n",
      "Total tokens: 10147\n",
      "--------------------------\n",
      "Unique tokens: 2494\n"
     ]
    }
   ],
   "source": [
    "# clean document\n",
    "tokens_sw = clean_doc_sw(doc)\n",
    "print(tokens_sw[:200])\n",
    "print('Total tokens: %d' % len(tokens_sw))\n",
    "print('--------------------------')\n",
    "print('Unique tokens: %d' % len(set(tokens_sw)))"
   ]
  },
  {
   "cell_type": "code",
   "execution_count": 18,
   "metadata": {
    "colab": {
     "base_uri": "https://localhost:8080/",
     "height": 35
    },
    "colab_type": "code",
    "id": "VISdQU5Ibltd",
    "outputId": "3713ca6c-c5a5-46a9-c58e-e94f51ed10bf"
   },
   "outputs": [
    {
     "data": {
      "text/plain": [
       "0.24578693209815708"
      ]
     },
     "execution_count": 18,
     "metadata": {
      "tags": []
     },
     "output_type": "execute_result"
    }
   ],
   "source": [
    "lexical_diversity(tokens_sw)"
   ]
  },
  {
   "cell_type": "code",
   "execution_count": 0,
   "metadata": {
    "colab": {},
    "colab_type": "code",
    "id": "cGKLHuO6blp5"
   },
   "outputs": [],
   "source": [
    "# Plot word frequency\n",
    "# Initialize a dictionary\n",
    "dict_sw = {}\n",
    "\n",
    "# Count number of times each word comes up in list of words\n",
    "for key in tokens_sw: \n",
    "    dict_sw[key] = dict_sw.get(key, 0) + 1\n",
    "\n",
    "counts_sw = sorted(dict_sw.items(), key = lambda x: x[1], reverse = True)"
   ]
  },
  {
   "cell_type": "code",
   "execution_count": 0,
   "metadata": {
    "colab": {},
    "colab_type": "code",
    "id": "ITKLRn--b7Jr"
   },
   "outputs": [],
   "source": [
    "# Most and least frequent word occurence\n",
    "top_counts_sw = counts_sw[:30]\n",
    "least_counts_sw = counts_sw[-30:]"
   ]
  },
  {
   "cell_type": "code",
   "execution_count": 21,
   "metadata": {
    "colab": {
     "base_uri": "https://localhost:8080/",
     "height": 90
    },
    "colab_type": "code",
    "id": "3Ud6TRbRb7GL",
    "outputId": "5f5b081f-6842-4498-e6e7-6702fbc64dc7"
   },
   "outputs": [
    {
     "name": "stdout",
     "output_type": "stream",
     "text": [
      "top_counts with stopwords removed: [('gregor', 199), ('would', 187), ('room', 131), ('could', 119), ('gregors', 99), ('father', 96), ('sister', 96), ('door', 87), ('back', 82), ('mother', 82), ('even', 80), ('way', 62), ('time', 59), ('one', 57), ('said', 51), ('little', 49), ('get', 44), ('still', 44), ('first', 44), ('made', 40), ('go', 40), ('see', 39), ('without', 39), ('head', 38), ('much', 38), ('chief', 37), ('like', 36), ('open', 35), ('samsa', 34), ('clerk', 34)]\n",
      "--------------------------\n",
      "least_counts with stopwords removed: [('terribly', 1), ('tonight', 1), ('gets', 1), ('destroyed', 1), ('gained', 1), ('twisted', 1), ('stuff', 1), ('kissed', 1), ('hugged', 1), ('country', 1), ('sunshine', 1), ('comfortably', 1), ('seats', 1), ('discussed', 1), ('examination', 1), ('jobs', 1), ('promise', 1), ('cheaper', 1), ('location', 1), ('practical', 1), ('livelier', 1), ('cheeks', 1), ('pale', 1), ('simultaneously', 1), ('blossoming', 1), ('built', 1), ('quieter', 1), ('agreed', 1), ('confirmation', 1), ('destination', 1)]\n"
     ]
    }
   ],
   "source": [
    "print('top_counts with stopwords removed:', top_counts_sw)\n",
    "print('--------------------------')\n",
    "print('least_counts with stopwords removed:', least_counts_sw)"
   ]
  },
  {
   "cell_type": "markdown",
   "metadata": {},
   "source": [
    "**Figure 2: Top 30 most frequently occurring tokens from text, stopwords removed**"
   ]
  },
  {
   "cell_type": "code",
   "execution_count": 22,
   "metadata": {
    "colab": {
     "base_uri": "https://localhost:8080/",
     "height": 624
    },
    "colab_type": "code",
    "id": "DukBJir4b7DB",
    "outputId": "8543f3eb-e457-4132-e2f2-bac12eaf6fa6"
   },
   "outputs": [
    {
     "data": {
      "text/plain": [
       "<matplotlib.axes._subplots.AxesSubplot at 0x7fbe9664a518>"
      ]
     },
     "execution_count": 22,
     "metadata": {
      "tags": []
     },
     "output_type": "execute_result"
    },
    {
     "data": {
      "image/png": "[encoded data removed]",
      "text/plain": [
       "<Figure size 576x720 with 1 Axes>"
      ]
     },
     "metadata": {
      "needs_background": "light",
      "tags": []
     },
     "output_type": "display_data"
    }
   ],
   "source": [
    "# Plot frequencies\n",
    "words_plot_sw = pd.DataFrame(top_counts_sw, columns = ['Words', 'Counts'])\n",
    "plt.figure(figsize=(8,10))\n",
    "sns.barplot(y=\"Words\", x=\"Counts\", data=words_plot_sw, palette = \"YlGnBu_r\")"
   ]
  },
  {
   "cell_type": "code",
   "execution_count": 25,
   "metadata": {
    "colab": {
     "base_uri": "https://localhost:8080/",
     "height": 1000
    },
    "colab_type": "code",
    "id": "rGS1z9F0dZHx",
    "outputId": "7730e2c7-10e2-4932-ef86-d52bc549aa53"
   },
   "outputs": [
    {
     "name": "stdout",
     "output_type": "stream",
     "text": [
      "Unique words over 10 characters: 150\n",
      "--------------------------------\n"
     ]
    },
    {
     "data": {
      "text/plain": [
       "['accumulated',\n",
       " 'accumulating',\n",
       " 'accusations',\n",
       " 'achievements',\n",
       " 'allimportant',\n",
       " 'announcement',\n",
       " 'anticipation',\n",
       " 'appreciated',\n",
       " 'appreciation',\n",
       " 'apprentices',\n",
       " 'appropriate',\n",
       " 'arrangement',\n",
       " 'beautifully',\n",
       " 'businessman',\n",
       " 'celebrations',\n",
       " 'chambermaids',\n",
       " 'charlottenstrasse',\n",
       " 'circumstances',\n",
       " 'comfortable',\n",
       " 'comfortably',\n",
       " 'communicated',\n",
       " 'communication',\n",
       " 'compellingly',\n",
       " 'complicated',\n",
       " 'comprehension',\n",
       " 'concentrated',\n",
       " 'concentration',\n",
       " 'conclusions',\n",
       " 'confirmation',\n",
       " 'congratulated',\n",
       " 'connections',\n",
       " 'consciousness',\n",
       " 'conservatory',\n",
       " 'considerate',\n",
       " 'consideration',\n",
       " 'considerations',\n",
       " 'considering',\n",
       " 'continually',\n",
       " 'continuously',\n",
       " 'conversation',\n",
       " 'conversations',\n",
       " 'destination',\n",
       " 'deterioration',\n",
       " 'determination',\n",
       " 'differently',\n",
       " 'disappeared',\n",
       " 'disappointed',\n",
       " 'disappointment',\n",
       " 'disconcerted',\n",
       " 'discourtesy',\n",
       " 'dishevelled',\n",
       " 'distinguish',\n",
       " 'emergencies',\n",
       " 'emphatically',\n",
       " 'endearments',\n",
       " 'enquiringly',\n",
       " 'entertaining',\n",
       " 'enthusiastic',\n",
       " 'enunciating',\n",
       " 'establishment',\n",
       " 'everpresent',\n",
       " 'everythings',\n",
       " 'exaggerated',\n",
       " 'examination',\n",
       " 'exceptionally',\n",
       " 'expectations',\n",
       " 'experienced',\n",
       " 'explanation',\n",
       " 'explanations',\n",
       " 'floundering',\n",
       " 'fortunately',\n",
       " 'frightening',\n",
       " 'furnishings',\n",
       " 'furniturerattling',\n",
       " 'helplessness',\n",
       " 'housekeeper',\n",
       " 'illustrated',\n",
       " 'imagination',\n",
       " 'immediately',\n",
       " 'impatiently',\n",
       " 'improvement',\n",
       " 'inaccessible',\n",
       " 'incarcerated',\n",
       " 'incomprehensible',\n",
       " 'indifferent',\n",
       " 'inseparably',\n",
       " 'interrupted',\n",
       " 'introduction',\n",
       " 'investigate',\n",
       " 'laboriously',\n",
       " 'misfortunes',\n",
       " 'nonetheless',\n",
       " 'nonsensical',\n",
       " 'nourishment',\n",
       " 'occasionally',\n",
       " 'occupational',\n",
       " 'opportunity',\n",
       " 'outstretched',\n",
       " 'painwracked',\n",
       " 'particularly',\n",
       " 'performance',\n",
       " 'permanently',\n",
       " 'persecuting',\n",
       " 'plaintively',\n",
       " 'possibilities',\n",
       " 'preoccupied',\n",
       " 'preparation',\n",
       " 'prohibition',\n",
       " 'protrusions',\n",
       " 'realisation',\n",
       " 'rearranging',\n",
       " 'recommendation',\n",
       " 'representative',\n",
       " 'responsibility',\n",
       " 'responsible',\n",
       " 'ridiculously',\n",
       " 'satisfaction',\n",
       " 'selfcontrol',\n",
       " 'selfreproach',\n",
       " 'shortcoming',\n",
       " 'simultaneously',\n",
       " 'startlement',\n",
       " 'strangeness',\n",
       " 'stubbornness',\n",
       " 'subordinates',\n",
       " 'sufficiently',\n",
       " 'suffocating',\n",
       " 'superfluous',\n",
       " 'supernatural',\n",
       " 'temporarily',\n",
       " 'thoughtfully',\n",
       " 'thoughtless',\n",
       " 'transferring',\n",
       " 'transformation',\n",
       " 'transformed',\n",
       " 'uncertainly',\n",
       " 'uncomfortable',\n",
       " 'uncontrollable',\n",
       " 'uncontrolled',\n",
       " 'understanding',\n",
       " 'undisturbed',\n",
       " 'unfortunate',\n",
       " 'unfortunately',\n",
       " 'unnecessary',\n",
       " 'unpleasantness',\n",
       " 'unsatisfactory',\n",
       " 'unselfconsciously',\n",
       " 'unsuccessfully',\n",
       " 'whereabouts',\n",
       " 'windowpanes']"
      ]
     },
     "execution_count": 25,
     "metadata": {
      "tags": []
     },
     "output_type": "execute_result"
    }
   ],
   "source": [
    "# Explore longer words, potentially as a signal for more \"meaningful\" words. Notice that some of these words\n",
    "# were compound phrases and adjectives, such as \"cucumberframe,\" which appears in the text as \"cucumber-frame.\"\n",
    "V = set(tokens)\n",
    "long_words = [w for w in V if len(w) > 10]\n",
    "print('Unique words over 10 characters:', len(long_words))\n",
    "print('--------------------------------')\n",
    "sorted(long_words)"
   ]
  },
  {
   "cell_type": "code",
   "execution_count": 26,
   "metadata": {
    "colab": {
     "base_uri": "https://localhost:8080/",
     "height": 52
    },
    "colab_type": "code",
    "id": "Jqt_huCPqPiP",
    "outputId": "f478a0d5-4e3e-4db8-971c-869b85622d73"
   },
   "outputs": [
    {
     "name": "stdout",
     "output_type": "stream",
     "text": [
      "Total bigrams across text: 22009\n",
      "Unique bigrams across text: 13090\n"
     ]
    }
   ],
   "source": [
    "# Bigram analysis\n",
    "bigram_list = list(nltk.bigrams(tokens))\n",
    "\n",
    "# Display number of total bigrams and number of unique bigrams\n",
    "print('Total bigrams across text: ' + str(len(bigram_list)))\n",
    "print('Unique bigrams across text: ' + str(len(set(bigram_list))))"
   ]
  },
  {
   "cell_type": "code",
   "execution_count": 0,
   "metadata": {
    "colab": {},
    "colab_type": "code",
    "id": "guvH2O1osY1x"
   },
   "outputs": [],
   "source": [
    "# Plot word frequency\n",
    "# Initialize a dictionary\n",
    "dict_bigrams = {}\n",
    "\n",
    "# Count number of times each word comes up in list of words\n",
    "for key in bigram_list: \n",
    "    dict_bigrams[key] = dict_bigrams.get(key, 0) + 1\n",
    "\n",
    "counts_bigrams = sorted(dict_bigrams.items(), key = lambda x: x[1], reverse = True)"
   ]
  },
  {
   "cell_type": "code",
   "execution_count": 0,
   "metadata": {
    "colab": {},
    "colab_type": "code",
    "id": "npEe4P-vsYyF"
   },
   "outputs": [],
   "source": [
    "# Most and least frequent word occurence\n",
    "top_counts_bigrams = counts_bigrams[:30]\n",
    "least_counts_bigrams = counts_bigrams[-30:]"
   ]
  },
  {
   "cell_type": "code",
   "execution_count": 29,
   "metadata": {
    "colab": {
     "base_uri": "https://localhost:8080/",
     "height": 90
    },
    "colab_type": "code",
    "id": "1EAXxtA_sYrZ",
    "outputId": "25830e3e-7c67-45bb-9a0b-4c2d11c6e357"
   },
   "outputs": [
    {
     "name": "stdout",
     "output_type": "stream",
     "text": [
      "top occuring bigrams: [(('of', 'the'), 96), (('he', 'had'), 92), (('in', 'the'), 88), (('it', 'was'), 87), (('he', 'was'), 82), (('the', 'door'), 75), (('his', 'sister'), 68), (('to', 'the'), 64), (('his', 'father'), 60), (('he', 'could'), 58), (('on', 'the'), 57), (('had', 'been'), 54), (('that', 'he'), 53), (('as', 'he'), 45), (('at', 'the'), 43), (('of', 'his'), 43), (('as', 'if'), 43), (('in', 'his'), 42), (('to', 'be'), 41), (('from', 'the'), 41), (('he', 'would'), 39), (('his', 'mother'), 38), (('the', 'chief'), 37), (('the', 'room'), 37), (('and', 'the'), 36), (('she', 'had'), 36), (('if', 'he'), 35), (('into', 'the'), 35), (('they', 'had'), 35), (('out', 'of'), 34)]\n",
      "--------------------------\n",
      "least occuring bigrams: [(('and', 'beautiful'), 1), (('beautiful', 'young'), 1), (('lady', 'they'), 1), (('became', 'quieter'), 1), (('quieter', 'just'), 1), (('just', 'from'), 1), (('from', 'each'), 1), (('each', 'others'), 1), (('others', 'glance'), 1), (('glance', 'and'), 1), (('they', 'agreed'), 1), (('agreed', 'that'), 1), (('be', 'time'), 1), (('good', 'man'), 1), (('man', 'for'), 1), (('in', 'confirmation'), 1), (('confirmation', 'of'), 1), (('their', 'new'), 1), (('new', 'dreams'), 1), (('dreams', 'and'), 1), (('and', 'good'), 1), (('they', 'reached'), 1), (('reached', 'their'), 1), (('their', 'destination'), 1), (('destination', 'grete'), 1), (('and', 'stretch'), 1), (('stretch', 'out'), 1), (('out', 'her'), 1), (('her', 'young'), 1), (('young', 'body'), 1)]\n"
     ]
    }
   ],
   "source": [
    "print('top occuring bigrams:', top_counts_bigrams)\n",
    "print('--------------------------')\n",
    "print('least occuring bigrams:', least_counts_bigrams)"
   ]
  },
  {
   "cell_type": "markdown",
   "metadata": {},
   "source": [
    "**Figure 3: Top 30 most frequently occurring bi-grams from text**"
   ]
  },
  {
   "cell_type": "code",
   "execution_count": 30,
   "metadata": {
    "colab": {
     "base_uri": "https://localhost:8080/",
     "height": 624
    },
    "colab_type": "code",
    "id": "Owd08LJ8tFfk",
    "outputId": "d0d34e33-b72c-4359-a92c-e8ea287d2f05"
   },
   "outputs": [
    {
     "data": {
      "text/plain": [
       "<matplotlib.axes._subplots.AxesSubplot at 0x7fbe554ddf98>"
      ]
     },
     "execution_count": 30,
     "metadata": {
      "tags": []
     },
     "output_type": "execute_result"
    },
    {
     "data": {
      "image/png": "[encoded data removed]",
      "text/plain": [
       "<Figure size 576x720 with 1 Axes>"
      ]
     },
     "metadata": {
      "needs_background": "light",
      "tags": []
     },
     "output_type": "display_data"
    }
   ],
   "source": [
    "# Plot frequencies\n",
    "bigrams_plot = pd.DataFrame(top_counts_bigrams, columns = ['Bigrams', 'Counts'])\n",
    "plt.figure(figsize=(8,10))\n",
    "sns.barplot(y=\"Bigrams\", x=\"Counts\", data=bigrams_plot, palette = \"YlGnBu_r\")"
   ]
  },
  {
   "cell_type": "code",
   "execution_count": 0,
   "metadata": {
    "colab": {},
    "colab_type": "code",
    "id": "tIAXkteqqp17"
   },
   "outputs": [],
   "source": [
    "# # Find most frequently occurring bigrams (top 30)\n",
    "# counter=Counter(bigram_list)\n",
    "# # print(counter.most_common(30))\n",
    "# print('Most common bigrams: ' + '\\n' + str(counter.most_common(30)))"
   ]
  },
  {
   "cell_type": "markdown",
   "metadata": {
    "colab_type": "text",
    "id": "FLmrOWmbKakB"
   },
   "source": [
    "## 3. Save clean text as sequences and load document into memory\n",
    "Sequence length is a key design decision: they must be long enough to properly allow models to learn the context and make reasonable predictions. The sequence length also defines the seed text length used to generate text sequences for model evaluation. A length of 50 is selected for this study, with sequences serving as inputs and training patterns to the various models. "
   ]
  },
  {
   "cell_type": "code",
   "execution_count": 31,
   "metadata": {
    "colab": {
     "base_uri": "https://localhost:8080/",
     "height": 35
    },
    "colab_type": "code",
    "id": "sQ4fSe5TcZrr",
    "outputId": "8434b2a4-4f59-4bba-fa10-3118b8b3954f"
   },
   "outputs": [
    {
     "name": "stdout",
     "output_type": "stream",
     "text": [
      "Total sequences: 21959\n"
     ]
    }
   ],
   "source": [
    "# Organize into sequences of tokens\n",
    "length = 50 + 1\n",
    "sequences = list()\n",
    "for i in range(length, len(tokens)):\n",
    "    # Select sequence of tokens\n",
    "    seq = tokens[i-length:i]\n",
    "    # Convert into a line\n",
    "    line = ' '.join(seq)\n",
    "    # Store\n",
    "    sequences.append(line)\n",
    "print('Total sequences: %d' % len(sequences))"
   ]
  },
  {
   "cell_type": "code",
   "execution_count": 0,
   "metadata": {
    "colab": {},
    "colab_type": "code",
    "id": "UNeDCgvWcZrc"
   },
   "outputs": [],
   "source": [
    "# Save tokens to file, one dialog per line\n",
    "def save_doc(lines, filename):\n",
    "    data = '\\n'.join(lines)\n",
    "    file = open(filename, 'w')\n",
    "    file.write(data)\n",
    "    file.close()"
   ]
  },
  {
   "cell_type": "code",
   "execution_count": 0,
   "metadata": {
    "colab": {},
    "colab_type": "code",
    "id": "8l42KSkocZrv"
   },
   "outputs": [],
   "source": [
    "# Save sequences to file\n",
    "out_filename = 'meta_sequences.txt'\n",
    "save_doc(sequences, out_filename)"
   ]
  },
  {
   "cell_type": "code",
   "execution_count": 0,
   "metadata": {
    "colab": {},
    "colab_type": "code",
    "id": "LwfuPaGqcZsJ"
   },
   "outputs": [],
   "source": [
    "# Define function to load doc into memory\n",
    "def load_doc(filename):\n",
    "    # open the file as read only\n",
    "    file = open(filename, 'r')\n",
    "    # read all text\n",
    "    text = file.read()\n",
    "    # close the file\n",
    "    file.close()\n",
    "    return text"
   ]
  },
  {
   "cell_type": "code",
   "execution_count": 0,
   "metadata": {
    "colab": {},
    "colab_type": "code",
    "id": "YWT3OL0lcZsY"
   },
   "outputs": [],
   "source": [
    "# Load doc\n",
    "in_filename = 'meta_sequences.txt'\n",
    "doc = load_doc(in_filename)\n",
    "lines = doc.split('\\n')"
   ]
  },
  {
   "cell_type": "markdown",
   "metadata": {
    "colab_type": "text",
    "id": "8VGjxVRoKakZ"
   },
   "source": [
    "## 4. Prepare data sequences for neural network input\n",
    "The Tokenizer class in Keras is used to encode input sequences to integers, which the neural networks expect as input. The vocabulary size, defined by this encoding process, is defined as the vocabulary + 1 in length for feeding to the Embedding layer. After encoding, sequences are separated into input (X) and output (y) elements using array slicing. Output words are one hot encoded so the models in the study can predict the probability distribution for the next word."
   ]
  },
  {
   "cell_type": "code",
   "execution_count": 0,
   "metadata": {
    "colab": {},
    "colab_type": "code",
    "id": "F68EIvBdcZsd"
   },
   "outputs": [],
   "source": [
    "# Integer encode sequences of words\n",
    "tokenizer = Tokenizer()\n",
    "tokenizer.fit_on_texts(lines)\n",
    "sequences = tokenizer.texts_to_sequences(lines)"
   ]
  },
  {
   "cell_type": "code",
   "execution_count": 0,
   "metadata": {
    "colab": {},
    "colab_type": "code",
    "id": "9yvvCXc5cZsh"
   },
   "outputs": [],
   "source": [
    "# Define vocabulary size\n",
    "vocab_size = len(tokenizer.word_index) + 1"
   ]
  },
  {
   "cell_type": "code",
   "execution_count": 38,
   "metadata": {
    "colab": {
     "base_uri": "https://localhost:8080/",
     "height": 35
    },
    "colab_type": "code",
    "id": "C5z5zbgoKaki",
    "outputId": "238afa64-5e1d-4fb2-8309-12d5e85a8fde"
   },
   "outputs": [
    {
     "data": {
      "text/plain": [
       "2614"
      ]
     },
     "execution_count": 38,
     "metadata": {
      "tags": []
     },
     "output_type": "execute_result"
    }
   ],
   "source": [
    "vocab_size"
   ]
  },
  {
   "cell_type": "code",
   "execution_count": 0,
   "metadata": {
    "colab": {},
    "colab_type": "code",
    "id": "3m8WD0amcZsj"
   },
   "outputs": [],
   "source": [
    "# Separate sequences into input and output\n",
    "sequences = array(sequences)\n",
    "X, y = sequences[:,:-1], sequences[:,-1]\n",
    "y = to_categorical(y, num_classes=vocab_size)\n",
    "seq_length = X.shape[1]"
   ]
  },
  {
   "cell_type": "code",
   "execution_count": 40,
   "metadata": {
    "colab": {
     "base_uri": "https://localhost:8080/",
     "height": 35
    },
    "colab_type": "code",
    "id": "4DuGqwUZOnz0",
    "outputId": "183a365a-8e97-4067-c346-f227be5cc3dc"
   },
   "outputs": [
    {
     "name": "stdout",
     "output_type": "stream",
     "text": [
      "Total Sequences: 21959\n"
     ]
    }
   ],
   "source": [
    "print('Total Sequences: %d' % len(sequences))"
   ]
  },
  {
   "cell_type": "markdown",
   "metadata": {
    "colab_type": "text",
    "id": "32Lzq13_q64B"
   },
   "source": [
    "## 5. Train language models\n",
    "\n",
    "To train statistical models from the data, these experiments all employ an embedding layer to learn the representation of words. Parameterization of words as vectors in this manner, learned as part of the training process, enables words with a similar meaning to have a similar representation. LSTM RNNs then learn to predict words based on context. There is no test dataset: models are trained on the entire training dataset to learn the probability of each word in a sequence.\n",
    "\n",
    "All models will employ the following hyperparameters for consistency and evaluation purposes:\n",
    "* Loss function: categorical cross-entropy\n",
    "* Optimizer: adam\n",
    "* Batch size: 128\n",
    "* Training epochs: 50\n",
    "* Early stopping with patience of 5"
   ]
  },
  {
   "cell_type": "markdown",
   "metadata": {
    "colab_type": "text",
    "id": "akR8Uf7NKaks"
   },
   "source": [
    "### <i>Baseline experiment 1: LSTM RNN</i> \n",
    "This first neural network serves as a baseline, with a simple architecture and fewer memory cell units, to evaluate model performance on this text with a relatively spare neural network.\n",
    "* 1 hidden layer\n",
    "* 100 memory cell units\n",
    "* Embedding vector space size 50"
   ]
  },
  {
   "cell_type": "code",
   "execution_count": 0,
   "metadata": {
    "colab": {},
    "colab_type": "code",
    "id": "SbqvoH_ccZsp"
   },
   "outputs": [],
   "source": [
    "# Define model\n",
    "model_1 = Sequential()\n",
    "model_1.add(Embedding(vocab_size, 50, input_length=seq_length))\n",
    "model_1.add(LSTM(100))\n",
    "# model_1.add(LSTM(100))\n",
    "model_1.add(Dense(100, activation='relu'))\n",
    "model_1.add(Dense(vocab_size, activation='softmax'))"
   ]
  },
  {
   "cell_type": "code",
   "execution_count": 42,
   "metadata": {
    "colab": {
     "base_uri": "https://localhost:8080/",
     "height": 815
    },
    "colab_type": "code",
    "id": "GMxdNV5qcZss",
    "outputId": "d347f218-8a4b-44f4-9ae0-5a7fdd932b42"
   },
   "outputs": [
    {
     "name": "stdout",
     "output_type": "stream",
     "text": [
      "Model: \"sequential_1\"\n",
      "_________________________________________________________________\n",
      "Layer (type)                 Output Shape              Param #   \n",
      "=================================================================\n",
      "embedding_1 (Embedding)      (None, 50, 50)            130700    \n",
      "_________________________________________________________________\n",
      "lstm_1 (LSTM)                (None, 100)               60400     \n",
      "_________________________________________________________________\n",
      "dense_1 (Dense)              (None, 100)               10100     \n",
      "_________________________________________________________________\n",
      "dense_2 (Dense)              (None, 2614)              264014    \n",
      "=================================================================\n",
      "Total params: 465,214\n",
      "Trainable params: 465,214\n",
      "Non-trainable params: 0\n",
      "_________________________________________________________________\n"
     ]
    },
    {
     "data": {
      "image/png": "[encoded data removed]",
      "text/plain": [
       "<IPython.core.display.Image object>"
      ]
     },
     "execution_count": 42,
     "metadata": {
      "tags": []
     },
     "output_type": "execute_result"
    }
   ],
   "source": [
    "# Model summary\n",
    "model_1.summary()\n",
    "plot_model(model_1, to_file='figures/model_1.png', show_shapes=True)"
   ]
  },
  {
   "cell_type": "code",
   "execution_count": 0,
   "metadata": {
    "colab": {},
    "colab_type": "code",
    "id": "JnolrDUFcZsz"
   },
   "outputs": [],
   "source": [
    "# Compile model\n",
    "model_1.compile(loss='categorical_crossentropy', optimizer='adam', metrics=['accuracy'])"
   ]
  },
  {
   "cell_type": "code",
   "execution_count": 0,
   "metadata": {
    "colab": {},
    "colab_type": "code",
    "id": "gvhlezDJKak3"
   },
   "outputs": [],
   "source": [
    "# Define the checkpoint\n",
    "# filepath='results/exp1/weights-improvement-{epoch:02d}-{loss:.4f}.hdf5'\n",
    "filepath='results/exp1/best_model.hdf5'\n",
    "checkpoint = ModelCheckpoint(filepath, monitor='loss', verbose=1, save_best_only=True, mode='min')\n",
    "es = EarlyStopping(monitor='loss', mode='min', verbose=1, patience=5)\n",
    "callbacks_list = [checkpoint, es]"
   ]
  },
  {
   "cell_type": "code",
   "execution_count": 45,
   "metadata": {
    "colab": {
     "base_uri": "https://localhost:8080/",
     "height": 1000
    },
    "colab_type": "code",
    "id": "bN541PRacZs8",
    "outputId": "a5afaeaf-f5e6-4c44-82e0-1681ddad69aa"
   },
   "outputs": [
    {
     "name": "stderr",
     "output_type": "stream",
     "text": [
      "/usr/local/lib/python3.6/dist-packages/tensorflow/python/framework/indexed_slices.py:434: UserWarning: Converting sparse IndexedSlices to a dense Tensor of unknown shape. This may consume a large amount of memory.\n",
      "  \"Converting sparse IndexedSlices to a dense Tensor of unknown shape. \"\n"
     ]
    },
    {
     "name": "stdout",
     "output_type": "stream",
     "text": [
      "Epoch 1/50\n",
      "21959/21959 [==============================] - 27s 1ms/step - loss: 6.3925 - accuracy: 0.0475\n",
      "\n",
      "Epoch 00001: loss improved from inf to 6.39253, saving model to results/exp1/best_model.hdf5\n",
      "Epoch 2/50\n",
      "21959/21959 [==============================] - 25s 1ms/step - loss: 5.9630 - accuracy: 0.0522\n",
      "\n",
      "Epoch 00002: loss improved from 6.39253 to 5.96303, saving model to results/exp1/best_model.hdf5\n",
      "Epoch 3/50\n",
      "21959/21959 [==============================] - 25s 1ms/step - loss: 5.8669 - accuracy: 0.0532\n",
      "\n",
      "Epoch 00003: loss improved from 5.96303 to 5.86691, saving model to results/exp1/best_model.hdf5\n",
      "Epoch 4/50\n",
      "21959/21959 [==============================] - 24s 1ms/step - loss: 5.7122 - accuracy: 0.0628\n",
      "\n",
      "Epoch 00004: loss improved from 5.86691 to 5.71222, saving model to results/exp1/best_model.hdf5\n",
      "Epoch 5/50\n",
      "21959/21959 [==============================] - 24s 1ms/step - loss: 5.5729 - accuracy: 0.0735\n",
      "\n",
      "Epoch 00005: loss improved from 5.71222 to 5.57290, saving model to results/exp1/best_model.hdf5\n",
      "Epoch 6/50\n",
      "21959/21959 [==============================] - 25s 1ms/step - loss: 5.4367 - accuracy: 0.0859\n",
      "\n",
      "Epoch 00006: loss improved from 5.57290 to 5.43668, saving model to results/exp1/best_model.hdf5\n",
      "Epoch 7/50\n",
      "21959/21959 [==============================] - 25s 1ms/step - loss: 5.2993 - accuracy: 0.0984\n",
      "\n",
      "Epoch 00007: loss improved from 5.43668 to 5.29931, saving model to results/exp1/best_model.hdf5\n",
      "Epoch 8/50\n",
      "21959/21959 [==============================] - 25s 1ms/step - loss: 5.1586 - accuracy: 0.1128\n",
      "\n",
      "Epoch 00008: loss improved from 5.29931 to 5.15856, saving model to results/exp1/best_model.hdf5\n",
      "Epoch 9/50\n",
      "21959/21959 [==============================] - 25s 1ms/step - loss: 5.0273 - accuracy: 0.1237\n",
      "\n",
      "Epoch 00009: loss improved from 5.15856 to 5.02735, saving model to results/exp1/best_model.hdf5\n",
      "Epoch 10/50\n",
      "21959/21959 [==============================] - 25s 1ms/step - loss: 4.9151 - accuracy: 0.1316\n",
      "\n",
      "Epoch 00010: loss improved from 5.02735 to 4.91505, saving model to results/exp1/best_model.hdf5\n",
      "Epoch 11/50\n",
      "21959/21959 [==============================] - 25s 1ms/step - loss: 4.8248 - accuracy: 0.1390\n",
      "\n",
      "Epoch 00011: loss improved from 4.91505 to 4.82483, saving model to results/exp1/best_model.hdf5\n",
      "Epoch 12/50\n",
      "21959/21959 [==============================] - 25s 1ms/step - loss: 4.7449 - accuracy: 0.1429\n",
      "\n",
      "Epoch 00012: loss improved from 4.82483 to 4.74489, saving model to results/exp1/best_model.hdf5\n",
      "Epoch 13/50\n",
      "21959/21959 [==============================] - 25s 1ms/step - loss: 4.6743 - accuracy: 0.1472\n",
      "\n",
      "Epoch 00013: loss improved from 4.74489 to 4.67433, saving model to results/exp1/best_model.hdf5\n",
      "Epoch 14/50\n",
      "21959/21959 [==============================] - 24s 1ms/step - loss: 4.6108 - accuracy: 0.1495\n",
      "\n",
      "Epoch 00014: loss improved from 4.67433 to 4.61080, saving model to results/exp1/best_model.hdf5\n",
      "Epoch 15/50\n",
      "21959/21959 [==============================] - 25s 1ms/step - loss: 4.5471 - accuracy: 0.1557\n",
      "\n",
      "Epoch 00015: loss improved from 4.61080 to 4.54711, saving model to results/exp1/best_model.hdf5\n",
      "Epoch 16/50\n",
      "21959/21959 [==============================] - 24s 1ms/step - loss: 4.4873 - accuracy: 0.1593\n",
      "\n",
      "Epoch 00016: loss improved from 4.54711 to 4.48727, saving model to results/exp1/best_model.hdf5\n",
      "Epoch 17/50\n",
      "21959/21959 [==============================] - 25s 1ms/step - loss: 4.4294 - accuracy: 0.1633\n",
      "\n",
      "Epoch 00017: loss improved from 4.48727 to 4.42937, saving model to results/exp1/best_model.hdf5\n",
      "Epoch 18/50\n",
      "21959/21959 [==============================] - 25s 1ms/step - loss: 4.3683 - accuracy: 0.1675\n",
      "\n",
      "Epoch 00018: loss improved from 4.42937 to 4.36828, saving model to results/exp1/best_model.hdf5\n",
      "Epoch 19/50\n",
      "21959/21959 [==============================] - 24s 1ms/step - loss: 4.3063 - accuracy: 0.1729\n",
      "\n",
      "Epoch 00019: loss improved from 4.36828 to 4.30625, saving model to results/exp1/best_model.hdf5\n",
      "Epoch 20/50\n",
      "21959/21959 [==============================] - 25s 1ms/step - loss: 4.2453 - accuracy: 0.1764\n",
      "\n",
      "Epoch 00020: loss improved from 4.30625 to 4.24534, saving model to results/exp1/best_model.hdf5\n",
      "Epoch 21/50\n",
      "21959/21959 [==============================] - 24s 1ms/step - loss: 4.1810 - accuracy: 0.1792\n",
      "\n",
      "Epoch 00021: loss improved from 4.24534 to 4.18102, saving model to results/exp1/best_model.hdf5\n",
      "Epoch 22/50\n",
      "21959/21959 [==============================] - 25s 1ms/step - loss: 4.1203 - accuracy: 0.1822\n",
      "\n",
      "Epoch 00022: loss improved from 4.18102 to 4.12029, saving model to results/exp1/best_model.hdf5\n",
      "Epoch 23/50\n",
      "21959/21959 [==============================] - 25s 1ms/step - loss: 4.0522 - accuracy: 0.1891\n",
      "\n",
      "Epoch 00023: loss improved from 4.12029 to 4.05218, saving model to results/exp1/best_model.hdf5\n",
      "Epoch 24/50\n",
      "21959/21959 [==============================] - 25s 1ms/step - loss: 3.9887 - accuracy: 0.1954\n",
      "\n",
      "Epoch 00024: loss improved from 4.05218 to 3.98873, saving model to results/exp1/best_model.hdf5\n",
      "Epoch 25/50\n",
      "21959/21959 [==============================] - 24s 1ms/step - loss: 3.9268 - accuracy: 0.1977\n",
      "\n",
      "Epoch 00025: loss improved from 3.98873 to 3.92679, saving model to results/exp1/best_model.hdf5\n",
      "Epoch 26/50\n",
      "21959/21959 [==============================] - 24s 1ms/step - loss: 3.8561 - accuracy: 0.2044\n",
      "\n",
      "Epoch 00026: loss improved from 3.92679 to 3.85608, saving model to results/exp1/best_model.hdf5\n",
      "Epoch 27/50\n",
      "21959/21959 [==============================] - 25s 1ms/step - loss: 3.7942 - accuracy: 0.2119\n",
      "\n",
      "Epoch 00027: loss improved from 3.85608 to 3.79416, saving model to results/exp1/best_model.hdf5\n",
      "Epoch 28/50\n",
      "21959/21959 [==============================] - 24s 1ms/step - loss: 3.7312 - accuracy: 0.2195\n",
      "\n",
      "Epoch 00028: loss improved from 3.79416 to 3.73122, saving model to results/exp1/best_model.hdf5\n",
      "Epoch 29/50\n",
      "21959/21959 [==============================] - 25s 1ms/step - loss: 3.6679 - accuracy: 0.2242\n",
      "\n",
      "Epoch 00029: loss improved from 3.73122 to 3.66789, saving model to results/exp1/best_model.hdf5\n",
      "Epoch 30/50\n",
      "21959/21959 [==============================] - 25s 1ms/step - loss: 3.6095 - accuracy: 0.2303\n",
      "\n",
      "Epoch 00030: loss improved from 3.66789 to 3.60946, saving model to results/exp1/best_model.hdf5\n",
      "Epoch 31/50\n",
      "21959/21959 [==============================] - 24s 1ms/step - loss: 3.5476 - accuracy: 0.2359\n",
      "\n",
      "Epoch 00031: loss improved from 3.60946 to 3.54757, saving model to results/exp1/best_model.hdf5\n",
      "Epoch 32/50\n",
      "21959/21959 [==============================] - 24s 1ms/step - loss: 3.4932 - accuracy: 0.2454\n",
      "\n",
      "Epoch 00032: loss improved from 3.54757 to 3.49320, saving model to results/exp1/best_model.hdf5\n",
      "Epoch 33/50\n",
      "21959/21959 [==============================] - 25s 1ms/step - loss: 3.4344 - accuracy: 0.2509\n",
      "\n",
      "Epoch 00033: loss improved from 3.49320 to 3.43436, saving model to results/exp1/best_model.hdf5\n",
      "Epoch 34/50\n",
      "21959/21959 [==============================] - 24s 1ms/step - loss: 3.3767 - accuracy: 0.2578\n",
      "\n",
      "Epoch 00034: loss improved from 3.43436 to 3.37675, saving model to results/exp1/best_model.hdf5\n",
      "Epoch 35/50\n",
      "21959/21959 [==============================] - 24s 1ms/step - loss: 3.3237 - accuracy: 0.2652\n",
      "\n",
      "Epoch 00035: loss improved from 3.37675 to 3.32370, saving model to results/exp1/best_model.hdf5\n",
      "Epoch 36/50\n",
      "21959/21959 [==============================] - 25s 1ms/step - loss: 3.2712 - accuracy: 0.2720\n",
      "\n",
      "Epoch 00036: loss improved from 3.32370 to 3.27122, saving model to results/exp1/best_model.hdf5\n",
      "Epoch 37/50\n",
      "21959/21959 [==============================] - 24s 1ms/step - loss: 3.2133 - accuracy: 0.2807\n",
      "\n",
      "Epoch 00037: loss improved from 3.27122 to 3.21329, saving model to results/exp1/best_model.hdf5\n",
      "Epoch 38/50\n",
      "21959/21959 [==============================] - 25s 1ms/step - loss: 3.1664 - accuracy: 0.2866\n",
      "\n",
      "Epoch 00038: loss improved from 3.21329 to 3.16642, saving model to results/exp1/best_model.hdf5\n",
      "Epoch 39/50\n",
      "21959/21959 [==============================] - 25s 1ms/step - loss: 3.1137 - accuracy: 0.2952\n",
      "\n",
      "Epoch 00039: loss improved from 3.16642 to 3.11366, saving model to results/exp1/best_model.hdf5\n",
      "Epoch 40/50\n",
      "21959/21959 [==============================] - 25s 1ms/step - loss: 3.0636 - accuracy: 0.3034\n",
      "\n",
      "Epoch 00040: loss improved from 3.11366 to 3.06365, saving model to results/exp1/best_model.hdf5\n",
      "Epoch 41/50\n",
      "21959/21959 [==============================] - 25s 1ms/step - loss: 3.0139 - accuracy: 0.3083\n",
      "\n",
      "Epoch 00041: loss improved from 3.06365 to 3.01387, saving model to results/exp1/best_model.hdf5\n",
      "Epoch 42/50\n",
      "21959/21959 [==============================] - 25s 1ms/step - loss: 2.9673 - accuracy: 0.3173\n",
      "\n",
      "Epoch 00042: loss improved from 3.01387 to 2.96732, saving model to results/exp1/best_model.hdf5\n",
      "Epoch 43/50\n",
      "21959/21959 [==============================] - 25s 1ms/step - loss: 2.9226 - accuracy: 0.3245\n",
      "\n",
      "Epoch 00043: loss improved from 2.96732 to 2.92262, saving model to results/exp1/best_model.hdf5\n",
      "Epoch 44/50\n",
      "21959/21959 [==============================] - 24s 1ms/step - loss: 2.8735 - accuracy: 0.3336\n",
      "\n",
      "Epoch 00044: loss improved from 2.92262 to 2.87349, saving model to results/exp1/best_model.hdf5\n",
      "Epoch 45/50\n",
      "21959/21959 [==============================] - 25s 1ms/step - loss: 2.8265 - accuracy: 0.3389\n",
      "\n",
      "Epoch 00045: loss improved from 2.87349 to 2.82647, saving model to results/exp1/best_model.hdf5\n",
      "Epoch 46/50\n",
      "21959/21959 [==============================] - 24s 1ms/step - loss: 2.7840 - accuracy: 0.3469\n",
      "\n",
      "Epoch 00046: loss improved from 2.82647 to 2.78405, saving model to results/exp1/best_model.hdf5\n",
      "Epoch 47/50\n",
      "21959/21959 [==============================] - 24s 1ms/step - loss: 2.7405 - accuracy: 0.3562\n",
      "\n",
      "Epoch 00047: loss improved from 2.78405 to 2.74051, saving model to results/exp1/best_model.hdf5\n",
      "Epoch 48/50\n",
      "21959/21959 [==============================] - 24s 1ms/step - loss: 2.6992 - accuracy: 0.3647\n",
      "\n",
      "Epoch 00048: loss improved from 2.74051 to 2.69916, saving model to results/exp1/best_model.hdf5\n",
      "Epoch 49/50\n",
      "21959/21959 [==============================] - 25s 1ms/step - loss: 2.6546 - accuracy: 0.3731\n",
      "\n",
      "Epoch 00049: loss improved from 2.69916 to 2.65457, saving model to results/exp1/best_model.hdf5\n",
      "Epoch 50/50\n",
      "21959/21959 [==============================] - 25s 1ms/step - loss: 2.6152 - accuracy: 0.3803\n",
      "\n",
      "Epoch 00050: loss improved from 2.65457 to 2.61518, saving model to results/exp1/best_model.hdf5\n",
      "--------------------------\n",
      "Training time in seconds:  1260.47\n",
      "--------------------------\n"
     ]
    }
   ],
   "source": [
    "# Fit the model\n",
    "start_time = time.time()\n",
    "history = model_1.fit(X, \n",
    "                      y, \n",
    "                      batch_size=128, \n",
    "                      epochs=50,\n",
    "                      callbacks=callbacks_list)\n",
    "\n",
    "elapsed_time = time.time() - start_time\n",
    "print('--------------------------')\n",
    "print('Training time in seconds: ', round(elapsed_time,2))\n",
    "print('--------------------------')"
   ]
  },
  {
   "cell_type": "code",
   "execution_count": 0,
   "metadata": {
    "colab": {},
    "colab_type": "code",
    "id": "HG3ISn33Kak8"
   },
   "outputs": [],
   "source": [
    "# Plot model performance"
   ]
  },
  {
   "cell_type": "code",
   "execution_count": 0,
   "metadata": {
    "colab": {},
    "colab_type": "code",
    "id": "hqw9GdIVKak_"
   },
   "outputs": [],
   "source": [
    "# history_dict = history.history\n",
    "# history_dict.keys()"
   ]
  },
  {
   "cell_type": "markdown",
   "metadata": {},
   "source": [
    "**Figure 4: Learning curves for Model 1**"
   ]
  },
  {
   "cell_type": "code",
   "execution_count": 46,
   "metadata": {
    "colab": {
     "base_uri": "https://localhost:8080/",
     "height": 324
    },
    "colab_type": "code",
    "id": "k_uAqqYtKalC",
    "outputId": "9fad4eac-2930-4ed1-e20b-b1b9f9e8c9e2"
   },
   "outputs": [
    {
     "data": {
      "image/png": "[encoded data removed]",
      "text/plain": [
       "<Figure size 576x360 with 1 Axes>"
      ]
     },
     "metadata": {
      "needs_background": "light",
      "tags": []
     },
     "output_type": "display_data"
    }
   ],
   "source": [
    "# Plot learning curves for model\n",
    "pd.DataFrame(history.history).plot(figsize=(8, 5))\n",
    "plt.grid(True)\n",
    "plt.gca().set_ylim(0, 5) # set the vertical range to [0-5]\n",
    "plt.savefig('figures/learning_curves_model_1', tight_layout=False)\n",
    "plt.show()"
   ]
  },
  {
   "cell_type": "code",
   "execution_count": 0,
   "metadata": {
    "colab": {},
    "colab_type": "code",
    "id": "dVymDkefcZtB"
   },
   "outputs": [],
   "source": [
    "# Save the model to file\n",
    "model_1.save('results/exp1/model_1.h5')\n",
    "# Save the tokenizer\n",
    "dump(tokenizer, open('meta_tokenizer.pkl', 'wb'))"
   ]
  },
  {
   "cell_type": "code",
   "execution_count": 0,
   "metadata": {
    "colab": {},
    "colab_type": "code",
    "id": "Iy1YO_sJKalF"
   },
   "outputs": [],
   "source": [
    "# Prepare the language model"
   ]
  },
  {
   "cell_type": "code",
   "execution_count": 0,
   "metadata": {
    "colab": {},
    "colab_type": "code",
    "id": "lbg_qQiKKalH"
   },
   "outputs": [],
   "source": [
    "# Load cleaned text sequences\n",
    "in_filename = 'meta_sequences.txt'\n",
    "doc = load_doc(in_filename)\n",
    "lines = doc.split('\\n')\n",
    "\n",
    "# Define sequence length\n",
    "seq_length = len(lines[0].split()) - 1"
   ]
  },
  {
   "cell_type": "code",
   "execution_count": 50,
   "metadata": {
    "colab": {
     "base_uri": "https://localhost:8080/",
     "height": 72
    },
    "colab_type": "code",
    "id": "wiWDLhFHKalK",
    "outputId": "5a3b47b1-098c-422e-a979-ddca53c807e4"
   },
   "outputs": [
    {
     "name": "stderr",
     "output_type": "stream",
     "text": [
      "/usr/local/lib/python3.6/dist-packages/tensorflow/python/framework/indexed_slices.py:434: UserWarning: Converting sparse IndexedSlices to a dense Tensor of unknown shape. This may consume a large amount of memory.\n",
      "  \"Converting sparse IndexedSlices to a dense Tensor of unknown shape. \"\n"
     ]
    }
   ],
   "source": [
    "# Load the model\n",
    "model = load_model('results/exp1/model_1.h5')"
   ]
  },
  {
   "cell_type": "code",
   "execution_count": 0,
   "metadata": {
    "colab": {},
    "colab_type": "code",
    "id": "UL9DA23qKalM"
   },
   "outputs": [],
   "source": [
    "# Load the tokenizer\n",
    "tokenizer = load(open('meta_tokenizer.pkl', 'rb'))"
   ]
  },
  {
   "cell_type": "code",
   "execution_count": 0,
   "metadata": {
    "colab": {},
    "colab_type": "code",
    "id": "UTkIc4sVKalP"
   },
   "outputs": [],
   "source": [
    "# Generate text and evaluate"
   ]
  },
  {
   "cell_type": "code",
   "execution_count": 0,
   "metadata": {
    "colab": {},
    "colab_type": "code",
    "id": "tiFijANEKalV"
   },
   "outputs": [],
   "source": [
    "# Define function to generate sequence from language model\n",
    "def generate_seq(model, tokenizer, seq_length, seed_text, n_words):\n",
    "    result = list()\n",
    "    in_text = seed_text\n",
    "    # generate a fixed number of words\n",
    "    for _ in range(n_words):\n",
    "        # encode the text as integer\n",
    "        encoded = tokenizer.texts_to_sequences([in_text])[0]\n",
    "        # truncate sequences to a fixed length\n",
    "        encoded = pad_sequences([encoded], maxlen=seq_length, truncating='pre')\n",
    "        # predict probabilities for each word\n",
    "        yhat = model.predict_classes(encoded, verbose=0)\n",
    "        # map predicted word index to word\n",
    "        out_word = ''\n",
    "        for word, index in tokenizer.word_index.items():\n",
    "            if index == yhat:\n",
    "                out_word = word\n",
    "                break\n",
    "        # append to input\n",
    "        in_text += ' ' + out_word\n",
    "        result.append(out_word)\n",
    "    return ' '.join(result)"
   ]
  },
  {
   "cell_type": "code",
   "execution_count": 0,
   "metadata": {
    "colab": {},
    "colab_type": "code",
    "id": "TqtCwSLWyN-v"
   },
   "outputs": [],
   "source": [
    "# Select a seed text\n",
    "seed_text = lines[randint(0,len(lines))]"
   ]
  },
  {
   "cell_type": "code",
   "execution_count": 55,
   "metadata": {
    "colab": {
     "base_uri": "https://localhost:8080/",
     "height": 90
    },
    "colab_type": "code",
    "id": "w1YrJdRtnp64",
    "outputId": "d7747287-d790-45ed-d36c-4615938b22fa"
   },
   "outputs": [
    {
     "name": "stdout",
     "output_type": "stream",
     "text": [
      "Seed text 1: had become more obstinate and would always insist on staying longer at the table even though he regularly fell asleep and it was then harder than ever to persuade him to exchange the chair for his bed then however much mother and sister would importune him with little reproaches and warnings\n",
      "----------------------------------\n",
      "Generated text 1: he had been very fond of wearing them and smoking with the bed bend down in the morning and the chief clerk had fallen away from the door was opened a little frame for instance gregor whose whereabouts she had to do was take any of all the ones that\n"
     ]
    }
   ],
   "source": [
    "# Generate new text\n",
    "print('Seed text 1:', seed_text)\n",
    "print('----------------------------------')\n",
    "generated = generate_seq(model, tokenizer, seq_length, seed_text, 50)\n",
    "print('Generated text 1:', generated)"
   ]
  },
  {
   "cell_type": "code",
   "execution_count": 0,
   "metadata": {
    "colab": {},
    "colab_type": "code",
    "id": "_bcd9BinKala"
   },
   "outputs": [],
   "source": [
    "# Select a new seed text\n",
    "seed_text = lines[randint(0,len(lines))]"
   ]
  },
  {
   "cell_type": "code",
   "execution_count": 57,
   "metadata": {
    "colab": {
     "base_uri": "https://localhost:8080/",
     "height": 90
    },
    "colab_type": "code",
    "id": "aRKkGgcbKale",
    "outputId": "71ac2032-a10f-4572-981d-a7b1f6911dae"
   },
   "outputs": [
    {
     "name": "stdout",
     "output_type": "stream",
     "text": [
      "Seed text 2: better of it gregor went and waited immediately by the door resolved either to bring the timorous visitor into the room in some way or at least to find out who it was but the door was opened no more that night and gregor waited in vain the previous morning while\n",
      "----------------------------------\n",
      "Generated text 2: the cleaner wanted to see it he was not able to cover it and wants to speak to the chief clerk had been permanently he had to be heard on the couch bitter and immobile but he had to do was take any of all the ones that the cleaner\n"
     ]
    }
   ],
   "source": [
    "# Generate new text\n",
    "print('Seed text 2:', seed_text)\n",
    "print('----------------------------------')\n",
    "generated = generate_seq(model, tokenizer, seq_length, seed_text, 50)\n",
    "print('Generated text 2:', generated)"
   ]
  },
  {
   "cell_type": "code",
   "execution_count": 0,
   "metadata": {
    "colab": {},
    "colab_type": "code",
    "id": "JsutbOaHO5z_"
   },
   "outputs": [],
   "source": [
    "# Select a new seed text\n",
    "seed_text = lines[randint(0,len(lines))]"
   ]
  },
  {
   "cell_type": "code",
   "execution_count": 59,
   "metadata": {
    "colab": {
     "base_uri": "https://localhost:8080/",
     "height": 90
    },
    "colab_type": "code",
    "id": "ymroXAPyKalg",
    "outputId": "645687d6-5405-44ca-cd23-3a98795a4da0"
   },
   "outputs": [
    {
     "name": "stdout",
     "output_type": "stream",
     "text": [
      "Seed text 3: a sign to him that he should withdraw he was immediately startled although he had been half asleep and he hurried back under the couch but he needed great selfcontrol to stay there even for the short time that his sister was in the room as eating so much food had\n",
      "----------------------------------\n",
      "Generated text 3: rounded out the contract the other side of the other room catching their breath he sallied out changed direction four closely to the window during the newspapers on the couch and watched to the repugnant conditions that prevail in this way that they were writing for the window and held\n"
     ]
    }
   ],
   "source": [
    "# Generate new text\n",
    "print('Seed text 3:', seed_text)\n",
    "print('----------------------------------')\n",
    "generated = generate_seq(model, tokenizer, seq_length, seed_text, 50)\n",
    "print('Generated text 3:', generated)"
   ]
  },
  {
   "cell_type": "code",
   "execution_count": 0,
   "metadata": {
    "colab": {},
    "colab_type": "code",
    "id": "n8jL6rqjh54e"
   },
   "outputs": [],
   "source": [
    "tf.keras.backend.clear_session()"
   ]
  },
  {
   "cell_type": "markdown",
   "metadata": {
    "colab_type": "text",
    "id": "jzDjwzeBKali"
   },
   "source": [
    "### <i>Experiment 2: LSTM RNN </i>\n",
    "This neural network differs from the baseline with additional memory cell units.\n",
    "* 1 hidden layer\n",
    "* 256 memory cell units\n",
    "* Embedding vector space size 50"
   ]
  },
  {
   "cell_type": "code",
   "execution_count": 0,
   "metadata": {
    "colab": {},
    "colab_type": "code",
    "id": "D4EtnzCmKall"
   },
   "outputs": [],
   "source": [
    "# Define model\n",
    "model_2 = Sequential()\n",
    "model_2.add(Embedding(vocab_size, 50, input_length=seq_length))\n",
    "model_2.add(LSTM(256))\n",
    "model_2.add(Dense(100, activation='relu'))\n",
    "model_2.add(Dense(vocab_size, activation='softmax'))"
   ]
  },
  {
   "cell_type": "code",
   "execution_count": 62,
   "metadata": {
    "colab": {
     "base_uri": "https://localhost:8080/",
     "height": 815
    },
    "colab_type": "code",
    "id": "yeKcnKVmKaln",
    "outputId": "bca2bb77-e05f-4521-eb9f-396897a1b60f"
   },
   "outputs": [
    {
     "name": "stdout",
     "output_type": "stream",
     "text": [
      "Model: \"sequential_1\"\n",
      "_________________________________________________________________\n",
      "Layer (type)                 Output Shape              Param #   \n",
      "=================================================================\n",
      "embedding_1 (Embedding)      (None, 50, 50)            130700    \n",
      "_________________________________________________________________\n",
      "lstm_1 (LSTM)                (None, 256)               314368    \n",
      "_________________________________________________________________\n",
      "dense_1 (Dense)              (None, 100)               25700     \n",
      "_________________________________________________________________\n",
      "dense_2 (Dense)              (None, 2614)              264014    \n",
      "=================================================================\n",
      "Total params: 734,782\n",
      "Trainable params: 734,782\n",
      "Non-trainable params: 0\n",
      "_________________________________________________________________\n"
     ]
    },
    {
     "data": {
      "image/png": "[encoded data removed]",
      "text/plain": [
       "<IPython.core.display.Image object>"
      ]
     },
     "execution_count": 62,
     "metadata": {
      "tags": []
     },
     "output_type": "execute_result"
    }
   ],
   "source": [
    "# Model summary\n",
    "model_2.summary()\n",
    "plot_model(model_2, to_file='figures/model_2.png', show_shapes=True)"
   ]
  },
  {
   "cell_type": "code",
   "execution_count": 0,
   "metadata": {
    "colab": {},
    "colab_type": "code",
    "id": "-ksi86wGKalr"
   },
   "outputs": [],
   "source": [
    "# Compile model\n",
    "model_2.compile(loss='categorical_crossentropy', optimizer='adam', metrics=['accuracy'])"
   ]
  },
  {
   "cell_type": "code",
   "execution_count": 0,
   "metadata": {
    "colab": {},
    "colab_type": "code",
    "id": "2TUGxPNzKalt"
   },
   "outputs": [],
   "source": [
    "# Define the checkpoint\n",
    "# filepath='results/exp2/weights-improvement-{epoch:02d}-{loss:.4f}.hdf5'\n",
    "filepath='results/exp2/best_model.hdf5'\n",
    "checkpoint = ModelCheckpoint(filepath, monitor='loss', verbose=1, save_best_only=True, mode='min')\n",
    "es = EarlyStopping(monitor='loss', mode='min', verbose=1, patience=5)\n",
    "callbacks_list = [checkpoint,es]"
   ]
  },
  {
   "cell_type": "code",
   "execution_count": 65,
   "metadata": {
    "colab": {
     "base_uri": "https://localhost:8080/",
     "height": 1000
    },
    "colab_type": "code",
    "id": "pIOFx4nBKalv",
    "outputId": "e06efd9e-09b2-4f48-8e0d-0c8c52633f9f"
   },
   "outputs": [
    {
     "name": "stderr",
     "output_type": "stream",
     "text": [
      "/usr/local/lib/python3.6/dist-packages/tensorflow/python/framework/indexed_slices.py:434: UserWarning: Converting sparse IndexedSlices to a dense Tensor of unknown shape. This may consume a large amount of memory.\n",
      "  \"Converting sparse IndexedSlices to a dense Tensor of unknown shape. \"\n"
     ]
    },
    {
     "name": "stdout",
     "output_type": "stream",
     "text": [
      "Epoch 1/50\n",
      "21959/21959 [==============================] - 26s 1ms/step - loss: 6.3315 - accuracy: 0.0488\n",
      "\n",
      "Epoch 00001: loss improved from inf to 6.33150, saving model to results/exp2/best_model.hdf5\n",
      "Epoch 2/50\n",
      "21959/21959 [==============================] - 26s 1ms/step - loss: 5.9558 - accuracy: 0.0531\n",
      "\n",
      "Epoch 00002: loss improved from 6.33150 to 5.95578, saving model to results/exp2/best_model.hdf5\n",
      "Epoch 3/50\n",
      "21959/21959 [==============================] - 26s 1ms/step - loss: 5.8303 - accuracy: 0.0587\n",
      "\n",
      "Epoch 00003: loss improved from 5.95578 to 5.83034, saving model to results/exp2/best_model.hdf5\n",
      "Epoch 4/50\n",
      "21959/21959 [==============================] - 25s 1ms/step - loss: 5.6495 - accuracy: 0.0695\n",
      "\n",
      "Epoch 00004: loss improved from 5.83034 to 5.64952, saving model to results/exp2/best_model.hdf5\n",
      "Epoch 5/50\n",
      "21959/21959 [==============================] - 26s 1ms/step - loss: 5.5091 - accuracy: 0.0822\n",
      "\n",
      "Epoch 00005: loss improved from 5.64952 to 5.50912, saving model to results/exp2/best_model.hdf5\n",
      "Epoch 6/50\n",
      "21959/21959 [==============================] - 26s 1ms/step - loss: 5.3725 - accuracy: 0.0932\n",
      "\n",
      "Epoch 00006: loss improved from 5.50912 to 5.37253, saving model to results/exp2/best_model.hdf5\n",
      "Epoch 7/50\n",
      "21959/21959 [==============================] - 26s 1ms/step - loss: 5.2265 - accuracy: 0.1075\n",
      "\n",
      "Epoch 00007: loss improved from 5.37253 to 5.22648, saving model to results/exp2/best_model.hdf5\n",
      "Epoch 8/50\n",
      "21959/21959 [==============================] - 26s 1ms/step - loss: 5.0925 - accuracy: 0.1183\n",
      "\n",
      "Epoch 00008: loss improved from 5.22648 to 5.09250, saving model to results/exp2/best_model.hdf5\n",
      "Epoch 9/50\n",
      "21959/21959 [==============================] - 26s 1ms/step - loss: 4.9753 - accuracy: 0.1287\n",
      "\n",
      "Epoch 00009: loss improved from 5.09250 to 4.97534, saving model to results/exp2/best_model.hdf5\n",
      "Epoch 10/50\n",
      "21959/21959 [==============================] - 26s 1ms/step - loss: 4.8759 - accuracy: 0.1368\n",
      "\n",
      "Epoch 00010: loss improved from 4.97534 to 4.87589, saving model to results/exp2/best_model.hdf5\n",
      "Epoch 11/50\n",
      "21959/21959 [==============================] - 26s 1ms/step - loss: 4.7896 - accuracy: 0.1421\n",
      "\n",
      "Epoch 00011: loss improved from 4.87589 to 4.78955, saving model to results/exp2/best_model.hdf5\n",
      "Epoch 12/50\n",
      "21959/21959 [==============================] - 26s 1ms/step - loss: 4.7130 - accuracy: 0.1458\n",
      "\n",
      "Epoch 00012: loss improved from 4.78955 to 4.71298, saving model to results/exp2/best_model.hdf5\n",
      "Epoch 13/50\n",
      "21959/21959 [==============================] - 26s 1ms/step - loss: 4.6370 - accuracy: 0.1513\n",
      "\n",
      "Epoch 00013: loss improved from 4.71298 to 4.63702, saving model to results/exp2/best_model.hdf5\n",
      "Epoch 14/50\n",
      "21959/21959 [==============================] - 26s 1ms/step - loss: 4.5619 - accuracy: 0.1541\n",
      "\n",
      "Epoch 00014: loss improved from 4.63702 to 4.56195, saving model to results/exp2/best_model.hdf5\n",
      "Epoch 15/50\n",
      "21959/21959 [==============================] - 26s 1ms/step - loss: 4.4963 - accuracy: 0.1584\n",
      "\n",
      "Epoch 00015: loss improved from 4.56195 to 4.49632, saving model to results/exp2/best_model.hdf5\n",
      "Epoch 16/50\n",
      "21959/21959 [==============================] - 25s 1ms/step - loss: 4.4284 - accuracy: 0.1605\n",
      "\n",
      "Epoch 00016: loss improved from 4.49632 to 4.42835, saving model to results/exp2/best_model.hdf5\n",
      "Epoch 17/50\n",
      "21959/21959 [==============================] - 26s 1ms/step - loss: 4.3567 - accuracy: 0.1639\n",
      "\n",
      "Epoch 00017: loss improved from 4.42835 to 4.35673, saving model to results/exp2/best_model.hdf5\n",
      "Epoch 18/50\n",
      "21959/21959 [==============================] - 26s 1ms/step - loss: 4.2845 - accuracy: 0.1712\n",
      "\n",
      "Epoch 00018: loss improved from 4.35673 to 4.28447, saving model to results/exp2/best_model.hdf5\n",
      "Epoch 19/50\n",
      "21959/21959 [==============================] - 26s 1ms/step - loss: 4.2121 - accuracy: 0.1733\n",
      "\n",
      "Epoch 00019: loss improved from 4.28447 to 4.21213, saving model to results/exp2/best_model.hdf5\n",
      "Epoch 20/50\n",
      "21959/21959 [==============================] - 26s 1ms/step - loss: 4.1425 - accuracy: 0.1763\n",
      "\n",
      "Epoch 00020: loss improved from 4.21213 to 4.14253, saving model to results/exp2/best_model.hdf5\n",
      "Epoch 21/50\n",
      "21959/21959 [==============================] - 25s 1ms/step - loss: 4.0712 - accuracy: 0.1816\n",
      "\n",
      "Epoch 00021: loss improved from 4.14253 to 4.07116, saving model to results/exp2/best_model.hdf5\n",
      "Epoch 22/50\n",
      "21959/21959 [==============================] - 26s 1ms/step - loss: 3.9986 - accuracy: 0.1887\n",
      "\n",
      "Epoch 00022: loss improved from 4.07116 to 3.99862, saving model to results/exp2/best_model.hdf5\n",
      "Epoch 23/50\n",
      "21959/21959 [==============================] - 26s 1ms/step - loss: 3.9425 - accuracy: 0.1940\n",
      "\n",
      "Epoch 00023: loss improved from 3.99862 to 3.94245, saving model to results/exp2/best_model.hdf5\n",
      "Epoch 24/50\n",
      "21959/21959 [==============================] - 26s 1ms/step - loss: 3.8663 - accuracy: 0.2001\n",
      "\n",
      "Epoch 00024: loss improved from 3.94245 to 3.86628, saving model to results/exp2/best_model.hdf5\n",
      "Epoch 25/50\n",
      "21959/21959 [==============================] - 26s 1ms/step - loss: 3.8008 - accuracy: 0.2070\n",
      "\n",
      "Epoch 00025: loss improved from 3.86628 to 3.80076, saving model to results/exp2/best_model.hdf5\n",
      "Epoch 26/50\n",
      "21959/21959 [==============================] - 26s 1ms/step - loss: 3.7323 - accuracy: 0.2122\n",
      "\n",
      "Epoch 00026: loss improved from 3.80076 to 3.73228, saving model to results/exp2/best_model.hdf5\n",
      "Epoch 27/50\n",
      "21959/21959 [==============================] - 26s 1ms/step - loss: 3.6658 - accuracy: 0.2192\n",
      "\n",
      "Epoch 00027: loss improved from 3.73228 to 3.66575, saving model to results/exp2/best_model.hdf5\n",
      "Epoch 28/50\n",
      "21959/21959 [==============================] - 26s 1ms/step - loss: 3.6015 - accuracy: 0.2294\n",
      "\n",
      "Epoch 00028: loss improved from 3.66575 to 3.60154, saving model to results/exp2/best_model.hdf5\n",
      "Epoch 29/50\n",
      "21959/21959 [==============================] - 25s 1ms/step - loss: 3.5397 - accuracy: 0.2341\n",
      "\n",
      "Epoch 00029: loss improved from 3.60154 to 3.53968, saving model to results/exp2/best_model.hdf5\n",
      "Epoch 30/50\n",
      "21959/21959 [==============================] - 26s 1ms/step - loss: 3.4742 - accuracy: 0.2471\n",
      "\n",
      "Epoch 00030: loss improved from 3.53968 to 3.47424, saving model to results/exp2/best_model.hdf5\n",
      "Epoch 31/50\n",
      "21959/21959 [==============================] - 25s 1ms/step - loss: 3.4120 - accuracy: 0.2537\n",
      "\n",
      "Epoch 00031: loss improved from 3.47424 to 3.41202, saving model to results/exp2/best_model.hdf5\n",
      "Epoch 32/50\n",
      "21959/21959 [==============================] - 26s 1ms/step - loss: 3.3542 - accuracy: 0.2614\n",
      "\n",
      "Epoch 00032: loss improved from 3.41202 to 3.35419, saving model to results/exp2/best_model.hdf5\n",
      "Epoch 33/50\n",
      "21959/21959 [==============================] - 25s 1ms/step - loss: 3.2930 - accuracy: 0.2698\n",
      "\n",
      "Epoch 00033: loss improved from 3.35419 to 3.29304, saving model to results/exp2/best_model.hdf5\n",
      "Epoch 34/50\n",
      "21959/21959 [==============================] - 26s 1ms/step - loss: 3.2378 - accuracy: 0.2772\n",
      "\n",
      "Epoch 00034: loss improved from 3.29304 to 3.23780, saving model to results/exp2/best_model.hdf5\n",
      "Epoch 35/50\n",
      "21959/21959 [==============================] - 26s 1ms/step - loss: 3.1832 - accuracy: 0.2871\n",
      "\n",
      "Epoch 00035: loss improved from 3.23780 to 3.18318, saving model to results/exp2/best_model.hdf5\n",
      "Epoch 36/50\n",
      "21959/21959 [==============================] - 26s 1ms/step - loss: 3.1252 - accuracy: 0.2944\n",
      "\n",
      "Epoch 00036: loss improved from 3.18318 to 3.12519, saving model to results/exp2/best_model.hdf5\n",
      "Epoch 37/50\n",
      "21959/21959 [==============================] - 26s 1ms/step - loss: 3.0737 - accuracy: 0.3032\n",
      "\n",
      "Epoch 00037: loss improved from 3.12519 to 3.07369, saving model to results/exp2/best_model.hdf5\n",
      "Epoch 38/50\n",
      "21959/21959 [==============================] - 26s 1ms/step - loss: 3.0321 - accuracy: 0.3088\n",
      "\n",
      "Epoch 00038: loss improved from 3.07369 to 3.03211, saving model to results/exp2/best_model.hdf5\n",
      "Epoch 39/50\n",
      "21959/21959 [==============================] - 26s 1ms/step - loss: 2.9732 - accuracy: 0.3174\n",
      "\n",
      "Epoch 00039: loss improved from 3.03211 to 2.97324, saving model to results/exp2/best_model.hdf5\n",
      "Epoch 40/50\n",
      "21959/21959 [==============================] - 25s 1ms/step - loss: 2.9232 - accuracy: 0.3256\n",
      "\n",
      "Epoch 00040: loss improved from 2.97324 to 2.92324, saving model to results/exp2/best_model.hdf5\n",
      "Epoch 41/50\n",
      "21959/21959 [==============================] - 25s 1ms/step - loss: 2.8812 - accuracy: 0.3333\n",
      "\n",
      "Epoch 00041: loss improved from 2.92324 to 2.88116, saving model to results/exp2/best_model.hdf5\n",
      "Epoch 42/50\n",
      "21959/21959 [==============================] - 26s 1ms/step - loss: 2.8328 - accuracy: 0.3419\n",
      "\n",
      "Epoch 00042: loss improved from 2.88116 to 2.83278, saving model to results/exp2/best_model.hdf5\n",
      "Epoch 43/50\n",
      "21959/21959 [==============================] - 26s 1ms/step - loss: 2.7917 - accuracy: 0.3481\n",
      "\n",
      "Epoch 00043: loss improved from 2.83278 to 2.79165, saving model to results/exp2/best_model.hdf5\n",
      "Epoch 44/50\n",
      "21959/21959 [==============================] - 26s 1ms/step - loss: 2.7466 - accuracy: 0.3569\n",
      "\n",
      "Epoch 00044: loss improved from 2.79165 to 2.74663, saving model to results/exp2/best_model.hdf5\n",
      "Epoch 45/50\n",
      "21959/21959 [==============================] - 26s 1ms/step - loss: 2.7025 - accuracy: 0.3665\n",
      "\n",
      "Epoch 00045: loss improved from 2.74663 to 2.70247, saving model to results/exp2/best_model.hdf5\n",
      "Epoch 46/50\n",
      "21959/21959 [==============================] - 25s 1ms/step - loss: 2.6614 - accuracy: 0.3714\n",
      "\n",
      "Epoch 00046: loss improved from 2.70247 to 2.66143, saving model to results/exp2/best_model.hdf5\n",
      "Epoch 47/50\n",
      "21959/21959 [==============================] - 26s 1ms/step - loss: 2.6266 - accuracy: 0.3767\n",
      "\n",
      "Epoch 00047: loss improved from 2.66143 to 2.62662, saving model to results/exp2/best_model.hdf5\n",
      "Epoch 48/50\n",
      "21959/21959 [==============================] - 25s 1ms/step - loss: 2.5803 - accuracy: 0.3890\n",
      "\n",
      "Epoch 00048: loss improved from 2.62662 to 2.58028, saving model to results/exp2/best_model.hdf5\n",
      "Epoch 49/50\n",
      "21959/21959 [==============================] - 25s 1ms/step - loss: 2.5404 - accuracy: 0.3936\n",
      "\n",
      "Epoch 00049: loss improved from 2.58028 to 2.54038, saving model to results/exp2/best_model.hdf5\n",
      "Epoch 50/50\n",
      "21959/21959 [==============================] - 26s 1ms/step - loss: 2.5064 - accuracy: 0.4023\n",
      "\n",
      "Epoch 00050: loss improved from 2.54038 to 2.50636, saving model to results/exp2/best_model.hdf5\n",
      "--------------------------\n",
      "Training time in seconds:  1319.49\n",
      "--------------------------\n"
     ]
    }
   ],
   "source": [
    "# Fit the model\n",
    "start_time = time.time()\n",
    "history = model_2.fit(X, \n",
    "                      y, \n",
    "                      batch_size=128, \n",
    "                      epochs=50,\n",
    "                      callbacks=callbacks_list)\n",
    "\n",
    "elapsed_time = time.time() - start_time\n",
    "print('--------------------------')\n",
    "print('Training time in seconds: ', round(elapsed_time,2))\n",
    "print('--------------------------')"
   ]
  },
  {
   "cell_type": "code",
   "execution_count": 0,
   "metadata": {
    "colab": {},
    "colab_type": "code",
    "id": "-POWHRIHKaly"
   },
   "outputs": [],
   "source": [
    "# Plot model performance"
   ]
  },
  {
   "cell_type": "code",
   "execution_count": 0,
   "metadata": {
    "colab": {},
    "colab_type": "code",
    "id": "9IIQUeLOKal0"
   },
   "outputs": [],
   "source": [
    "# history_dict = history.history\n",
    "# history_dict.keys()"
   ]
  },
  {
   "cell_type": "markdown",
   "metadata": {},
   "source": [
    "**Figure 5: Learning curves for Model 2**"
   ]
  },
  {
   "cell_type": "code",
   "execution_count": 66,
   "metadata": {
    "colab": {
     "base_uri": "https://localhost:8080/",
     "height": 324
    },
    "colab_type": "code",
    "id": "6BbEzwHEKal1",
    "outputId": "c3b9208c-e3e0-423a-816a-b12f0a7c5b4a"
   },
   "outputs": [
    {
     "data": {
      "image/png": "[encoded data removed]",
      "text/plain": [
       "<Figure size 576x360 with 1 Axes>"
      ]
     },
     "metadata": {
      "needs_background": "light",
      "tags": []
     },
     "output_type": "display_data"
    }
   ],
   "source": [
    "# Plot learning curves for model\n",
    "pd.DataFrame(history.history).plot(figsize=(8, 5))\n",
    "plt.grid(True)\n",
    "plt.gca().set_ylim(0, 5) # set the vertical range to [0-1]\n",
    "plt.savefig('figures/learning_curves_model_2', tight_layout=False)\n",
    "plt.show()"
   ]
  },
  {
   "cell_type": "code",
   "execution_count": 0,
   "metadata": {
    "colab": {},
    "colab_type": "code",
    "id": "BZ-oyk45Kal3"
   },
   "outputs": [],
   "source": [
    "# Save the model to file\n",
    "model_2.save('results/exp2/model_2.h5')\n",
    "# save the tokenizer\n",
    "# dump(tokenizer, open('meta_tokenizer.pkl', 'wb'))"
   ]
  },
  {
   "cell_type": "code",
   "execution_count": 0,
   "metadata": {
    "colab": {},
    "colab_type": "code",
    "id": "wRcodkuTKal6"
   },
   "outputs": [],
   "source": [
    "# Prepare the language model"
   ]
  },
  {
   "cell_type": "code",
   "execution_count": 0,
   "metadata": {
    "colab": {},
    "colab_type": "code",
    "id": "NOuCddSnKal8"
   },
   "outputs": [],
   "source": [
    "# Load cleaned text sequences\n",
    "in_filename = 'meta_sequences.txt'\n",
    "doc = load_doc(in_filename)\n",
    "lines = doc.split('\\n')\n",
    "\n",
    "# Define sequence length\n",
    "seq_length = len(lines[0].split()) - 1"
   ]
  },
  {
   "cell_type": "code",
   "execution_count": 69,
   "metadata": {
    "colab": {
     "base_uri": "https://localhost:8080/",
     "height": 72
    },
    "colab_type": "code",
    "id": "s10TA4cWKal9",
    "outputId": "6ff91d2e-9f0b-413f-ac23-3ae912d2ee0c"
   },
   "outputs": [
    {
     "name": "stderr",
     "output_type": "stream",
     "text": [
      "/usr/local/lib/python3.6/dist-packages/tensorflow/python/framework/indexed_slices.py:434: UserWarning: Converting sparse IndexedSlices to a dense Tensor of unknown shape. This may consume a large amount of memory.\n",
      "  \"Converting sparse IndexedSlices to a dense Tensor of unknown shape. \"\n"
     ]
    }
   ],
   "source": [
    "# Load the model - use name from best model\n",
    "model = load_model('results/exp2/model_2.h5')"
   ]
  },
  {
   "cell_type": "code",
   "execution_count": 0,
   "metadata": {
    "colab": {},
    "colab_type": "code",
    "id": "coAlAu0SKamA"
   },
   "outputs": [],
   "source": [
    "# Load the tokenizer\n",
    "tokenizer = load(open('meta_tokenizer.pkl', 'rb'))"
   ]
  },
  {
   "cell_type": "code",
   "execution_count": 0,
   "metadata": {
    "colab": {},
    "colab_type": "code",
    "id": "NiW6AieOKamC"
   },
   "outputs": [],
   "source": [
    "# Generate text and evaluate"
   ]
  },
  {
   "cell_type": "code",
   "execution_count": 0,
   "metadata": {
    "colab": {},
    "colab_type": "code",
    "id": "vmsmg9BZ2lXw"
   },
   "outputs": [],
   "source": [
    "# Select a seed text\n",
    "seed_text = lines[randint(0,len(lines))]"
   ]
  },
  {
   "cell_type": "code",
   "execution_count": 73,
   "metadata": {
    "colab": {
     "base_uri": "https://localhost:8080/",
     "height": 90
    },
    "colab_type": "code",
    "id": "Gn34kZsQKamL",
    "outputId": "b8815903-6a19-4037-b0ca-01623cee2efd"
   },
   "outputs": [
    {
     "name": "stdout",
     "output_type": "stream",
     "text": [
      "Seed text 1: that she would not look round and said albeit hurriedly and with a tremor in her voice come on lets go back in the living room for a while gregor could see what grete had in mind she wanted to take her mother somewhere safe and then chase him down from\n",
      "----------------------------------\n",
      "Generated text 1: the couch and stretched himself this was and lying peacefully later when he began to get rid of it thats his father was healthy but old more than usual and felt that he was not sleeping startled her he would have made him to get dressed and smiled the little\n"
     ]
    }
   ],
   "source": [
    "# Generate new text\n",
    "print('Seed text 1:', seed_text)\n",
    "print('----------------------------------')\n",
    "generated = generate_seq(model, tokenizer, seq_length, seed_text, 50)\n",
    "print('Generated text 1:', generated)"
   ]
  },
  {
   "cell_type": "code",
   "execution_count": 0,
   "metadata": {
    "colab": {},
    "colab_type": "code",
    "id": "Sfpqc8lOKamR"
   },
   "outputs": [],
   "source": [
    "# Select a new seed text\n",
    "seed_text = lines[randint(0,len(lines))]"
   ]
  },
  {
   "cell_type": "code",
   "execution_count": 75,
   "metadata": {
    "colab": {
     "base_uri": "https://localhost:8080/",
     "height": 90
    },
    "colab_type": "code",
    "id": "m7uP_O5nKamT",
    "outputId": "6476d95c-07d0-472e-f7d7-873f786cfdbb",
    "scrolled": true
   },
   "outputs": [
    {
     "name": "stdout",
     "output_type": "stream",
     "text": [
      "Seed text 2: from going out to work and looking after gregor as she had done before was even more work for her but even so his mother ought certainly not to have taken her place gregor on the other hand ought not to be neglected now though the charwoman was here this elderly\n",
      "----------------------------------\n",
      "Generated text 2: widow with a dish piled high the middle of the door leading into the room gregor had been permanently he had been reduced to the chief clerk had left the chief clerk had left the chief clerk had left three took the door from the door was he really call\n"
     ]
    }
   ],
   "source": [
    "# Generate new text\n",
    "print('Seed text 2:', seed_text)\n",
    "print('----------------------------------')\n",
    "generated = generate_seq(model, tokenizer, seq_length, seed_text, 50)\n",
    "print('Generated text 2:', generated)"
   ]
  },
  {
   "cell_type": "code",
   "execution_count": 0,
   "metadata": {
    "colab": {},
    "colab_type": "code",
    "id": "S4H1_dkGP1oc"
   },
   "outputs": [],
   "source": [
    "# Select a new seed text\n",
    "seed_text = lines[randint(0,len(lines))]"
   ]
  },
  {
   "cell_type": "code",
   "execution_count": 77,
   "metadata": {
    "colab": {
     "base_uri": "https://localhost:8080/",
     "height": 90
    },
    "colab_type": "code",
    "id": "vNu3eZVPP1oe",
    "outputId": "3a286ca0-2b6e-4074-b810-2481751f228a"
   },
   "outputs": [
    {
     "name": "stdout",
     "output_type": "stream",
     "text": [
      "Seed text 3: of air flew in from the street towards the stairway the curtains flew up the newspapers on the table fluttered and some of them were blown onto the floor nothing would stop gregors father as he drove him back making hissing noises at him like a wild man gregor had never\n",
      "----------------------------------\n",
      "Generated text 3: been accumulating called the door shut with his present state couldnt get out of the bed bend down onto the floor his father was healthy but old more than usual and felt how he was not at all throughout all this as he was not at all throughout all this\n"
     ]
    }
   ],
   "source": [
    "# Generate new text\n",
    "print('Seed text 3:', seed_text)\n",
    "print('----------------------------------')\n",
    "generated = generate_seq(model, tokenizer, seq_length, seed_text, 50)\n",
    "print('Generated text 3:', generated)"
   ]
  },
  {
   "cell_type": "code",
   "execution_count": 0,
   "metadata": {
    "colab": {},
    "colab_type": "code",
    "id": "3rGGxZ3Wj3mX"
   },
   "outputs": [],
   "source": [
    "tf.keras.backend.clear_session()"
   ]
  },
  {
   "cell_type": "markdown",
   "metadata": {
    "colab_type": "text",
    "id": "KQU3dL89KamV"
   },
   "source": [
    "### <i>Experiment 3: LSTM RNN </i>\n",
    "This deeper neural network adds a hidden layer to determine impact on performance, training time, and ability to capture context of the document and generate meaningful text from seed text.\n",
    "* 2 hidden layers\n",
    "* 100 memory cell units\n",
    "* Embedding vector space size 50"
   ]
  },
  {
   "cell_type": "code",
   "execution_count": 0,
   "metadata": {
    "colab": {},
    "colab_type": "code",
    "id": "clwKWAbGKamX"
   },
   "outputs": [],
   "source": [
    "# Define model\n",
    "model_3 = Sequential()\n",
    "model_3.add(Embedding(vocab_size, 50, input_length=seq_length))\n",
    "model_3.add(LSTM(100, return_sequences=True))\n",
    "model_3.add(LSTM(100))\n",
    "model_3.add(Dense(100, activation='relu'))\n",
    "model_3.add(Dense(vocab_size, activation='softmax'))"
   ]
  },
  {
   "cell_type": "code",
   "execution_count": 80,
   "metadata": {
    "colab": {
     "base_uri": "https://localhost:8080/",
     "height": 962
    },
    "colab_type": "code",
    "id": "R9hge1GQKamZ",
    "outputId": "7173387a-1019-4a5f-bd0b-bd86e501a9f3"
   },
   "outputs": [
    {
     "name": "stdout",
     "output_type": "stream",
     "text": [
      "Model: \"sequential_1\"\n",
      "_________________________________________________________________\n",
      "Layer (type)                 Output Shape              Param #   \n",
      "=================================================================\n",
      "embedding_1 (Embedding)      (None, 50, 50)            130700    \n",
      "_________________________________________________________________\n",
      "lstm_1 (LSTM)                (None, 50, 100)           60400     \n",
      "_________________________________________________________________\n",
      "lstm_2 (LSTM)                (None, 100)               80400     \n",
      "_________________________________________________________________\n",
      "dense_1 (Dense)              (None, 100)               10100     \n",
      "_________________________________________________________________\n",
      "dense_2 (Dense)              (None, 2614)              264014    \n",
      "=================================================================\n",
      "Total params: 545,614\n",
      "Trainable params: 545,614\n",
      "Non-trainable params: 0\n",
      "_________________________________________________________________\n"
     ]
    },
    {
     "data": {
      "image/png": "[encoded data removed]",
      "text/plain": [
       "<IPython.core.display.Image object>"
      ]
     },
     "execution_count": 80,
     "metadata": {
      "tags": []
     },
     "output_type": "execute_result"
    }
   ],
   "source": [
    "# Model summary\n",
    "model_3.summary()\n",
    "plot_model(model_3, to_file='figures/model_3.png', show_shapes=True)"
   ]
  },
  {
   "cell_type": "code",
   "execution_count": 0,
   "metadata": {
    "colab": {},
    "colab_type": "code",
    "id": "s4JEx-SQKamn"
   },
   "outputs": [],
   "source": [
    "# Compile model\n",
    "model_3.compile(loss='categorical_crossentropy', optimizer='adam', metrics=['accuracy'])"
   ]
  },
  {
   "cell_type": "code",
   "execution_count": 0,
   "metadata": {
    "colab": {},
    "colab_type": "code",
    "id": "WC-d19bMKamr"
   },
   "outputs": [],
   "source": [
    "# Define the checkpoint\n",
    "filepath='results/exp3/best_model.hdf5'\n",
    "checkpoint = ModelCheckpoint(filepath, monitor='loss', verbose=1, save_best_only=True, mode='min')\n",
    "es = EarlyStopping(monitor='loss', mode='min', verbose=1, patience=5)\n",
    "callbacks_list = [checkpoint, es]"
   ]
  },
  {
   "cell_type": "code",
   "execution_count": 83,
   "metadata": {
    "colab": {
     "base_uri": "https://localhost:8080/",
     "height": 1000
    },
    "colab_type": "code",
    "id": "_vuJyk8HKams",
    "outputId": "360a426b-7173-4710-ef0a-f3dcf95b4cd8"
   },
   "outputs": [
    {
     "name": "stderr",
     "output_type": "stream",
     "text": [
      "/usr/local/lib/python3.6/dist-packages/tensorflow/python/framework/indexed_slices.py:434: UserWarning: Converting sparse IndexedSlices to a dense Tensor of unknown shape. This may consume a large amount of memory.\n",
      "  \"Converting sparse IndexedSlices to a dense Tensor of unknown shape. \"\n"
     ]
    },
    {
     "name": "stdout",
     "output_type": "stream",
     "text": [
      "Epoch 1/50\n",
      "21959/21959 [==============================] - 47s 2ms/step - loss: 6.3910 - accuracy: 0.0488\n",
      "\n",
      "Epoch 00001: loss improved from inf to 6.39100, saving model to results/exp3/best_model.hdf5\n",
      "Epoch 2/50\n",
      "21959/21959 [==============================] - 46s 2ms/step - loss: 6.0346 - accuracy: 0.0522\n",
      "\n",
      "Epoch 00002: loss improved from 6.39100 to 6.03456, saving model to results/exp3/best_model.hdf5\n",
      "Epoch 3/50\n",
      "21959/21959 [==============================] - 45s 2ms/step - loss: 5.9149 - accuracy: 0.0525\n",
      "\n",
      "Epoch 00003: loss improved from 6.03456 to 5.91492, saving model to results/exp3/best_model.hdf5\n",
      "Epoch 4/50\n",
      "21959/21959 [==============================] - 45s 2ms/step - loss: 5.7715 - accuracy: 0.0591\n",
      "\n",
      "Epoch 00004: loss improved from 5.91492 to 5.77150, saving model to results/exp3/best_model.hdf5\n",
      "Epoch 5/50\n",
      "21959/21959 [==============================] - 45s 2ms/step - loss: 5.6490 - accuracy: 0.0686\n",
      "\n",
      "Epoch 00005: loss improved from 5.77150 to 5.64901, saving model to results/exp3/best_model.hdf5\n",
      "Epoch 6/50\n",
      "21959/21959 [==============================] - 45s 2ms/step - loss: 5.5577 - accuracy: 0.0764\n",
      "\n",
      "Epoch 00006: loss improved from 5.64901 to 5.55765, saving model to results/exp3/best_model.hdf5\n",
      "Epoch 7/50\n",
      "21959/21959 [==============================] - 46s 2ms/step - loss: 5.4669 - accuracy: 0.0824\n",
      "\n",
      "Epoch 00007: loss improved from 5.55765 to 5.46688, saving model to results/exp3/best_model.hdf5\n",
      "Epoch 8/50\n",
      "21959/21959 [==============================] - 45s 2ms/step - loss: 5.3720 - accuracy: 0.0895\n",
      "\n",
      "Epoch 00008: loss improved from 5.46688 to 5.37197, saving model to results/exp3/best_model.hdf5\n",
      "Epoch 9/50\n",
      "21959/21959 [==============================] - 45s 2ms/step - loss: 5.2679 - accuracy: 0.0979\n",
      "\n",
      "Epoch 00009: loss improved from 5.37197 to 5.26792, saving model to results/exp3/best_model.hdf5\n",
      "Epoch 10/50\n",
      "21959/21959 [==============================] - 45s 2ms/step - loss: 5.1707 - accuracy: 0.1056\n",
      "\n",
      "Epoch 00010: loss improved from 5.26792 to 5.17071, saving model to results/exp3/best_model.hdf5\n",
      "Epoch 11/50\n",
      "21959/21959 [==============================] - 46s 2ms/step - loss: 5.0856 - accuracy: 0.1109\n",
      "\n",
      "Epoch 00011: loss improved from 5.17071 to 5.08558, saving model to results/exp3/best_model.hdf5\n",
      "Epoch 12/50\n",
      "21959/21959 [==============================] - 45s 2ms/step - loss: 5.0080 - accuracy: 0.1196\n",
      "\n",
      "Epoch 00012: loss improved from 5.08558 to 5.00799, saving model to results/exp3/best_model.hdf5\n",
      "Epoch 13/50\n",
      "21959/21959 [==============================] - 45s 2ms/step - loss: 4.9383 - accuracy: 0.1277\n",
      "\n",
      "Epoch 00013: loss improved from 5.00799 to 4.93826, saving model to results/exp3/best_model.hdf5\n",
      "Epoch 14/50\n",
      "21959/21959 [==============================] - 45s 2ms/step - loss: 4.8768 - accuracy: 0.1291\n",
      "\n",
      "Epoch 00014: loss improved from 4.93826 to 4.87682, saving model to results/exp3/best_model.hdf5\n",
      "Epoch 15/50\n",
      "21959/21959 [==============================] - 45s 2ms/step - loss: 4.8196 - accuracy: 0.1322\n",
      "\n",
      "Epoch 00015: loss improved from 4.87682 to 4.81958, saving model to results/exp3/best_model.hdf5\n",
      "Epoch 16/50\n",
      "21959/21959 [==============================] - 46s 2ms/step - loss: 4.7656 - accuracy: 0.1344\n",
      "\n",
      "Epoch 00016: loss improved from 4.81958 to 4.76556, saving model to results/exp3/best_model.hdf5\n",
      "Epoch 17/50\n",
      "21959/21959 [==============================] - 45s 2ms/step - loss: 4.7138 - accuracy: 0.1356\n",
      "\n",
      "Epoch 00017: loss improved from 4.76556 to 4.71380, saving model to results/exp3/best_model.hdf5\n",
      "Epoch 18/50\n",
      "21959/21959 [==============================] - 45s 2ms/step - loss: 4.6655 - accuracy: 0.1407\n",
      "\n",
      "Epoch 00018: loss improved from 4.71380 to 4.66549, saving model to results/exp3/best_model.hdf5\n",
      "Epoch 19/50\n",
      "21959/21959 [==============================] - 45s 2ms/step - loss: 4.6162 - accuracy: 0.1409\n",
      "\n",
      "Epoch 00019: loss improved from 4.66549 to 4.61622, saving model to results/exp3/best_model.hdf5\n",
      "Epoch 20/50\n",
      "21959/21959 [==============================] - 46s 2ms/step - loss: 4.5723 - accuracy: 0.1425\n",
      "\n",
      "Epoch 00020: loss improved from 4.61622 to 4.57231, saving model to results/exp3/best_model.hdf5\n",
      "Epoch 21/50\n",
      "21959/21959 [==============================] - 45s 2ms/step - loss: 4.5310 - accuracy: 0.1441\n",
      "\n",
      "Epoch 00021: loss improved from 4.57231 to 4.53096, saving model to results/exp3/best_model.hdf5\n",
      "Epoch 22/50\n",
      "21959/21959 [==============================] - 46s 2ms/step - loss: 4.4877 - accuracy: 0.1451\n",
      "\n",
      "Epoch 00022: loss improved from 4.53096 to 4.48773, saving model to results/exp3/best_model.hdf5\n",
      "Epoch 23/50\n",
      "21959/21959 [==============================] - 45s 2ms/step - loss: 4.4476 - accuracy: 0.1454\n",
      "\n",
      "Epoch 00023: loss improved from 4.48773 to 4.44764, saving model to results/exp3/best_model.hdf5\n",
      "Epoch 24/50\n",
      "21959/21959 [==============================] - 44s 2ms/step - loss: 4.4093 - accuracy: 0.1483\n",
      "\n",
      "Epoch 00024: loss improved from 4.44764 to 4.40932, saving model to results/exp3/best_model.hdf5\n",
      "Epoch 25/50\n",
      "21959/21959 [==============================] - 45s 2ms/step - loss: 4.3728 - accuracy: 0.1480\n",
      "\n",
      "Epoch 00025: loss improved from 4.40932 to 4.37284, saving model to results/exp3/best_model.hdf5\n",
      "Epoch 26/50\n",
      "21959/21959 [==============================] - 45s 2ms/step - loss: 4.3365 - accuracy: 0.1519\n",
      "\n",
      "Epoch 00026: loss improved from 4.37284 to 4.33645, saving model to results/exp3/best_model.hdf5\n",
      "Epoch 27/50\n",
      "21959/21959 [==============================] - 46s 2ms/step - loss: 4.3012 - accuracy: 0.1534\n",
      "\n",
      "Epoch 00027: loss improved from 4.33645 to 4.30116, saving model to results/exp3/best_model.hdf5\n",
      "Epoch 28/50\n",
      "21959/21959 [==============================] - 45s 2ms/step - loss: 4.2682 - accuracy: 0.1542\n",
      "\n",
      "Epoch 00028: loss improved from 4.30116 to 4.26816, saving model to results/exp3/best_model.hdf5\n",
      "Epoch 29/50\n",
      "21959/21959 [==============================] - 45s 2ms/step - loss: 4.2336 - accuracy: 0.1547\n",
      "\n",
      "Epoch 00029: loss improved from 4.26816 to 4.23360, saving model to results/exp3/best_model.hdf5\n",
      "Epoch 30/50\n",
      "21959/21959 [==============================] - 45s 2ms/step - loss: 4.2029 - accuracy: 0.1571\n",
      "\n",
      "Epoch 00030: loss improved from 4.23360 to 4.20294, saving model to results/exp3/best_model.hdf5\n",
      "Epoch 31/50\n",
      "21959/21959 [==============================] - 46s 2ms/step - loss: 4.1730 - accuracy: 0.1592\n",
      "\n",
      "Epoch 00031: loss improved from 4.20294 to 4.17297, saving model to results/exp3/best_model.hdf5\n",
      "Epoch 32/50\n",
      "21959/21959 [==============================] - 45s 2ms/step - loss: 4.1394 - accuracy: 0.1589\n",
      "\n",
      "Epoch 00032: loss improved from 4.17297 to 4.13941, saving model to results/exp3/best_model.hdf5\n",
      "Epoch 33/50\n",
      "21959/21959 [==============================] - 46s 2ms/step - loss: 4.1048 - accuracy: 0.1620\n",
      "\n",
      "Epoch 00033: loss improved from 4.13941 to 4.10483, saving model to results/exp3/best_model.hdf5\n",
      "Epoch 34/50\n",
      "21959/21959 [==============================] - 45s 2ms/step - loss: 4.0739 - accuracy: 0.1663\n",
      "\n",
      "Epoch 00034: loss improved from 4.10483 to 4.07387, saving model to results/exp3/best_model.hdf5\n",
      "Epoch 35/50\n",
      "21959/21959 [==============================] - 45s 2ms/step - loss: 4.0435 - accuracy: 0.1666\n",
      "\n",
      "Epoch 00035: loss improved from 4.07387 to 4.04351, saving model to results/exp3/best_model.hdf5\n",
      "Epoch 36/50\n",
      "21959/21959 [==============================] - 45s 2ms/step - loss: 4.0085 - accuracy: 0.1696\n",
      "\n",
      "Epoch 00036: loss improved from 4.04351 to 4.00846, saving model to results/exp3/best_model.hdf5\n",
      "Epoch 37/50\n",
      "21959/21959 [==============================] - 45s 2ms/step - loss: 3.9762 - accuracy: 0.1713\n",
      "\n",
      "Epoch 00037: loss improved from 4.00846 to 3.97615, saving model to results/exp3/best_model.hdf5\n",
      "Epoch 38/50\n",
      "21959/21959 [==============================] - 45s 2ms/step - loss: 3.9485 - accuracy: 0.1738\n",
      "\n",
      "Epoch 00038: loss improved from 3.97615 to 3.94852, saving model to results/exp3/best_model.hdf5\n",
      "Epoch 39/50\n",
      "21959/21959 [==============================] - 45s 2ms/step - loss: 3.9160 - accuracy: 0.1751\n",
      "\n",
      "Epoch 00039: loss improved from 3.94852 to 3.91596, saving model to results/exp3/best_model.hdf5\n",
      "Epoch 40/50\n",
      "21959/21959 [==============================] - 45s 2ms/step - loss: 3.8860 - accuracy: 0.1805\n",
      "\n",
      "Epoch 00040: loss improved from 3.91596 to 3.88597, saving model to results/exp3/best_model.hdf5\n",
      "Epoch 41/50\n",
      "21959/21959 [==============================] - 45s 2ms/step - loss: 3.8536 - accuracy: 0.1825\n",
      "\n",
      "Epoch 00041: loss improved from 3.88597 to 3.85362, saving model to results/exp3/best_model.hdf5\n",
      "Epoch 42/50\n",
      "21959/21959 [==============================] - 46s 2ms/step - loss: 3.8225 - accuracy: 0.1856\n",
      "\n",
      "Epoch 00042: loss improved from 3.85362 to 3.82246, saving model to results/exp3/best_model.hdf5\n",
      "Epoch 43/50\n",
      "21959/21959 [==============================] - 45s 2ms/step - loss: 3.7928 - accuracy: 0.1881\n",
      "\n",
      "Epoch 00043: loss improved from 3.82246 to 3.79281, saving model to results/exp3/best_model.hdf5\n",
      "Epoch 44/50\n",
      "21959/21959 [==============================] - 45s 2ms/step - loss: 3.7627 - accuracy: 0.1909\n",
      "\n",
      "Epoch 00044: loss improved from 3.79281 to 3.76273, saving model to results/exp3/best_model.hdf5\n",
      "Epoch 45/50\n",
      "21959/21959 [==============================] - 44s 2ms/step - loss: 3.7338 - accuracy: 0.1952\n",
      "\n",
      "Epoch 00045: loss improved from 3.76273 to 3.73376, saving model to results/exp3/best_model.hdf5\n",
      "Epoch 46/50\n",
      "21959/21959 [==============================] - 45s 2ms/step - loss: 3.7016 - accuracy: 0.1970\n",
      "\n",
      "Epoch 00046: loss improved from 3.73376 to 3.70157, saving model to results/exp3/best_model.hdf5\n",
      "Epoch 47/50\n",
      "21959/21959 [==============================] - 46s 2ms/step - loss: 3.6752 - accuracy: 0.2001\n",
      "\n",
      "Epoch 00047: loss improved from 3.70157 to 3.67521, saving model to results/exp3/best_model.hdf5\n",
      "Epoch 48/50\n",
      "21959/21959 [==============================] - 46s 2ms/step - loss: 3.6466 - accuracy: 0.2048\n",
      "\n",
      "Epoch 00048: loss improved from 3.67521 to 3.64664, saving model to results/exp3/best_model.hdf5\n",
      "Epoch 49/50\n",
      "21959/21959 [==============================] - 46s 2ms/step - loss: 3.6154 - accuracy: 0.2051\n",
      "\n",
      "Epoch 00049: loss improved from 3.64664 to 3.61544, saving model to results/exp3/best_model.hdf5\n",
      "Epoch 50/50\n",
      "21959/21959 [==============================] - 45s 2ms/step - loss: 3.5906 - accuracy: 0.2105\n",
      "\n",
      "Epoch 00050: loss improved from 3.61544 to 3.59063, saving model to results/exp3/best_model.hdf5\n",
      "--------------------------\n",
      "Training time in seconds:  2295.06\n",
      "--------------------------\n"
     ]
    }
   ],
   "source": [
    "# Fit the model\n",
    "start_time = time.time()\n",
    "history = model_3.fit(X, \n",
    "                      y, \n",
    "                      batch_size=128, \n",
    "                      epochs=50,\n",
    "                      callbacks=callbacks_list)\n",
    "\n",
    "elapsed_time = time.time() - start_time\n",
    "print('--------------------------')\n",
    "print('Training time in seconds: ', round(elapsed_time,2))\n",
    "print('--------------------------')"
   ]
  },
  {
   "cell_type": "code",
   "execution_count": 0,
   "metadata": {
    "colab": {},
    "colab_type": "code",
    "id": "tdM792KTKamu"
   },
   "outputs": [],
   "source": [
    " # Plot model performance"
   ]
  },
  {
   "cell_type": "code",
   "execution_count": 0,
   "metadata": {
    "colab": {},
    "colab_type": "code",
    "id": "MKr84s_VKamw"
   },
   "outputs": [],
   "source": [
    "# history_dict = history.history\n",
    "# history_dict.keys()"
   ]
  },
  {
   "cell_type": "markdown",
   "metadata": {},
   "source": [
    "**Figure 6: Learning curves for Model 3**"
   ]
  },
  {
   "cell_type": "code",
   "execution_count": 84,
   "metadata": {
    "colab": {
     "base_uri": "https://localhost:8080/",
     "height": 324
    },
    "colab_type": "code",
    "id": "jMV8zbGdKamy",
    "outputId": "35106e0e-be5d-4cf1-ec09-57d90a90ec4c"
   },
   "outputs": [
    {
     "data": {
      "image/png": "[encoded data removed]",
      "text/plain": [
       "<Figure size 576x360 with 1 Axes>"
      ]
     },
     "metadata": {
      "needs_background": "light",
      "tags": []
     },
     "output_type": "display_data"
    }
   ],
   "source": [
    "# Plot learning curves for model\n",
    "pd.DataFrame(history.history).plot(figsize=(8, 5))\n",
    "plt.grid(True)\n",
    "plt.gca().set_ylim(0, 8) # set the vertical range to [0-1]\n",
    "plt.savefig(\"figures/learning_curves_model_3\", tight_layout=False)\n",
    "plt.show()"
   ]
  },
  {
   "cell_type": "code",
   "execution_count": 0,
   "metadata": {
    "colab": {},
    "colab_type": "code",
    "id": "XJRDJo1DKam0"
   },
   "outputs": [],
   "source": [
    "# Save the model to file\n",
    "model_3.save('results/exp3/model_3.h5')\n",
    "# save the tokenizer\n",
    "# dump(tokenizer, open('meta_tokenizer.pkl', 'wb'))"
   ]
  },
  {
   "cell_type": "code",
   "execution_count": 0,
   "metadata": {
    "colab": {},
    "colab_type": "code",
    "id": "4fef-XevKam3"
   },
   "outputs": [],
   "source": [
    "# Prepare the language model"
   ]
  },
  {
   "cell_type": "code",
   "execution_count": 0,
   "metadata": {
    "colab": {},
    "colab_type": "code",
    "id": "qJQX-Q8sKam4"
   },
   "outputs": [],
   "source": [
    "# Load cleaned text sequences\n",
    "in_filename = 'meta_sequences.txt'\n",
    "doc = load_doc(in_filename)\n",
    "lines = doc.split('\\n')\n",
    "\n",
    "# Define sequence length\n",
    "seq_length = len(lines[0].split()) - 1"
   ]
  },
  {
   "cell_type": "code",
   "execution_count": 88,
   "metadata": {
    "colab": {
     "base_uri": "https://localhost:8080/",
     "height": 72
    },
    "colab_type": "code",
    "id": "Uy5kIdP8Kam6",
    "outputId": "c48bf476-d836-4f61-c458-bccab161f69e"
   },
   "outputs": [
    {
     "name": "stderr",
     "output_type": "stream",
     "text": [
      "/usr/local/lib/python3.6/dist-packages/tensorflow/python/framework/indexed_slices.py:434: UserWarning: Converting sparse IndexedSlices to a dense Tensor of unknown shape. This may consume a large amount of memory.\n",
      "  \"Converting sparse IndexedSlices to a dense Tensor of unknown shape. \"\n"
     ]
    }
   ],
   "source": [
    "# Load the model - use name from best model\n",
    "model = load_model('results/exp3/model_3.h5')"
   ]
  },
  {
   "cell_type": "code",
   "execution_count": 0,
   "metadata": {
    "colab": {},
    "colab_type": "code",
    "id": "kkgxkTLNKam8"
   },
   "outputs": [],
   "source": [
    "# Load the tokenizer\n",
    "tokenizer = load(open('meta_tokenizer.pkl', 'rb'))"
   ]
  },
  {
   "cell_type": "code",
   "execution_count": 0,
   "metadata": {
    "colab": {},
    "colab_type": "code",
    "id": "j9jdBiScKam9"
   },
   "outputs": [],
   "source": [
    "# Generate text and evaluate"
   ]
  },
  {
   "cell_type": "code",
   "execution_count": 0,
   "metadata": {
    "colab": {},
    "colab_type": "code",
    "id": "2yhFhpHI-wbo"
   },
   "outputs": [],
   "source": [
    "# Select a seed text\n",
    "seed_text = lines[randint(0,len(lines))]"
   ]
  },
  {
   "cell_type": "code",
   "execution_count": 92,
   "metadata": {
    "colab": {
     "base_uri": "https://localhost:8080/",
     "height": 108
    },
    "colab_type": "code",
    "id": "Wz5LMNouKanH",
    "outputId": "86f4cf9d-3b26-4e7d-ee84-e9fdd1cd0d94"
   },
   "outputs": [
    {
     "name": "stdout",
     "output_type": "stream",
     "text": [
      "Seed text 1: happening without even giving the impression of a chase as everything went so slowly gregor remained all this time on the floor largely because he feared his father might see it as especially provoking if he fled onto the wall or ceiling whatever he did gregor had to admit that he\n",
      "\n",
      "----------------------------------\n",
      "Generated text 1: was not enough to get it he was not enough to get it he was not enough to get it he was not enough to get it he was not enough to get it he was not enough to get it he was not enough to get it he was\n"
     ]
    }
   ],
   "source": [
    "# Generate new text\n",
    "print('Seed text 1:', seed_text + '\\n')\n",
    "print('----------------------------------')\n",
    "generated = generate_seq(model, tokenizer, seq_length, seed_text, 50)\n",
    "print('Generated text 1:', generated)"
   ]
  },
  {
   "cell_type": "code",
   "execution_count": 0,
   "metadata": {
    "colab": {},
    "colab_type": "code",
    "id": "tUoA1RW_KanK"
   },
   "outputs": [],
   "source": [
    "# Select a new seed text\n",
    "seed_text = lines[randint(0,len(lines))]"
   ]
  },
  {
   "cell_type": "code",
   "execution_count": 94,
   "metadata": {
    "colab": {
     "base_uri": "https://localhost:8080/",
     "height": 108
    },
    "colab_type": "code",
    "id": "qiADUNDsKanL",
    "outputId": "686b6fb1-72e7-4eda-bbd0-906d22e43470"
   },
   "outputs": [
    {
     "name": "stdout",
     "output_type": "stream",
     "text": [
      "Seed text 2: still be heard as if they had wanted to show gregor that you need teeth in order to eat and it was not possible to perform anything with jaws that are toothless however nice they might be id like to eat something said gregor anxiously but not anything like theyre eating\n",
      "\n",
      "----------------------------------\n",
      "Generated text 2: that he had been forgotten up with the table and not the time of a way in his room and had been more than usual himself the harder which was not the door and had been more than usual himself the harder which was not the door and had been\n"
     ]
    }
   ],
   "source": [
    "# Generate new text\n",
    "print('Seed text 2:', seed_text + '\\n')\n",
    "print('----------------------------------')\n",
    "generated = generate_seq(model, tokenizer, seq_length, seed_text, 50)\n",
    "print('Generated text 2:', generated)"
   ]
  },
  {
   "cell_type": "code",
   "execution_count": 0,
   "metadata": {
    "colab": {},
    "colab_type": "code",
    "id": "_SR62cE_P1o_"
   },
   "outputs": [],
   "source": [
    "# Select a new seed text\n",
    "seed_text = lines[randint(0,len(lines))]"
   ]
  },
  {
   "cell_type": "code",
   "execution_count": 96,
   "metadata": {
    "colab": {
     "base_uri": "https://localhost:8080/",
     "height": 108
    },
    "colab_type": "code",
    "id": "NTvVivtkP1pB",
    "outputId": "45b4cdc9-d883-4a7b-e2db-a7ef94eed921"
   },
   "outputs": [
    {
     "name": "stdout",
     "output_type": "stream",
     "text": [
      "Seed text 3: into new positions alright well go then he said and looked up at mr samsa as if he had been suddenly overcome with humility and wanted permission again from mr samsa for his decision mr samsa merely opened his eyes wide and briefly nodded to him several times at that and\n",
      "\n",
      "----------------------------------\n",
      "Generated text 3: as he could not be seen that he was not enough to get it he was not enough to get it he was not enough to get it he was not enough to get it he was not enough to get it he was not enough to get it he\n"
     ]
    }
   ],
   "source": [
    "# Generate new text\n",
    "print('Seed text 3:', seed_text + '\\n')\n",
    "print('----------------------------------')\n",
    "generated = generate_seq(model, tokenizer, seq_length, seed_text, 50)\n",
    "print('Generated text 3:', generated)"
   ]
  },
  {
   "cell_type": "code",
   "execution_count": 0,
   "metadata": {
    "colab": {},
    "colab_type": "code",
    "id": "Rm_H_-86S5Pn"
   },
   "outputs": [],
   "source": [
    "tf.keras.backend.clear_session()"
   ]
  },
  {
   "cell_type": "markdown",
   "metadata": {
    "colab_type": "text",
    "id": "qa-1Y_cKKanM"
   },
   "source": [
    "### <i>Experiment 4: LSTM RNN with 2 hidden layers and additional memory cell units</i>\n",
    "This deeper neural network adds memory cell units to the architecture of the model from Experiment 3 to determine impact on performance, training time, and ability to capture context of the document and generate meaningful text from seed text.\n",
    "* 2 hidden layers\n",
    "* 256 memory cell units\n",
    "* Embedding vector space size 50"
   ]
  },
  {
   "cell_type": "code",
   "execution_count": 0,
   "metadata": {
    "colab": {},
    "colab_type": "code",
    "id": "sbv-tN-3KanN"
   },
   "outputs": [],
   "source": [
    "# Define model\n",
    "model_4 = Sequential()\n",
    "model_4.add(Embedding(vocab_size, 50, input_length=seq_length))\n",
    "model_4.add(LSTM(256, return_sequences=True))\n",
    "model_4.add(LSTM(256))\n",
    "model_4.add(Dense(256, activation='relu'))\n",
    "model_4.add(Dense(vocab_size, activation='softmax'))"
   ]
  },
  {
   "cell_type": "code",
   "execution_count": 99,
   "metadata": {
    "colab": {
     "base_uri": "https://localhost:8080/",
     "height": 962
    },
    "colab_type": "code",
    "id": "WuYAHbc7KanP",
    "outputId": "3254b8f7-f707-46e3-b036-2f033b7a0ba8"
   },
   "outputs": [
    {
     "name": "stdout",
     "output_type": "stream",
     "text": [
      "Model: \"sequential_1\"\n",
      "_________________________________________________________________\n",
      "Layer (type)                 Output Shape              Param #   \n",
      "=================================================================\n",
      "embedding_1 (Embedding)      (None, 50, 50)            130700    \n",
      "_________________________________________________________________\n",
      "lstm_1 (LSTM)                (None, 50, 256)           314368    \n",
      "_________________________________________________________________\n",
      "lstm_2 (LSTM)                (None, 256)               525312    \n",
      "_________________________________________________________________\n",
      "dense_1 (Dense)              (None, 256)               65792     \n",
      "_________________________________________________________________\n",
      "dense_2 (Dense)              (None, 2614)              671798    \n",
      "=================================================================\n",
      "Total params: 1,707,970\n",
      "Trainable params: 1,707,970\n",
      "Non-trainable params: 0\n",
      "_________________________________________________________________\n"
     ]
    },
    {
     "data": {
      "image/png": "[encoded data removed]",
      "text/plain": [
       "<IPython.core.display.Image object>"
      ]
     },
     "execution_count": 99,
     "metadata": {
      "tags": []
     },
     "output_type": "execute_result"
    }
   ],
   "source": [
    "# Model summary\n",
    "model_4.summary()\n",
    "plot_model(model_4, to_file='figures/model_4.png', show_shapes=True)"
   ]
  },
  {
   "cell_type": "code",
   "execution_count": 0,
   "metadata": {
    "colab": {},
    "colab_type": "code",
    "id": "d3ajIv7KKanQ"
   },
   "outputs": [],
   "source": [
    "# Compile model\n",
    "model_4.compile(loss='categorical_crossentropy', optimizer='adam', metrics=['accuracy'])"
   ]
  },
  {
   "cell_type": "code",
   "execution_count": 0,
   "metadata": {
    "colab": {},
    "colab_type": "code",
    "id": "frnlkjkRKanS"
   },
   "outputs": [],
   "source": [
    "# Define the checkpoint\n",
    "filepath='results/exp4/est_model.hdf5'\n",
    "checkpoint = ModelCheckpoint(filepath, monitor='loss', verbose=1, save_best_only=True, mode='min')\n",
    "es = EarlyStopping(monitor='loss', mode='min', verbose=1, patience=5)\n",
    "callbacks_list = [checkpoint, es]"
   ]
  },
  {
   "cell_type": "code",
   "execution_count": 102,
   "metadata": {
    "colab": {
     "base_uri": "https://localhost:8080/",
     "height": 1000
    },
    "colab_type": "code",
    "id": "GCMqn5hwKanU",
    "outputId": "050a113c-71ad-48ca-eab9-3ec83c30a43e"
   },
   "outputs": [
    {
     "name": "stderr",
     "output_type": "stream",
     "text": [
      "/usr/local/lib/python3.6/dist-packages/tensorflow/python/framework/indexed_slices.py:434: UserWarning: Converting sparse IndexedSlices to a dense Tensor of unknown shape. This may consume a large amount of memory.\n",
      "  \"Converting sparse IndexedSlices to a dense Tensor of unknown shape. \"\n"
     ]
    },
    {
     "name": "stdout",
     "output_type": "stream",
     "text": [
      "Epoch 1/50\n",
      "21959/21959 [==============================] - 51s 2ms/step - loss: 6.3410 - accuracy: 0.0492\n",
      "\n",
      "Epoch 00001: loss improved from inf to 6.34101, saving model to results/exp4/est_model.hdf5\n",
      "Epoch 2/50\n",
      "21959/21959 [==============================] - 49s 2ms/step - loss: 5.9834 - accuracy: 0.0520\n",
      "\n",
      "Epoch 00002: loss improved from 6.34101 to 5.98335, saving model to results/exp4/est_model.hdf5\n",
      "Epoch 3/50\n",
      "21959/21959 [==============================] - 50s 2ms/step - loss: 5.8086 - accuracy: 0.0567\n",
      "\n",
      "Epoch 00003: loss improved from 5.98335 to 5.80857, saving model to results/exp4/est_model.hdf5\n",
      "Epoch 4/50\n",
      "21959/21959 [==============================] - 49s 2ms/step - loss: 5.6328 - accuracy: 0.0696\n",
      "\n",
      "Epoch 00004: loss improved from 5.80857 to 5.63282, saving model to results/exp4/est_model.hdf5\n",
      "Epoch 5/50\n",
      "21959/21959 [==============================] - 49s 2ms/step - loss: 5.4972 - accuracy: 0.0734\n",
      "\n",
      "Epoch 00005: loss improved from 5.63282 to 5.49724, saving model to results/exp4/est_model.hdf5\n",
      "Epoch 6/50\n",
      "21959/21959 [==============================] - 49s 2ms/step - loss: 5.3893 - accuracy: 0.0800\n",
      "\n",
      "Epoch 00006: loss improved from 5.49724 to 5.38928, saving model to results/exp4/est_model.hdf5\n",
      "Epoch 7/50\n",
      "21959/21959 [==============================] - 49s 2ms/step - loss: 5.2921 - accuracy: 0.0864\n",
      "\n",
      "Epoch 00007: loss improved from 5.38928 to 5.29208, saving model to results/exp4/est_model.hdf5\n",
      "Epoch 8/50\n",
      "21959/21959 [==============================] - 50s 2ms/step - loss: 5.2039 - accuracy: 0.0921\n",
      "\n",
      "Epoch 00008: loss improved from 5.29208 to 5.20387, saving model to results/exp4/est_model.hdf5\n",
      "Epoch 9/50\n",
      "21959/21959 [==============================] - 50s 2ms/step - loss: 5.1486 - accuracy: 0.1017\n",
      "\n",
      "Epoch 00009: loss improved from 5.20387 to 5.14860, saving model to results/exp4/est_model.hdf5\n",
      "Epoch 10/50\n",
      "21959/21959 [==============================] - 49s 2ms/step - loss: 5.0352 - accuracy: 0.1140\n",
      "\n",
      "Epoch 00010: loss improved from 5.14860 to 5.03520, saving model to results/exp4/est_model.hdf5\n",
      "Epoch 11/50\n",
      "21959/21959 [==============================] - 50s 2ms/step - loss: 4.9317 - accuracy: 0.1221\n",
      "\n",
      "Epoch 00011: loss improved from 5.03520 to 4.93170, saving model to results/exp4/est_model.hdf5\n",
      "Epoch 12/50\n",
      "21959/21959 [==============================] - 50s 2ms/step - loss: 4.8372 - accuracy: 0.1286\n",
      "\n",
      "Epoch 00012: loss improved from 4.93170 to 4.83716, saving model to results/exp4/est_model.hdf5\n",
      "Epoch 13/50\n",
      "21959/21959 [==============================] - 50s 2ms/step - loss: 4.7509 - accuracy: 0.1323\n",
      "\n",
      "Epoch 00013: loss improved from 4.83716 to 4.75095, saving model to results/exp4/est_model.hdf5\n",
      "Epoch 14/50\n",
      "21959/21959 [==============================] - 49s 2ms/step - loss: 4.6701 - accuracy: 0.1358\n",
      "\n",
      "Epoch 00014: loss improved from 4.75095 to 4.67014, saving model to results/exp4/est_model.hdf5\n",
      "Epoch 15/50\n",
      "21959/21959 [==============================] - 49s 2ms/step - loss: 4.5818 - accuracy: 0.1402\n",
      "\n",
      "Epoch 00015: loss improved from 4.67014 to 4.58178, saving model to results/exp4/est_model.hdf5\n",
      "Epoch 16/50\n",
      "21959/21959 [==============================] - 50s 2ms/step - loss: 4.5032 - accuracy: 0.1445\n",
      "\n",
      "Epoch 00016: loss improved from 4.58178 to 4.50319, saving model to results/exp4/est_model.hdf5\n",
      "Epoch 17/50\n",
      "21959/21959 [==============================] - 50s 2ms/step - loss: 4.4251 - accuracy: 0.1471\n",
      "\n",
      "Epoch 00017: loss improved from 4.50319 to 4.42511, saving model to results/exp4/est_model.hdf5\n",
      "Epoch 18/50\n",
      "21959/21959 [==============================] - 50s 2ms/step - loss: 4.3485 - accuracy: 0.1481\n",
      "\n",
      "Epoch 00018: loss improved from 4.42511 to 4.34850, saving model to results/exp4/est_model.hdf5\n",
      "Epoch 19/50\n",
      "21959/21959 [==============================] - 50s 2ms/step - loss: 4.2731 - accuracy: 0.1530\n",
      "\n",
      "Epoch 00019: loss improved from 4.34850 to 4.27307, saving model to results/exp4/est_model.hdf5\n",
      "Epoch 20/50\n",
      "21959/21959 [==============================] - 50s 2ms/step - loss: 4.2015 - accuracy: 0.1553\n",
      "\n",
      "Epoch 00020: loss improved from 4.27307 to 4.20152, saving model to results/exp4/est_model.hdf5\n",
      "Epoch 21/50\n",
      "21959/21959 [==============================] - 49s 2ms/step - loss: 4.1244 - accuracy: 0.1603\n",
      "\n",
      "Epoch 00021: loss improved from 4.20152 to 4.12440, saving model to results/exp4/est_model.hdf5\n",
      "Epoch 22/50\n",
      "21959/21959 [==============================] - 49s 2ms/step - loss: 4.0547 - accuracy: 0.1634\n",
      "\n",
      "Epoch 00022: loss improved from 4.12440 to 4.05469, saving model to results/exp4/est_model.hdf5\n",
      "Epoch 23/50\n",
      "21959/21959 [==============================] - 50s 2ms/step - loss: 3.9836 - accuracy: 0.1646\n",
      "\n",
      "Epoch 00023: loss improved from 4.05469 to 3.98363, saving model to results/exp4/est_model.hdf5\n",
      "Epoch 24/50\n",
      "21959/21959 [==============================] - 49s 2ms/step - loss: 3.9105 - accuracy: 0.1710\n",
      "\n",
      "Epoch 00024: loss improved from 3.98363 to 3.91053, saving model to results/exp4/est_model.hdf5\n",
      "Epoch 25/50\n",
      "21959/21959 [==============================] - 49s 2ms/step - loss: 3.8366 - accuracy: 0.1778\n",
      "\n",
      "Epoch 00025: loss improved from 3.91053 to 3.83657, saving model to results/exp4/est_model.hdf5\n",
      "Epoch 26/50\n",
      "21959/21959 [==============================] - 50s 2ms/step - loss: 3.7661 - accuracy: 0.1816\n",
      "\n",
      "Epoch 00026: loss improved from 3.83657 to 3.76614, saving model to results/exp4/est_model.hdf5\n",
      "Epoch 27/50\n",
      "21959/21959 [==============================] - 49s 2ms/step - loss: 3.6984 - accuracy: 0.1877\n",
      "\n",
      "Epoch 00027: loss improved from 3.76614 to 3.69840, saving model to results/exp4/est_model.hdf5\n",
      "Epoch 28/50\n",
      "21959/21959 [==============================] - 50s 2ms/step - loss: 3.6278 - accuracy: 0.1953\n",
      "\n",
      "Epoch 00028: loss improved from 3.69840 to 3.62783, saving model to results/exp4/est_model.hdf5\n",
      "Epoch 29/50\n",
      "21959/21959 [==============================] - 49s 2ms/step - loss: 3.5560 - accuracy: 0.2006\n",
      "\n",
      "Epoch 00029: loss improved from 3.62783 to 3.55597, saving model to results/exp4/est_model.hdf5\n",
      "Epoch 30/50\n",
      "21959/21959 [==============================] - 49s 2ms/step - loss: 3.4899 - accuracy: 0.2107\n",
      "\n",
      "Epoch 00030: loss improved from 3.55597 to 3.48988, saving model to results/exp4/est_model.hdf5\n",
      "Epoch 31/50\n",
      "21959/21959 [==============================] - 49s 2ms/step - loss: 3.4187 - accuracy: 0.2172\n",
      "\n",
      "Epoch 00031: loss improved from 3.48988 to 3.41866, saving model to results/exp4/est_model.hdf5\n",
      "Epoch 32/50\n",
      "21959/21959 [==============================] - 50s 2ms/step - loss: 3.3558 - accuracy: 0.2283\n",
      "\n",
      "Epoch 00032: loss improved from 3.41866 to 3.35584, saving model to results/exp4/est_model.hdf5\n",
      "Epoch 33/50\n",
      "21959/21959 [==============================] - 50s 2ms/step - loss: 3.2984 - accuracy: 0.2328\n",
      "\n",
      "Epoch 00033: loss improved from 3.35584 to 3.29842, saving model to results/exp4/est_model.hdf5\n",
      "Epoch 34/50\n",
      "21959/21959 [==============================] - 50s 2ms/step - loss: 3.2300 - accuracy: 0.2422\n",
      "\n",
      "Epoch 00034: loss improved from 3.29842 to 3.23004, saving model to results/exp4/est_model.hdf5\n",
      "Epoch 35/50\n",
      "21959/21959 [==============================] - 50s 2ms/step - loss: 3.1695 - accuracy: 0.2519\n",
      "\n",
      "Epoch 00035: loss improved from 3.23004 to 3.16954, saving model to results/exp4/est_model.hdf5\n",
      "Epoch 36/50\n",
      "21959/21959 [==============================] - 49s 2ms/step - loss: 3.1116 - accuracy: 0.2625\n",
      "\n",
      "Epoch 00036: loss improved from 3.16954 to 3.11159, saving model to results/exp4/est_model.hdf5\n",
      "Epoch 37/50\n",
      "21959/21959 [==============================] - 50s 2ms/step - loss: 3.0533 - accuracy: 0.2705\n",
      "\n",
      "Epoch 00037: loss improved from 3.11159 to 3.05329, saving model to results/exp4/est_model.hdf5\n",
      "Epoch 38/50\n",
      "21959/21959 [==============================] - 49s 2ms/step - loss: 3.0004 - accuracy: 0.2798\n",
      "\n",
      "Epoch 00038: loss improved from 3.05329 to 3.00044, saving model to results/exp4/est_model.hdf5\n",
      "Epoch 39/50\n",
      "21959/21959 [==============================] - 50s 2ms/step - loss: 2.9420 - accuracy: 0.2892\n",
      "\n",
      "Epoch 00039: loss improved from 3.00044 to 2.94199, saving model to results/exp4/est_model.hdf5\n",
      "Epoch 40/50\n",
      "21959/21959 [==============================] - 49s 2ms/step - loss: 2.8831 - accuracy: 0.3017\n",
      "\n",
      "Epoch 00040: loss improved from 2.94199 to 2.88312, saving model to results/exp4/est_model.hdf5\n",
      "Epoch 41/50\n",
      "21959/21959 [==============================] - 49s 2ms/step - loss: 2.8328 - accuracy: 0.3087\n",
      "\n",
      "Epoch 00041: loss improved from 2.88312 to 2.83280, saving model to results/exp4/est_model.hdf5\n",
      "Epoch 42/50\n",
      "21959/21959 [==============================] - 50s 2ms/step - loss: 2.7891 - accuracy: 0.3159\n",
      "\n",
      "Epoch 00042: loss improved from 2.83280 to 2.78912, saving model to results/exp4/est_model.hdf5\n",
      "Epoch 43/50\n",
      "21959/21959 [==============================] - 49s 2ms/step - loss: 2.7412 - accuracy: 0.3256\n",
      "\n",
      "Epoch 00043: loss improved from 2.78912 to 2.74119, saving model to results/exp4/est_model.hdf5\n",
      "Epoch 44/50\n",
      "21959/21959 [==============================] - 49s 2ms/step - loss: 2.6905 - accuracy: 0.3348\n",
      "\n",
      "Epoch 00044: loss improved from 2.74119 to 2.69046, saving model to results/exp4/est_model.hdf5\n",
      "Epoch 45/50\n",
      "21959/21959 [==============================] - 49s 2ms/step - loss: 2.6474 - accuracy: 0.3415\n",
      "\n",
      "Epoch 00045: loss improved from 2.69046 to 2.64737, saving model to results/exp4/est_model.hdf5\n",
      "Epoch 46/50\n",
      "21959/21959 [==============================] - 50s 2ms/step - loss: 2.5958 - accuracy: 0.3557\n",
      "\n",
      "Epoch 00046: loss improved from 2.64737 to 2.59576, saving model to results/exp4/est_model.hdf5\n",
      "Epoch 47/50\n",
      "21959/21959 [==============================] - 50s 2ms/step - loss: 2.5530 - accuracy: 0.3590\n",
      "\n",
      "Epoch 00047: loss improved from 2.59576 to 2.55296, saving model to results/exp4/est_model.hdf5\n",
      "Epoch 48/50\n",
      "21959/21959 [==============================] - 50s 2ms/step - loss: 2.5069 - accuracy: 0.3691\n",
      "\n",
      "Epoch 00048: loss improved from 2.55296 to 2.50694, saving model to results/exp4/est_model.hdf5\n",
      "Epoch 49/50\n",
      "21959/21959 [==============================] - 50s 2ms/step - loss: 2.4614 - accuracy: 0.3793\n",
      "\n",
      "Epoch 00049: loss improved from 2.50694 to 2.46138, saving model to results/exp4/est_model.hdf5\n",
      "Epoch 50/50\n",
      "21959/21959 [==============================] - 50s 2ms/step - loss: 2.4229 - accuracy: 0.3860\n",
      "\n",
      "Epoch 00050: loss improved from 2.46138 to 2.42289, saving model to results/exp4/est_model.hdf5\n",
      "--------------------------\n",
      "Training time in seconds:  2518.31\n",
      "--------------------------\n"
     ]
    }
   ],
   "source": [
    "# Fit the model\n",
    "start_time = time.time()\n",
    "history = model_4.fit(X, \n",
    "                      y, \n",
    "                      batch_size=128, \n",
    "                      epochs=50,\n",
    "                      callbacks=callbacks_list)\n",
    "\n",
    "elapsed_time = time.time() - start_time\n",
    "print('--------------------------')\n",
    "print('Training time in seconds: ', round(elapsed_time,2))\n",
    "print('--------------------------')"
   ]
  },
  {
   "cell_type": "code",
   "execution_count": 0,
   "metadata": {
    "colab": {},
    "colab_type": "code",
    "id": "DEFT3jS3KanW"
   },
   "outputs": [],
   "source": [
    "# Plot model performance"
   ]
  },
  {
   "cell_type": "code",
   "execution_count": 0,
   "metadata": {
    "colab": {},
    "colab_type": "code",
    "id": "4fuZyEnNKanX"
   },
   "outputs": [],
   "source": [
    "# history_dict = history.history\n",
    "# history_dict.keys()"
   ]
  },
  {
   "cell_type": "markdown",
   "metadata": {},
   "source": [
    "**Figure 7: Learning curves for Model 4**"
   ]
  },
  {
   "cell_type": "code",
   "execution_count": 104,
   "metadata": {
    "colab": {
     "base_uri": "https://localhost:8080/",
     "height": 324
    },
    "colab_type": "code",
    "id": "DyIgIjrTKanZ",
    "outputId": "a24f65bf-68a8-4d28-8696-99b386e15b64"
   },
   "outputs": [
    {
     "data": {
      "image/png": "[encoded data removed]",
      "text/plain": [
       "<Figure size 576x360 with 1 Axes>"
      ]
     },
     "metadata": {
      "needs_background": "light",
      "tags": []
     },
     "output_type": "display_data"
    }
   ],
   "source": [
    "# Plot learning curves for model\n",
    "pd.DataFrame(history.history).plot(figsize=(8, 5))\n",
    "plt.grid(True)\n",
    "plt.gca().set_ylim(0, 5) # set the vertical range to [0-1]\n",
    "plt.savefig('figures/learning_curves_model_4', tight_layout=False)\n",
    "plt.show()"
   ]
  },
  {
   "cell_type": "code",
   "execution_count": 0,
   "metadata": {
    "colab": {},
    "colab_type": "code",
    "id": "ZvRnVtZTKana"
   },
   "outputs": [],
   "source": [
    "# Save the model to file\n",
    "model_4.save('results/exp4/model_4.h5')\n",
    "# save the tokenizer\n",
    "# dump(tokenizer, open('meta_tokenizer.pkl', 'wb'))"
   ]
  },
  {
   "cell_type": "code",
   "execution_count": 0,
   "metadata": {
    "colab": {},
    "colab_type": "code",
    "id": "VmzG5QXoKanc"
   },
   "outputs": [],
   "source": [
    "# Prepare the language model"
   ]
  },
  {
   "cell_type": "code",
   "execution_count": 0,
   "metadata": {
    "colab": {},
    "colab_type": "code",
    "id": "cJKlEjlBKand"
   },
   "outputs": [],
   "source": [
    "# Load cleaned text sequences\n",
    "in_filename = 'meta_sequences.txt'\n",
    "doc = load_doc(in_filename)\n",
    "lines = doc.split('\\n')\n",
    "\n",
    "# Define sequence length\n",
    "seq_length = len(lines[0].split()) - 1"
   ]
  },
  {
   "cell_type": "code",
   "execution_count": 108,
   "metadata": {
    "colab": {
     "base_uri": "https://localhost:8080/",
     "height": 72
    },
    "colab_type": "code",
    "id": "xC3ycv1xKane",
    "outputId": "d5a62994-3684-42f0-8f14-1acee760bfc4"
   },
   "outputs": [
    {
     "name": "stderr",
     "output_type": "stream",
     "text": [
      "/usr/local/lib/python3.6/dist-packages/tensorflow/python/framework/indexed_slices.py:434: UserWarning: Converting sparse IndexedSlices to a dense Tensor of unknown shape. This may consume a large amount of memory.\n",
      "  \"Converting sparse IndexedSlices to a dense Tensor of unknown shape. \"\n"
     ]
    }
   ],
   "source": [
    "# Load the model - use name from best model\n",
    "model = load_model('results/exp4/model_4.h5')"
   ]
  },
  {
   "cell_type": "code",
   "execution_count": 0,
   "metadata": {
    "colab": {},
    "colab_type": "code",
    "id": "Y7k6v-LAKanf"
   },
   "outputs": [],
   "source": [
    "# Load the tokenizer\n",
    "tokenizer = load(open('meta_tokenizer.pkl', 'rb'))"
   ]
  },
  {
   "cell_type": "code",
   "execution_count": 0,
   "metadata": {
    "colab": {},
    "colab_type": "code",
    "id": "jvNb7SAoKanh"
   },
   "outputs": [],
   "source": [
    "# Generate text and evaluate"
   ]
  },
  {
   "cell_type": "code",
   "execution_count": 0,
   "metadata": {
    "colab": {},
    "colab_type": "code",
    "id": "AIzNBeGWGH6q"
   },
   "outputs": [],
   "source": [
    "# Select a seed text\n",
    "seed_text = lines[randint(0,len(lines))]"
   ]
  },
  {
   "cell_type": "code",
   "execution_count": 112,
   "metadata": {
    "colab": {
     "base_uri": "https://localhost:8080/",
     "height": 108
    },
    "colab_type": "code",
    "id": "zNv-todIKanq",
    "outputId": "befc11c2-8056-4546-8de9-435c187ef184"
   },
   "outputs": [
    {
     "name": "stdout",
     "output_type": "stream",
     "text": [
      "Seed text 1: the most important meal of the day and he would stretch it out for several hours as he sat reading a number of different newspapers on the wall exactly opposite there was photograph of gregor when he was a lieutenant in the army his sword in his hand and a carefree\n",
      "\n",
      "----------------------------------\n",
      "Generated text 1: smile on his voice and put himself back in the bed bend down with the load that was already until they were worried of the table the way he had been working so now they had been in home and the three gentlemen had already rubbing the room he did\n"
     ]
    }
   ],
   "source": [
    "# Generate new text\n",
    "print('Seed text 1:', seed_text + '\\n')\n",
    "print('----------------------------------')\n",
    "generated = generate_seq(model, tokenizer, seq_length, seed_text, 50)\n",
    "print('Generated text 1:', generated)"
   ]
  },
  {
   "cell_type": "code",
   "execution_count": 0,
   "metadata": {
    "colab": {},
    "colab_type": "code",
    "id": "aHSvD5oTKanr"
   },
   "outputs": [],
   "source": [
    "# Select a new seed text\n",
    "seed_text = lines[randint(0,len(lines))]"
   ]
  },
  {
   "cell_type": "code",
   "execution_count": 114,
   "metadata": {
    "colab": {
     "base_uri": "https://localhost:8080/",
     "height": 108
    },
    "colab_type": "code",
    "id": "u76r_PKUKans",
    "outputId": "2bb93f90-1567-4172-a9a2-cb19cea928ce"
   },
   "outputs": [
    {
     "name": "stdout",
     "output_type": "stream",
     "text": [
      "Seed text 2: too slow for him to think of any other way of saving himself than running he almost forgot that the walls were there for him to use although here they were concealed behind carefully carved furniture full of notches and protrusions then right beside him lightly tossed something flew down and\n",
      "\n",
      "----------------------------------\n",
      "Generated text 2: rolled anxiously threw himself out of the flat thatll be seen for lying in his chair and the chief clerk had certainly come out to the door in his voice probably could take running about with the eight time man seven oclock already he would call to him about the\n"
     ]
    }
   ],
   "source": [
    "# Generate new text\n",
    "print('Seed text 2:', seed_text + '\\n')\n",
    "print('----------------------------------')\n",
    "generated = generate_seq(model, tokenizer, seq_length, seed_text, 50)\n",
    "print('Generated text 2:', generated)"
   ]
  },
  {
   "cell_type": "code",
   "execution_count": 0,
   "metadata": {
    "colab": {},
    "colab_type": "code",
    "id": "L0j7-r7oP1pe"
   },
   "outputs": [],
   "source": [
    "# Select a new seed text\n",
    "seed_text = lines[randint(0,len(lines))]"
   ]
  },
  {
   "cell_type": "code",
   "execution_count": 116,
   "metadata": {
    "colab": {
     "base_uri": "https://localhost:8080/",
     "height": 108
    },
    "colab_type": "code",
    "id": "kIZnF7a4P1pf",
    "outputId": "07152c93-dfc6-4e91-d701-786e79e7be3c"
   },
   "outputs": [
    {
     "name": "stdout",
     "output_type": "stream",
     "text": [
      "Seed text 3: off some of her clothes after she had fainted to make it easier for her to breathe she ran to his father her skirts unfastened and sliding one after another to the ground stumbling over the skirts she pushed herself to his father her arms around him uniting herself with him\n",
      "\n",
      "----------------------------------\n",
      "Generated text 3: in unhappy silence about the covers in his room and flew up in the bed and into his observant sister would break pressed today and mother aware him plenty of time to use to regret it he would add so that she would lift to make his own free emerged\n"
     ]
    }
   ],
   "source": [
    "# Generate new text\n",
    "print('Seed text 3:', seed_text + '\\n')\n",
    "print('----------------------------------')\n",
    "generated = generate_seq(model, tokenizer, seq_length, seed_text, 50)\n",
    "print('Generated text 3:', generated)"
   ]
  },
  {
   "cell_type": "code",
   "execution_count": 0,
   "metadata": {
    "colab": {},
    "colab_type": "code",
    "id": "HavMPaSJP1pp"
   },
   "outputs": [],
   "source": [
    "tf.keras.backend.clear_session()"
   ]
  },
  {
   "cell_type": "markdown",
   "metadata": {
    "colab_type": "text",
    "id": "DTvK8eBPKanu"
   },
   "source": [
    "### <i>Experiment 5: LSTM RNN with larger embedding vector space</i>\n",
    "This experiment takes the best model from Experiment 4, with 2 hidden layers and 256 memory cell units, and tests the increased embedding vector space on performance and interpretability.\n",
    "* 1 hidden layer\n",
    "* 256 memory cell units\n",
    "* Embedding vector space size 100"
   ]
  },
  {
   "cell_type": "code",
   "execution_count": 0,
   "metadata": {
    "colab": {},
    "colab_type": "code",
    "id": "rINawmzjKanv"
   },
   "outputs": [],
   "source": [
    "# Define model\n",
    "model_5 = Sequential()\n",
    "model_5.add(Embedding(vocab_size, 100, input_length=seq_length))\n",
    "model_5.add(LSTM(256))\n",
    "model_5.add(Dense(256, activation='relu'))\n",
    "model_5.add(Dense(vocab_size, activation='softmax'))"
   ]
  },
  {
   "cell_type": "code",
   "execution_count": 125,
   "metadata": {
    "colab": {
     "base_uri": "https://localhost:8080/",
     "height": 815
    },
    "colab_type": "code",
    "id": "b5FfSQAqKanv",
    "outputId": "ef653ddf-bfb6-49f7-be61-702a8ea32658"
   },
   "outputs": [
    {
     "name": "stdout",
     "output_type": "stream",
     "text": [
      "Model: \"sequential_1\"\n",
      "_________________________________________________________________\n",
      "Layer (type)                 Output Shape              Param #   \n",
      "=================================================================\n",
      "embedding_1 (Embedding)      (None, 50, 100)           261400    \n",
      "_________________________________________________________________\n",
      "lstm_1 (LSTM)                (None, 256)               365568    \n",
      "_________________________________________________________________\n",
      "dense_1 (Dense)              (None, 256)               65792     \n",
      "_________________________________________________________________\n",
      "dense_2 (Dense)              (None, 2614)              671798    \n",
      "=================================================================\n",
      "Total params: 1,364,558\n",
      "Trainable params: 1,364,558\n",
      "Non-trainable params: 0\n",
      "_________________________________________________________________\n"
     ]
    },
    {
     "data": {
      "image/png": "[encoded data removed]",
      "text/plain": [
       "<IPython.core.display.Image object>"
      ]
     },
     "execution_count": 125,
     "metadata": {
      "tags": []
     },
     "output_type": "execute_result"
    }
   ],
   "source": [
    "# Model summary\n",
    "model_5.summary()\n",
    "plot_model(model_5, to_file='figures/model_5.png', show_shapes=True)"
   ]
  },
  {
   "cell_type": "code",
   "execution_count": 0,
   "metadata": {
    "colab": {},
    "colab_type": "code",
    "id": "9CKFkroQKanx"
   },
   "outputs": [],
   "source": [
    "# Compile model\n",
    "model_5.compile(loss='categorical_crossentropy', optimizer='adam', metrics=['accuracy'])"
   ]
  },
  {
   "cell_type": "code",
   "execution_count": 0,
   "metadata": {
    "colab": {},
    "colab_type": "code",
    "id": "E0F4D3EJKany"
   },
   "outputs": [],
   "source": [
    "# Define the checkpoint\n",
    "filepath='results/exp5/best_model.hdf5'\n",
    "checkpoint = ModelCheckpoint(filepath, monitor='loss', verbose=1, save_best_only=True, mode='min')\n",
    "es = EarlyStopping(monitor='loss', mode='min', verbose=1, patience=10)\n",
    "callbacks_list = [checkpoint, es]"
   ]
  },
  {
   "cell_type": "code",
   "execution_count": 128,
   "metadata": {
    "colab": {
     "base_uri": "https://localhost:8080/",
     "height": 1000
    },
    "colab_type": "code",
    "id": "cs5tzVAJKanz",
    "outputId": "bb158e3f-1f5b-429c-a3f9-6e05e38caafc"
   },
   "outputs": [
    {
     "name": "stderr",
     "output_type": "stream",
     "text": [
      "/usr/local/lib/python3.6/dist-packages/tensorflow/python/framework/indexed_slices.py:434: UserWarning: Converting sparse IndexedSlices to a dense Tensor of unknown shape. This may consume a large amount of memory.\n",
      "  \"Converting sparse IndexedSlices to a dense Tensor of unknown shape. \"\n"
     ]
    },
    {
     "name": "stdout",
     "output_type": "stream",
     "text": [
      "Epoch 1/50\n",
      "21959/21959 [==============================] - 26s 1ms/step - loss: 6.3038 - accuracy: 0.0500\n",
      "\n",
      "Epoch 00001: loss improved from inf to 6.30377, saving model to results/exp5/best_model.hdf5\n",
      "Epoch 2/50\n",
      "21959/21959 [==============================] - 26s 1ms/step - loss: 5.9308 - accuracy: 0.0532\n",
      "\n",
      "Epoch 00002: loss improved from 6.30377 to 5.93085, saving model to results/exp5/best_model.hdf5\n",
      "Epoch 3/50\n",
      "21959/21959 [==============================] - 27s 1ms/step - loss: 5.7228 - accuracy: 0.0695\n",
      "\n",
      "Epoch 00003: loss improved from 5.93085 to 5.72280, saving model to results/exp5/best_model.hdf5\n",
      "Epoch 4/50\n",
      "21959/21959 [==============================] - 26s 1ms/step - loss: 5.4354 - accuracy: 0.0976\n",
      "\n",
      "Epoch 00004: loss improved from 5.72280 to 5.43541, saving model to results/exp5/best_model.hdf5\n",
      "Epoch 5/50\n",
      "21959/21959 [==============================] - 26s 1ms/step - loss: 5.1862 - accuracy: 0.1154\n",
      "\n",
      "Epoch 00005: loss improved from 5.43541 to 5.18624, saving model to results/exp5/best_model.hdf5\n",
      "Epoch 6/50\n",
      "21959/21959 [==============================] - 26s 1ms/step - loss: 4.9979 - accuracy: 0.1289\n",
      "\n",
      "Epoch 00006: loss improved from 5.18624 to 4.99787, saving model to results/exp5/best_model.hdf5\n",
      "Epoch 7/50\n",
      "21959/21959 [==============================] - 26s 1ms/step - loss: 4.8572 - accuracy: 0.1368\n",
      "\n",
      "Epoch 00007: loss improved from 4.99787 to 4.85720, saving model to results/exp5/best_model.hdf5\n",
      "Epoch 8/50\n",
      "21959/21959 [==============================] - 26s 1ms/step - loss: 4.8398 - accuracy: 0.1371\n",
      "\n",
      "Epoch 00008: loss improved from 4.85720 to 4.83975, saving model to results/exp5/best_model.hdf5\n",
      "Epoch 9/50\n",
      "21959/21959 [==============================] - 26s 1ms/step - loss: 4.7155 - accuracy: 0.1460\n",
      "\n",
      "Epoch 00009: loss improved from 4.83975 to 4.71546, saving model to results/exp5/best_model.hdf5\n",
      "Epoch 10/50\n",
      "21959/21959 [==============================] - 26s 1ms/step - loss: 4.5380 - accuracy: 0.1585\n",
      "\n",
      "Epoch 00010: loss improved from 4.71546 to 4.53802, saving model to results/exp5/best_model.hdf5\n",
      "Epoch 11/50\n",
      "21959/21959 [==============================] - 26s 1ms/step - loss: 4.4256 - accuracy: 0.1661\n",
      "\n",
      "Epoch 00011: loss improved from 4.53802 to 4.42557, saving model to results/exp5/best_model.hdf5\n",
      "Epoch 12/50\n",
      "21959/21959 [==============================] - 26s 1ms/step - loss: 4.3212 - accuracy: 0.1746\n",
      "\n",
      "Epoch 00012: loss improved from 4.42557 to 4.32118, saving model to results/exp5/best_model.hdf5\n",
      "Epoch 13/50\n",
      "21959/21959 [==============================] - 26s 1ms/step - loss: 4.2164 - accuracy: 0.1792\n",
      "\n",
      "Epoch 00013: loss improved from 4.32118 to 4.21637, saving model to results/exp5/best_model.hdf5\n",
      "Epoch 14/50\n",
      "21959/21959 [==============================] - 26s 1ms/step - loss: 4.1108 - accuracy: 0.1854\n",
      "\n",
      "Epoch 00014: loss improved from 4.21637 to 4.11077, saving model to results/exp5/best_model.hdf5\n",
      "Epoch 15/50\n",
      "21959/21959 [==============================] - 26s 1ms/step - loss: 4.0036 - accuracy: 0.1924\n",
      "\n",
      "Epoch 00015: loss improved from 4.11077 to 4.00358, saving model to results/exp5/best_model.hdf5\n",
      "Epoch 16/50\n",
      "21959/21959 [==============================] - 27s 1ms/step - loss: 3.8942 - accuracy: 0.1985\n",
      "\n",
      "Epoch 00016: loss improved from 4.00358 to 3.89418, saving model to results/exp5/best_model.hdf5\n",
      "Epoch 17/50\n",
      "21959/21959 [==============================] - 26s 1ms/step - loss: 3.7842 - accuracy: 0.2092\n",
      "\n",
      "Epoch 00017: loss improved from 3.89418 to 3.78422, saving model to results/exp5/best_model.hdf5\n",
      "Epoch 18/50\n",
      "21959/21959 [==============================] - 26s 1ms/step - loss: 3.6739 - accuracy: 0.2188\n",
      "\n",
      "Epoch 00018: loss improved from 3.78422 to 3.67386, saving model to results/exp5/best_model.hdf5\n",
      "Epoch 19/50\n",
      "21959/21959 [==============================] - 26s 1ms/step - loss: 3.5608 - accuracy: 0.2294\n",
      "\n",
      "Epoch 00019: loss improved from 3.67386 to 3.56077, saving model to results/exp5/best_model.hdf5\n",
      "Epoch 20/50\n",
      "21959/21959 [==============================] - 27s 1ms/step - loss: 3.4534 - accuracy: 0.2414\n",
      "\n",
      "Epoch 00020: loss improved from 3.56077 to 3.45340, saving model to results/exp5/best_model.hdf5\n",
      "Epoch 21/50\n",
      "21959/21959 [==============================] - 26s 1ms/step - loss: 3.3413 - accuracy: 0.2563\n",
      "\n",
      "Epoch 00021: loss improved from 3.45340 to 3.34133, saving model to results/exp5/best_model.hdf5\n",
      "Epoch 22/50\n",
      "21959/21959 [==============================] - 27s 1ms/step - loss: 3.2378 - accuracy: 0.2683\n",
      "\n",
      "Epoch 00022: loss improved from 3.34133 to 3.23782, saving model to results/exp5/best_model.hdf5\n",
      "Epoch 23/50\n",
      "21959/21959 [==============================] - 27s 1ms/step - loss: 3.1307 - accuracy: 0.2850\n",
      "\n",
      "Epoch 00023: loss improved from 3.23782 to 3.13068, saving model to results/exp5/best_model.hdf5\n",
      "Epoch 24/50\n",
      "21959/21959 [==============================] - 26s 1ms/step - loss: 3.0295 - accuracy: 0.3013\n",
      "\n",
      "Epoch 00024: loss improved from 3.13068 to 3.02948, saving model to results/exp5/best_model.hdf5\n",
      "Epoch 25/50\n",
      "21959/21959 [==============================] - 26s 1ms/step - loss: 2.9307 - accuracy: 0.3134\n",
      "\n",
      "Epoch 00025: loss improved from 3.02948 to 2.93070, saving model to results/exp5/best_model.hdf5\n",
      "Epoch 26/50\n",
      "21959/21959 [==============================] - 26s 1ms/step - loss: 2.8365 - accuracy: 0.3316\n",
      "\n",
      "Epoch 00026: loss improved from 2.93070 to 2.83650, saving model to results/exp5/best_model.hdf5\n",
      "Epoch 27/50\n",
      "21959/21959 [==============================] - 27s 1ms/step - loss: 2.7421 - accuracy: 0.3452\n",
      "\n",
      "Epoch 00027: loss improved from 2.83650 to 2.74212, saving model to results/exp5/best_model.hdf5\n",
      "Epoch 28/50\n",
      "21959/21959 [==============================] - 26s 1ms/step - loss: 2.6478 - accuracy: 0.3655\n",
      "\n",
      "Epoch 00028: loss improved from 2.74212 to 2.64777, saving model to results/exp5/best_model.hdf5\n",
      "Epoch 29/50\n",
      "21959/21959 [==============================] - 26s 1ms/step - loss: 2.5609 - accuracy: 0.3793\n",
      "\n",
      "Epoch 00029: loss improved from 2.64777 to 2.56094, saving model to results/exp5/best_model.hdf5\n",
      "Epoch 30/50\n",
      "21959/21959 [==============================] - 26s 1ms/step - loss: 2.4723 - accuracy: 0.3936\n",
      "\n",
      "Epoch 00030: loss improved from 2.56094 to 2.47227, saving model to results/exp5/best_model.hdf5\n",
      "Epoch 31/50\n",
      "21959/21959 [==============================] - 26s 1ms/step - loss: 2.3902 - accuracy: 0.4142\n",
      "\n",
      "Epoch 00031: loss improved from 2.47227 to 2.39024, saving model to results/exp5/best_model.hdf5\n",
      "Epoch 32/50\n",
      "21959/21959 [==============================] - 26s 1ms/step - loss: 2.3111 - accuracy: 0.4239\n",
      "\n",
      "Epoch 00032: loss improved from 2.39024 to 2.31114, saving model to results/exp5/best_model.hdf5\n",
      "Epoch 33/50\n",
      "21959/21959 [==============================] - 26s 1ms/step - loss: 2.2386 - accuracy: 0.4411\n",
      "\n",
      "Epoch 00033: loss improved from 2.31114 to 2.23857, saving model to results/exp5/best_model.hdf5\n",
      "Epoch 34/50\n",
      "21959/21959 [==============================] - 26s 1ms/step - loss: 2.1612 - accuracy: 0.4550\n",
      "\n",
      "Epoch 00034: loss improved from 2.23857 to 2.16117, saving model to results/exp5/best_model.hdf5\n",
      "Epoch 35/50\n",
      "21959/21959 [==============================] - 26s 1ms/step - loss: 2.0867 - accuracy: 0.4746\n",
      "\n",
      "Epoch 00035: loss improved from 2.16117 to 2.08666, saving model to results/exp5/best_model.hdf5\n",
      "Epoch 36/50\n",
      "21959/21959 [==============================] - 26s 1ms/step - loss: 2.0169 - accuracy: 0.4878\n",
      "\n",
      "Epoch 00036: loss improved from 2.08666 to 2.01691, saving model to results/exp5/best_model.hdf5\n",
      "Epoch 37/50\n",
      "21959/21959 [==============================] - 26s 1ms/step - loss: 1.9493 - accuracy: 0.5041\n",
      "\n",
      "Epoch 00037: loss improved from 2.01691 to 1.94926, saving model to results/exp5/best_model.hdf5\n",
      "Epoch 38/50\n",
      "21959/21959 [==============================] - 27s 1ms/step - loss: 1.8838 - accuracy: 0.5173\n",
      "\n",
      "Epoch 00038: loss improved from 1.94926 to 1.88379, saving model to results/exp5/best_model.hdf5\n",
      "Epoch 39/50\n",
      "21959/21959 [==============================] - 26s 1ms/step - loss: 1.8163 - accuracy: 0.5351\n",
      "\n",
      "Epoch 00039: loss improved from 1.88379 to 1.81631, saving model to results/exp5/best_model.hdf5\n",
      "Epoch 40/50\n",
      "21959/21959 [==============================] - 26s 1ms/step - loss: 1.7538 - accuracy: 0.5467\n",
      "\n",
      "Epoch 00040: loss improved from 1.81631 to 1.75379, saving model to results/exp5/best_model.hdf5\n",
      "Epoch 41/50\n",
      "21959/21959 [==============================] - 26s 1ms/step - loss: 1.6944 - accuracy: 0.5610\n",
      "\n",
      "Epoch 00041: loss improved from 1.75379 to 1.69438, saving model to results/exp5/best_model.hdf5\n",
      "Epoch 42/50\n",
      "21959/21959 [==============================] - 26s 1ms/step - loss: 1.6351 - accuracy: 0.5766\n",
      "\n",
      "Epoch 00042: loss improved from 1.69438 to 1.63510, saving model to results/exp5/best_model.hdf5\n",
      "Epoch 43/50\n",
      "21959/21959 [==============================] - 26s 1ms/step - loss: 1.5741 - accuracy: 0.5917\n",
      "\n",
      "Epoch 00043: loss improved from 1.63510 to 1.57415, saving model to results/exp5/best_model.hdf5\n",
      "Epoch 44/50\n",
      "21959/21959 [==============================] - 26s 1ms/step - loss: 1.5200 - accuracy: 0.6040\n",
      "\n",
      "Epoch 00044: loss improved from 1.57415 to 1.52004, saving model to results/exp5/best_model.hdf5\n",
      "Epoch 45/50\n",
      "21959/21959 [==============================] - 26s 1ms/step - loss: 1.4639 - accuracy: 0.6189\n",
      "\n",
      "Epoch 00045: loss improved from 1.52004 to 1.46391, saving model to results/exp5/best_model.hdf5\n",
      "Epoch 46/50\n",
      "21959/21959 [==============================] - 26s 1ms/step - loss: 1.4106 - accuracy: 0.6340\n",
      "\n",
      "Epoch 00046: loss improved from 1.46391 to 1.41057, saving model to results/exp5/best_model.hdf5\n",
      "Epoch 47/50\n",
      "21959/21959 [==============================] - 26s 1ms/step - loss: 1.3542 - accuracy: 0.6470\n",
      "\n",
      "Epoch 00047: loss improved from 1.41057 to 1.35419, saving model to results/exp5/best_model.hdf5\n",
      "Epoch 48/50\n",
      "21959/21959 [==============================] - 26s 1ms/step - loss: 1.3029 - accuracy: 0.6612\n",
      "\n",
      "Epoch 00048: loss improved from 1.35419 to 1.30293, saving model to results/exp5/best_model.hdf5\n",
      "Epoch 49/50\n",
      "21959/21959 [==============================] - 26s 1ms/step - loss: 1.2546 - accuracy: 0.6736\n",
      "\n",
      "Epoch 00049: loss improved from 1.30293 to 1.25458, saving model to results/exp5/best_model.hdf5\n",
      "Epoch 50/50\n",
      "21959/21959 [==============================] - 27s 1ms/step - loss: 1.2043 - accuracy: 0.6876\n",
      "\n",
      "Epoch 00050: loss improved from 1.25458 to 1.20427, saving model to results/exp5/best_model.hdf5\n",
      "--------------------------\n",
      "Training time in seconds:  1346.03\n",
      "--------------------------\n"
     ]
    }
   ],
   "source": [
    "# Fit the model\n",
    "start_time = time.time()\n",
    "history = model_5.fit(X, \n",
    "                      y, \n",
    "                      batch_size=128, \n",
    "                      epochs=50,\n",
    "                      callbacks=callbacks_list)\n",
    "\n",
    "elapsed_time = time.time() - start_time\n",
    "print('--------------------------')\n",
    "print('Training time in seconds: ', round(elapsed_time,2))\n",
    "print('--------------------------')"
   ]
  },
  {
   "cell_type": "code",
   "execution_count": 0,
   "metadata": {
    "colab": {},
    "colab_type": "code",
    "id": "O69AYMPPKan1"
   },
   "outputs": [],
   "source": [
    "# Plot model performance"
   ]
  },
  {
   "cell_type": "code",
   "execution_count": 0,
   "metadata": {
    "colab": {},
    "colab_type": "code",
    "id": "2dqikvOZKan2"
   },
   "outputs": [],
   "source": [
    "# history_dict = history.history\n",
    "# history_dict.keys()"
   ]
  },
  {
   "cell_type": "markdown",
   "metadata": {},
   "source": [
    "**Figure 8: Learning curves for Model 5**"
   ]
  },
  {
   "cell_type": "code",
   "execution_count": 129,
   "metadata": {
    "colab": {
     "base_uri": "https://localhost:8080/",
     "height": 324
    },
    "colab_type": "code",
    "id": "hb0i6fOLKan4",
    "outputId": "af63de5d-980b-4aa2-b38d-84fe398f8391"
   },
   "outputs": [
    {
     "data": {
      "image/png": "[encoded data removed]",
      "text/plain": [
       "<Figure size 576x360 with 1 Axes>"
      ]
     },
     "metadata": {
      "needs_background": "light",
      "tags": []
     },
     "output_type": "display_data"
    }
   ],
   "source": [
    "# Plot learning curves for model\n",
    "pd.DataFrame(history.history).plot(figsize=(8, 5))\n",
    "plt.grid(True)\n",
    "plt.gca().set_ylim(0, 4) # set the vertical range to [0-1]\n",
    "plt.savefig('figures/learning_curves_model_5', tight_layout=False)\n",
    "plt.show()"
   ]
  },
  {
   "cell_type": "code",
   "execution_count": 0,
   "metadata": {
    "colab": {},
    "colab_type": "code",
    "id": "9A8HmVaAKan5"
   },
   "outputs": [],
   "source": [
    "# Save the model to file\n",
    "model_5.save('results/exp5/model_5.h5')\n",
    "# save the tokenizer\n",
    "# dump(tokenizer, open('meta_tokenizer.pkl', 'wb'))"
   ]
  },
  {
   "cell_type": "code",
   "execution_count": 0,
   "metadata": {
    "colab": {},
    "colab_type": "code",
    "id": "RFVY5EcYKan6"
   },
   "outputs": [],
   "source": [
    "# Prepare the language model"
   ]
  },
  {
   "cell_type": "code",
   "execution_count": 0,
   "metadata": {
    "colab": {},
    "colab_type": "code",
    "id": "z_muD6FxKan8"
   },
   "outputs": [],
   "source": [
    "# Load cleaned text sequences\n",
    "in_filename = 'meta_sequences.txt'\n",
    "doc = load_doc(in_filename)\n",
    "lines = doc.split('\\n')\n",
    "\n",
    "# Define sequence length\n",
    "seq_length = len(lines[0].split()) - 1"
   ]
  },
  {
   "cell_type": "code",
   "execution_count": 133,
   "metadata": {
    "colab": {
     "base_uri": "https://localhost:8080/",
     "height": 72
    },
    "colab_type": "code",
    "id": "kLyvncPkKan9",
    "outputId": "ac5da1d3-6de7-4856-af39-0460c6179c27"
   },
   "outputs": [
    {
     "name": "stderr",
     "output_type": "stream",
     "text": [
      "/usr/local/lib/python3.6/dist-packages/tensorflow/python/framework/indexed_slices.py:434: UserWarning: Converting sparse IndexedSlices to a dense Tensor of unknown shape. This may consume a large amount of memory.\n",
      "  \"Converting sparse IndexedSlices to a dense Tensor of unknown shape. \"\n"
     ]
    }
   ],
   "source": [
    "# Load the model - use name from best model\n",
    "model = load_model('results/exp5/model_5.h5')"
   ]
  },
  {
   "cell_type": "code",
   "execution_count": 0,
   "metadata": {
    "colab": {},
    "colab_type": "code",
    "id": "LP9I8jaIKan-"
   },
   "outputs": [],
   "source": [
    "# Load the tokenizer\n",
    "tokenizer = load(open('meta_tokenizer.pkl', 'rb'))"
   ]
  },
  {
   "cell_type": "code",
   "execution_count": 0,
   "metadata": {
    "colab": {},
    "colab_type": "code",
    "id": "-JZGE3K6KaoA"
   },
   "outputs": [],
   "source": [
    "# Generate text and evaluate"
   ]
  },
  {
   "cell_type": "code",
   "execution_count": 0,
   "metadata": {
    "colab": {},
    "colab_type": "code",
    "id": "XRzKsiIIGNU0"
   },
   "outputs": [],
   "source": [
    "# Select a seed text\n",
    "seed_text = lines[randint(0,len(lines))]"
   ]
  },
  {
   "cell_type": "code",
   "execution_count": 137,
   "metadata": {
    "colab": {
     "base_uri": "https://localhost:8080/",
     "height": 108
    },
    "colab_type": "code",
    "id": "_ZQbiT4CKaoJ",
    "outputId": "207a3431-81ae-48b2-e015-6f4e2df445d1"
   },
   "outputs": [
    {
     "name": "stdout",
     "output_type": "stream",
     "text": [
      "Seed text 1: entertain himself he got into the habit of crawling up and down the walls and ceiling he was especially fond of hanging from the ceiling it was quite different from lying on the floor he could breathe more freely his body had a light swing to it and up there relaxed\n",
      "\n",
      "----------------------------------\n",
      "Generated text 1: and almost happy it might happen to the edges of it a cashier from a hat shop for whom his attention had been serious but too slow and almost happy it might happen to the edges of it a cashier from a hat shop for whom his attention had been\n"
     ]
    }
   ],
   "source": [
    "# Generate new text\n",
    "print('Seed text 1:', seed_text + '\\n')\n",
    "print('----------------------------------')\n",
    "generated = generate_seq(model, tokenizer, seq_length, seed_text, 50)\n",
    "print('Generated text 1:', generated)"
   ]
  },
  {
   "cell_type": "code",
   "execution_count": 0,
   "metadata": {
    "colab": {},
    "colab_type": "code",
    "id": "CoiGgN7mKaoL"
   },
   "outputs": [],
   "source": [
    "# select a new seed text\n",
    "seed_text = lines[randint(0,len(lines))]"
   ]
  },
  {
   "cell_type": "code",
   "execution_count": 139,
   "metadata": {
    "colab": {
     "base_uri": "https://localhost:8080/",
     "height": 108
    },
    "colab_type": "code",
    "id": "vF1UrcxDKaoY",
    "outputId": "209f813a-e8a8-4a2e-e2b2-48b542d908fd"
   },
   "outputs": [
    {
     "name": "stdout",
     "output_type": "stream",
     "text": [
      "Seed text 2: he realised what it actually was that had drawn him over to it it was the smell of something to eat by the door there was a dish filled with sweetened milk with little pieces of white bread floating in it he was so pleased he almost laughed as he was\n",
      "\n",
      "----------------------------------\n",
      "Generated text 2: covered and had his sister noticed it and he finally managed to get dressed and most of all playing it was nearly a miracle if only had been the chest of drawers groaning out of the bed than his sister noticed it hit a heavy fur muff that covered the\n"
     ]
    }
   ],
   "source": [
    "# generate new text\n",
    "print('Seed text 2:', seed_text + '\\n')\n",
    "print('----------------------------------')\n",
    "generated = generate_seq(model, tokenizer, seq_length, seed_text, 50)\n",
    "print('Generated text 2:', generated)"
   ]
  },
  {
   "cell_type": "code",
   "execution_count": 0,
   "metadata": {
    "colab": {},
    "colab_type": "code",
    "id": "ARabNTW8P1qF"
   },
   "outputs": [],
   "source": [
    "# select a new seed text\n",
    "seed_text = lines[randint(0,len(lines))]"
   ]
  },
  {
   "cell_type": "code",
   "execution_count": 141,
   "metadata": {
    "colab": {
     "base_uri": "https://localhost:8080/",
     "height": 108
    },
    "colab_type": "code",
    "id": "16qhRf7uP1qH",
    "outputId": "a4594d24-157a-47f0-f4e3-da67665a6108"
   },
   "outputs": [
    {
     "name": "stdout",
     "output_type": "stream",
     "text": [
      "Seed text 3: hand the pillows and covers on the beds flew up and were put into order and she had already finished making the beds and slipped out again before the three gentlemen had reached the room gregors father seemed so obsessed with what he was doing that he forgot all the respect\n",
      "\n",
      "----------------------------------\n",
      "Generated text 3: he owed to his tenants he urged them and pressed them until when he had been yearning for he had after all often failed to get himself upright more through the lower part of his body might be seen for the effort to muster all the strength he could gather\n"
     ]
    }
   ],
   "source": [
    "# generate new text\n",
    "print('Seed text 3:', seed_text + '\\n')\n",
    "print('----------------------------------')\n",
    "generated = generate_seq(model, tokenizer, seq_length, seed_text, 50)\n",
    "print('Generated text 3:', generated)"
   ]
  },
  {
   "cell_type": "code",
   "execution_count": 0,
   "metadata": {
    "colab": {},
    "colab_type": "code",
    "id": "XNx0yTITK7Zi"
   },
   "outputs": [],
   "source": [
    "tf.keras.backend.clear_session()"
   ]
  },
  {
   "cell_type": "markdown",
   "metadata": {
    "colab_type": "text",
    "id": "AkUbRPnDKxtC"
   },
   "source": [
    "### <i>Experiment 6: Bidirectional LSTM with 1 HL and 50% dropout</i>\n",
    "This final experiment employs a Bidirectional LSTM and 50 percent dropout to evaluate WHAT.\n",
    "* 1 hidden layer\n",
    "* 256 memory cell units\n",
    "* Embedding vector space size 50"
   ]
  },
  {
   "cell_type": "code",
   "execution_count": 0,
   "metadata": {
    "colab": {},
    "colab_type": "code",
    "id": "2l8w1dCtK3w8"
   },
   "outputs": [],
   "source": [
    "# Define model\n",
    "model_6 = Sequential()\n",
    "model_6.add(Embedding(vocab_size, 50, input_length=seq_length))\n",
    "model_6.add(Bidirectional(LSTM(256)))\n",
    "model_6.add(Dropout(0.5))\n",
    "# model_6.add(LSTM(256))\n",
    "# model_6.add(Dense(256, activation='relu'))\n",
    "model_6.add(Dense(vocab_size, activation='softmax'))"
   ]
  },
  {
   "cell_type": "code",
   "execution_count": 148,
   "metadata": {
    "colab": {
     "base_uri": "https://localhost:8080/",
     "height": 815
    },
    "colab_type": "code",
    "id": "Azf5geJoKwhi",
    "outputId": "1ab8c511-9581-4d8e-e875-526fbd39ce93"
   },
   "outputs": [
    {
     "name": "stdout",
     "output_type": "stream",
     "text": [
      "Model: \"sequential_1\"\n",
      "_________________________________________________________________\n",
      "Layer (type)                 Output Shape              Param #   \n",
      "=================================================================\n",
      "embedding_1 (Embedding)      (None, 50, 50)            130700    \n",
      "_________________________________________________________________\n",
      "bidirectional_1 (Bidirection (None, 512)               628736    \n",
      "_________________________________________________________________\n",
      "dropout_1 (Dropout)          (None, 512)               0         \n",
      "_________________________________________________________________\n",
      "dense_1 (Dense)              (None, 2614)              1340982   \n",
      "=================================================================\n",
      "Total params: 2,100,418\n",
      "Trainable params: 2,100,418\n",
      "Non-trainable params: 0\n",
      "_________________________________________________________________\n"
     ]
    },
    {
     "data": {
      "image/png": "[encoded data removed]",
      "text/plain": [
       "<IPython.core.display.Image object>"
      ]
     },
     "execution_count": 148,
     "metadata": {
      "tags": []
     },
     "output_type": "execute_result"
    }
   ],
   "source": [
    "# Model summary\n",
    "model_6.summary()\n",
    "plot_model(model_6, to_file='figures/model_6.png', show_shapes=True)"
   ]
  },
  {
   "cell_type": "code",
   "execution_count": 0,
   "metadata": {
    "colab": {},
    "colab_type": "code",
    "id": "ttgwchU8KweG"
   },
   "outputs": [],
   "source": [
    "# Compile model\n",
    "model_6.compile(loss='categorical_crossentropy', optimizer='adam', metrics=['accuracy'])"
   ]
  },
  {
   "cell_type": "code",
   "execution_count": 0,
   "metadata": {
    "colab": {},
    "colab_type": "code",
    "id": "awaxP1M9KwZV"
   },
   "outputs": [],
   "source": [
    "# Define the checkpoint\n",
    "filepath='results/exp6/best_model.hdf5'\n",
    "checkpoint = ModelCheckpoint(filepath, monitor='loss', verbose=1, save_best_only=True, mode='min')\n",
    "es = EarlyStopping(monitor='loss', mode='min', verbose=1, patience=5)\n",
    "callbacks_list = [checkpoint, es]"
   ]
  },
  {
   "cell_type": "code",
   "execution_count": 151,
   "metadata": {
    "colab": {
     "base_uri": "https://localhost:8080/",
     "height": 1000
    },
    "colab_type": "code",
    "id": "BAxx5kwCKwW9",
    "outputId": "e8b54353-fcbd-479b-d4b9-77bacce6b018"
   },
   "outputs": [
    {
     "name": "stderr",
     "output_type": "stream",
     "text": [
      "/usr/local/lib/python3.6/dist-packages/tensorflow/python/framework/indexed_slices.py:434: UserWarning: Converting sparse IndexedSlices to a dense Tensor of unknown shape. This may consume a large amount of memory.\n",
      "  \"Converting sparse IndexedSlices to a dense Tensor of unknown shape. \"\n"
     ]
    },
    {
     "name": "stdout",
     "output_type": "stream",
     "text": [
      "Epoch 1/50\n",
      "21959/21959 [==============================] - 51s 2ms/step - loss: 6.3050 - accuracy: 0.0490\n",
      "\n",
      "Epoch 00001: loss improved from inf to 6.30498, saving model to results/exp6/best_model.hdf5\n",
      "Epoch 2/50\n",
      "21959/21959 [==============================] - 50s 2ms/step - loss: 5.9844 - accuracy: 0.0526\n",
      "\n",
      "Epoch 00002: loss improved from 6.30498 to 5.98439, saving model to results/exp6/best_model.hdf5\n",
      "Epoch 3/50\n",
      "21959/21959 [==============================] - 50s 2ms/step - loss: 5.8006 - accuracy: 0.0647\n",
      "\n",
      "Epoch 00003: loss improved from 5.98439 to 5.80064, saving model to results/exp6/best_model.hdf5\n",
      "Epoch 4/50\n",
      "21959/21959 [==============================] - 50s 2ms/step - loss: 5.5905 - accuracy: 0.0824\n",
      "\n",
      "Epoch 00004: loss improved from 5.80064 to 5.59054, saving model to results/exp6/best_model.hdf5\n",
      "Epoch 5/50\n",
      "21959/21959 [==============================] - 51s 2ms/step - loss: 5.3841 - accuracy: 0.1029\n",
      "\n",
      "Epoch 00005: loss improved from 5.59054 to 5.38412, saving model to results/exp6/best_model.hdf5\n",
      "Epoch 6/50\n",
      "21959/21959 [==============================] - 50s 2ms/step - loss: 5.1936 - accuracy: 0.1129\n",
      "\n",
      "Epoch 00006: loss improved from 5.38412 to 5.19356, saving model to results/exp6/best_model.hdf5\n",
      "Epoch 7/50\n",
      "21959/21959 [==============================] - 50s 2ms/step - loss: 5.0111 - accuracy: 0.1242\n",
      "\n",
      "Epoch 00007: loss improved from 5.19356 to 5.01106, saving model to results/exp6/best_model.hdf5\n",
      "Epoch 8/50\n",
      "21959/21959 [==============================] - 50s 2ms/step - loss: 4.8335 - accuracy: 0.1326\n",
      "\n",
      "Epoch 00008: loss improved from 5.01106 to 4.83348, saving model to results/exp6/best_model.hdf5\n",
      "Epoch 9/50\n",
      "21959/21959 [==============================] - 51s 2ms/step - loss: 4.6543 - accuracy: 0.1408\n",
      "\n",
      "Epoch 00009: loss improved from 4.83348 to 4.65433, saving model to results/exp6/best_model.hdf5\n",
      "Epoch 10/50\n",
      "21959/21959 [==============================] - 51s 2ms/step - loss: 4.4592 - accuracy: 0.1516\n",
      "\n",
      "Epoch 00010: loss improved from 4.65433 to 4.45920, saving model to results/exp6/best_model.hdf5\n",
      "Epoch 11/50\n",
      "21959/21959 [==============================] - 51s 2ms/step - loss: 4.2634 - accuracy: 0.1612\n",
      "\n",
      "Epoch 00011: loss improved from 4.45920 to 4.26337, saving model to results/exp6/best_model.hdf5\n",
      "Epoch 12/50\n",
      "21959/21959 [==============================] - 50s 2ms/step - loss: 4.0331 - accuracy: 0.1828\n",
      "\n",
      "Epoch 00012: loss improved from 4.26337 to 4.03314, saving model to results/exp6/best_model.hdf5\n",
      "Epoch 13/50\n",
      "21959/21959 [==============================] - 51s 2ms/step - loss: 3.8200 - accuracy: 0.2041\n",
      "\n",
      "Epoch 00013: loss improved from 4.03314 to 3.82004, saving model to results/exp6/best_model.hdf5\n",
      "Epoch 14/50\n",
      "21959/21959 [==============================] - 51s 2ms/step - loss: 3.5828 - accuracy: 0.2369\n",
      "\n",
      "Epoch 00014: loss improved from 3.82004 to 3.58284, saving model to results/exp6/best_model.hdf5\n",
      "Epoch 15/50\n",
      "21959/21959 [==============================] - 50s 2ms/step - loss: 3.3435 - accuracy: 0.2723\n",
      "\n",
      "Epoch 00015: loss improved from 3.58284 to 3.34347, saving model to results/exp6/best_model.hdf5\n",
      "Epoch 16/50\n",
      "21959/21959 [==============================] - 50s 2ms/step - loss: 3.1255 - accuracy: 0.3052\n",
      "\n",
      "Epoch 00016: loss improved from 3.34347 to 3.12548, saving model to results/exp6/best_model.hdf5\n",
      "Epoch 17/50\n",
      "21959/21959 [==============================] - 50s 2ms/step - loss: 2.9195 - accuracy: 0.3456\n",
      "\n",
      "Epoch 00017: loss improved from 3.12548 to 2.91947, saving model to results/exp6/best_model.hdf5\n",
      "Epoch 18/50\n",
      "21959/21959 [==============================] - 50s 2ms/step - loss: 2.7329 - accuracy: 0.3776\n",
      "\n",
      "Epoch 00018: loss improved from 2.91947 to 2.73290, saving model to results/exp6/best_model.hdf5\n",
      "Epoch 19/50\n",
      "21959/21959 [==============================] - 51s 2ms/step - loss: 2.5501 - accuracy: 0.4133\n",
      "\n",
      "Epoch 00019: loss improved from 2.73290 to 2.55010, saving model to results/exp6/best_model.hdf5\n",
      "Epoch 20/50\n",
      "21959/21959 [==============================] - 50s 2ms/step - loss: 2.4061 - accuracy: 0.4343\n",
      "\n",
      "Epoch 00020: loss improved from 2.55010 to 2.40606, saving model to results/exp6/best_model.hdf5\n",
      "Epoch 21/50\n",
      "21959/21959 [==============================] - 49s 2ms/step - loss: 2.2606 - accuracy: 0.4640\n",
      "\n",
      "Epoch 00021: loss improved from 2.40606 to 2.26057, saving model to results/exp6/best_model.hdf5\n",
      "Epoch 22/50\n",
      "21959/21959 [==============================] - 50s 2ms/step - loss: 2.1211 - accuracy: 0.4913\n",
      "\n",
      "Epoch 00022: loss improved from 2.26057 to 2.12112, saving model to results/exp6/best_model.hdf5\n",
      "Epoch 23/50\n",
      "21959/21959 [==============================] - 50s 2ms/step - loss: 2.0017 - accuracy: 0.5159\n",
      "\n",
      "Epoch 00023: loss improved from 2.12112 to 2.00166, saving model to results/exp6/best_model.hdf5\n",
      "Epoch 24/50\n",
      "21959/21959 [==============================] - 50s 2ms/step - loss: 1.8906 - accuracy: 0.5362\n",
      "\n",
      "Epoch 00024: loss improved from 2.00166 to 1.89060, saving model to results/exp6/best_model.hdf5\n",
      "Epoch 25/50\n",
      "21959/21959 [==============================] - 51s 2ms/step - loss: 1.7748 - accuracy: 0.5638\n",
      "\n",
      "Epoch 00025: loss improved from 1.89060 to 1.77478, saving model to results/exp6/best_model.hdf5\n",
      "Epoch 26/50\n",
      "21959/21959 [==============================] - 50s 2ms/step - loss: 1.6770 - accuracy: 0.5872\n",
      "\n",
      "Epoch 00026: loss improved from 1.77478 to 1.67704, saving model to results/exp6/best_model.hdf5\n",
      "Epoch 27/50\n",
      "21959/21959 [==============================] - 51s 2ms/step - loss: 1.5967 - accuracy: 0.6009\n",
      "\n",
      "Epoch 00027: loss improved from 1.67704 to 1.59670, saving model to results/exp6/best_model.hdf5\n",
      "Epoch 28/50\n",
      "21959/21959 [==============================] - 51s 2ms/step - loss: 1.4932 - accuracy: 0.6287\n",
      "\n",
      "Epoch 00028: loss improved from 1.59670 to 1.49316, saving model to results/exp6/best_model.hdf5\n",
      "Epoch 29/50\n",
      "21959/21959 [==============================] - 50s 2ms/step - loss: 1.4197 - accuracy: 0.6387\n",
      "\n",
      "Epoch 00029: loss improved from 1.49316 to 1.41970, saving model to results/exp6/best_model.hdf5\n",
      "Epoch 30/50\n",
      "21959/21959 [==============================] - 50s 2ms/step - loss: 1.3609 - accuracy: 0.6512\n",
      "\n",
      "Epoch 00030: loss improved from 1.41970 to 1.36091, saving model to results/exp6/best_model.hdf5\n",
      "Epoch 31/50\n",
      "21959/21959 [==============================] - 50s 2ms/step - loss: 1.2814 - accuracy: 0.6748\n",
      "\n",
      "Epoch 00031: loss improved from 1.36091 to 1.28144, saving model to results/exp6/best_model.hdf5\n",
      "Epoch 32/50\n",
      "21959/21959 [==============================] - 49s 2ms/step - loss: 1.2181 - accuracy: 0.6838\n",
      "\n",
      "Epoch 00032: loss improved from 1.28144 to 1.21810, saving model to results/exp6/best_model.hdf5\n",
      "Epoch 33/50\n",
      "21959/21959 [==============================] - 50s 2ms/step - loss: 1.1540 - accuracy: 0.7015\n",
      "\n",
      "Epoch 00033: loss improved from 1.21810 to 1.15403, saving model to results/exp6/best_model.hdf5\n",
      "Epoch 34/50\n",
      "21959/21959 [==============================] - 51s 2ms/step - loss: 1.0886 - accuracy: 0.7177\n",
      "\n",
      "Epoch 00034: loss improved from 1.15403 to 1.08861, saving model to results/exp6/best_model.hdf5\n",
      "Epoch 35/50\n",
      "21959/21959 [==============================] - 50s 2ms/step - loss: 1.0272 - accuracy: 0.7320\n",
      "\n",
      "Epoch 00035: loss improved from 1.08861 to 1.02717, saving model to results/exp6/best_model.hdf5\n",
      "Epoch 36/50\n",
      "21959/21959 [==============================] - 50s 2ms/step - loss: 0.9821 - accuracy: 0.7443\n",
      "\n",
      "Epoch 00036: loss improved from 1.02717 to 0.98210, saving model to results/exp6/best_model.hdf5\n",
      "Epoch 37/50\n",
      "21959/21959 [==============================] - 49s 2ms/step - loss: 0.9406 - accuracy: 0.7507\n",
      "\n",
      "Epoch 00037: loss improved from 0.98210 to 0.94062, saving model to results/exp6/best_model.hdf5\n",
      "Epoch 38/50\n",
      "21959/21959 [==============================] - 50s 2ms/step - loss: 0.8929 - accuracy: 0.7615\n",
      "\n",
      "Epoch 00038: loss improved from 0.94062 to 0.89288, saving model to results/exp6/best_model.hdf5\n",
      "Epoch 39/50\n",
      "21959/21959 [==============================] - 49s 2ms/step - loss: 0.8497 - accuracy: 0.7715\n",
      "\n",
      "Epoch 00039: loss improved from 0.89288 to 0.84974, saving model to results/exp6/best_model.hdf5\n",
      "Epoch 40/50\n",
      "21959/21959 [==============================] - 50s 2ms/step - loss: 0.8129 - accuracy: 0.7847\n",
      "\n",
      "Epoch 00040: loss improved from 0.84974 to 0.81293, saving model to results/exp6/best_model.hdf5\n",
      "Epoch 41/50\n",
      "21959/21959 [==============================] - 50s 2ms/step - loss: 0.7818 - accuracy: 0.7907\n",
      "\n",
      "Epoch 00041: loss improved from 0.81293 to 0.78177, saving model to results/exp6/best_model.hdf5\n",
      "Epoch 42/50\n",
      "21959/21959 [==============================] - 50s 2ms/step - loss: 0.7415 - accuracy: 0.8005\n",
      "\n",
      "Epoch 00042: loss improved from 0.78177 to 0.74152, saving model to results/exp6/best_model.hdf5\n",
      "Epoch 43/50\n",
      "21959/21959 [==============================] - 50s 2ms/step - loss: 0.7101 - accuracy: 0.8071\n",
      "\n",
      "Epoch 00043: loss improved from 0.74152 to 0.71007, saving model to results/exp6/best_model.hdf5\n",
      "Epoch 44/50\n",
      "21959/21959 [==============================] - 49s 2ms/step - loss: 0.6900 - accuracy: 0.8155\n",
      "\n",
      "Epoch 00044: loss improved from 0.71007 to 0.68998, saving model to results/exp6/best_model.hdf5\n",
      "Epoch 45/50\n",
      "21959/21959 [==============================] - 50s 2ms/step - loss: 0.6558 - accuracy: 0.8213\n",
      "\n",
      "Epoch 00045: loss improved from 0.68998 to 0.65575, saving model to results/exp6/best_model.hdf5\n",
      "Epoch 46/50\n",
      "21959/21959 [==============================] - 49s 2ms/step - loss: 0.6389 - accuracy: 0.8288\n",
      "\n",
      "Epoch 00046: loss improved from 0.65575 to 0.63886, saving model to results/exp6/best_model.hdf5\n",
      "Epoch 47/50\n",
      "21959/21959 [==============================] - 50s 2ms/step - loss: 0.5996 - accuracy: 0.8375\n",
      "\n",
      "Epoch 00047: loss improved from 0.63886 to 0.59961, saving model to results/exp6/best_model.hdf5\n",
      "Epoch 48/50\n",
      "21959/21959 [==============================] - 49s 2ms/step - loss: 0.5764 - accuracy: 0.8429\n",
      "\n",
      "Epoch 00048: loss improved from 0.59961 to 0.57639, saving model to results/exp6/best_model.hdf5\n",
      "Epoch 49/50\n",
      "21959/21959 [==============================] - 50s 2ms/step - loss: 0.5558 - accuracy: 0.8492\n",
      "\n",
      "Epoch 00049: loss improved from 0.57639 to 0.55580, saving model to results/exp6/best_model.hdf5\n",
      "Epoch 50/50\n",
      "21959/21959 [==============================] - 50s 2ms/step - loss: 0.5415 - accuracy: 0.8516\n",
      "\n",
      "Epoch 00050: loss improved from 0.55580 to 0.54153, saving model to results/exp6/best_model.hdf5\n",
      "--------------------------\n",
      "Training time in seconds:  2540.94\n",
      "--------------------------\n"
     ]
    }
   ],
   "source": [
    "# Fit the model\n",
    "start_time = time.time()\n",
    "history = model_6.fit(X, \n",
    "                      y, \n",
    "                      batch_size=128, \n",
    "                      epochs=50,\n",
    "                      callbacks=callbacks_list)\n",
    "\n",
    "elapsed_time = time.time() - start_time\n",
    "print('--------------------------')\n",
    "print('Training time in seconds: ', round(elapsed_time,2))\n",
    "print('--------------------------')"
   ]
  },
  {
   "cell_type": "code",
   "execution_count": 0,
   "metadata": {
    "colab": {},
    "colab_type": "code",
    "id": "WITaVNQGP1qQ"
   },
   "outputs": [],
   "source": [
    "# Plot model performance"
   ]
  },
  {
   "cell_type": "code",
   "execution_count": 0,
   "metadata": {
    "colab": {},
    "colab_type": "code",
    "id": "U2MkGf7UP1qT"
   },
   "outputs": [],
   "source": [
    "# history_dict = history.history\n",
    "# history_dict.keys()"
   ]
  },
  {
   "cell_type": "markdown",
   "metadata": {},
   "source": [
    "**Figure 9: Learning curves for Model 6**"
   ]
  },
  {
   "cell_type": "code",
   "execution_count": 152,
   "metadata": {
    "colab": {
     "base_uri": "https://localhost:8080/",
     "height": 324
    },
    "colab_type": "code",
    "id": "o3CTyY4FP1qT",
    "outputId": "495d6941-46fa-46da-8a14-a6532500826e"
   },
   "outputs": [
    {
     "data": {
      "image/png": "[encoded data removed]",
      "text/plain": [
       "<Figure size 576x360 with 1 Axes>"
      ]
     },
     "metadata": {
      "needs_background": "light",
      "tags": []
     },
     "output_type": "display_data"
    }
   ],
   "source": [
    "# Plot learning curves for model\n",
    "pd.DataFrame(history.history).plot(figsize=(8, 5))\n",
    "plt.grid(True)\n",
    "plt.gca().set_ylim(0, 2) # set the vertical range to [0-1]\n",
    "plt.savefig('figures/learning_curves_model_6', tight_layout=False)\n",
    "plt.show()"
   ]
  },
  {
   "cell_type": "code",
   "execution_count": 0,
   "metadata": {
    "colab": {},
    "colab_type": "code",
    "id": "WAr93BXLP1qU"
   },
   "outputs": [],
   "source": [
    "# Save the model to file\n",
    "model_6.save('results/exp6/model_6.h5')\n",
    "# save the tokenizer\n",
    "# dump(tokenizer, open('meta_tokenizer.pkl', 'wb'))"
   ]
  },
  {
   "cell_type": "code",
   "execution_count": 0,
   "metadata": {
    "colab": {},
    "colab_type": "code",
    "id": "sMF0Xkx5P1qW"
   },
   "outputs": [],
   "source": [
    "# Prepare the language model"
   ]
  },
  {
   "cell_type": "code",
   "execution_count": 0,
   "metadata": {
    "colab": {},
    "colab_type": "code",
    "id": "Ar7YP59YP1qW"
   },
   "outputs": [],
   "source": [
    "# Load cleaned text sequences\n",
    "in_filename = 'meta_sequences.txt'\n",
    "doc = load_doc(in_filename)\n",
    "lines = doc.split('\\n')\n",
    "\n",
    "# Define sequence length\n",
    "seq_length = len(lines[0].split()) - 1"
   ]
  },
  {
   "cell_type": "code",
   "execution_count": 156,
   "metadata": {
    "colab": {
     "base_uri": "https://localhost:8080/",
     "height": 72
    },
    "colab_type": "code",
    "id": "Qv16w5o6P1qY",
    "outputId": "f99afc67-53c0-4532-dfc0-188515704922"
   },
   "outputs": [
    {
     "name": "stderr",
     "output_type": "stream",
     "text": [
      "/usr/local/lib/python3.6/dist-packages/tensorflow/python/framework/indexed_slices.py:434: UserWarning: Converting sparse IndexedSlices to a dense Tensor of unknown shape. This may consume a large amount of memory.\n",
      "  \"Converting sparse IndexedSlices to a dense Tensor of unknown shape. \"\n"
     ]
    }
   ],
   "source": [
    "# Load the model - use name from best model\n",
    "model = load_model('results/exp6/model_6.h5')"
   ]
  },
  {
   "cell_type": "code",
   "execution_count": 0,
   "metadata": {
    "colab": {},
    "colab_type": "code",
    "id": "_S4U63XkP1qZ"
   },
   "outputs": [],
   "source": [
    "# Load the tokenizer\n",
    "tokenizer = load(open('meta_tokenizer.pkl', 'rb'))"
   ]
  },
  {
   "cell_type": "code",
   "execution_count": 0,
   "metadata": {
    "colab": {},
    "colab_type": "code",
    "id": "bErsJBEyP1qa"
   },
   "outputs": [],
   "source": [
    "# Generate text and evaluate"
   ]
  },
  {
   "cell_type": "code",
   "execution_count": 0,
   "metadata": {
    "colab": {},
    "colab_type": "code",
    "id": "6tcEjjXzGTin"
   },
   "outputs": [],
   "source": [
    "# Select a seed text\n",
    "seed_text = lines[randint(0,len(lines))]"
   ]
  },
  {
   "cell_type": "code",
   "execution_count": 160,
   "metadata": {
    "colab": {
     "base_uri": "https://localhost:8080/",
     "height": 108
    },
    "colab_type": "code",
    "id": "YkNO8UXDP1qe",
    "outputId": "8173762f-5c93-4a43-9184-41536593df0a"
   },
   "outputs": [
    {
     "name": "stdout",
     "output_type": "stream",
     "text": [
      "Seed text 1: gregor against their expectations was still at home and soon his father came knocking at one of the side doors gently but with his fist gregor gregor he called whats wrong and after a short while he called again with a warning deepness in his voice gregor gregor at the other\n",
      "\n",
      "----------------------------------\n",
      "Generated text 1: side door his sister came plaintively gregor arent you well do you need anything gregor answered to both sides im ready now making an effort to remove all the strangeness from his voice by enunciating very carefully and putting long pauses between each individual word his father went back to\n"
     ]
    }
   ],
   "source": [
    "# Generate new text\n",
    "print('Seed text 1:', seed_text + '\\n')\n",
    "print('----------------------------------')\n",
    "generated = generate_seq(model, tokenizer, seq_length, seed_text, 50)\n",
    "print('Generated text 1:', generated)"
   ]
  },
  {
   "cell_type": "code",
   "execution_count": 0,
   "metadata": {
    "colab": {},
    "colab_type": "code",
    "id": "Rm0d0ahcP1qf"
   },
   "outputs": [],
   "source": [
    "# select a new seed text\n",
    "seed_text = lines[randint(0,len(lines))]"
   ]
  },
  {
   "cell_type": "code",
   "execution_count": 162,
   "metadata": {
    "colab": {
     "base_uri": "https://localhost:8080/",
     "height": 108
    },
    "colab_type": "code",
    "id": "tLSh3l_jP1qg",
    "outputId": "8d41f925-c8ce-4175-ef81-3f1d6f879a16"
   },
   "outputs": [
    {
     "name": "stdout",
     "output_type": "stream",
     "text": [
      "Seed text 2: but gretes words had made her mother quite worried she stepped to one side saw the enormous brown patch against the flowers of the wallpaper and before she even realised it was gregor that she saw screamed oh god oh god arms outstretched she fell onto the couch as if she\n",
      "\n",
      "----------------------------------\n",
      "Generated text 2: had given up everything and stayed there immobile gregor shouted his sister glowering at him and shaking her fist that was the first word she had spoken to him directly since his transformation she ran into the other room to fetch some kind of smelling salts to bring her mother\n"
     ]
    }
   ],
   "source": [
    "# generate new text\n",
    "print('Seed text 2:', seed_text + '\\n')\n",
    "print('----------------------------------')\n",
    "generated = generate_seq(model, tokenizer, seq_length, seed_text, 50)\n",
    "print('Generated text 2:', generated)"
   ]
  },
  {
   "cell_type": "code",
   "execution_count": 0,
   "metadata": {
    "colab": {},
    "colab_type": "code",
    "id": "MBx_MFhVP1qh"
   },
   "outputs": [],
   "source": [
    "# select a new seed text\n",
    "seed_text = lines[randint(0,len(lines))]"
   ]
  },
  {
   "cell_type": "code",
   "execution_count": 164,
   "metadata": {
    "colab": {
     "base_uri": "https://localhost:8080/",
     "height": 108
    },
    "colab_type": "code",
    "id": "pBNGu5Q4P1qi",
    "outputId": "ec63526d-2f75-4ed2-94d0-f5869f5ee84b"
   },
   "outputs": [
    {
     "name": "stdout",
     "output_type": "stream",
     "text": [
      "Seed text 3: to mean that something bad had happened that he was responsible for some act of violence that meant gregor would now have to try to calm his father as he did not have the time to explain things to him even if that had been possible so he fled to the\n",
      "\n",
      "----------------------------------\n",
      "Generated text 3: door of his room and pressed himself against it so that his father when he came in from the hall could see straight away that gregor had the best intentions and would go back into his room without delay that it would not be necessary to drive him back but\n"
     ]
    }
   ],
   "source": [
    "# generate new text\n",
    "print('Seed text 3:', seed_text + '\\n')\n",
    "print('----------------------------------')\n",
    "generated = generate_seq(model, tokenizer, seq_length, seed_text, 50)\n",
    "print('Generated text 3:', generated)"
   ]
  },
  {
   "cell_type": "code",
   "execution_count": 0,
   "metadata": {
    "colab": {},
    "colab_type": "code",
    "id": "7DEW_3qGP1qj"
   },
   "outputs": [],
   "source": [
    "tf.keras.backend.clear_session()"
   ]
  },
  {
   "cell_type": "code",
   "execution_count": 0,
   "metadata": {
    "colab": {},
    "colab_type": "code",
    "id": "Xph9EPgcKwVB"
   },
   "outputs": [],
   "source": []
  }
 ],
 "metadata": {
  "accelerator": "GPU",
  "colab": {
   "collapsed_sections": [],
   "name": "Meta_V3.ipynb",
   "provenance": []
  },
  "kernelspec": {
   "display_name": "Python 3",
   "language": "python",
   "name": "python3"
  },
  "language_info": {
   "codemirror_mode": {
    "name": "ipython",
    "version": 3
   },
   "file_extension": ".py",
   "mimetype": "text/x-python",
   "name": "python",
   "nbconvert_exporter": "python",
   "pygments_lexer": "ipython3",
   "version": "3.6.10"
  }
 },
 "nbformat": 4,
 "nbformat_minor": 1
}
