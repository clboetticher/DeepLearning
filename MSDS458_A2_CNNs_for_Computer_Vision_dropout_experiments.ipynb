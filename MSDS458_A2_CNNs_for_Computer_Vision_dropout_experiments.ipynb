{
  "nbformat": 4,
  "nbformat_minor": 0,
  "metadata": {
    "kernelspec": {
      "display_name": "Python 3",
      "language": "python",
      "name": "python3"
    },
    "language_info": {
      "codemirror_mode": {
        "name": "ipython",
        "version": 3
      },
      "file_extension": ".py",
      "mimetype": "text/x-python",
      "name": "python",
      "nbconvert_exporter": "python",
      "pygments_lexer": "ipython3",
      "version": "3.6.10"
    },
    "toc": {
      "base_numbering": 1,
      "nav_menu": {},
      "number_sections": false,
      "sideBar": true,
      "skip_h1_title": false,
      "title_cell": "Table of Contents",
      "title_sidebar": "Contents",
      "toc_cell": false,
      "toc_position": {},
      "toc_section_display": true,
      "toc_window_display": true
    },
    "colab": {
      "name": "A2_CNNs for Computer Vision_dropout experiments_Boetticher.ipynb",
      "provenance": [],
      "collapsed_sections": []
    },
    "accelerator": "GPU"
  },
  "cells": [
    {
      "cell_type": "markdown",
      "metadata": {
        "id": "GVLlGluJ6bvS",
        "colab_type": "text"
      },
      "source": [
        "# Objective\n",
        "This study is a comparative exploration of dense neural networks and convolutional neural networks (CNNs) for image classification, with a two-fold goal: develop a neural network model for highly-accurate and generalizable  classification and gain an in-depth understanding of how various factors affect fitting and ultimate test set performance with networks of differing topologies and hyperparameter settings. \n",
        "\n",
        "The experiments below will help determine different deep learning models' potential utility in classification problems for computer vision on the Fashion MNIST dataset of Zalando's article images and for future analogous image recognition problems, for example facial recognition."
      ]
    },
    {
      "cell_type": "markdown",
      "metadata": {
        "id": "CfygvltX6bvT",
        "colab_type": "text"
      },
      "source": [
        "# Experimental overview\n",
        "This final experiment is run to evaluate and compare various network topologies and hyperparameter settings, assessing their potential impact on model performance (loss and accuracy) and process time, all with dropout applied:\n",
        "\n",
        "* EXPERIMENT 1: DNN with 2 layers (no drop out)\n",
        "\n",
        "* EXPERIMENT 2: DNN with 3 layers (no drop out)\n",
        "\n",
        "* EXPERIMENT 3: CNN with 2 convolution/max pooling layers (no drop out)\n",
        "\n",
        "* EXPERIMENT 4: CNN with 3 convolution/max pooling layers (no drop out)\n",
        "\n",
        "* **EXPERIMENT 5: Re-run all experiments 1-4 with 20 percent dropout regularization to gauge its effectiveness in addressing issues with variance**\n",
        "\n",
        "In each experiment, certain parameters are held constant for comparison:\n",
        "* Batch size = 100\n",
        "* Epochs = 20\n",
        "* Loss function = sparse categorical cross-entropy\n",
        "* Optimizer = Adam"
      ]
    },
    {
      "cell_type": "markdown",
      "metadata": {
        "id": "l1a4C5if6bvX",
        "colab_type": "text"
      },
      "source": [
        "## Setup and dependencies"
      ]
    },
    {
      "cell_type": "code",
      "metadata": {
        "id": "yYlRHSdk6bvY",
        "colab_type": "code",
        "outputId": "b30e8d9c-0e1d-4def-c25a-088fed1f0258",
        "colab": {
          "base_uri": "https://localhost:8080/",
          "height": 53
        }
      },
      "source": [
        "# Import dependencies\n",
        "import numpy as np\n",
        "import pandas as pd\n",
        "import os\n",
        "from collections import Counter\n",
        "import datetime\n",
        "\n",
        "import tensorflow as tf\n",
        "from tensorflow import keras\n",
        "from tensorflow.keras import models\n",
        "from tensorflow.keras import layers\n",
        "from tensorflow.keras import optimizers\n",
        "from tensorflow.keras import regularizers\n",
        "from tensorflow.keras.preprocessing.image import ImageDataGenerator\n",
        "from tensorflow.keras.preprocessing import image\n",
        "\n",
        "%matplotlib inline\n",
        "import matplotlib.pyplot as plt\n",
        "import seaborn as sns"
      ],
      "execution_count": 1,
      "outputs": [
        {
          "output_type": "stream",
          "text": [
            "/usr/local/lib/python3.6/dist-packages/statsmodels/tools/_testing.py:19: FutureWarning: pandas.util.testing is deprecated. Use the functions in the public API at pandas.testing instead.\n",
            "  import pandas.util.testing as tm\n"
          ],
          "name": "stderr"
        }
      ]
    },
    {
      "cell_type": "code",
      "metadata": {
        "id": "l5Zn1UzW6bvl",
        "colab_type": "code",
        "outputId": "97e32345-f1cb-4564-c23c-28cbbda59c2d",
        "colab": {
          "base_uri": "https://localhost:8080/",
          "height": 35
        }
      },
      "source": [
        "# Check Keras version\n",
        "keras.__version__"
      ],
      "execution_count": 0,
      "outputs": [
        {
          "output_type": "execute_result",
          "data": {
            "text/plain": [
              "'2.3.0-tf'"
            ]
          },
          "metadata": {
            "tags": []
          },
          "execution_count": 2
        }
      ]
    },
    {
      "cell_type": "code",
      "metadata": {
        "id": "k-E4ijSA6bvu",
        "colab_type": "code",
        "outputId": "dbcf05f9-3d46-4523-dccb-11c4f42b4790",
        "colab": {
          "base_uri": "https://localhost:8080/",
          "height": 35
        }
      },
      "source": [
        "# Check tensorflow version\n",
        "tf.__version__"
      ],
      "execution_count": 0,
      "outputs": [
        {
          "output_type": "execute_result",
          "data": {
            "text/plain": [
              "'2.2.0-rc4'"
            ]
          },
          "metadata": {
            "tags": []
          },
          "execution_count": 3
        }
      ]
    },
    {
      "cell_type": "code",
      "metadata": {
        "id": "_8FA80Hf6bv1",
        "colab_type": "code",
        "colab": {}
      },
      "source": [
        "# Set seed for consistency of results\n",
        "keras.backend.clear_session()\n",
        "np.random.seed(42)\n",
        "tf.random.set_seed(42)"
      ],
      "execution_count": 0,
      "outputs": []
    },
    {
      "cell_type": "code",
      "metadata": {
        "id": "Tsfr44TM6bv8",
        "colab_type": "code",
        "outputId": "ecfa18d3-dec7-47fe-b738-c0d8a202ba55",
        "colab": {
          "base_uri": "https://localhost:8080/",
          "height": 127
        }
      },
      "source": [
        "from google.colab import drive\n",
        "drive.mount('/content/gdrive')"
      ],
      "execution_count": 2,
      "outputs": [
        {
          "output_type": "stream",
          "text": [
            "Go to this URL in a browser: https://accounts.google.com/o/oauth2/auth?client_id=947318989803-6bn6qk8qdgf4n4g3pfee6491hc0brc4i.apps.googleusercontent.com&redirect_uri=urn%3aietf%3awg%3aoauth%3a2.0%3aoob&response_type=code&scope=email%20https%3a%2f%2fwww.googleapis.com%2fauth%2fdocs.test%20https%3a%2f%2fwww.googleapis.com%2fauth%2fdrive%20https%3a%2f%2fwww.googleapis.com%2fauth%2fdrive.photos.readonly%20https%3a%2f%2fwww.googleapis.com%2fauth%2fpeopleapi.readonly\n",
            "\n",
            "Enter your authorization code:\n",
            "··········\n",
            "Mounted at /content/gdrive\n"
          ],
          "name": "stdout"
        }
      ]
    },
    {
      "cell_type": "code",
      "metadata": {
        "id": "vC_pmN-g6bwC",
        "colab_type": "code",
        "outputId": "456f1118-49a7-4eb9-918d-3c1810cfa161",
        "colab": {
          "base_uri": "https://localhost:8080/",
          "height": 107
        }
      },
      "source": [
        "# Saving in Colab\n",
        "os.getcwd()\n",
        "%cd /content/gdrive/My\\ Drive/MSDS458/weekfive\n",
        "!pwd\n",
        "!ls\n",
        "print('Working Directory')\n",
        "print(os.getcwd())\n",
        "work_dir = \"content/gdrive/My Drive/MSDS458/weekfive\"\n",
        "# chp_id = \"ann\""
      ],
      "execution_count": 3,
      "outputs": [
        {
          "output_type": "stream",
          "text": [
            "/content/gdrive/My Drive/MSDS458/weekfive\n",
            "/content/gdrive/My Drive/MSDS458/weekfive\n",
            "figures  model.png  results\n",
            "Working Directory\n",
            "/content/gdrive/My Drive/MSDS458/weekfive\n"
          ],
          "name": "stdout"
        }
      ]
    },
    {
      "cell_type": "markdown",
      "metadata": {
        "id": "iTS3-0NB6bwI",
        "colab_type": "text"
      },
      "source": [
        "## Import dataset: Fashion MNIST\n",
        "Zalando is Europe's leading online fashion platform for women, men and children. `Fashion-MNIST` is a dataset of their product images. Just like the `MNIST` dataset, the `Fashion-MNIST` also consists of 70,000 grayscale images of 28x28 pixels divided into 60,000 training images and 10,000 test images. \n",
        "\n",
        "Each image is labeled with with an integer from 0 to 9 representing 10 classes: 'T-shirt/top', 'Trouser', 'Pullover', 'Dress', 'Coat', 'Sandal', 'Shirt', 'Sneaker', 'Bag', 'Ankle boot', respectively. \n",
        "\n",
        "`Fashion-MNIST` is intended to serve as a direct drop-in replacement for the original `MNIST` dataset for benchmarking machine learning algorithms since the the original `MNIST` was found to be too easy for the current machine learning models. In particular, Fashion-Mist shares the same image size and structure of training and testing splits as `MNIST`. Also like `MNIST` it comes prepackaged in `tf.Keras`. We use:\n",
        "\n",
        "```python\n",
        "fashion_mnist.load_data()\n",
        "```\n",
        "which provides datasets (and the corresponding labels) as Numpy arrays. See the `Fashion-MNIST` GitHub page for a lot more information about the data sets and benchmarks for 129 classifiers trained on the data:\n",
        "\n",
        "https://github.com/zalandoresearch/fashion-mnist"
      ]
    },
    {
      "cell_type": "code",
      "metadata": {
        "id": "TLJpKGIb6bwJ",
        "colab_type": "code",
        "outputId": "5516e28a-5d88-4267-fbf1-fc5d90433713",
        "colab": {
          "base_uri": "https://localhost:8080/",
          "height": 178
        }
      },
      "source": [
        "# https://www.tensorflow.org/api_docs/python/tf/keras/datasets/fashion_mnist/load_data\n",
        "from tensorflow.keras.datasets import fashion_mnist\n",
        "\n",
        "(train_images, train_labels), (test_images, test_labels) = fashion_mnist.load_data()\n",
        "\n",
        "train_images.shape, test_images.shape, test_labels.shape, test_labels.shape"
      ],
      "execution_count": 4,
      "outputs": [
        {
          "output_type": "stream",
          "text": [
            "Downloading data from https://storage.googleapis.com/tensorflow/tf-keras-datasets/train-labels-idx1-ubyte.gz\n",
            "32768/29515 [=================================] - 0s 0us/step\n",
            "Downloading data from https://storage.googleapis.com/tensorflow/tf-keras-datasets/train-images-idx3-ubyte.gz\n",
            "26427392/26421880 [==============================] - 1s 0us/step\n",
            "Downloading data from https://storage.googleapis.com/tensorflow/tf-keras-datasets/t10k-labels-idx1-ubyte.gz\n",
            "8192/5148 [===============================================] - 0s 0us/step\n",
            "Downloading data from https://storage.googleapis.com/tensorflow/tf-keras-datasets/t10k-images-idx3-ubyte.gz\n",
            "4423680/4422102 [==============================] - 0s 0us/step\n"
          ],
          "name": "stdout"
        },
        {
          "output_type": "execute_result",
          "data": {
            "text/plain": [
              "((60000, 28, 28), (10000, 28, 28), (10000,), (10000,))"
            ]
          },
          "metadata": {
            "tags": []
          },
          "execution_count": 4
        }
      ]
    },
    {
      "cell_type": "markdown",
      "metadata": {
        "id": "e9UelmZ56bwO",
        "colab_type": "text"
      },
      "source": [
        "## Data pre-processing\n",
        "Before training, data is reshaped into the shape that the network expects and scaled so that all values are in the \\[0, 1] interval.\n",
        "\n",
        "Training images are stored in an array of shape (60000, 28, 28) of type uint8 with values in the [0, 255] interval. \n",
        "\n",
        "Training data is then transformed a float32 array of shape (60000, 28 * 28) with values between 0 and 1."
      ]
    },
    {
      "cell_type": "code",
      "metadata": {
        "id": "GOUe-oTk6bwP",
        "colab_type": "code",
        "colab": {}
      },
      "source": [
        "# We transform it into a float32 array of shape (60000, 28 * 28) with values between 0 and 1. \n",
        "\n",
        "train_images = train_images.reshape((60000, 28 * 28)) \n",
        "train_images = train_images.astype('float32') / 255\n",
        "\n",
        "test_images = test_images.reshape((10000, 28 * 28))  \n",
        "test_images = test_images.astype('float32') / 255"
      ],
      "execution_count": 0,
      "outputs": []
    },
    {
      "cell_type": "markdown",
      "metadata": {
        "id": "bekQWZHf6bwU",
        "colab_type": "text"
      },
      "source": [
        "## Train/test/validation split\n",
        "70,000 images are divided into a set of 60,000 training images and 10,000 test images. We hold back 5,000 of the 60,000 training images for validation. Since we will be using `sparse_categorical_crossentropy` as the loss function we **do not** need to use `to_categorical` to convert the class vector of labels to binary matrix representation."
      ]
    },
    {
      "cell_type": "code",
      "metadata": {
        "id": "94DkC7Py6bwW",
        "colab_type": "code",
        "colab": {}
      },
      "source": [
        "# Create validation data\n",
        "val_images, train_images = train_images[:5000], train_images[5000:] \n",
        "val_labels, train_labels = train_labels[:5000], train_labels[5000:]"
      ],
      "execution_count": 0,
      "outputs": []
    },
    {
      "cell_type": "markdown",
      "metadata": {
        "id": "vR54t5i46bwb",
        "colab_type": "text"
      },
      "source": [
        "## Create a callback to get training times and test evaluation times"
      ]
    },
    {
      "cell_type": "code",
      "metadata": {
        "id": "Y-S3uKqx6bwb",
        "colab_type": "code",
        "colab": {}
      },
      "source": [
        "class TrainRuntimeCallback(keras.callbacks.Callback):\n",
        "\n",
        "  def on_train_begin(self,logs={}):\n",
        "    self.start = datetime.datetime.now()\n",
        "\n",
        "  def on_train_end(self,logs={}):\n",
        "    self.process_time = (datetime.datetime.now() - self.start).total_seconds()"
      ],
      "execution_count": 0,
      "outputs": []
    },
    {
      "cell_type": "code",
      "metadata": {
        "id": "mf04v7G96bwg",
        "colab_type": "code",
        "colab": {}
      },
      "source": [
        "class TestRuntimeCallback(keras.callbacks.Callback):\n",
        "\n",
        "  def on_test_begin(self,logs={}):\n",
        "    self.start = datetime.datetime.now()\n",
        "\n",
        "  def on_test_end(self,logs={}):\n",
        "    self.process_time = (datetime.datetime.now() - self.start).total_seconds()"
      ],
      "execution_count": 0,
      "outputs": []
    },
    {
      "cell_type": "markdown",
      "metadata": {
        "id": "r-GabFE36bwm",
        "colab_type": "text"
      },
      "source": [
        "# EXPERIMENT  1:\n",
        "\n",
        "The baseline `DNN` model will consist of 784 input nodes, a hidden layer with 5 nodes and 10 output nodes (corresponding to the 10 fashion categories)."
      ]
    },
    {
      "cell_type": "markdown",
      "metadata": {
        "id": "2bkthmWT6bwn",
        "colab_type": "text"
      },
      "source": [
        "## Build the network\n",
        "\n",
        "Here the network consists of a sequence of two `Dense` layers, which are densely-connected (also called \"fully-connected\") neural layers. \n",
        "\n",
        "The first `Dense` layer, the hidden layer, consists of 5 nodes.\n",
        "\n",
        "The second (and last) layer is a 10-way \"softmax\" layer, which means it will return an array of 10 probability scores (summing to 1). Each  score will be the probability that the current clothing image belongs to one of 10 classes."
      ]
    },
    {
      "cell_type": "code",
      "metadata": {
        "id": "mqUzwzfz6bwo",
        "colab_type": "code",
        "colab": {}
      },
      "source": [
        "model_1do = models.Sequential()\n",
        "# model_1do.add(layers.Flatten(input_shape=[28, 28]))\n",
        "model_1do.add(layers.Dense(5, activation='relu', input_shape=(28 * 28,)))\n",
        "model_1do.add(layers.Dropout(0.2))\n",
        "model_1do.add(layers.Dense(10, activation='softmax')) "
      ],
      "execution_count": 0,
      "outputs": []
    },
    {
      "cell_type": "code",
      "metadata": {
        "id": "zg1zeFSb6bws",
        "colab_type": "code",
        "outputId": "9ef3074e-f1c3-41fa-9b19-f096ec48867d",
        "colab": {
          "base_uri": "https://localhost:8080/",
          "height": 268
        }
      },
      "source": [
        "model_1do.summary()"
      ],
      "execution_count": 0,
      "outputs": [
        {
          "output_type": "stream",
          "text": [
            "Model: \"sequential\"\n",
            "_________________________________________________________________\n",
            "Layer (type)                 Output Shape              Param #   \n",
            "=================================================================\n",
            "dense (Dense)                (None, 5)                 3925      \n",
            "_________________________________________________________________\n",
            "dropout (Dropout)            (None, 5)                 0         \n",
            "_________________________________________________________________\n",
            "dense_1 (Dense)              (None, 10)                60        \n",
            "=================================================================\n",
            "Total params: 3,985\n",
            "Trainable params: 3,985\n",
            "Non-trainable params: 0\n",
            "_________________________________________________________________\n"
          ],
          "name": "stdout"
        }
      ]
    },
    {
      "cell_type": "markdown",
      "metadata": {
        "id": "1_ms_LzJ6bwx",
        "colab_type": "text"
      },
      "source": [
        "## Compile the model\n",
        "\n",
        "To make our network ready for training, the compilation step consists of the following:\n",
        "\n",
        "* An optimizer: this is the mechanism through which the network will update itself based on the data it sees and its loss function.\n",
        "* A loss function: the is how the network will be able to measure how good a job it is doing on its training data, and thus how it will be able to steer itself in the right direction.\n",
        "* Metrics to monitor during training and testing. We will use accuracy in this case (the fraction of the images that were correctly classified)."
      ]
    },
    {
      "cell_type": "code",
      "metadata": {
        "id": "xdizBAJg6bwz",
        "colab_type": "code",
        "colab": {}
      },
      "source": [
        "model_1do.compile(optimizer='adam',\n",
        "                loss='sparse_categorical_crossentropy',\n",
        "                metrics=['accuracy'])"
      ],
      "execution_count": 0,
      "outputs": []
    },
    {
      "cell_type": "markdown",
      "metadata": {
        "id": "e5r0CXOz6bw2",
        "colab_type": "text"
      },
      "source": [
        "## Train the model\n",
        "\n",
        "We are now ready to train our network, which in Keras is done via a call to the `fit` method of the network: \n",
        "we \"fit\" the model to its training data. We train the model for 20 epochs with batch size 100. Also we pass the method the callback object we create to get the total training time."
      ]
    },
    {
      "cell_type": "code",
      "metadata": {
        "id": "mCdCy8Wq6bw3",
        "colab_type": "code",
        "outputId": "5b5ebbed-298b-41cb-8e62-94de7d62f58b",
        "colab": {
          "base_uri": "https://localhost:8080/",
          "height": 770
        }
      },
      "source": [
        "train_rt = TrainRuntimeCallback()\n",
        "history = model_1do.fit(train_images, train_labels, callbacks=[train_rt], epochs=20, batch_size=100,\n",
        "                    validation_data=(val_images, val_labels))\n",
        "\n",
        "# Saving models locally after fitting\n",
        "save_dir = \"results/\"\n",
        "model_name = 'fashion_mnist_model_1do.h5'\n",
        "model_path = os.path.join(save_dir, model_name)\n",
        "model_1do.save(model_path)\n",
        "print('Saved trained model at %s ' % model_path)\n",
        "print('--------------------------')"
      ],
      "execution_count": 11,
      "outputs": [
        {
          "output_type": "stream",
          "text": [
            "Epoch 1/20\n",
            "550/550 [==============================] - 1s 2ms/step - loss: 1.7769 - accuracy: 0.3775 - val_loss: 1.3391 - val_accuracy: 0.6054\n",
            "Epoch 2/20\n",
            "550/550 [==============================] - 1s 2ms/step - loss: 1.4485 - accuracy: 0.5049 - val_loss: 1.1016 - val_accuracy: 0.7096\n",
            "Epoch 3/20\n",
            "550/550 [==============================] - 1s 2ms/step - loss: 1.3306 - accuracy: 0.5450 - val_loss: 0.9546 - val_accuracy: 0.7346\n",
            "Epoch 4/20\n",
            "550/550 [==============================] - 1s 2ms/step - loss: 1.1655 - accuracy: 0.5791 - val_loss: 0.7832 - val_accuracy: 0.7732\n",
            "Epoch 5/20\n",
            "550/550 [==============================] - 1s 2ms/step - loss: 1.1245 - accuracy: 0.5967 - val_loss: 0.7352 - val_accuracy: 0.7864\n",
            "Epoch 6/20\n",
            "550/550 [==============================] - 1s 2ms/step - loss: 1.1018 - accuracy: 0.6018 - val_loss: 0.7309 - val_accuracy: 0.7956\n",
            "Epoch 7/20\n",
            "550/550 [==============================] - 1s 2ms/step - loss: 1.0776 - accuracy: 0.6146 - val_loss: 0.7166 - val_accuracy: 0.7944\n",
            "Epoch 8/20\n",
            "550/550 [==============================] - 1s 2ms/step - loss: 1.0777 - accuracy: 0.6148 - val_loss: 0.7171 - val_accuracy: 0.7968\n",
            "Epoch 9/20\n",
            "550/550 [==============================] - 1s 2ms/step - loss: 1.0688 - accuracy: 0.6172 - val_loss: 0.7062 - val_accuracy: 0.7988\n",
            "Epoch 10/20\n",
            "550/550 [==============================] - 1s 2ms/step - loss: 1.0621 - accuracy: 0.6211 - val_loss: 0.6977 - val_accuracy: 0.8036\n",
            "Epoch 11/20\n",
            "550/550 [==============================] - 1s 2ms/step - loss: 1.0580 - accuracy: 0.6222 - val_loss: 0.6992 - val_accuracy: 0.8050\n",
            "Epoch 12/20\n",
            "550/550 [==============================] - 1s 2ms/step - loss: 1.0510 - accuracy: 0.6240 - val_loss: 0.6866 - val_accuracy: 0.8128\n",
            "Epoch 13/20\n",
            "550/550 [==============================] - 1s 2ms/step - loss: 1.0552 - accuracy: 0.6225 - val_loss: 0.6850 - val_accuracy: 0.8120\n",
            "Epoch 14/20\n",
            "550/550 [==============================] - 1s 2ms/step - loss: 1.0493 - accuracy: 0.6262 - val_loss: 0.7012 - val_accuracy: 0.8020\n",
            "Epoch 15/20\n",
            "550/550 [==============================] - 1s 2ms/step - loss: 1.0485 - accuracy: 0.6236 - val_loss: 0.6875 - val_accuracy: 0.8072\n",
            "Epoch 16/20\n",
            "550/550 [==============================] - 1s 2ms/step - loss: 1.0493 - accuracy: 0.6238 - val_loss: 0.6953 - val_accuracy: 0.8054\n",
            "Epoch 17/20\n",
            "550/550 [==============================] - 1s 2ms/step - loss: 1.0401 - accuracy: 0.6282 - val_loss: 0.6941 - val_accuracy: 0.8028\n",
            "Epoch 18/20\n",
            "550/550 [==============================] - 1s 2ms/step - loss: 1.0477 - accuracy: 0.6241 - val_loss: 0.7003 - val_accuracy: 0.8016\n",
            "Epoch 19/20\n",
            "550/550 [==============================] - 1s 2ms/step - loss: 1.0392 - accuracy: 0.6274 - val_loss: 0.6905 - val_accuracy: 0.8092\n",
            "Epoch 20/20\n",
            "550/550 [==============================] - 1s 2ms/step - loss: 1.0398 - accuracy: 0.6271 - val_loss: 0.6875 - val_accuracy: 0.8116\n",
            "Saved trained model at results/fashion_mnist_model_1do.h5 \n",
            "--------------------------\n"
          ],
          "name": "stdout"
        }
      ]
    },
    {
      "cell_type": "code",
      "metadata": {
        "id": "LmTRo_oP6bw7",
        "colab_type": "code",
        "outputId": "8e3517d7-e0c1-4953-b4e4-cb6a312608e4",
        "colab": {
          "base_uri": "https://localhost:8080/",
          "height": 35
        }
      },
      "source": [
        "# Get the training time\n",
        "train_time = train_rt.process_time\n",
        "train_time # in seconds"
      ],
      "execution_count": 12,
      "outputs": [
        {
          "output_type": "execute_result",
          "data": {
            "text/plain": [
              "25.842328"
            ]
          },
          "metadata": {
            "tags": []
          },
          "execution_count": 12
        }
      ]
    },
    {
      "cell_type": "markdown",
      "metadata": {
        "id": "RB9zbTl_6bw_",
        "colab_type": "text"
      },
      "source": [
        "## Testing the model\n",
        "\n",
        "Evaluate the model on the test dataset using a callback to get the total test time."
      ]
    },
    {
      "cell_type": "code",
      "metadata": {
        "id": "5OaPGqYw6bw_",
        "colab_type": "code",
        "outputId": "18f6dc42-d799-4a8d-90a1-32011eeea6e0",
        "colab": {
          "base_uri": "https://localhost:8080/",
          "height": 35
        }
      },
      "source": [
        "test_rt = TestRuntimeCallback()\n",
        "test_loss, test_acc = model_1do.evaluate(test_images, test_labels, callbacks=[test_rt])"
      ],
      "execution_count": 13,
      "outputs": [
        {
          "output_type": "stream",
          "text": [
            "313/313 [==============================] - 1s 2ms/step - loss: 0.7166 - accuracy: 0.7905\n"
          ],
          "name": "stdout"
        }
      ]
    },
    {
      "cell_type": "code",
      "metadata": {
        "id": "uevQQ1p96bxE",
        "colab_type": "code",
        "outputId": "052295a6-8a9b-440c-d0b2-bc178631d4b4",
        "colab": {
          "base_uri": "https://localhost:8080/",
          "height": 35
        }
      },
      "source": [
        "# Get the test time\n",
        "test_time = test_rt.process_time\n",
        "test_time # in seconds"
      ],
      "execution_count": 14,
      "outputs": [
        {
          "output_type": "execute_result",
          "data": {
            "text/plain": [
              "0.654728"
            ]
          },
          "metadata": {
            "tags": []
          },
          "execution_count": 14
        }
      ]
    },
    {
      "cell_type": "markdown",
      "metadata": {
        "id": "EyWK8dQP6bxJ",
        "colab_type": "text"
      },
      "source": [
        "## Create a DataFrame for the training and test statistics\n",
        "\n",
        "We will create a pandas DataFrame to hold the training/test times and their accuracy and loss values of each of the four models (and their variations) that we will consider in these experiment. Statistics from all subsequent models are added to the DataFrame."
      ]
    },
    {
      "cell_type": "code",
      "metadata": {
        "id": "ATY0bVjS6bxK",
        "colab_type": "code",
        "outputId": "3d85c5fa-1e8c-4204-f0f7-c94a8e770c1b",
        "colab": {
          "base_uri": "https://localhost:8080/",
          "height": 35
        }
      },
      "source": [
        "history_dict = history.history\n",
        "history_dict.keys()"
      ],
      "execution_count": 15,
      "outputs": [
        {
          "output_type": "execute_result",
          "data": {
            "text/plain": [
              "dict_keys(['loss', 'accuracy', 'val_loss', 'val_accuracy'])"
            ]
          },
          "metadata": {
            "tags": []
          },
          "execution_count": 15
        }
      ]
    },
    {
      "cell_type": "code",
      "metadata": {
        "id": "-JaJ9fkl6bxN",
        "colab_type": "code",
        "outputId": "ceff0e37-efdb-4279-987c-939c442a6aa8",
        "colab": {
          "base_uri": "https://localhost:8080/",
          "height": 206
        }
      },
      "source": [
        "history_df=pd.DataFrame(history_dict)\n",
        "history_df.tail()"
      ],
      "execution_count": 16,
      "outputs": [
        {
          "output_type": "execute_result",
          "data": {
            "text/html": [
              "<div>\n",
              "<style scoped>\n",
              "    .dataframe tbody tr th:only-of-type {\n",
              "        vertical-align: middle;\n",
              "    }\n",
              "\n",
              "    .dataframe tbody tr th {\n",
              "        vertical-align: top;\n",
              "    }\n",
              "\n",
              "    .dataframe thead th {\n",
              "        text-align: right;\n",
              "    }\n",
              "</style>\n",
              "<table border=\"1\" class=\"dataframe\">\n",
              "  <thead>\n",
              "    <tr style=\"text-align: right;\">\n",
              "      <th></th>\n",
              "      <th>loss</th>\n",
              "      <th>accuracy</th>\n",
              "      <th>val_loss</th>\n",
              "      <th>val_accuracy</th>\n",
              "    </tr>\n",
              "  </thead>\n",
              "  <tbody>\n",
              "    <tr>\n",
              "      <th>15</th>\n",
              "      <td>1.049302</td>\n",
              "      <td>0.623764</td>\n",
              "      <td>0.695265</td>\n",
              "      <td>0.8054</td>\n",
              "    </tr>\n",
              "    <tr>\n",
              "      <th>16</th>\n",
              "      <td>1.040097</td>\n",
              "      <td>0.628236</td>\n",
              "      <td>0.694121</td>\n",
              "      <td>0.8028</td>\n",
              "    </tr>\n",
              "    <tr>\n",
              "      <th>17</th>\n",
              "      <td>1.047677</td>\n",
              "      <td>0.624073</td>\n",
              "      <td>0.700288</td>\n",
              "      <td>0.8016</td>\n",
              "    </tr>\n",
              "    <tr>\n",
              "      <th>18</th>\n",
              "      <td>1.039166</td>\n",
              "      <td>0.627400</td>\n",
              "      <td>0.690486</td>\n",
              "      <td>0.8092</td>\n",
              "    </tr>\n",
              "    <tr>\n",
              "      <th>19</th>\n",
              "      <td>1.039818</td>\n",
              "      <td>0.627073</td>\n",
              "      <td>0.687543</td>\n",
              "      <td>0.8116</td>\n",
              "    </tr>\n",
              "  </tbody>\n",
              "</table>\n",
              "</div>"
            ],
            "text/plain": [
              "        loss  accuracy  val_loss  val_accuracy\n",
              "15  1.049302  0.623764  0.695265        0.8054\n",
              "16  1.040097  0.628236  0.694121        0.8028\n",
              "17  1.047677  0.624073  0.700288        0.8016\n",
              "18  1.039166  0.627400  0.690486        0.8092\n",
              "19  1.039818  0.627073  0.687543        0.8116"
            ]
          },
          "metadata": {
            "tags": []
          },
          "execution_count": 16
        }
      ]
    },
    {
      "cell_type": "code",
      "metadata": {
        "id": "VN0lyvsO6bxR",
        "colab_type": "code",
        "outputId": "6ba79dc1-2847-4edb-9c6d-8f1b9c935410",
        "colab": {
          "base_uri": "https://localhost:8080/",
          "height": 81
        }
      },
      "source": [
        "# Create a results DataFrame using the last row of history_df\n",
        "results_df_do = history_df.iloc[-1:].copy()\n",
        "results_df_do.insert(0,'model','DNN (2 layers DO)') # went the model name to appear first\n",
        "results_df_do['training time (sec)'] = train_time      # we are okay with training time appearing last\n",
        "results_df_do['testing time (sec)'] = test_time      # we are okay with training time appearing last\n",
        "results_df_do"
      ],
      "execution_count": 17,
      "outputs": [
        {
          "output_type": "execute_result",
          "data": {
            "text/html": [
              "<div>\n",
              "<style scoped>\n",
              "    .dataframe tbody tr th:only-of-type {\n",
              "        vertical-align: middle;\n",
              "    }\n",
              "\n",
              "    .dataframe tbody tr th {\n",
              "        vertical-align: top;\n",
              "    }\n",
              "\n",
              "    .dataframe thead th {\n",
              "        text-align: right;\n",
              "    }\n",
              "</style>\n",
              "<table border=\"1\" class=\"dataframe\">\n",
              "  <thead>\n",
              "    <tr style=\"text-align: right;\">\n",
              "      <th></th>\n",
              "      <th>model</th>\n",
              "      <th>loss</th>\n",
              "      <th>accuracy</th>\n",
              "      <th>val_loss</th>\n",
              "      <th>val_accuracy</th>\n",
              "      <th>training time (sec)</th>\n",
              "      <th>testing time (sec)</th>\n",
              "    </tr>\n",
              "  </thead>\n",
              "  <tbody>\n",
              "    <tr>\n",
              "      <th>19</th>\n",
              "      <td>DNN (2 layers DO)</td>\n",
              "      <td>1.039818</td>\n",
              "      <td>0.627073</td>\n",
              "      <td>0.687543</td>\n",
              "      <td>0.8116</td>\n",
              "      <td>25.842328</td>\n",
              "      <td>0.654728</td>\n",
              "    </tr>\n",
              "  </tbody>\n",
              "</table>\n",
              "</div>"
            ],
            "text/plain": [
              "                model      loss  ...  training time (sec)  testing time (sec)\n",
              "19  DNN (2 layers DO)  1.039818  ...            25.842328            0.654728\n",
              "\n",
              "[1 rows x 7 columns]"
            ]
          },
          "metadata": {
            "tags": []
          },
          "execution_count": 17
        }
      ]
    },
    {
      "cell_type": "markdown",
      "metadata": {
        "id": "9OZVfLqB6bxW",
        "colab_type": "text"
      },
      "source": [
        "## Plot the performance "
      ]
    },
    {
      "cell_type": "markdown",
      "metadata": {
        "id": "Dza1BjH46bxX",
        "colab_type": "text"
      },
      "source": [
        "**Figure 1: Learning curves for Model 1 with dropout**"
      ]
    },
    {
      "cell_type": "code",
      "metadata": {
        "id": "_FSCcGuW6bxY",
        "colab_type": "code",
        "outputId": "bbbfa149-549f-4d5f-d591-d6664b24b039",
        "colab": {
          "base_uri": "https://localhost:8080/",
          "height": 320
        }
      },
      "source": [
        "# Plot learning curves for model\n",
        "pd.DataFrame(history.history).plot(figsize=(8, 5))\n",
        "plt.grid(True)\n",
        "plt.gca().set_ylim(0, 1.5) # set the vertical range to [0-1]\n",
        "plt.savefig(\"figures/learning_curves_model_1_do\", tight_layout=False)\n",
        "plt.show()"
      ],
      "execution_count": 18,
      "outputs": [
        {
          "output_type": "display_data",
          "data": {
            "image/png": "[encoded data removed]",
            "text/plain": [
              "<Figure size 576x360 with 1 Axes>"
            ]
          },
          "metadata": {
            "tags": [],
            "needs_background": "light"
          }
        }
      ]
    },
    {
      "cell_type": "markdown",
      "metadata": {
        "id": "ZA_Pcbqy6bxc",
        "colab_type": "text"
      },
      "source": [
        "# EXPERIMENT  2:\n",
        "\n",
        "This time our `DNN` model will consist of 784 input nodes, a hidden layer with `10 nodes`, another hidden layer with `5 nodes` and 10 output nodes (corresponding to the 10 fashion categories)."
      ]
    },
    {
      "cell_type": "code",
      "metadata": {
        "id": "uo_atpsF6bxc",
        "colab_type": "code",
        "colab": {}
      },
      "source": [
        "model_2do = models.Sequential()\n",
        "# model_1do.add(layers.Flatten(input_shape=[28, 28]))\n",
        "model_2do.add(layers.Dense(5, activation='relu', input_shape=(28 * 28,)))\n",
        "model_2do.add(layers.Dropout(0.2))\n",
        "model_2do.add(layers.Dense(10, activation='relu'))\n",
        "model_2do.add(layers.Dropout(0.2))\n",
        "model_2do.add(layers.Dense(10, activation='softmax')) "
      ],
      "execution_count": 0,
      "outputs": []
    },
    {
      "cell_type": "code",
      "metadata": {
        "id": "hXCe4cVd6bxg",
        "colab_type": "code",
        "outputId": "6b6e995e-8a86-4731-e8c1-5521d471a777",
        "colab": {
          "base_uri": "https://localhost:8080/",
          "height": 340
        }
      },
      "source": [
        "model_2do.summary()"
      ],
      "execution_count": 0,
      "outputs": [
        {
          "output_type": "stream",
          "text": [
            "Model: \"sequential_2\"\n",
            "_________________________________________________________________\n",
            "Layer (type)                 Output Shape              Param #   \n",
            "=================================================================\n",
            "dense_3 (Dense)              (None, 5)                 3925      \n",
            "_________________________________________________________________\n",
            "dropout_1 (Dropout)          (None, 5)                 0         \n",
            "_________________________________________________________________\n",
            "dense_4 (Dense)              (None, 10)                60        \n",
            "_________________________________________________________________\n",
            "dropout_2 (Dropout)          (None, 10)                0         \n",
            "_________________________________________________________________\n",
            "dense_5 (Dense)              (None, 10)                110       \n",
            "=================================================================\n",
            "Total params: 4,095\n",
            "Trainable params: 4,095\n",
            "Non-trainable params: 0\n",
            "_________________________________________________________________\n"
          ],
          "name": "stdout"
        }
      ]
    },
    {
      "cell_type": "markdown",
      "metadata": {
        "id": "lQSRIl5U6bxk",
        "colab_type": "text"
      },
      "source": [
        "## Compile the model"
      ]
    },
    {
      "cell_type": "code",
      "metadata": {
        "id": "J6oB1P3z6bxl",
        "colab_type": "code",
        "colab": {}
      },
      "source": [
        "model_2do.compile(optimizer='adam',\n",
        "                loss='sparse_categorical_crossentropy',\n",
        "                metrics=['accuracy'])"
      ],
      "execution_count": 0,
      "outputs": []
    },
    {
      "cell_type": "markdown",
      "metadata": {
        "id": "31gkGGK06bxo",
        "colab_type": "text"
      },
      "source": [
        "## Train the model\n",
        "\n",
        "We are now ready to train our network, which in Keras is done via a call to the `fit` method of the network: \n",
        "we \"fit\" the model to its training data. We train the model for 20 epochs with batch size 100. Also we pass the method the callback object we create to get the total training time."
      ]
    },
    {
      "cell_type": "code",
      "metadata": {
        "id": "l8w6pTjI6bxo",
        "colab_type": "code",
        "outputId": "ac571846-c790-43b1-f0d1-b74db62fedb2",
        "colab": {
          "base_uri": "https://localhost:8080/",
          "height": 770
        }
      },
      "source": [
        "train_rt = TrainRuntimeCallback()\n",
        "history = model_2do.fit(train_images, train_labels, callbacks=[train_rt], epochs=20, batch_size = 100,\n",
        "                    validation_data=(val_images, val_labels))\n",
        "\n",
        "# Saving models locally after fitting\n",
        "save_dir = \"results/\"\n",
        "model_name = 'fashion_mnist_model_2do.h5'\n",
        "model_path = os.path.join(save_dir, model_name)\n",
        "model_2do.save(model_path)\n",
        "print('Saved trained model at %s ' % model_path)\n",
        "print('--------------------------')"
      ],
      "execution_count": 21,
      "outputs": [
        {
          "output_type": "stream",
          "text": [
            "Epoch 1/20\n",
            "550/550 [==============================] - 1s 2ms/step - loss: 1.7174 - accuracy: 0.3207 - val_loss: 1.0735 - val_accuracy: 0.6256\n",
            "Epoch 2/20\n",
            "550/550 [==============================] - 1s 2ms/step - loss: 1.2727 - accuracy: 0.4795 - val_loss: 0.8246 - val_accuracy: 0.7064\n",
            "Epoch 3/20\n",
            "550/550 [==============================] - 1s 2ms/step - loss: 1.1548 - accuracy: 0.5303 - val_loss: 0.7642 - val_accuracy: 0.7216\n",
            "Epoch 4/20\n",
            "550/550 [==============================] - 1s 2ms/step - loss: 1.0936 - accuracy: 0.5581 - val_loss: 0.7498 - val_accuracy: 0.7328\n",
            "Epoch 5/20\n",
            "550/550 [==============================] - 1s 2ms/step - loss: 1.0621 - accuracy: 0.5730 - val_loss: 0.7051 - val_accuracy: 0.7522\n",
            "Epoch 6/20\n",
            "550/550 [==============================] - 1s 2ms/step - loss: 1.0433 - accuracy: 0.5759 - val_loss: 0.7190 - val_accuracy: 0.7368\n",
            "Epoch 7/20\n",
            "550/550 [==============================] - 1s 2ms/step - loss: 1.0336 - accuracy: 0.5820 - val_loss: 0.7151 - val_accuracy: 0.7430\n",
            "Epoch 8/20\n",
            "550/550 [==============================] - 1s 2ms/step - loss: 1.0186 - accuracy: 0.5836 - val_loss: 0.7112 - val_accuracy: 0.7420\n",
            "Epoch 9/20\n",
            "550/550 [==============================] - 1s 2ms/step - loss: 1.0083 - accuracy: 0.5904 - val_loss: 0.6940 - val_accuracy: 0.7556\n",
            "Epoch 10/20\n",
            "550/550 [==============================] - 1s 2ms/step - loss: 1.0089 - accuracy: 0.5921 - val_loss: 0.6796 - val_accuracy: 0.7604\n",
            "Epoch 11/20\n",
            "550/550 [==============================] - 1s 2ms/step - loss: 0.9997 - accuracy: 0.5932 - val_loss: 0.6972 - val_accuracy: 0.7524\n",
            "Epoch 12/20\n",
            "550/550 [==============================] - 1s 2ms/step - loss: 0.9956 - accuracy: 0.5972 - val_loss: 0.6815 - val_accuracy: 0.7650\n",
            "Epoch 13/20\n",
            "550/550 [==============================] - 1s 2ms/step - loss: 0.9864 - accuracy: 0.6013 - val_loss: 0.6834 - val_accuracy: 0.7556\n",
            "Epoch 14/20\n",
            "550/550 [==============================] - 1s 2ms/step - loss: 0.9872 - accuracy: 0.6017 - val_loss: 0.6821 - val_accuracy: 0.7568\n",
            "Epoch 15/20\n",
            "550/550 [==============================] - 1s 2ms/step - loss: 0.9942 - accuracy: 0.5994 - val_loss: 0.6895 - val_accuracy: 0.7620\n",
            "Epoch 16/20\n",
            "550/550 [==============================] - 1s 2ms/step - loss: 0.9852 - accuracy: 0.6015 - val_loss: 0.7022 - val_accuracy: 0.7470\n",
            "Epoch 17/20\n",
            "550/550 [==============================] - 1s 2ms/step - loss: 0.9874 - accuracy: 0.6030 - val_loss: 0.6927 - val_accuracy: 0.7476\n",
            "Epoch 18/20\n",
            "550/550 [==============================] - 1s 3ms/step - loss: 0.9815 - accuracy: 0.6074 - val_loss: 0.6800 - val_accuracy: 0.7568\n",
            "Epoch 19/20\n",
            "550/550 [==============================] - 1s 2ms/step - loss: 0.9767 - accuracy: 0.6072 - val_loss: 0.6721 - val_accuracy: 0.7674\n",
            "Epoch 20/20\n",
            "550/550 [==============================] - 1s 2ms/step - loss: 0.9792 - accuracy: 0.6085 - val_loss: 0.6727 - val_accuracy: 0.7602\n",
            "Saved trained model at results/fashion_mnist_model_2do.h5 \n",
            "--------------------------\n"
          ],
          "name": "stdout"
        }
      ]
    },
    {
      "cell_type": "code",
      "metadata": {
        "id": "i0culPng6bxs",
        "colab_type": "code",
        "outputId": "43eac5ce-8718-4d94-a8e5-de0ccf971ecb",
        "colab": {
          "base_uri": "https://localhost:8080/",
          "height": 35
        }
      },
      "source": [
        "# Get the training time\n",
        "train_time = train_rt.process_time\n",
        "train_time # in seconds"
      ],
      "execution_count": 22,
      "outputs": [
        {
          "output_type": "execute_result",
          "data": {
            "text/plain": [
              "25.392829"
            ]
          },
          "metadata": {
            "tags": []
          },
          "execution_count": 22
        }
      ]
    },
    {
      "cell_type": "markdown",
      "metadata": {
        "id": "pSWjVr7v6bxv",
        "colab_type": "text"
      },
      "source": [
        "## Testing the model\n",
        "\n",
        "Evaluate the model on the test dataset using a callback to get the total test time."
      ]
    },
    {
      "cell_type": "code",
      "metadata": {
        "id": "ZOyGhcnw6bxw",
        "colab_type": "code",
        "outputId": "6651ef8d-45dd-4960-8a70-5b364c31f638",
        "colab": {
          "base_uri": "https://localhost:8080/",
          "height": 35
        }
      },
      "source": [
        "test_rt = TestRuntimeCallback()\n",
        "test_loss, test_acc = model_2do.evaluate(test_images, test_labels, callbacks=[test_rt])"
      ],
      "execution_count": 23,
      "outputs": [
        {
          "output_type": "stream",
          "text": [
            "313/313 [==============================] - 1s 2ms/step - loss: 0.6852 - accuracy: 0.7489\n"
          ],
          "name": "stdout"
        }
      ]
    },
    {
      "cell_type": "code",
      "metadata": {
        "id": "dEQkbF_W6bx5",
        "colab_type": "code",
        "outputId": "cfebd8b6-4340-4504-b7de-fcd5cb31a94e",
        "colab": {
          "base_uri": "https://localhost:8080/",
          "height": 35
        }
      },
      "source": [
        "# Get the test time\n",
        "test_time = test_rt.process_time\n",
        "test_time # in seconds"
      ],
      "execution_count": 24,
      "outputs": [
        {
          "output_type": "execute_result",
          "data": {
            "text/plain": [
              "0.637817"
            ]
          },
          "metadata": {
            "tags": []
          },
          "execution_count": 24
        }
      ]
    },
    {
      "cell_type": "markdown",
      "metadata": {
        "id": "AKnwBFCB6bx8",
        "colab_type": "text"
      },
      "source": [
        "## Add the statistics to the results DataFrame\n",
        "\n",
        "We add the performance statistics for the new model to our DataFrame using history."
      ]
    },
    {
      "cell_type": "code",
      "metadata": {
        "id": "pzUnzyqp6bx9",
        "colab_type": "code",
        "outputId": "d915af96-2a76-4f2f-be20-cc0183c819af",
        "colab": {
          "base_uri": "https://localhost:8080/",
          "height": 35
        }
      },
      "source": [
        "history_dict = history.history\n",
        "history_dict.keys()"
      ],
      "execution_count": 25,
      "outputs": [
        {
          "output_type": "execute_result",
          "data": {
            "text/plain": [
              "dict_keys(['loss', 'accuracy', 'val_loss', 'val_accuracy'])"
            ]
          },
          "metadata": {
            "tags": []
          },
          "execution_count": 25
        }
      ]
    },
    {
      "cell_type": "code",
      "metadata": {
        "id": "QzB1KAjn6bx_",
        "colab_type": "code",
        "outputId": "72df54bc-ff73-45f4-c851-b6f8a3483428",
        "colab": {
          "base_uri": "https://localhost:8080/",
          "height": 206
        }
      },
      "source": [
        "history_df=pd.DataFrame(history_dict)\n",
        "history_df.tail()"
      ],
      "execution_count": 26,
      "outputs": [
        {
          "output_type": "execute_result",
          "data": {
            "text/html": [
              "<div>\n",
              "<style scoped>\n",
              "    .dataframe tbody tr th:only-of-type {\n",
              "        vertical-align: middle;\n",
              "    }\n",
              "\n",
              "    .dataframe tbody tr th {\n",
              "        vertical-align: top;\n",
              "    }\n",
              "\n",
              "    .dataframe thead th {\n",
              "        text-align: right;\n",
              "    }\n",
              "</style>\n",
              "<table border=\"1\" class=\"dataframe\">\n",
              "  <thead>\n",
              "    <tr style=\"text-align: right;\">\n",
              "      <th></th>\n",
              "      <th>loss</th>\n",
              "      <th>accuracy</th>\n",
              "      <th>val_loss</th>\n",
              "      <th>val_accuracy</th>\n",
              "    </tr>\n",
              "  </thead>\n",
              "  <tbody>\n",
              "    <tr>\n",
              "      <th>15</th>\n",
              "      <td>0.985214</td>\n",
              "      <td>0.601491</td>\n",
              "      <td>0.702150</td>\n",
              "      <td>0.7470</td>\n",
              "    </tr>\n",
              "    <tr>\n",
              "      <th>16</th>\n",
              "      <td>0.987401</td>\n",
              "      <td>0.602982</td>\n",
              "      <td>0.692740</td>\n",
              "      <td>0.7476</td>\n",
              "    </tr>\n",
              "    <tr>\n",
              "      <th>17</th>\n",
              "      <td>0.981465</td>\n",
              "      <td>0.607400</td>\n",
              "      <td>0.680032</td>\n",
              "      <td>0.7568</td>\n",
              "    </tr>\n",
              "    <tr>\n",
              "      <th>18</th>\n",
              "      <td>0.976749</td>\n",
              "      <td>0.607200</td>\n",
              "      <td>0.672104</td>\n",
              "      <td>0.7674</td>\n",
              "    </tr>\n",
              "    <tr>\n",
              "      <th>19</th>\n",
              "      <td>0.979232</td>\n",
              "      <td>0.608491</td>\n",
              "      <td>0.672728</td>\n",
              "      <td>0.7602</td>\n",
              "    </tr>\n",
              "  </tbody>\n",
              "</table>\n",
              "</div>"
            ],
            "text/plain": [
              "        loss  accuracy  val_loss  val_accuracy\n",
              "15  0.985214  0.601491  0.702150        0.7470\n",
              "16  0.987401  0.602982  0.692740        0.7476\n",
              "17  0.981465  0.607400  0.680032        0.7568\n",
              "18  0.976749  0.607200  0.672104        0.7674\n",
              "19  0.979232  0.608491  0.672728        0.7602"
            ]
          },
          "metadata": {
            "tags": []
          },
          "execution_count": 26
        }
      ]
    },
    {
      "cell_type": "code",
      "metadata": {
        "id": "zZrX-0r46byC",
        "colab_type": "code",
        "outputId": "0ecc4acd-4bb0-4ddb-8630-9f10396119e7",
        "colab": {
          "base_uri": "https://localhost:8080/",
          "height": 81
        }
      },
      "source": [
        "history_dict = history.history\n",
        "history_df=pd.DataFrame(history_dict)\n",
        "results_df2 = history_df.iloc[-1:].copy()\n",
        "results_df2.insert(0,'model','DNN (3 layers DO)') # went the model name to appear first\n",
        "results_df2['training time (sec)'] = train_time      # we are okay with training time appearing last\n",
        "results_df2['testing time (sec)'] = test_time      # we are okay with training time appearing last\n",
        "results_df2"
      ],
      "execution_count": 27,
      "outputs": [
        {
          "output_type": "execute_result",
          "data": {
            "text/html": [
              "<div>\n",
              "<style scoped>\n",
              "    .dataframe tbody tr th:only-of-type {\n",
              "        vertical-align: middle;\n",
              "    }\n",
              "\n",
              "    .dataframe tbody tr th {\n",
              "        vertical-align: top;\n",
              "    }\n",
              "\n",
              "    .dataframe thead th {\n",
              "        text-align: right;\n",
              "    }\n",
              "</style>\n",
              "<table border=\"1\" class=\"dataframe\">\n",
              "  <thead>\n",
              "    <tr style=\"text-align: right;\">\n",
              "      <th></th>\n",
              "      <th>model</th>\n",
              "      <th>loss</th>\n",
              "      <th>accuracy</th>\n",
              "      <th>val_loss</th>\n",
              "      <th>val_accuracy</th>\n",
              "      <th>training time (sec)</th>\n",
              "      <th>testing time (sec)</th>\n",
              "    </tr>\n",
              "  </thead>\n",
              "  <tbody>\n",
              "    <tr>\n",
              "      <th>19</th>\n",
              "      <td>DNN (3 layers DO)</td>\n",
              "      <td>0.979232</td>\n",
              "      <td>0.608491</td>\n",
              "      <td>0.672728</td>\n",
              "      <td>0.7602</td>\n",
              "      <td>25.392829</td>\n",
              "      <td>0.637817</td>\n",
              "    </tr>\n",
              "  </tbody>\n",
              "</table>\n",
              "</div>"
            ],
            "text/plain": [
              "                model      loss  ...  training time (sec)  testing time (sec)\n",
              "19  DNN (3 layers DO)  0.979232  ...            25.392829            0.637817\n",
              "\n",
              "[1 rows x 7 columns]"
            ]
          },
          "metadata": {
            "tags": []
          },
          "execution_count": 27
        }
      ]
    },
    {
      "cell_type": "code",
      "metadata": {
        "id": "7ugZoPHx6byG",
        "colab_type": "code",
        "colab": {}
      },
      "source": [
        "# # Add the new data to results_df\n",
        "# results_df=results_df.append(results_df2,ignore_index=True)\n",
        "# results_df"
      ],
      "execution_count": 0,
      "outputs": []
    },
    {
      "cell_type": "markdown",
      "metadata": {
        "id": "0yRf43E36byI",
        "colab_type": "text"
      },
      "source": [
        "## Save our DataFrame to disk\n",
        "\n",
        "The code below can be used to pickle the DataFrame so that we keep adding to it in Experiment 3."
      ]
    },
    {
      "cell_type": "code",
      "metadata": {
        "id": "zHBtFfrA6byK",
        "colab_type": "code",
        "colab": {}
      },
      "source": [
        "# results_df.to_pickle(\"results.pkl\") # save the DataFrame to use in Part 2"
      ],
      "execution_count": 0,
      "outputs": []
    },
    {
      "cell_type": "markdown",
      "metadata": {
        "id": "YmHFufOb6byN",
        "colab_type": "text"
      },
      "source": [
        "## Plot the performance "
      ]
    },
    {
      "cell_type": "markdown",
      "metadata": {
        "id": "hi-xOW1Z6byO",
        "colab_type": "text"
      },
      "source": [
        "**Figure 2: Learning curves for Model 2 with dropout**"
      ]
    },
    {
      "cell_type": "code",
      "metadata": {
        "id": "t32uS9Sy6byP",
        "colab_type": "code",
        "outputId": "8cba1279-4dfa-43b8-a858-217b37a3d3bb",
        "colab": {
          "base_uri": "https://localhost:8080/",
          "height": 320
        }
      },
      "source": [
        "# Plot learning curves for model\n",
        "pd.DataFrame(history.history).plot(figsize=(8, 5))\n",
        "plt.grid(True)\n",
        "plt.gca().set_ylim(0, 1.5) # set the vertical range to [0-1]\n",
        "plt.savefig(\"figures/learning_curves_model_2do\", tight_layout=False)\n",
        "plt.show()"
      ],
      "execution_count": 28,
      "outputs": [
        {
          "output_type": "display_data",
          "data": {
            "image/png": "[encoded data removed]",
            "text/plain": [
              "<Figure size 576x360 with 1 Axes>"
            ]
          },
          "metadata": {
            "tags": [],
            "needs_background": "light"
          }
        }
      ]
    },
    {
      "cell_type": "markdown",
      "metadata": {
        "id": "Djrk0Yc56byR",
        "colab_type": "text"
      },
      "source": [
        "# EXPERIMENT 3\n",
        "\n",
        "We create a `CNN` with 2 convolution/max pooling layers (**with drop out**) to work with our Fashion MNIST dataset. All layers will use the ReLU activation function.\n",
        "\n",
        "This experiment evaluates the following for impact on model performance and process time:\n",
        "* Image augmentation\n",
        "* L2 regularization"
      ]
    },
    {
      "cell_type": "markdown",
      "metadata": {
        "id": "KzMGMq5M6byS",
        "colab_type": "text"
      },
      "source": [
        "## Data preparation\n",
        "Before training, we will preprocess our data by reshaping it into the shape that the network expects, and scaling it so that all values are in the [0, 1] interval.\n",
        "\n",
        "Currently, our training images are stored in an array of shape (60000, 28, 28). Each image is represented by a 28x28 array of uint8 values in the range [0, 255]. \n",
        "\n",
        "We transform it into a float32 array of shape (60000, 28, 28, 1) with values between 0 and 1."
      ]
    },
    {
      "cell_type": "code",
      "metadata": {
        "id": "PN9xJBtk6byV",
        "colab_type": "code",
        "colab": {}
      },
      "source": [
        "# # Data re-import and preparation\n",
        "# from tensorflow.keras.datasets import fashion_mnist\n",
        "\n",
        "# (train_images, train_labels), (test_images, test_labels) = fashion_mnist.load_data()\n",
        "# train_images.shape, test_images.shape, test_labels.shape, test_labels.shape"
      ],
      "execution_count": 0,
      "outputs": []
    },
    {
      "cell_type": "code",
      "metadata": {
        "id": "u_bFcYSj6byS",
        "colab_type": "code",
        "colab": {}
      },
      "source": [
        "# We transform it into a float32 array of shape (60000, 28, 28, 1) with values between 0 and 1. \n",
        "train_images = train_images.reshape((55000, 28, 28, 1))\n",
        "val_images =val_images.reshape((5000, 28, 28, 1))\n",
        "test_images = test_images.reshape((10000, 28, 28, 1))"
      ],
      "execution_count": 0,
      "outputs": []
    },
    {
      "cell_type": "code",
      "metadata": {
        "id": "4QF_8xwE6byX",
        "colab_type": "code",
        "colab": {}
      },
      "source": [
        "# # Reshape images and scale\n",
        "# train_images = train_images.reshape((60000, 28, 28, 1))\n",
        "# train_images = train_images.astype('float32') / 255\n",
        "\n",
        "# test_images = test_images.reshape((10000, 28, 28, 1))\n",
        "# test_images = test_images.astype('float32') / 255"
      ],
      "execution_count": 0,
      "outputs": []
    },
    {
      "cell_type": "code",
      "metadata": {
        "id": "gVdJoJk76byZ",
        "colab_type": "code",
        "colab": {}
      },
      "source": [
        "# Validation images\n",
        "# val_images, train_images = train_images[:5000], train_images[5000:] \n",
        "# val_labels, train_labels = train_labels[:5000], train_labels[5000:]"
      ],
      "execution_count": 0,
      "outputs": []
    },
    {
      "cell_type": "markdown",
      "metadata": {
        "id": "e5Jfszrd6byc",
        "colab_type": "text"
      },
      "source": [
        "## Model 3a: baseline model (no image augmentation or L2 regularization)\n",
        "We build a `CNN` containing 2 convolutional/max pooling layers. The last layer is a 10-way \"softmax\" layer, which means it will return an array of 10 probability scores (summing to 1). Each  score will be the probability that the current clothing image belongs to one of our 10 classes."
      ]
    },
    {
      "cell_type": "code",
      "metadata": {
        "id": "w7ErTzRb6byc",
        "colab_type": "code",
        "colab": {}
      },
      "source": [
        "model_3ado = models.Sequential()\n",
        "model_3ado.add(layers.Conv2D(32, (3, 3), activation='relu', input_shape=(28, 28, 1)))\n",
        "model_3ado.add(layers.MaxPooling2D((2, 2)))\n",
        "model_3ado.add(layers.Dropout(0.2))\n",
        "model_3ado.add(layers.Conv2D(64, (3, 3), activation='relu'))\n",
        "model_3ado.add(layers.MaxPooling2D((2, 2)))\n",
        "model_3ado.add(layers.Dropout(0.2))\n",
        "model_3ado.add(layers.Flatten())\n",
        "model_3ado.add(layers.Dense(128, activation='relu'))\n",
        "model_3ado.add(layers.Dense(10, activation='softmax'))\n",
        "\n",
        "# starter code\n",
        "# model = models.Sequential()\n",
        "# model.add(layers.Conv2D(32, (3, 3), activation='relu', input_shape=(28, 28, 1)))\n",
        "# model.add(layers.MaxPooling2D((2, 2)))\n",
        "# model.add(layers.Conv2D(64, (3, 3), activation='relu'))\n",
        "# model.add(layers.MaxPooling2D((2, 2)))\n",
        "# model.add(layers.Flatten())\n",
        "# model.add(layers.Dropout(0.2))\n",
        "# model.add(layers.Dense(512, activation='relu'))\n",
        "# model.add(layers.Dense(10, activation='softmax'))"
      ],
      "execution_count": 0,
      "outputs": []
    },
    {
      "cell_type": "code",
      "metadata": {
        "id": "_Ykrg1Rb6byf",
        "colab_type": "code",
        "outputId": "457501e8-db24-466d-e23a-0db176d94cf7",
        "colab": {
          "base_uri": "https://localhost:8080/",
          "height": 483
        }
      },
      "source": [
        "model_3ado.summary()"
      ],
      "execution_count": 0,
      "outputs": [
        {
          "output_type": "stream",
          "text": [
            "Model: \"sequential_3\"\n",
            "_________________________________________________________________\n",
            "Layer (type)                 Output Shape              Param #   \n",
            "=================================================================\n",
            "conv2d (Conv2D)              (None, 26, 26, 32)        320       \n",
            "_________________________________________________________________\n",
            "max_pooling2d (MaxPooling2D) (None, 13, 13, 32)        0         \n",
            "_________________________________________________________________\n",
            "dropout_3 (Dropout)          (None, 13, 13, 32)        0         \n",
            "_________________________________________________________________\n",
            "conv2d_1 (Conv2D)            (None, 11, 11, 64)        18496     \n",
            "_________________________________________________________________\n",
            "max_pooling2d_1 (MaxPooling2 (None, 5, 5, 64)          0         \n",
            "_________________________________________________________________\n",
            "dropout_4 (Dropout)          (None, 5, 5, 64)          0         \n",
            "_________________________________________________________________\n",
            "flatten (Flatten)            (None, 1600)              0         \n",
            "_________________________________________________________________\n",
            "dense_6 (Dense)              (None, 128)               204928    \n",
            "_________________________________________________________________\n",
            "dense_7 (Dense)              (None, 10)                1290      \n",
            "=================================================================\n",
            "Total params: 225,034\n",
            "Trainable params: 225,034\n",
            "Non-trainable params: 0\n",
            "_________________________________________________________________\n"
          ],
          "name": "stdout"
        }
      ]
    },
    {
      "cell_type": "code",
      "metadata": {
        "id": "qVKP4KGE6byi",
        "colab_type": "code",
        "outputId": "84f86d4b-0136-45db-ad3d-735ce0bf3071",
        "colab": {
          "base_uri": "https://localhost:8080/",
          "height": 1000
        }
      },
      "source": [
        "keras.utils.plot_model(model_3ado, show_shapes=True)"
      ],
      "execution_count": 0,
      "outputs": [
        {
          "output_type": "execute_result",
          "data": {
            "image/png": "[encoded data removed]",
            "text/plain": [
              "<IPython.core.display.Image object>"
            ]
          },
          "metadata": {
            "tags": []
          },
          "execution_count": 47
        }
      ]
    },
    {
      "cell_type": "markdown",
      "metadata": {
        "id": "YIdwcKMK6bym",
        "colab_type": "text"
      },
      "source": [
        "## Compile the model"
      ]
    },
    {
      "cell_type": "code",
      "metadata": {
        "id": "IqqDDyjV6byn",
        "colab_type": "code",
        "colab": {}
      },
      "source": [
        "model_3ado.compile(optimizer='adam',\n",
        "                loss='sparse_categorical_crossentropy',\n",
        "                metrics=['accuracy'])"
      ],
      "execution_count": 0,
      "outputs": []
    },
    {
      "cell_type": "markdown",
      "metadata": {
        "id": "TmB2XEI-6byp",
        "colab_type": "text"
      },
      "source": [
        "## Train the model\n",
        "\n",
        "We are now ready to train our network, which in Keras is done via a call to the `fit` method of the network: \n",
        "we \"fit\" the model to its training data. We train the model for 20 epochs with batch size 100. Also we pass the method the callback object we create to get the total training time."
      ]
    },
    {
      "cell_type": "code",
      "metadata": {
        "id": "Bs4rXRD56byq",
        "colab_type": "code",
        "outputId": "04640b88-b6ab-46af-ad0a-b8e6a2e01d39",
        "colab": {
          "base_uri": "https://localhost:8080/",
          "height": 770
        }
      },
      "source": [
        "train_rt = TrainRuntimeCallback()\n",
        "history = model_3ado.fit(train_images, train_labels, callbacks=[train_rt], epochs=20, batch_size = 100,\n",
        "                    validation_data=(val_images, val_labels))\n",
        "\n",
        "# Saving models locally after fitting\n",
        "save_dir = \"results/\"\n",
        "model_name = 'fashion_mnist_model_3ado.h5'\n",
        "model_path = os.path.join(save_dir, model_name)\n",
        "model_3ado.save(model_path)\n",
        "print('Saved trained model at %s ' % model_path)\n",
        "print('--------------------------')"
      ],
      "execution_count": 33,
      "outputs": [
        {
          "output_type": "stream",
          "text": [
            "Epoch 1/20\n",
            "550/550 [==============================] - 2s 4ms/step - loss: 0.5909 - accuracy: 0.7838 - val_loss: 0.4008 - val_accuracy: 0.8534\n",
            "Epoch 2/20\n",
            "550/550 [==============================] - 2s 3ms/step - loss: 0.3981 - accuracy: 0.8559 - val_loss: 0.3349 - val_accuracy: 0.8838\n",
            "Epoch 3/20\n",
            "550/550 [==============================] - 2s 3ms/step - loss: 0.3412 - accuracy: 0.8767 - val_loss: 0.2846 - val_accuracy: 0.8982\n",
            "Epoch 4/20\n",
            "550/550 [==============================] - 2s 3ms/step - loss: 0.3069 - accuracy: 0.8881 - val_loss: 0.2707 - val_accuracy: 0.9044\n",
            "Epoch 5/20\n",
            "550/550 [==============================] - 2s 3ms/step - loss: 0.2856 - accuracy: 0.8951 - val_loss: 0.2525 - val_accuracy: 0.9090\n",
            "Epoch 6/20\n",
            "550/550 [==============================] - 2s 3ms/step - loss: 0.2648 - accuracy: 0.9027 - val_loss: 0.2440 - val_accuracy: 0.9108\n",
            "Epoch 7/20\n",
            "550/550 [==============================] - 2s 3ms/step - loss: 0.2510 - accuracy: 0.9079 - val_loss: 0.2606 - val_accuracy: 0.9006\n",
            "Epoch 8/20\n",
            "550/550 [==============================] - 2s 3ms/step - loss: 0.2379 - accuracy: 0.9121 - val_loss: 0.2328 - val_accuracy: 0.9146\n",
            "Epoch 9/20\n",
            "550/550 [==============================] - 2s 3ms/step - loss: 0.2262 - accuracy: 0.9171 - val_loss: 0.2336 - val_accuracy: 0.9164\n",
            "Epoch 10/20\n",
            "550/550 [==============================] - 2s 3ms/step - loss: 0.2167 - accuracy: 0.9181 - val_loss: 0.2351 - val_accuracy: 0.9144\n",
            "Epoch 11/20\n",
            "550/550 [==============================] - 2s 3ms/step - loss: 0.2062 - accuracy: 0.9235 - val_loss: 0.2106 - val_accuracy: 0.9238\n",
            "Epoch 12/20\n",
            "550/550 [==============================] - 2s 3ms/step - loss: 0.1963 - accuracy: 0.9263 - val_loss: 0.2144 - val_accuracy: 0.9192\n",
            "Epoch 13/20\n",
            "550/550 [==============================] - 2s 4ms/step - loss: 0.1888 - accuracy: 0.9282 - val_loss: 0.2135 - val_accuracy: 0.9224\n",
            "Epoch 14/20\n",
            "550/550 [==============================] - 2s 4ms/step - loss: 0.1820 - accuracy: 0.9315 - val_loss: 0.2142 - val_accuracy: 0.9230\n",
            "Epoch 15/20\n",
            "550/550 [==============================] - 2s 3ms/step - loss: 0.1760 - accuracy: 0.9343 - val_loss: 0.2157 - val_accuracy: 0.9192\n",
            "Epoch 16/20\n",
            "550/550 [==============================] - 2s 3ms/step - loss: 0.1694 - accuracy: 0.9366 - val_loss: 0.2263 - val_accuracy: 0.9180\n",
            "Epoch 17/20\n",
            "550/550 [==============================] - 2s 3ms/step - loss: 0.1607 - accuracy: 0.9391 - val_loss: 0.2093 - val_accuracy: 0.9224\n",
            "Epoch 18/20\n",
            "550/550 [==============================] - 2s 3ms/step - loss: 0.1578 - accuracy: 0.9403 - val_loss: 0.2220 - val_accuracy: 0.9210\n",
            "Epoch 19/20\n",
            "550/550 [==============================] - 2s 3ms/step - loss: 0.1543 - accuracy: 0.9417 - val_loss: 0.2183 - val_accuracy: 0.9238\n",
            "Epoch 20/20\n",
            "550/550 [==============================] - 2s 3ms/step - loss: 0.1462 - accuracy: 0.9444 - val_loss: 0.2304 - val_accuracy: 0.9198\n",
            "Saved trained model at results/fashion_mnist_model_3ado.h5 \n",
            "--------------------------\n"
          ],
          "name": "stdout"
        }
      ]
    },
    {
      "cell_type": "code",
      "metadata": {
        "id": "Bc7M3RFz6byt",
        "colab_type": "code",
        "outputId": "e848ff82-4e74-4485-ae16-7b5337ac4b36",
        "colab": {
          "base_uri": "https://localhost:8080/",
          "height": 35
        }
      },
      "source": [
        "# Get the training time\n",
        "train_time = train_rt.process_time\n",
        "train_time # in seconds"
      ],
      "execution_count": 34,
      "outputs": [
        {
          "output_type": "execute_result",
          "data": {
            "text/plain": [
              "43.51945"
            ]
          },
          "metadata": {
            "tags": []
          },
          "execution_count": 34
        }
      ]
    },
    {
      "cell_type": "markdown",
      "metadata": {
        "id": "xLaMcyxb6byy",
        "colab_type": "text"
      },
      "source": [
        "## Testing the model\n",
        "\n",
        "Evaluate the model on the test dataset using a callback to get the total test time."
      ]
    },
    {
      "cell_type": "code",
      "metadata": {
        "id": "_4ne4L-q6byz",
        "colab_type": "code",
        "outputId": "924a5eb0-ca0f-4650-aa54-63960adf224e",
        "colab": {
          "base_uri": "https://localhost:8080/",
          "height": 35
        }
      },
      "source": [
        "test_rt = TestRuntimeCallback()\n",
        "test_loss, test_acc = model_3ado.evaluate(test_images, test_labels, callbacks=[test_rt])"
      ],
      "execution_count": 35,
      "outputs": [
        {
          "output_type": "stream",
          "text": [
            "313/313 [==============================] - 1s 2ms/step - loss: 0.2540 - accuracy: 0.9109\n"
          ],
          "name": "stdout"
        }
      ]
    },
    {
      "cell_type": "code",
      "metadata": {
        "id": "kryTwnvI6by2",
        "colab_type": "code",
        "outputId": "fc76f367-57d3-4f48-b2be-f010df49d9cd",
        "colab": {
          "base_uri": "https://localhost:8080/",
          "height": 35
        }
      },
      "source": [
        "# Get the test time\n",
        "test_time = test_rt.process_time\n",
        "test_time # in seconds"
      ],
      "execution_count": 36,
      "outputs": [
        {
          "output_type": "execute_result",
          "data": {
            "text/plain": [
              "0.802108"
            ]
          },
          "metadata": {
            "tags": []
          },
          "execution_count": 36
        }
      ]
    },
    {
      "cell_type": "markdown",
      "metadata": {
        "id": "GZ_IclWI6by5",
        "colab_type": "text"
      },
      "source": [
        "## Create a DataFrame for the training and test statistics\n",
        "\n",
        "We will create a new DataFrame to hold the training/test times and their accuracy and loss values of the current model. We then \"unpickle\" the DataFrame from the previous notebook and append the new DataFrame to it. \n",
        "\n",
        "The resulting DataFrame will hold the statistics for all the models we have worked with so far."
      ]
    },
    {
      "cell_type": "code",
      "metadata": {
        "id": "LSLLD0eo6by5",
        "colab_type": "code",
        "outputId": "f1720917-fbcc-4379-9485-18ec8646e7ec",
        "colab": {
          "base_uri": "https://localhost:8080/",
          "height": 35
        }
      },
      "source": [
        "history_dict = history.history\n",
        "history_dict.keys()"
      ],
      "execution_count": 37,
      "outputs": [
        {
          "output_type": "execute_result",
          "data": {
            "text/plain": [
              "dict_keys(['loss', 'accuracy', 'val_loss', 'val_accuracy'])"
            ]
          },
          "metadata": {
            "tags": []
          },
          "execution_count": 37
        }
      ]
    },
    {
      "cell_type": "code",
      "metadata": {
        "id": "Rt18Ywlp6by7",
        "colab_type": "code",
        "outputId": "71848129-9d2d-40a5-a499-f9f6722bc99e",
        "colab": {
          "base_uri": "https://localhost:8080/",
          "height": 206
        }
      },
      "source": [
        "history_df=pd.DataFrame(history_dict)\n",
        "history_df.tail()"
      ],
      "execution_count": 38,
      "outputs": [
        {
          "output_type": "execute_result",
          "data": {
            "text/html": [
              "<div>\n",
              "<style scoped>\n",
              "    .dataframe tbody tr th:only-of-type {\n",
              "        vertical-align: middle;\n",
              "    }\n",
              "\n",
              "    .dataframe tbody tr th {\n",
              "        vertical-align: top;\n",
              "    }\n",
              "\n",
              "    .dataframe thead th {\n",
              "        text-align: right;\n",
              "    }\n",
              "</style>\n",
              "<table border=\"1\" class=\"dataframe\">\n",
              "  <thead>\n",
              "    <tr style=\"text-align: right;\">\n",
              "      <th></th>\n",
              "      <th>loss</th>\n",
              "      <th>accuracy</th>\n",
              "      <th>val_loss</th>\n",
              "      <th>val_accuracy</th>\n",
              "    </tr>\n",
              "  </thead>\n",
              "  <tbody>\n",
              "    <tr>\n",
              "      <th>15</th>\n",
              "      <td>0.169447</td>\n",
              "      <td>0.936564</td>\n",
              "      <td>0.226331</td>\n",
              "      <td>0.9180</td>\n",
              "    </tr>\n",
              "    <tr>\n",
              "      <th>16</th>\n",
              "      <td>0.160688</td>\n",
              "      <td>0.939127</td>\n",
              "      <td>0.209297</td>\n",
              "      <td>0.9224</td>\n",
              "    </tr>\n",
              "    <tr>\n",
              "      <th>17</th>\n",
              "      <td>0.157761</td>\n",
              "      <td>0.940309</td>\n",
              "      <td>0.222035</td>\n",
              "      <td>0.9210</td>\n",
              "    </tr>\n",
              "    <tr>\n",
              "      <th>18</th>\n",
              "      <td>0.154297</td>\n",
              "      <td>0.941691</td>\n",
              "      <td>0.218343</td>\n",
              "      <td>0.9238</td>\n",
              "    </tr>\n",
              "    <tr>\n",
              "      <th>19</th>\n",
              "      <td>0.146241</td>\n",
              "      <td>0.944364</td>\n",
              "      <td>0.230351</td>\n",
              "      <td>0.9198</td>\n",
              "    </tr>\n",
              "  </tbody>\n",
              "</table>\n",
              "</div>"
            ],
            "text/plain": [
              "        loss  accuracy  val_loss  val_accuracy\n",
              "15  0.169447  0.936564  0.226331        0.9180\n",
              "16  0.160688  0.939127  0.209297        0.9224\n",
              "17  0.157761  0.940309  0.222035        0.9210\n",
              "18  0.154297  0.941691  0.218343        0.9238\n",
              "19  0.146241  0.944364  0.230351        0.9198"
            ]
          },
          "metadata": {
            "tags": []
          },
          "execution_count": 38
        }
      ]
    },
    {
      "cell_type": "code",
      "metadata": {
        "id": "P6WcOrl06by_",
        "colab_type": "code",
        "outputId": "cabccc7a-24d3-4128-f7b2-8df4bfbb7268",
        "colab": {
          "base_uri": "https://localhost:8080/",
          "height": 81
        }
      },
      "source": [
        "# Pull statistics \n",
        "results_df3a = history_df.iloc[-1:].copy()\n",
        "results_df3a.insert(0,'model','CNN (2 layers DO)') # want the model name to appear first\n",
        "results_df3a['training time (sec)'] = train_time      # we are okay with training time appearing last\n",
        "results_df3a['testing time (sec)'] = test_time      # we are okay with training time appearing last\n",
        "results_df3a"
      ],
      "execution_count": 39,
      "outputs": [
        {
          "output_type": "execute_result",
          "data": {
            "text/html": [
              "<div>\n",
              "<style scoped>\n",
              "    .dataframe tbody tr th:only-of-type {\n",
              "        vertical-align: middle;\n",
              "    }\n",
              "\n",
              "    .dataframe tbody tr th {\n",
              "        vertical-align: top;\n",
              "    }\n",
              "\n",
              "    .dataframe thead th {\n",
              "        text-align: right;\n",
              "    }\n",
              "</style>\n",
              "<table border=\"1\" class=\"dataframe\">\n",
              "  <thead>\n",
              "    <tr style=\"text-align: right;\">\n",
              "      <th></th>\n",
              "      <th>model</th>\n",
              "      <th>loss</th>\n",
              "      <th>accuracy</th>\n",
              "      <th>val_loss</th>\n",
              "      <th>val_accuracy</th>\n",
              "      <th>training time (sec)</th>\n",
              "      <th>testing time (sec)</th>\n",
              "    </tr>\n",
              "  </thead>\n",
              "  <tbody>\n",
              "    <tr>\n",
              "      <th>19</th>\n",
              "      <td>CNN (2 layers DO)</td>\n",
              "      <td>0.146241</td>\n",
              "      <td>0.944364</td>\n",
              "      <td>0.230351</td>\n",
              "      <td>0.9198</td>\n",
              "      <td>43.51945</td>\n",
              "      <td>0.802108</td>\n",
              "    </tr>\n",
              "  </tbody>\n",
              "</table>\n",
              "</div>"
            ],
            "text/plain": [
              "                model      loss  ...  training time (sec)  testing time (sec)\n",
              "19  CNN (2 layers DO)  0.146241  ...             43.51945            0.802108\n",
              "\n",
              "[1 rows x 7 columns]"
            ]
          },
          "metadata": {
            "tags": []
          },
          "execution_count": 39
        }
      ]
    },
    {
      "cell_type": "code",
      "metadata": {
        "id": "nDMQ7u-N6bzC",
        "colab_type": "code",
        "colab": {}
      },
      "source": [
        "# # Combine with previous results\n",
        "# prev_results_df = pd.read_pickle('results.pkl')\n",
        "# results_df = prev_results_df.append(results_df,ignore_index=True)\n",
        "# results_df"
      ],
      "execution_count": 0,
      "outputs": []
    },
    {
      "cell_type": "markdown",
      "metadata": {
        "id": "-Yrcqj_36bzE",
        "colab_type": "text"
      },
      "source": [
        "## Plot the performance "
      ]
    },
    {
      "cell_type": "markdown",
      "metadata": {
        "id": "Z7A2Yhh26bzE",
        "colab_type": "text"
      },
      "source": [
        "**Figure 3: Learning curves for Model 3a with dropout**"
      ]
    },
    {
      "cell_type": "code",
      "metadata": {
        "scrolled": true,
        "id": "WlWM_CVM6bzE",
        "colab_type": "code",
        "outputId": "a26aad58-0c47-4e29-9c6b-590f92f7f4a1",
        "colab": {
          "base_uri": "https://localhost:8080/",
          "height": 324
        }
      },
      "source": [
        "# Plot learning curves for model\n",
        "pd.DataFrame(history.history).plot(figsize=(8, 5))\n",
        "plt.grid(True)\n",
        "plt.gca().set_ylim(0, 1) # set the vertical range to [0-1]\n",
        "plt.savefig(\"figures/learning_curves_model_3ado\", tight_layout=False)\n",
        "plt.show()"
      ],
      "execution_count": 40,
      "outputs": [
        {
          "output_type": "display_data",
          "data": {
            "image/png": "[encoded data removed]",
            "text/plain": [
              "<Figure size 576x360 with 1 Axes>"
            ]
          },
          "metadata": {
            "tags": [],
            "needs_background": "light"
          }
        }
      ]
    },
    {
      "cell_type": "markdown",
      "metadata": {
        "id": "GvQcxA8P6bzH",
        "colab_type": "text"
      },
      "source": [
        "## Model 3b: baseline model with L2 regularization\n",
        "We build a `CNN` containing 2 convolutional/max pooling layers. The last layer is a 10-way \"softmax\" layer, which means it will return an array of 10 probability scores (summing to 1). Each  score will be the probability that the current clothing image belongs to one of our 10 classes. L2 regularization is employed to evaluate whether it addresses overfitting."
      ]
    },
    {
      "cell_type": "code",
      "metadata": {
        "id": "tAV0nMlw6bzI",
        "colab_type": "code",
        "colab": {}
      },
      "source": [
        "model_3bdo = models.Sequential()\n",
        "model_3bdo.add(layers.Conv2D(32, (3, 3), activation='relu', kernel_regularizer=regularizers.l2(0.01), \n",
        "                           input_shape=(28, 28, 1)))\n",
        "model_3bdo.add(layers.MaxPooling2D((2, 2)))\n",
        "model_3bdo.add(layers.Dropout(0.2))\n",
        "model_3bdo.add(layers.Conv2D(64, (3, 3), activation='relu', kernel_regularizer=regularizers.l2(0.01)))\n",
        "model_3bdo.add(layers.MaxPooling2D((2, 2)))\n",
        "model_3bdo.add(layers.Dropout(0.2))\n",
        "model_3bdo.add(layers.Flatten())\n",
        "model_3bdo.add(layers.Dense(128, activation='relu', kernel_regularizer=regularizers.l2(0.01)))\n",
        "model_3bdo.add(layers.Dense(10, activation='softmax'))"
      ],
      "execution_count": 0,
      "outputs": []
    },
    {
      "cell_type": "code",
      "metadata": {
        "id": "PpIX8EGJ6bzK",
        "colab_type": "code",
        "outputId": "375320ee-dd44-4e4e-ff29-9b198d1830a4",
        "colab": {
          "base_uri": "https://localhost:8080/",
          "height": 483
        }
      },
      "source": [
        "model_3bdo.summary()"
      ],
      "execution_count": 0,
      "outputs": [
        {
          "output_type": "stream",
          "text": [
            "Model: \"sequential_4\"\n",
            "_________________________________________________________________\n",
            "Layer (type)                 Output Shape              Param #   \n",
            "=================================================================\n",
            "conv2d_2 (Conv2D)            (None, 26, 26, 32)        320       \n",
            "_________________________________________________________________\n",
            "max_pooling2d_2 (MaxPooling2 (None, 13, 13, 32)        0         \n",
            "_________________________________________________________________\n",
            "dropout_5 (Dropout)          (None, 13, 13, 32)        0         \n",
            "_________________________________________________________________\n",
            "conv2d_3 (Conv2D)            (None, 11, 11, 64)        18496     \n",
            "_________________________________________________________________\n",
            "max_pooling2d_3 (MaxPooling2 (None, 5, 5, 64)          0         \n",
            "_________________________________________________________________\n",
            "dropout_6 (Dropout)          (None, 5, 5, 64)          0         \n",
            "_________________________________________________________________\n",
            "flatten_1 (Flatten)          (None, 1600)              0         \n",
            "_________________________________________________________________\n",
            "dense_8 (Dense)              (None, 128)               204928    \n",
            "_________________________________________________________________\n",
            "dense_9 (Dense)              (None, 10)                1290      \n",
            "=================================================================\n",
            "Total params: 225,034\n",
            "Trainable params: 225,034\n",
            "Non-trainable params: 0\n",
            "_________________________________________________________________\n"
          ],
          "name": "stdout"
        }
      ]
    },
    {
      "cell_type": "code",
      "metadata": {
        "id": "G-q1xbvs6bzL",
        "colab_type": "code",
        "outputId": "a36b4cd7-c998-4e97-a8b6-90455a478d49",
        "colab": {
          "base_uri": "https://localhost:8080/",
          "height": 1000
        }
      },
      "source": [
        "keras.utils.plot_model(model_3bdo, show_shapes=True)"
      ],
      "execution_count": 0,
      "outputs": [
        {
          "output_type": "execute_result",
          "data": {
            "image/png": "[encoded data removed]",
            "text/plain": [
              "<IPython.core.display.Image object>"
            ]
          },
          "metadata": {
            "tags": []
          },
          "execution_count": 60
        }
      ]
    },
    {
      "cell_type": "markdown",
      "metadata": {
        "id": "a_1sbUVv6bzN",
        "colab_type": "text"
      },
      "source": [
        "## Compile the model"
      ]
    },
    {
      "cell_type": "code",
      "metadata": {
        "id": "UClOdcRb6bzN",
        "colab_type": "code",
        "colab": {}
      },
      "source": [
        "model_3bdo.compile(optimizer='adam',\n",
        "                loss='sparse_categorical_crossentropy',\n",
        "                metrics=['accuracy'])"
      ],
      "execution_count": 0,
      "outputs": []
    },
    {
      "cell_type": "markdown",
      "metadata": {
        "id": "3zA90dkJ6bzR",
        "colab_type": "text"
      },
      "source": [
        "## Train the model\n",
        "\n",
        "We are now ready to train our network, which in Keras is done via a call to the `fit` method of the network: \n",
        "we \"fit\" the model to its training data. We train the model for 20 epochs with batch size 100. Also we pass the method the callback object we create to get the total training time."
      ]
    },
    {
      "cell_type": "code",
      "metadata": {
        "id": "6-SbhD_-6bzR",
        "colab_type": "code",
        "outputId": "78cd84e7-5a23-4bb4-ea7c-6a7d6038dfcc",
        "colab": {
          "base_uri": "https://localhost:8080/",
          "height": 770
        }
      },
      "source": [
        "train_rt = TrainRuntimeCallback()\n",
        "history = model_3bdo.fit(train_images, train_labels, callbacks=[train_rt], epochs=20, batch_size = 100,\n",
        "                    validation_data=(val_images, val_labels))\n",
        "\n",
        "# Saving models locally after fitting\n",
        "save_dir = \"results/\"\n",
        "model_name = 'fashion_mnist_model_3bdo.h5'\n",
        "model_path = os.path.join(save_dir, model_name)\n",
        "model_3bdo.save(model_path)\n",
        "print('Saved trained model at %s ' % model_path)\n",
        "print('--------------------------')"
      ],
      "execution_count": 43,
      "outputs": [
        {
          "output_type": "stream",
          "text": [
            "Epoch 1/20\n",
            "550/550 [==============================] - 2s 4ms/step - loss: 1.1878 - accuracy: 0.7424 - val_loss: 0.7420 - val_accuracy: 0.8232\n",
            "Epoch 2/20\n",
            "550/550 [==============================] - 2s 3ms/step - loss: 0.7629 - accuracy: 0.7954 - val_loss: 0.6962 - val_accuracy: 0.8348\n",
            "Epoch 3/20\n",
            "550/550 [==============================] - 2s 4ms/step - loss: 0.7259 - accuracy: 0.8063 - val_loss: 0.6662 - val_accuracy: 0.8362\n",
            "Epoch 4/20\n",
            "550/550 [==============================] - 2s 4ms/step - loss: 0.7075 - accuracy: 0.8097 - val_loss: 0.6403 - val_accuracy: 0.8424\n",
            "Epoch 5/20\n",
            "550/550 [==============================] - 2s 4ms/step - loss: 0.6910 - accuracy: 0.8140 - val_loss: 0.6493 - val_accuracy: 0.8376\n",
            "Epoch 6/20\n",
            "550/550 [==============================] - 2s 4ms/step - loss: 0.6734 - accuracy: 0.8203 - val_loss: 0.6122 - val_accuracy: 0.8454\n",
            "Epoch 7/20\n",
            "550/550 [==============================] - 2s 4ms/step - loss: 0.6664 - accuracy: 0.8204 - val_loss: 0.6340 - val_accuracy: 0.8474\n",
            "Epoch 8/20\n",
            "550/550 [==============================] - 2s 4ms/step - loss: 0.6573 - accuracy: 0.8224 - val_loss: 0.6083 - val_accuracy: 0.8468\n",
            "Epoch 9/20\n",
            "550/550 [==============================] - 2s 4ms/step - loss: 0.6450 - accuracy: 0.8251 - val_loss: 0.6161 - val_accuracy: 0.8416\n",
            "Epoch 10/20\n",
            "550/550 [==============================] - 2s 4ms/step - loss: 0.6415 - accuracy: 0.8265 - val_loss: 0.5936 - val_accuracy: 0.8502\n",
            "Epoch 11/20\n",
            "550/550 [==============================] - 2s 4ms/step - loss: 0.6320 - accuracy: 0.8272 - val_loss: 0.5697 - val_accuracy: 0.8560\n",
            "Epoch 12/20\n",
            "550/550 [==============================] - 2s 4ms/step - loss: 0.6301 - accuracy: 0.8264 - val_loss: 0.6035 - val_accuracy: 0.8348\n",
            "Epoch 13/20\n",
            "550/550 [==============================] - 2s 4ms/step - loss: 0.6213 - accuracy: 0.8319 - val_loss: 0.5719 - val_accuracy: 0.8496\n",
            "Epoch 14/20\n",
            "550/550 [==============================] - 2s 4ms/step - loss: 0.6164 - accuracy: 0.8298 - val_loss: 0.5614 - val_accuracy: 0.8546\n",
            "Epoch 15/20\n",
            "550/550 [==============================] - 2s 4ms/step - loss: 0.6109 - accuracy: 0.8334 - val_loss: 0.6084 - val_accuracy: 0.8324\n",
            "Epoch 16/20\n",
            "550/550 [==============================] - 2s 4ms/step - loss: 0.6073 - accuracy: 0.8335 - val_loss: 0.5618 - val_accuracy: 0.8568\n",
            "Epoch 17/20\n",
            "550/550 [==============================] - 2s 4ms/step - loss: 0.6067 - accuracy: 0.8332 - val_loss: 0.5630 - val_accuracy: 0.8506\n",
            "Epoch 18/20\n",
            "550/550 [==============================] - 2s 4ms/step - loss: 0.5978 - accuracy: 0.8338 - val_loss: 0.5722 - val_accuracy: 0.8484\n",
            "Epoch 19/20\n",
            "550/550 [==============================] - 2s 4ms/step - loss: 0.5965 - accuracy: 0.8353 - val_loss: 0.5446 - val_accuracy: 0.8600\n",
            "Epoch 20/20\n",
            "550/550 [==============================] - 2s 4ms/step - loss: 0.5938 - accuracy: 0.8362 - val_loss: 0.5560 - val_accuracy: 0.8532\n",
            "Saved trained model at results/fashion_mnist_model_3bdo.h5 \n",
            "--------------------------\n"
          ],
          "name": "stdout"
        }
      ]
    },
    {
      "cell_type": "code",
      "metadata": {
        "id": "H480dcnr6bzT",
        "colab_type": "code",
        "outputId": "301eb24b-465f-4de5-fe8d-a071dde8956e",
        "colab": {
          "base_uri": "https://localhost:8080/",
          "height": 35
        }
      },
      "source": [
        "# Get the training time\n",
        "train_time = train_rt.process_time\n",
        "train_time # in seconds"
      ],
      "execution_count": 44,
      "outputs": [
        {
          "output_type": "execute_result",
          "data": {
            "text/plain": [
              "40.009027"
            ]
          },
          "metadata": {
            "tags": []
          },
          "execution_count": 44
        }
      ]
    },
    {
      "cell_type": "markdown",
      "metadata": {
        "id": "i3p7bP726bzU",
        "colab_type": "text"
      },
      "source": [
        "## Testing the model\n",
        "\n",
        "Evaluate the model on the test dataset using a callback to get the total test time."
      ]
    },
    {
      "cell_type": "code",
      "metadata": {
        "id": "ZVCN9cjb6bzV",
        "colab_type": "code",
        "outputId": "5d5cb1af-9eae-4eaa-ed30-d6817673eff2",
        "colab": {
          "base_uri": "https://localhost:8080/",
          "height": 35
        }
      },
      "source": [
        "test_rt = TestRuntimeCallback()\n",
        "test_loss, test_acc = model_3bdo.evaluate(test_images, test_labels, callbacks=[test_rt])"
      ],
      "execution_count": 45,
      "outputs": [
        {
          "output_type": "stream",
          "text": [
            "313/313 [==============================] - 1s 2ms/step - loss: 0.5883 - accuracy: 0.8364\n"
          ],
          "name": "stdout"
        }
      ]
    },
    {
      "cell_type": "code",
      "metadata": {
        "id": "lL1_28bj6bzZ",
        "colab_type": "code",
        "outputId": "f6eb7eb5-a8ee-4c1f-d01b-e80627d14123",
        "colab": {
          "base_uri": "https://localhost:8080/",
          "height": 35
        }
      },
      "source": [
        "# Get the test time\n",
        "test_time = test_rt.process_time\n",
        "test_time # in seconds"
      ],
      "execution_count": 46,
      "outputs": [
        {
          "output_type": "execute_result",
          "data": {
            "text/plain": [
              "0.82611"
            ]
          },
          "metadata": {
            "tags": []
          },
          "execution_count": 46
        }
      ]
    },
    {
      "cell_type": "markdown",
      "metadata": {
        "id": "miAdM3wj6bzc",
        "colab_type": "text"
      },
      "source": [
        "## Create a DataFrame for the training and test statistics\n",
        "\n",
        "We will create a new DataFrame to hold the training/test times and their accuracy and loss values of the current model. We then \"unpickle\" the DataFrame from the previous notebook and append the new DataFrame to it. \n",
        "\n",
        "The resulting DataFrame will hold the statistics for all the models we have worked with so far."
      ]
    },
    {
      "cell_type": "code",
      "metadata": {
        "id": "Ltk3HnNA6bzc",
        "colab_type": "code",
        "outputId": "3f4d9cff-f5fe-4417-d520-e1b9c53252a4",
        "colab": {
          "base_uri": "https://localhost:8080/",
          "height": 35
        }
      },
      "source": [
        "history_dict = history.history\n",
        "history_dict.keys()"
      ],
      "execution_count": 47,
      "outputs": [
        {
          "output_type": "execute_result",
          "data": {
            "text/plain": [
              "dict_keys(['loss', 'accuracy', 'val_loss', 'val_accuracy'])"
            ]
          },
          "metadata": {
            "tags": []
          },
          "execution_count": 47
        }
      ]
    },
    {
      "cell_type": "code",
      "metadata": {
        "id": "JAYBD6nG6bze",
        "colab_type": "code",
        "outputId": "3e85c3d5-e5ae-4eca-fc93-5496a8485397",
        "colab": {
          "base_uri": "https://localhost:8080/",
          "height": 206
        }
      },
      "source": [
        "history_df=pd.DataFrame(history_dict)\n",
        "history_df.tail()"
      ],
      "execution_count": 48,
      "outputs": [
        {
          "output_type": "execute_result",
          "data": {
            "text/html": [
              "<div>\n",
              "<style scoped>\n",
              "    .dataframe tbody tr th:only-of-type {\n",
              "        vertical-align: middle;\n",
              "    }\n",
              "\n",
              "    .dataframe tbody tr th {\n",
              "        vertical-align: top;\n",
              "    }\n",
              "\n",
              "    .dataframe thead th {\n",
              "        text-align: right;\n",
              "    }\n",
              "</style>\n",
              "<table border=\"1\" class=\"dataframe\">\n",
              "  <thead>\n",
              "    <tr style=\"text-align: right;\">\n",
              "      <th></th>\n",
              "      <th>loss</th>\n",
              "      <th>accuracy</th>\n",
              "      <th>val_loss</th>\n",
              "      <th>val_accuracy</th>\n",
              "    </tr>\n",
              "  </thead>\n",
              "  <tbody>\n",
              "    <tr>\n",
              "      <th>15</th>\n",
              "      <td>0.607274</td>\n",
              "      <td>0.833545</td>\n",
              "      <td>0.561811</td>\n",
              "      <td>0.8568</td>\n",
              "    </tr>\n",
              "    <tr>\n",
              "      <th>16</th>\n",
              "      <td>0.606721</td>\n",
              "      <td>0.833236</td>\n",
              "      <td>0.563002</td>\n",
              "      <td>0.8506</td>\n",
              "    </tr>\n",
              "    <tr>\n",
              "      <th>17</th>\n",
              "      <td>0.597795</td>\n",
              "      <td>0.833782</td>\n",
              "      <td>0.572222</td>\n",
              "      <td>0.8484</td>\n",
              "    </tr>\n",
              "    <tr>\n",
              "      <th>18</th>\n",
              "      <td>0.596511</td>\n",
              "      <td>0.835309</td>\n",
              "      <td>0.544592</td>\n",
              "      <td>0.8600</td>\n",
              "    </tr>\n",
              "    <tr>\n",
              "      <th>19</th>\n",
              "      <td>0.593767</td>\n",
              "      <td>0.836236</td>\n",
              "      <td>0.556045</td>\n",
              "      <td>0.8532</td>\n",
              "    </tr>\n",
              "  </tbody>\n",
              "</table>\n",
              "</div>"
            ],
            "text/plain": [
              "        loss  accuracy  val_loss  val_accuracy\n",
              "15  0.607274  0.833545  0.561811        0.8568\n",
              "16  0.606721  0.833236  0.563002        0.8506\n",
              "17  0.597795  0.833782  0.572222        0.8484\n",
              "18  0.596511  0.835309  0.544592        0.8600\n",
              "19  0.593767  0.836236  0.556045        0.8532"
            ]
          },
          "metadata": {
            "tags": []
          },
          "execution_count": 48
        }
      ]
    },
    {
      "cell_type": "code",
      "metadata": {
        "id": "nTsTTlgg6bzh",
        "colab_type": "code",
        "outputId": "450f9d5f-140c-4ccc-f6f2-da823bef0381",
        "colab": {
          "base_uri": "https://localhost:8080/",
          "height": 81
        }
      },
      "source": [
        "# Pull statistics \n",
        "results_df3b = history_df.iloc[-1:].copy()\n",
        "results_df3b.insert(0,'model','CNN (2 layers L2 DO)') # want the model name to appear first\n",
        "results_df3b['training time (sec)'] = train_time      # we are okay with training time appearing last\n",
        "results_df3b['testing time (sec)'] = test_time      # we are okay with training time appearing last\n",
        "results_df3b"
      ],
      "execution_count": 49,
      "outputs": [
        {
          "output_type": "execute_result",
          "data": {
            "text/html": [
              "<div>\n",
              "<style scoped>\n",
              "    .dataframe tbody tr th:only-of-type {\n",
              "        vertical-align: middle;\n",
              "    }\n",
              "\n",
              "    .dataframe tbody tr th {\n",
              "        vertical-align: top;\n",
              "    }\n",
              "\n",
              "    .dataframe thead th {\n",
              "        text-align: right;\n",
              "    }\n",
              "</style>\n",
              "<table border=\"1\" class=\"dataframe\">\n",
              "  <thead>\n",
              "    <tr style=\"text-align: right;\">\n",
              "      <th></th>\n",
              "      <th>model</th>\n",
              "      <th>loss</th>\n",
              "      <th>accuracy</th>\n",
              "      <th>val_loss</th>\n",
              "      <th>val_accuracy</th>\n",
              "      <th>training time (sec)</th>\n",
              "      <th>testing time (sec)</th>\n",
              "    </tr>\n",
              "  </thead>\n",
              "  <tbody>\n",
              "    <tr>\n",
              "      <th>19</th>\n",
              "      <td>CNN (2 layers L2 DO)</td>\n",
              "      <td>0.593767</td>\n",
              "      <td>0.836236</td>\n",
              "      <td>0.556045</td>\n",
              "      <td>0.8532</td>\n",
              "      <td>40.009027</td>\n",
              "      <td>0.82611</td>\n",
              "    </tr>\n",
              "  </tbody>\n",
              "</table>\n",
              "</div>"
            ],
            "text/plain": [
              "                   model      loss  ...  training time (sec)  testing time (sec)\n",
              "19  CNN (2 layers L2 DO)  0.593767  ...            40.009027             0.82611\n",
              "\n",
              "[1 rows x 7 columns]"
            ]
          },
          "metadata": {
            "tags": []
          },
          "execution_count": 49
        }
      ]
    },
    {
      "cell_type": "markdown",
      "metadata": {
        "id": "j2wJg0T86bzn",
        "colab_type": "text"
      },
      "source": [
        "## Plot the performance "
      ]
    },
    {
      "cell_type": "markdown",
      "metadata": {
        "id": "fDeSfVrI6bzo",
        "colab_type": "text"
      },
      "source": [
        "**Figure 4: Learning curves for Model 3b with dropout**"
      ]
    },
    {
      "cell_type": "code",
      "metadata": {
        "scrolled": true,
        "id": "GiuNAlK76bzo",
        "colab_type": "code",
        "outputId": "0d27aad8-bc79-44f1-f870-762060a5d7a9",
        "colab": {
          "base_uri": "https://localhost:8080/",
          "height": 324
        }
      },
      "source": [
        "# Plot learning curves for model\n",
        "pd.DataFrame(history.history).plot(figsize=(8, 5))\n",
        "plt.grid(True)\n",
        "plt.gca().set_ylim(0, 1) # set the vertical range to [0-1]\n",
        "plt.savefig(\"figures/learning_curves_model_3bdo\", tight_layout=False)\n",
        "plt.show()"
      ],
      "execution_count": 50,
      "outputs": [
        {
          "output_type": "display_data",
          "data": {
            "image/png": "[encoded data removed]",
            "text/plain": [
              "<Figure size 576x360 with 1 Axes>"
            ]
          },
          "metadata": {
            "tags": [],
            "needs_background": "light"
          }
        }
      ]
    },
    {
      "cell_type": "markdown",
      "metadata": {
        "id": "FTQqPQC-6bzq",
        "colab_type": "text"
      },
      "source": [
        "## Model 3c: baseline model with image augmentation\n",
        "We build a `CNN` containing 2 convolutional/max pooling layers. The last layer is a 10-way \"softmax\" layer, which means it will return an array of 10 probability scores (summing to 1). Each  score will be the probability that the current clothing image belongs to one of our 10 classes. Image augmentation (shifting, flipping, shearing, and zooming) is employed to generate data and potentially mitigate overfitting. "
      ]
    },
    {
      "cell_type": "code",
      "metadata": {
        "id": "-olGGAUg6bzq",
        "colab_type": "code",
        "colab": {}
      },
      "source": [
        "model_3cdo = models.Sequential()\n",
        "model_3cdo.add(layers.Conv2D(32, (3, 3), activation='relu', input_shape=(28, 28, 1)))\n",
        "model_3cdo.add(layers.MaxPooling2D((2, 2)))\n",
        "model_3cdo.add(layers.Dropout(0.2))\n",
        "model_3cdo.add(layers.Conv2D(64, (3, 3), activation='relu'))\n",
        "model_3cdo.add(layers.MaxPooling2D((2, 2)))\n",
        "model_3cdo.add(layers.Dropout(0.2))\n",
        "model_3cdo.add(layers.Flatten())\n",
        "model_3cdo.add(layers.Dense(128, activation='relu'))\n",
        "model_3cdo.add(layers.Dense(10, activation='softmax'))"
      ],
      "execution_count": 0,
      "outputs": []
    },
    {
      "cell_type": "code",
      "metadata": {
        "id": "hf9mzBaJ6bzs",
        "colab_type": "code",
        "colab": {}
      },
      "source": [
        "# Compile the model\n",
        "model_3cdo.compile(optimizer='adam',\n",
        "                loss='sparse_categorical_crossentropy',\n",
        "                metrics=['accuracy'])"
      ],
      "execution_count": 0,
      "outputs": []
    },
    {
      "cell_type": "code",
      "metadata": {
        "id": "MNesNvGJ6bzv",
        "colab_type": "code",
        "outputId": "1ae111ea-8709-42c4-c7dc-7a93fd19bdd7",
        "colab": {
          "base_uri": "https://localhost:8080/",
          "height": 35
        }
      },
      "source": [
        "train_images.shape"
      ],
      "execution_count": 0,
      "outputs": [
        {
          "output_type": "execute_result",
          "data": {
            "text/plain": [
              "(55000, 28, 28, 1)"
            ]
          },
          "metadata": {
            "tags": []
          },
          "execution_count": 72
        }
      ]
    },
    {
      "cell_type": "code",
      "metadata": {
        "id": "YZR0muy76bzx",
        "colab_type": "code",
        "colab": {}
      },
      "source": [
        "# Create generators\n",
        "# https://www.tensorflow.org/api_docs/python/tf/keras/preprocessing/image/ImageDataGenerator\n",
        "from tensorflow.keras.preprocessing.image import ImageDataGenerator\n",
        "\n",
        "# All images will be rescaled by 1./255\n",
        "train_datagen = ImageDataGenerator(rescale=1./255)\n",
        "test_datagen = ImageDataGenerator(rescale=1./255)\n",
        "\n",
        "train_generator = train_datagen.flow(\n",
        "            train_images, \n",
        "            train_labels, \n",
        "            batch_size=100)\n",
        "\n",
        "val_generator = test_datagen.flow(\n",
        "            val_images, \n",
        "            val_labels, \n",
        "            batch_size=100)"
      ],
      "execution_count": 0,
      "outputs": []
    },
    {
      "cell_type": "code",
      "metadata": {
        "id": "a1GnThLT6bzz",
        "colab_type": "code",
        "outputId": "87b349e3-c555-4224-c28f-931a9c5aa592",
        "colab": {
          "base_uri": "https://localhost:8080/",
          "height": 53
        }
      },
      "source": [
        "for data_batch, labels_batch in train_generator:\n",
        "    print('data batch shape:', data_batch.shape)\n",
        "    print('labels batch shape:', labels_batch.shape)\n",
        "    break"
      ],
      "execution_count": 0,
      "outputs": [
        {
          "output_type": "stream",
          "text": [
            "data batch shape: (100, 28, 28, 1)\n",
            "labels batch shape: (100,)\n"
          ],
          "name": "stdout"
        }
      ]
    },
    {
      "cell_type": "code",
      "metadata": {
        "id": "ygw0AB7M6bz1",
        "colab_type": "code",
        "outputId": "d7504988-d6ee-40c2-8229-43e4f057b1de",
        "colab": {
          "base_uri": "https://localhost:8080/",
          "height": 53
        }
      },
      "source": [
        "for data_batch, labels_batch in val_generator:\n",
        "    print('data batch shape:', data_batch.shape)\n",
        "    print('labels batch shape:', labels_batch.shape)\n",
        "    break"
      ],
      "execution_count": 0,
      "outputs": [
        {
          "output_type": "stream",
          "text": [
            "data batch shape: (100, 28, 28, 1)\n",
            "labels batch shape: (100,)\n"
          ],
          "name": "stdout"
        }
      ]
    },
    {
      "cell_type": "code",
      "metadata": {
        "id": "So508kJN6bz3",
        "colab_type": "code",
        "outputId": "126d9c6c-5e36-4137-c8b3-e15429567583",
        "colab": {
          "base_uri": "https://localhost:8080/",
          "height": 35
        }
      },
      "source": [
        "train_images.shape, val_images.shape"
      ],
      "execution_count": 0,
      "outputs": [
        {
          "output_type": "execute_result",
          "data": {
            "text/plain": [
              "((55000, 28, 28, 1), (5000, 28, 28, 1))"
            ]
          },
          "metadata": {
            "tags": []
          },
          "execution_count": 76
        }
      ]
    },
    {
      "cell_type": "code",
      "metadata": {
        "id": "i37kB8836bz4",
        "colab_type": "code",
        "outputId": "b622a833-dec2-40a0-d4f9-ec63abbbee6b",
        "colab": {
          "base_uri": "https://localhost:8080/",
          "height": 35
        }
      },
      "source": [
        "(len(train_images) /100),(len(val_images) /100)"
      ],
      "execution_count": 0,
      "outputs": [
        {
          "output_type": "execute_result",
          "data": {
            "text/plain": [
              "(550.0, 50.0)"
            ]
          },
          "metadata": {
            "tags": []
          },
          "execution_count": 77
        }
      ]
    },
    {
      "cell_type": "code",
      "metadata": {
        "id": "_CwBZyqP6bz-",
        "colab_type": "code",
        "colab": {}
      },
      "source": [
        "# Image augmentation"
      ],
      "execution_count": 0,
      "outputs": []
    },
    {
      "cell_type": "code",
      "metadata": {
        "id": "m_vv_5ut6b0D",
        "colab_type": "code",
        "colab": {}
      },
      "source": [
        "# https://www.tensorflow.org/api_docs/python/tf/keras/preprocessing/image/ImageDataGenerator\n",
        "datagen = ImageDataGenerator(\n",
        "    rescale=1./255,\n",
        "    rotation_range=40,\n",
        "    width_shift_range=0.2,\n",
        "    height_shift_range=0.2,\n",
        "    shear_range=0.2,\n",
        "    zoom_range=0.2,\n",
        "    horizontal_flip=True,\n",
        "    fill_mode='nearest')\n",
        "\n",
        "# Note that the validation data should not be augmented!\n",
        "test_datagen = ImageDataGenerator(rescale=1./255)"
      ],
      "execution_count": 0,
      "outputs": []
    },
    {
      "cell_type": "code",
      "metadata": {
        "id": "oH3KnNDU6b0G",
        "colab_type": "code",
        "outputId": "f6ffe78d-2e52-4a79-ffe5-2ada8c7a1952",
        "colab": {
          "base_uri": "https://localhost:8080/",
          "height": 35
        }
      },
      "source": [
        "x = train_images[0]\n",
        "x = x.reshape((1,) + x.shape)\n",
        "x.shape"
      ],
      "execution_count": 0,
      "outputs": [
        {
          "output_type": "execute_result",
          "data": {
            "text/plain": [
              "(1, 28, 28, 1)"
            ]
          },
          "metadata": {
            "tags": []
          },
          "execution_count": 83
        }
      ]
    },
    {
      "cell_type": "code",
      "metadata": {
        "id": "8CNoj6H-6b0H",
        "colab_type": "code",
        "colab": {}
      },
      "source": [
        "# # This is module with image preprocessing utilities\n",
        "# from tensorflow.keras.preprocessing import image\n",
        "\n",
        "# # The .flow() command below generates batches of randomly transformed images.\n",
        "# # It will loop indefinitely, so we need to `break` the loop at some point!\n",
        "# i = 0\n",
        "# for batch in datagen.flow(x, batch_size=1):\n",
        "#     plt.figure(i)\n",
        "#     imgplot = plt.imshow(image.array_to_img(batch[0]),cmap='binary')\n",
        "#     i += 1\n",
        "#     if i % 4 == 0:\n",
        "#         break\n",
        "\n",
        "# plt.show()"
      ],
      "execution_count": 0,
      "outputs": []
    },
    {
      "cell_type": "code",
      "metadata": {
        "id": "YDPx89co6b0J",
        "colab_type": "code",
        "colab": {}
      },
      "source": [
        "# https://www.tensorflow.org/api_docs/python/tf/keras/preprocessing/image/ImageDataGenerator\n",
        "train_datagen = ImageDataGenerator(\n",
        "    rescale=1./255,\n",
        "    rotation_range=40,\n",
        "    width_shift_range=0.2,\n",
        "    height_shift_range=0.2,\n",
        "    shear_range=0.2,\n",
        "    zoom_range=0.2,\n",
        "    horizontal_flip=True,\n",
        "    fill_mode='nearest')\n",
        "\n",
        "# Note that the validation data should not be augmented!\n",
        "test_datagen = ImageDataGenerator(rescale=1./255)"
      ],
      "execution_count": 0,
      "outputs": []
    },
    {
      "cell_type": "code",
      "metadata": {
        "id": "UGvxfAv36b0L",
        "colab_type": "code",
        "colab": {}
      },
      "source": [
        "train_generator = train_datagen.flow(\n",
        "            train_images, \n",
        "            train_labels, \n",
        "            batch_size=100)\n",
        "\n",
        "val_generator = test_datagen.flow(\n",
        "            val_images, \n",
        "            val_labels, \n",
        "            batch_size=100)"
      ],
      "execution_count": 0,
      "outputs": []
    },
    {
      "cell_type": "code",
      "metadata": {
        "id": "UNuMglGe6b0N",
        "colab_type": "code",
        "outputId": "58a1463f-8d81-4473-d776-c60cf4e72d13",
        "colab": {
          "base_uri": "https://localhost:8080/",
          "height": 53
        }
      },
      "source": [
        "for data_batch, labels_batch in train_generator:\n",
        "    print('data batch shape:', data_batch.shape)\n",
        "    print('labels batch shape:', labels_batch.shape)\n",
        "    break"
      ],
      "execution_count": 0,
      "outputs": [
        {
          "output_type": "stream",
          "text": [
            "data batch shape: (100, 28, 28, 1)\n",
            "labels batch shape: (100,)\n"
          ],
          "name": "stdout"
        }
      ]
    },
    {
      "cell_type": "code",
      "metadata": {
        "id": "qFSvWBMd6b0O",
        "colab_type": "code",
        "outputId": "e1a773c0-669e-45b1-c0e2-a3ed7192a2c0",
        "colab": {
          "base_uri": "https://localhost:8080/",
          "height": 53
        }
      },
      "source": [
        "for data_batch, labels_batch in val_generator:\n",
        "    print('data batch shape:', data_batch.shape)\n",
        "    print('labels batch shape:', labels_batch.shape)\n",
        "    break"
      ],
      "execution_count": 0,
      "outputs": [
        {
          "output_type": "stream",
          "text": [
            "data batch shape: (100, 28, 28, 1)\n",
            "labels batch shape: (100,)\n"
          ],
          "name": "stdout"
        }
      ]
    },
    {
      "cell_type": "code",
      "metadata": {
        "id": "lvB_8G1K6b0R",
        "colab_type": "code",
        "colab": {}
      },
      "source": [
        "steps_per_epoch = len(train_images) /100,\n",
        "validation_steps = len(val_images) /100"
      ],
      "execution_count": 0,
      "outputs": []
    },
    {
      "cell_type": "code",
      "metadata": {
        "id": "oQU0oMw26b0V",
        "colab_type": "code",
        "outputId": "557187ec-901d-4533-e322-2a6574676dec",
        "colab": {
          "base_uri": "https://localhost:8080/",
          "height": 770
        }
      },
      "source": [
        "train_rt = TrainRuntimeCallback()\n",
        "history = model_3cdo.fit(\n",
        "      train_generator,\n",
        "      steps_per_epoch = len(train_images) /100,\n",
        "      epochs= 20,\n",
        "      callbacks=[train_rt],\n",
        "      validation_data= val_generator, \n",
        "      validation_steps = len(val_images) /100)\n",
        "\n",
        "# history = model_3c.fit(train_images, train_labels, callbacks=[train_rt], epochs=20, batch_size = 100,\n",
        "#                     validation_data=(val_images, val_labels))\n",
        "\n",
        "# Saving models locally after fitting\n",
        "save_dir = \"results/\"\n",
        "model_name = 'fashion_mnist_model_3cdo_aug.h5'\n",
        "model_path = os.path.join(save_dir, model_name)\n",
        "model_3cdo.save(model_path)\n",
        "print('Saved trained model at %s ' % model_path)\n",
        "print('--------------------------')"
      ],
      "execution_count": 56,
      "outputs": [
        {
          "output_type": "stream",
          "text": [
            "Epoch 1/20\n",
            "550/550 [==============================] - 13s 24ms/step - loss: 1.8783 - accuracy: 0.3023 - val_loss: 1.4234 - val_accuracy: 0.4438\n",
            "Epoch 2/20\n",
            "550/550 [==============================] - 14s 25ms/step - loss: 1.5245 - accuracy: 0.4414 - val_loss: 1.1126 - val_accuracy: 0.6140\n",
            "Epoch 3/20\n",
            "550/550 [==============================] - 14s 25ms/step - loss: 1.3878 - accuracy: 0.4899 - val_loss: 0.9832 - val_accuracy: 0.6590\n",
            "Epoch 4/20\n",
            "550/550 [==============================] - 14s 25ms/step - loss: 1.3101 - accuracy: 0.5161 - val_loss: 0.9435 - val_accuracy: 0.6616\n",
            "Epoch 5/20\n",
            "550/550 [==============================] - 14s 25ms/step - loss: 1.2522 - accuracy: 0.5378 - val_loss: 0.8869 - val_accuracy: 0.6784\n",
            "Epoch 6/20\n",
            "550/550 [==============================] - 14s 25ms/step - loss: 1.2165 - accuracy: 0.5509 - val_loss: 0.8639 - val_accuracy: 0.7036\n",
            "Epoch 7/20\n",
            "550/550 [==============================] - 14s 25ms/step - loss: 1.1755 - accuracy: 0.5653 - val_loss: 0.8246 - val_accuracy: 0.7060\n",
            "Epoch 8/20\n",
            "550/550 [==============================] - 14s 25ms/step - loss: 1.1485 - accuracy: 0.5747 - val_loss: 0.7988 - val_accuracy: 0.7196\n",
            "Epoch 9/20\n",
            "550/550 [==============================] - 14s 25ms/step - loss: 1.1302 - accuracy: 0.5835 - val_loss: 0.7826 - val_accuracy: 0.7328\n",
            "Epoch 10/20\n",
            "550/550 [==============================] - 14s 25ms/step - loss: 1.1033 - accuracy: 0.5889 - val_loss: 0.7745 - val_accuracy: 0.7242\n",
            "Epoch 11/20\n",
            "550/550 [==============================] - 14s 25ms/step - loss: 1.0922 - accuracy: 0.5945 - val_loss: 0.7673 - val_accuracy: 0.7210\n",
            "Epoch 12/20\n",
            "550/550 [==============================] - 14s 25ms/step - loss: 1.0726 - accuracy: 0.5992 - val_loss: 0.7481 - val_accuracy: 0.7270\n",
            "Epoch 13/20\n",
            "550/550 [==============================] - 14s 25ms/step - loss: 1.0637 - accuracy: 0.6017 - val_loss: 0.7567 - val_accuracy: 0.7328\n",
            "Epoch 14/20\n",
            "550/550 [==============================] - 14s 25ms/step - loss: 1.0499 - accuracy: 0.6091 - val_loss: 0.7326 - val_accuracy: 0.7274\n",
            "Epoch 15/20\n",
            "550/550 [==============================] - 14s 25ms/step - loss: 1.0341 - accuracy: 0.6119 - val_loss: 0.7301 - val_accuracy: 0.7356\n",
            "Epoch 16/20\n",
            "550/550 [==============================] - 14s 25ms/step - loss: 1.0257 - accuracy: 0.6158 - val_loss: 0.7232 - val_accuracy: 0.7318\n",
            "Epoch 17/20\n",
            "550/550 [==============================] - 14s 25ms/step - loss: 1.0123 - accuracy: 0.6203 - val_loss: 0.7028 - val_accuracy: 0.7456\n",
            "Epoch 18/20\n",
            "550/550 [==============================] - 14s 25ms/step - loss: 1.0063 - accuracy: 0.6242 - val_loss: 0.6994 - val_accuracy: 0.7316\n",
            "Epoch 19/20\n",
            "550/550 [==============================] - 14s 25ms/step - loss: 0.9964 - accuracy: 0.6275 - val_loss: 0.6972 - val_accuracy: 0.7428\n",
            "Epoch 20/20\n",
            "550/550 [==============================] - 14s 25ms/step - loss: 0.9866 - accuracy: 0.6328 - val_loss: 0.7134 - val_accuracy: 0.7226\n",
            "Saved trained model at results/fashion_mnist_model_3cdo_aug.h5 \n",
            "--------------------------\n"
          ],
          "name": "stdout"
        }
      ]
    },
    {
      "cell_type": "code",
      "metadata": {
        "id": "SJ6dncwB6b0i",
        "colab_type": "code",
        "outputId": "f4fb0880-a3fc-40ab-d1d5-3b0caeda78e3",
        "colab": {
          "base_uri": "https://localhost:8080/",
          "height": 35
        }
      },
      "source": [
        "# Get the training time\n",
        "train_time = train_rt.process_time\n",
        "train_time # in seconds"
      ],
      "execution_count": 57,
      "outputs": [
        {
          "output_type": "execute_result",
          "data": {
            "text/plain": [
              "274.081636"
            ]
          },
          "metadata": {
            "tags": []
          },
          "execution_count": 57
        }
      ]
    },
    {
      "cell_type": "markdown",
      "metadata": {
        "id": "EBTPNbSD6b0k",
        "colab_type": "text"
      },
      "source": [
        "## Testing the model\n",
        "\n",
        "Evaluate the model on the test dataset using a callback to get the total test time."
      ]
    },
    {
      "cell_type": "code",
      "metadata": {
        "id": "x31Uc8f-6b0k",
        "colab_type": "code",
        "outputId": "a3b70b24-5fd5-4062-bfa8-598ba5ac991b",
        "colab": {
          "base_uri": "https://localhost:8080/",
          "height": 35
        }
      },
      "source": [
        "test_rt = TestRuntimeCallback()\n",
        "test_loss, test_acc = model_3cdo.evaluate(test_images, test_labels, callbacks=[test_rt])"
      ],
      "execution_count": 58,
      "outputs": [
        {
          "output_type": "stream",
          "text": [
            "313/313 [==============================] - 1s 2ms/step - loss: 172.3851 - accuracy: 0.3843\n"
          ],
          "name": "stdout"
        }
      ]
    },
    {
      "cell_type": "code",
      "metadata": {
        "id": "_btH2GGv6b0l",
        "colab_type": "code",
        "outputId": "5126a0c3-a166-47b6-bd46-e344fb6a0409",
        "colab": {
          "base_uri": "https://localhost:8080/",
          "height": 35
        }
      },
      "source": [
        "# Get the test time\n",
        "test_time = test_rt.process_time\n",
        "test_time # in seconds"
      ],
      "execution_count": 59,
      "outputs": [
        {
          "output_type": "execute_result",
          "data": {
            "text/plain": [
              "0.759575"
            ]
          },
          "metadata": {
            "tags": []
          },
          "execution_count": 59
        }
      ]
    },
    {
      "cell_type": "markdown",
      "metadata": {
        "id": "Dhdf8sP36b0m",
        "colab_type": "text"
      },
      "source": [
        "## Create a DataFrame for the training and test statistics\n",
        "\n",
        "We will create a new DataFrame to hold the training/test times and their accuracy and loss values of the current model. We then \"unpickle\" the DataFrame from the previous notebook and append the new DataFrame to it. \n",
        "\n",
        "The resulting DataFrame will hold the statistics for all the models we have worked with so far."
      ]
    },
    {
      "cell_type": "code",
      "metadata": {
        "id": "quU6L2b66b0n",
        "colab_type": "code",
        "outputId": "28f2046f-22f2-407c-aff8-f8d5cc7be895",
        "colab": {
          "base_uri": "https://localhost:8080/",
          "height": 35
        }
      },
      "source": [
        "history_dict = history.history\n",
        "history_dict.keys()"
      ],
      "execution_count": 60,
      "outputs": [
        {
          "output_type": "execute_result",
          "data": {
            "text/plain": [
              "dict_keys(['loss', 'accuracy', 'val_loss', 'val_accuracy'])"
            ]
          },
          "metadata": {
            "tags": []
          },
          "execution_count": 60
        }
      ]
    },
    {
      "cell_type": "code",
      "metadata": {
        "id": "bSC2gBRv6b0p",
        "colab_type": "code",
        "outputId": "c7fa9824-8c51-4815-b525-ec2989859618",
        "colab": {
          "base_uri": "https://localhost:8080/",
          "height": 206
        }
      },
      "source": [
        "history_df=pd.DataFrame(history_dict)\n",
        "history_df.tail()"
      ],
      "execution_count": 61,
      "outputs": [
        {
          "output_type": "execute_result",
          "data": {
            "text/html": [
              "<div>\n",
              "<style scoped>\n",
              "    .dataframe tbody tr th:only-of-type {\n",
              "        vertical-align: middle;\n",
              "    }\n",
              "\n",
              "    .dataframe tbody tr th {\n",
              "        vertical-align: top;\n",
              "    }\n",
              "\n",
              "    .dataframe thead th {\n",
              "        text-align: right;\n",
              "    }\n",
              "</style>\n",
              "<table border=\"1\" class=\"dataframe\">\n",
              "  <thead>\n",
              "    <tr style=\"text-align: right;\">\n",
              "      <th></th>\n",
              "      <th>loss</th>\n",
              "      <th>accuracy</th>\n",
              "      <th>val_loss</th>\n",
              "      <th>val_accuracy</th>\n",
              "    </tr>\n",
              "  </thead>\n",
              "  <tbody>\n",
              "    <tr>\n",
              "      <th>15</th>\n",
              "      <td>1.025672</td>\n",
              "      <td>0.615764</td>\n",
              "      <td>0.723242</td>\n",
              "      <td>0.7318</td>\n",
              "    </tr>\n",
              "    <tr>\n",
              "      <th>16</th>\n",
              "      <td>1.012316</td>\n",
              "      <td>0.620309</td>\n",
              "      <td>0.702840</td>\n",
              "      <td>0.7456</td>\n",
              "    </tr>\n",
              "    <tr>\n",
              "      <th>17</th>\n",
              "      <td>1.006343</td>\n",
              "      <td>0.624200</td>\n",
              "      <td>0.699430</td>\n",
              "      <td>0.7316</td>\n",
              "    </tr>\n",
              "    <tr>\n",
              "      <th>18</th>\n",
              "      <td>0.996438</td>\n",
              "      <td>0.627527</td>\n",
              "      <td>0.697162</td>\n",
              "      <td>0.7428</td>\n",
              "    </tr>\n",
              "    <tr>\n",
              "      <th>19</th>\n",
              "      <td>0.986620</td>\n",
              "      <td>0.632764</td>\n",
              "      <td>0.713365</td>\n",
              "      <td>0.7226</td>\n",
              "    </tr>\n",
              "  </tbody>\n",
              "</table>\n",
              "</div>"
            ],
            "text/plain": [
              "        loss  accuracy  val_loss  val_accuracy\n",
              "15  1.025672  0.615764  0.723242        0.7318\n",
              "16  1.012316  0.620309  0.702840        0.7456\n",
              "17  1.006343  0.624200  0.699430        0.7316\n",
              "18  0.996438  0.627527  0.697162        0.7428\n",
              "19  0.986620  0.632764  0.713365        0.7226"
            ]
          },
          "metadata": {
            "tags": []
          },
          "execution_count": 61
        }
      ]
    },
    {
      "cell_type": "code",
      "metadata": {
        "id": "_xvW2_To6b0p",
        "colab_type": "code",
        "outputId": "4ea3658d-08b3-479a-c4dc-25304054e896",
        "colab": {
          "base_uri": "https://localhost:8080/",
          "height": 81
        }
      },
      "source": [
        "# Pull statistics \n",
        "# Pull statistics \n",
        "results_df3c = history_df.iloc[-1:].copy()\n",
        "results_df3c.insert(0,'model','CNN (2 layers aug DO)') # want the model name to appear first\n",
        "results_df3c['training time (sec)'] = train_time      # we are okay with training time appearing last\n",
        "results_df3c['testing time (sec)'] = test_time      # we are okay with training time appearing last\n",
        "results_df3c"
      ],
      "execution_count": 62,
      "outputs": [
        {
          "output_type": "execute_result",
          "data": {
            "text/html": [
              "<div>\n",
              "<style scoped>\n",
              "    .dataframe tbody tr th:only-of-type {\n",
              "        vertical-align: middle;\n",
              "    }\n",
              "\n",
              "    .dataframe tbody tr th {\n",
              "        vertical-align: top;\n",
              "    }\n",
              "\n",
              "    .dataframe thead th {\n",
              "        text-align: right;\n",
              "    }\n",
              "</style>\n",
              "<table border=\"1\" class=\"dataframe\">\n",
              "  <thead>\n",
              "    <tr style=\"text-align: right;\">\n",
              "      <th></th>\n",
              "      <th>model</th>\n",
              "      <th>loss</th>\n",
              "      <th>accuracy</th>\n",
              "      <th>val_loss</th>\n",
              "      <th>val_accuracy</th>\n",
              "      <th>training time (sec)</th>\n",
              "      <th>testing time (sec)</th>\n",
              "    </tr>\n",
              "  </thead>\n",
              "  <tbody>\n",
              "    <tr>\n",
              "      <th>19</th>\n",
              "      <td>CNN (2 layers aug DO)</td>\n",
              "      <td>0.98662</td>\n",
              "      <td>0.632764</td>\n",
              "      <td>0.713365</td>\n",
              "      <td>0.7226</td>\n",
              "      <td>274.081636</td>\n",
              "      <td>0.759575</td>\n",
              "    </tr>\n",
              "  </tbody>\n",
              "</table>\n",
              "</div>"
            ],
            "text/plain": [
              "                    model     loss  ...  training time (sec)  testing time (sec)\n",
              "19  CNN (2 layers aug DO)  0.98662  ...           274.081636            0.759575\n",
              "\n",
              "[1 rows x 7 columns]"
            ]
          },
          "metadata": {
            "tags": []
          },
          "execution_count": 62
        }
      ]
    },
    {
      "cell_type": "code",
      "metadata": {
        "id": "LLHTpoRB6b0r",
        "colab_type": "code",
        "colab": {}
      },
      "source": [
        "# Combine with previous results\n",
        "# prev_results_df = pd.read_pickle('results.pkl')\n",
        "# results_df = results_df.append(results_df3a,ignore_index=True)\n",
        "# results_df = results_df.append(results_df3b,ignore_index=True)\n",
        "# results_df"
      ],
      "execution_count": 0,
      "outputs": []
    },
    {
      "cell_type": "markdown",
      "metadata": {
        "id": "yosoUdoI6b0s",
        "colab_type": "text"
      },
      "source": [
        "## Plot the performance "
      ]
    },
    {
      "cell_type": "markdown",
      "metadata": {
        "id": "G_dxCGF06b0s",
        "colab_type": "text"
      },
      "source": [
        "**Figure 5: Learning curves for Model 3c with dropout**"
      ]
    },
    {
      "cell_type": "code",
      "metadata": {
        "scrolled": true,
        "id": "ETNlOG-k6b0t",
        "colab_type": "code",
        "outputId": "554af72b-1507-4148-f43c-66a986628330",
        "colab": {
          "base_uri": "https://localhost:8080/",
          "height": 320
        }
      },
      "source": [
        "# Plot learning curves for model\n",
        "pd.DataFrame(history.history).plot(figsize=(8, 5))\n",
        "plt.grid(True)\n",
        "plt.gca().set_ylim(0, 1.5) # set the vertical range to [0-1]\n",
        "plt.savefig(\"figures/learning_curves_model_3c_augdo\", tight_layout=False)\n",
        "plt.show()"
      ],
      "execution_count": 64,
      "outputs": [
        {
          "output_type": "display_data",
          "data": {
            "image/png": "[encoded data removed]",
            "text/plain": [
              "<Figure size 576x360 with 1 Axes>"
            ]
          },
          "metadata": {
            "tags": [],
            "needs_background": "light"
          }
        }
      ]
    },
    {
      "cell_type": "markdown",
      "metadata": {
        "id": "l0FNUsC36b0u",
        "colab_type": "text"
      },
      "source": [
        "# EXPERIMENT 4\n",
        "We create a `CNN` with 3 convolution/max pooling layers (**with drop out**) to work with our Fashion MNIST dataset. The experiment compares performance using L2 regularization in the convolutional layers. Image augmentation is not employed."
      ]
    },
    {
      "cell_type": "markdown",
      "metadata": {
        "id": "A7_wHEI56b0u",
        "colab_type": "text"
      },
      "source": [
        "## Model 4a: baseline CNN with 3 layers (no L2 regularization)"
      ]
    },
    {
      "cell_type": "code",
      "metadata": {
        "id": "Iu6IXRte6b0u",
        "colab_type": "code",
        "colab": {}
      },
      "source": [
        "model_4ado = models.Sequential()\n",
        "model_4ado.add(layers.Conv2D(32, (3, 3), activation='relu', input_shape=(28, 28, 1)))\n",
        "model_4ado.add(layers.MaxPooling2D((2, 2)))\n",
        "model_4ado.add(layers.Dropout(0.2))\n",
        "model_4ado.add(layers.Conv2D(64, (3, 3), activation='relu'))\n",
        "model_4ado.add(layers.MaxPooling2D((2, 2)))\n",
        "model_4ado.add(layers.Dropout(0.2))\n",
        "model_4ado.add(layers.Conv2D(64, (3, 3), activation='relu'))\n",
        "model_4ado.add(layers.Dropout(0.2))\n",
        "model_4ado.add(layers.Flatten())\n",
        "model_4ado.add(layers.Dense(64, activation='relu'))\n",
        "model_4ado.add(layers.Dense(10, activation='softmax'))"
      ],
      "execution_count": 0,
      "outputs": []
    },
    {
      "cell_type": "code",
      "metadata": {
        "id": "gjna4dCs6b0x",
        "colab_type": "code",
        "outputId": "106ec20d-b184-4526-edf5-067c44f327dd",
        "colab": {
          "base_uri": "https://localhost:8080/",
          "height": 555
        }
      },
      "source": [
        "model_4ado.summary()"
      ],
      "execution_count": 0,
      "outputs": [
        {
          "output_type": "stream",
          "text": [
            "Model: \"sequential_6\"\n",
            "_________________________________________________________________\n",
            "Layer (type)                 Output Shape              Param #   \n",
            "=================================================================\n",
            "conv2d_6 (Conv2D)            (None, 26, 26, 32)        320       \n",
            "_________________________________________________________________\n",
            "max_pooling2d_6 (MaxPooling2 (None, 13, 13, 32)        0         \n",
            "_________________________________________________________________\n",
            "dropout_9 (Dropout)          (None, 13, 13, 32)        0         \n",
            "_________________________________________________________________\n",
            "conv2d_7 (Conv2D)            (None, 11, 11, 64)        18496     \n",
            "_________________________________________________________________\n",
            "max_pooling2d_7 (MaxPooling2 (None, 5, 5, 64)          0         \n",
            "_________________________________________________________________\n",
            "dropout_10 (Dropout)         (None, 5, 5, 64)          0         \n",
            "_________________________________________________________________\n",
            "conv2d_8 (Conv2D)            (None, 3, 3, 64)          36928     \n",
            "_________________________________________________________________\n",
            "dropout_11 (Dropout)         (None, 3, 3, 64)          0         \n",
            "_________________________________________________________________\n",
            "flatten_3 (Flatten)          (None, 576)               0         \n",
            "_________________________________________________________________\n",
            "dense_12 (Dense)             (None, 64)                36928     \n",
            "_________________________________________________________________\n",
            "dense_13 (Dense)             (None, 10)                650       \n",
            "=================================================================\n",
            "Total params: 93,322\n",
            "Trainable params: 93,322\n",
            "Non-trainable params: 0\n",
            "_________________________________________________________________\n"
          ],
          "name": "stdout"
        }
      ]
    },
    {
      "cell_type": "code",
      "metadata": {
        "id": "3J1YlNED6b0y",
        "colab_type": "code",
        "outputId": "4b1023da-4da7-45df-8748-815838f2ab05",
        "colab": {
          "base_uri": "https://localhost:8080/",
          "height": 1000
        }
      },
      "source": [
        "keras.utils.plot_model(model_4ado, show_shapes=True)"
      ],
      "execution_count": 0,
      "outputs": [
        {
          "output_type": "execute_result",
          "data": {
            "image/png": "[encoded data removed]",
            "text/plain": [
              "<IPython.core.display.Image object>"
            ]
          },
          "metadata": {
            "tags": []
          },
          "execution_count": 104
        }
      ]
    },
    {
      "cell_type": "markdown",
      "metadata": {
        "id": "PV4Hcv9m6b00",
        "colab_type": "text"
      },
      "source": [
        "## Compile the model"
      ]
    },
    {
      "cell_type": "code",
      "metadata": {
        "id": "_DLf4QV_6b00",
        "colab_type": "code",
        "colab": {}
      },
      "source": [
        "model_4ado.compile(optimizer='adam',\n",
        "                loss='sparse_categorical_crossentropy',\n",
        "                metrics=['accuracy'])"
      ],
      "execution_count": 0,
      "outputs": []
    },
    {
      "cell_type": "markdown",
      "metadata": {
        "id": "c6I36KCk6b01",
        "colab_type": "text"
      },
      "source": [
        "## Train the model\n",
        "\n",
        "We are now ready to train our network, which in Keras is done via a call to the `fit` method of the network: \n",
        "we \"fit\" the model to its training data. We train the model for 20 epochs with batch size 100. Also we pass the method the callback object we create to get the total training time."
      ]
    },
    {
      "cell_type": "code",
      "metadata": {
        "id": "Wb3gahIA6b01",
        "colab_type": "code",
        "outputId": "0ca59645-a2ba-477e-ab8f-fc50b361e936",
        "colab": {
          "base_uri": "https://localhost:8080/",
          "height": 770
        }
      },
      "source": [
        "train_rt = TrainRuntimeCallback()\n",
        "history = model_4ado.fit(train_images, train_labels, callbacks=[train_rt], epochs=20, batch_size = 100,\n",
        "                    validation_data=(val_images, val_labels))\n",
        "\n",
        "# Saving models locally after fitting\n",
        "save_dir = \"results/\"\n",
        "model_name = 'fashion_mnist_model_4ado.h5'\n",
        "model_path = os.path.join(save_dir, model_name)\n",
        "model_4ado.save(model_path)\n",
        "print('Saved trained model at %s ' % model_path)\n",
        "print('--------------------------')"
      ],
      "execution_count": 67,
      "outputs": [
        {
          "output_type": "stream",
          "text": [
            "Epoch 1/20\n",
            "550/550 [==============================] - 2s 4ms/step - loss: 0.6897 - accuracy: 0.7399 - val_loss: 0.4274 - val_accuracy: 0.8460\n",
            "Epoch 2/20\n",
            "550/550 [==============================] - 2s 4ms/step - loss: 0.4305 - accuracy: 0.8429 - val_loss: 0.3584 - val_accuracy: 0.8710\n",
            "Epoch 3/20\n",
            "550/550 [==============================] - 2s 4ms/step - loss: 0.3690 - accuracy: 0.8653 - val_loss: 0.3088 - val_accuracy: 0.8890\n",
            "Epoch 4/20\n",
            "550/550 [==============================] - 2s 4ms/step - loss: 0.3388 - accuracy: 0.8745 - val_loss: 0.2786 - val_accuracy: 0.8980\n",
            "Epoch 5/20\n",
            "550/550 [==============================] - 2s 4ms/step - loss: 0.3155 - accuracy: 0.8831 - val_loss: 0.2731 - val_accuracy: 0.8962\n",
            "Epoch 6/20\n",
            "550/550 [==============================] - 2s 4ms/step - loss: 0.2993 - accuracy: 0.8894 - val_loss: 0.2692 - val_accuracy: 0.9006\n",
            "Epoch 7/20\n",
            "550/550 [==============================] - 2s 4ms/step - loss: 0.2864 - accuracy: 0.8927 - val_loss: 0.2464 - val_accuracy: 0.9108\n",
            "Epoch 8/20\n",
            "550/550 [==============================] - 2s 4ms/step - loss: 0.2733 - accuracy: 0.8979 - val_loss: 0.2480 - val_accuracy: 0.9052\n",
            "Epoch 9/20\n",
            "550/550 [==============================] - 2s 4ms/step - loss: 0.2650 - accuracy: 0.9014 - val_loss: 0.2388 - val_accuracy: 0.9124\n",
            "Epoch 10/20\n",
            "550/550 [==============================] - 2s 4ms/step - loss: 0.2536 - accuracy: 0.9046 - val_loss: 0.2327 - val_accuracy: 0.9142\n",
            "Epoch 11/20\n",
            "550/550 [==============================] - 2s 4ms/step - loss: 0.2477 - accuracy: 0.9075 - val_loss: 0.2267 - val_accuracy: 0.9138\n",
            "Epoch 12/20\n",
            "550/550 [==============================] - 2s 4ms/step - loss: 0.2407 - accuracy: 0.9106 - val_loss: 0.2356 - val_accuracy: 0.9074\n",
            "Epoch 13/20\n",
            "550/550 [==============================] - 2s 4ms/step - loss: 0.2348 - accuracy: 0.9126 - val_loss: 0.2159 - val_accuracy: 0.9182\n",
            "Epoch 14/20\n",
            "550/550 [==============================] - 2s 4ms/step - loss: 0.2311 - accuracy: 0.9134 - val_loss: 0.2252 - val_accuracy: 0.9144\n",
            "Epoch 15/20\n",
            "550/550 [==============================] - 2s 4ms/step - loss: 0.2232 - accuracy: 0.9159 - val_loss: 0.2193 - val_accuracy: 0.9184\n",
            "Epoch 16/20\n",
            "550/550 [==============================] - 2s 4ms/step - loss: 0.2214 - accuracy: 0.9166 - val_loss: 0.2142 - val_accuracy: 0.9218\n",
            "Epoch 17/20\n",
            "550/550 [==============================] - 2s 4ms/step - loss: 0.2173 - accuracy: 0.9188 - val_loss: 0.2212 - val_accuracy: 0.9154\n",
            "Epoch 18/20\n",
            "550/550 [==============================] - 2s 4ms/step - loss: 0.2136 - accuracy: 0.9197 - val_loss: 0.2081 - val_accuracy: 0.9244\n",
            "Epoch 19/20\n",
            "550/550 [==============================] - 2s 4ms/step - loss: 0.2074 - accuracy: 0.9218 - val_loss: 0.2144 - val_accuracy: 0.9234\n",
            "Epoch 20/20\n",
            "550/550 [==============================] - 2s 4ms/step - loss: 0.2043 - accuracy: 0.9223 - val_loss: 0.2130 - val_accuracy: 0.9220\n",
            "Saved trained model at results/fashion_mnist_model_4ado.h5 \n",
            "--------------------------\n"
          ],
          "name": "stdout"
        }
      ]
    },
    {
      "cell_type": "code",
      "metadata": {
        "id": "WI3yK5C-6b03",
        "colab_type": "code",
        "outputId": "c6e6d57a-78ed-4e10-8769-61843de3cace",
        "colab": {
          "base_uri": "https://localhost:8080/",
          "height": 35
        }
      },
      "source": [
        "# Get the training time\n",
        "train_time = train_rt.process_time\n",
        "train_time # in seconds"
      ],
      "execution_count": 68,
      "outputs": [
        {
          "output_type": "execute_result",
          "data": {
            "text/plain": [
              "41.460279"
            ]
          },
          "metadata": {
            "tags": []
          },
          "execution_count": 68
        }
      ]
    },
    {
      "cell_type": "markdown",
      "metadata": {
        "id": "ArsrgzTG6b05",
        "colab_type": "text"
      },
      "source": [
        "## Testing the model\n",
        "\n",
        "Evaluate the model on the test dataset using a callback to get the total test time."
      ]
    },
    {
      "cell_type": "code",
      "metadata": {
        "id": "UouZu4VM6b06",
        "colab_type": "code",
        "outputId": "4b7183e6-7b5a-4f95-b41d-1576dae0968a",
        "colab": {
          "base_uri": "https://localhost:8080/",
          "height": 35
        }
      },
      "source": [
        "test_rt = TestRuntimeCallback()\n",
        "test_loss, test_acc = model_4ado.evaluate(test_images, test_labels, callbacks=[test_rt])"
      ],
      "execution_count": 69,
      "outputs": [
        {
          "output_type": "stream",
          "text": [
            "313/313 [==============================] - 1s 2ms/step - loss: 0.2424 - accuracy: 0.9106\n"
          ],
          "name": "stdout"
        }
      ]
    },
    {
      "cell_type": "code",
      "metadata": {
        "id": "vRnT1yTO6b09",
        "colab_type": "code",
        "outputId": "79c8ebc5-5717-4001-c600-de6a84dd564f",
        "colab": {
          "base_uri": "https://localhost:8080/",
          "height": 35
        }
      },
      "source": [
        "# Get the test time\n",
        "test_time = test_rt.process_time\n",
        "test_time # in seconds"
      ],
      "execution_count": 70,
      "outputs": [
        {
          "output_type": "execute_result",
          "data": {
            "text/plain": [
              "0.794109"
            ]
          },
          "metadata": {
            "tags": []
          },
          "execution_count": 70
        }
      ]
    },
    {
      "cell_type": "markdown",
      "metadata": {
        "id": "HRrhYpFB6b0_",
        "colab_type": "text"
      },
      "source": [
        "## Create a DataFrame for the training and test statistics\n",
        "\n",
        "We will create a new DataFrame to hold the training/test times and their accuracy and loss values of the current model. We then \"unpickle\" the DataFrame from the previous notebook and append the new DataFrame to it. \n",
        "\n",
        "The resulting DataFrame will hold the statistics for all the models we have worked with so far."
      ]
    },
    {
      "cell_type": "code",
      "metadata": {
        "id": "wnSD4eh86b0_",
        "colab_type": "code",
        "outputId": "b317cde6-74bf-4665-a279-8f52c2a11e5b",
        "colab": {
          "base_uri": "https://localhost:8080/",
          "height": 35
        }
      },
      "source": [
        "history_dict = history.history\n",
        "history_dict.keys()"
      ],
      "execution_count": 71,
      "outputs": [
        {
          "output_type": "execute_result",
          "data": {
            "text/plain": [
              "dict_keys(['loss', 'accuracy', 'val_loss', 'val_accuracy'])"
            ]
          },
          "metadata": {
            "tags": []
          },
          "execution_count": 71
        }
      ]
    },
    {
      "cell_type": "code",
      "metadata": {
        "id": "t6hqBicI6b1A",
        "colab_type": "code",
        "outputId": "7ec38c70-7887-490e-f3df-82b7b3c8ba76",
        "colab": {
          "base_uri": "https://localhost:8080/",
          "height": 206
        }
      },
      "source": [
        "history_df=pd.DataFrame(history_dict)\n",
        "history_df.tail()"
      ],
      "execution_count": 72,
      "outputs": [
        {
          "output_type": "execute_result",
          "data": {
            "text/html": [
              "<div>\n",
              "<style scoped>\n",
              "    .dataframe tbody tr th:only-of-type {\n",
              "        vertical-align: middle;\n",
              "    }\n",
              "\n",
              "    .dataframe tbody tr th {\n",
              "        vertical-align: top;\n",
              "    }\n",
              "\n",
              "    .dataframe thead th {\n",
              "        text-align: right;\n",
              "    }\n",
              "</style>\n",
              "<table border=\"1\" class=\"dataframe\">\n",
              "  <thead>\n",
              "    <tr style=\"text-align: right;\">\n",
              "      <th></th>\n",
              "      <th>loss</th>\n",
              "      <th>accuracy</th>\n",
              "      <th>val_loss</th>\n",
              "      <th>val_accuracy</th>\n",
              "    </tr>\n",
              "  </thead>\n",
              "  <tbody>\n",
              "    <tr>\n",
              "      <th>15</th>\n",
              "      <td>0.221353</td>\n",
              "      <td>0.916636</td>\n",
              "      <td>0.214229</td>\n",
              "      <td>0.9218</td>\n",
              "    </tr>\n",
              "    <tr>\n",
              "      <th>16</th>\n",
              "      <td>0.217287</td>\n",
              "      <td>0.918800</td>\n",
              "      <td>0.221239</td>\n",
              "      <td>0.9154</td>\n",
              "    </tr>\n",
              "    <tr>\n",
              "      <th>17</th>\n",
              "      <td>0.213589</td>\n",
              "      <td>0.919709</td>\n",
              "      <td>0.208089</td>\n",
              "      <td>0.9244</td>\n",
              "    </tr>\n",
              "    <tr>\n",
              "      <th>18</th>\n",
              "      <td>0.207445</td>\n",
              "      <td>0.921818</td>\n",
              "      <td>0.214433</td>\n",
              "      <td>0.9234</td>\n",
              "    </tr>\n",
              "    <tr>\n",
              "      <th>19</th>\n",
              "      <td>0.204254</td>\n",
              "      <td>0.922327</td>\n",
              "      <td>0.212962</td>\n",
              "      <td>0.9220</td>\n",
              "    </tr>\n",
              "  </tbody>\n",
              "</table>\n",
              "</div>"
            ],
            "text/plain": [
              "        loss  accuracy  val_loss  val_accuracy\n",
              "15  0.221353  0.916636  0.214229        0.9218\n",
              "16  0.217287  0.918800  0.221239        0.9154\n",
              "17  0.213589  0.919709  0.208089        0.9244\n",
              "18  0.207445  0.921818  0.214433        0.9234\n",
              "19  0.204254  0.922327  0.212962        0.9220"
            ]
          },
          "metadata": {
            "tags": []
          },
          "execution_count": 72
        }
      ]
    },
    {
      "cell_type": "code",
      "metadata": {
        "id": "iksZ5x3G6b1B",
        "colab_type": "code",
        "outputId": "e0d8782e-3511-44f8-ca8c-c613a2b4c4b0",
        "colab": {
          "base_uri": "https://localhost:8080/",
          "height": 81
        }
      },
      "source": [
        "# Pull statistics \n",
        "# Pull statistics \n",
        "results_df4a = history_df.iloc[-1:].copy()\n",
        "results_df4a.insert(0,'model','CNN (3 layers DO)') # want the model name to appear first\n",
        "results_df4a['training time (sec)'] = train_time      # we are okay with training time appearing last\n",
        "results_df4a['testing time (sec)'] = test_time      # we are okay with training time appearing last\n",
        "results_df4a"
      ],
      "execution_count": 73,
      "outputs": [
        {
          "output_type": "execute_result",
          "data": {
            "text/html": [
              "<div>\n",
              "<style scoped>\n",
              "    .dataframe tbody tr th:only-of-type {\n",
              "        vertical-align: middle;\n",
              "    }\n",
              "\n",
              "    .dataframe tbody tr th {\n",
              "        vertical-align: top;\n",
              "    }\n",
              "\n",
              "    .dataframe thead th {\n",
              "        text-align: right;\n",
              "    }\n",
              "</style>\n",
              "<table border=\"1\" class=\"dataframe\">\n",
              "  <thead>\n",
              "    <tr style=\"text-align: right;\">\n",
              "      <th></th>\n",
              "      <th>model</th>\n",
              "      <th>loss</th>\n",
              "      <th>accuracy</th>\n",
              "      <th>val_loss</th>\n",
              "      <th>val_accuracy</th>\n",
              "      <th>training time (sec)</th>\n",
              "      <th>testing time (sec)</th>\n",
              "    </tr>\n",
              "  </thead>\n",
              "  <tbody>\n",
              "    <tr>\n",
              "      <th>19</th>\n",
              "      <td>CNN (3 layers DO)</td>\n",
              "      <td>0.204254</td>\n",
              "      <td>0.922327</td>\n",
              "      <td>0.212962</td>\n",
              "      <td>0.922</td>\n",
              "      <td>41.460279</td>\n",
              "      <td>0.794109</td>\n",
              "    </tr>\n",
              "  </tbody>\n",
              "</table>\n",
              "</div>"
            ],
            "text/plain": [
              "                model      loss  ...  training time (sec)  testing time (sec)\n",
              "19  CNN (3 layers DO)  0.204254  ...            41.460279            0.794109\n",
              "\n",
              "[1 rows x 7 columns]"
            ]
          },
          "metadata": {
            "tags": []
          },
          "execution_count": 73
        }
      ]
    },
    {
      "cell_type": "code",
      "metadata": {
        "id": "crk--4Rn6b1D",
        "colab_type": "code",
        "colab": {}
      },
      "source": [
        "# Combine with previous results\n",
        "# prev_results_df = pd.read_pickle('results.pkl')\n",
        "# results_df = results_df.append(results_df3a,ignore_index=True)\n",
        "# results_df = results_df.append(results_df3b,ignore_index=True)\n",
        "# results_df"
      ],
      "execution_count": 0,
      "outputs": []
    },
    {
      "cell_type": "markdown",
      "metadata": {
        "id": "SnW5g5xw6b1E",
        "colab_type": "text"
      },
      "source": [
        "## Plot the performance "
      ]
    },
    {
      "cell_type": "markdown",
      "metadata": {
        "id": "enh6yJ6o6b1E",
        "colab_type": "text"
      },
      "source": [
        "**Figure 6: Learning curves for Model 4a with dropout**"
      ]
    },
    {
      "cell_type": "code",
      "metadata": {
        "scrolled": true,
        "id": "c_uGFwQ16b1F",
        "colab_type": "code",
        "outputId": "561c8183-e0ee-4bf1-8938-da62c638dd95",
        "colab": {
          "base_uri": "https://localhost:8080/",
          "height": 324
        }
      },
      "source": [
        "# Plot learning curves for model\n",
        "pd.DataFrame(history.history).plot(figsize=(8, 5))\n",
        "plt.grid(True)\n",
        "plt.gca().set_ylim(0, 1) # set the vertical range to [0-1]\n",
        "plt.savefig(\"figures/learning_curves_model_4ado\", tight_layout=False)\n",
        "plt.show()"
      ],
      "execution_count": 74,
      "outputs": [
        {
          "output_type": "display_data",
          "data": {
            "image/png": "[encoded data removed]",
            "text/plain": [
              "<Figure size 576x360 with 1 Axes>"
            ]
          },
          "metadata": {
            "tags": [],
            "needs_background": "light"
          }
        }
      ]
    },
    {
      "cell_type": "markdown",
      "metadata": {
        "id": "0doRCFPx6b1G",
        "colab_type": "text"
      },
      "source": [
        "## Model 4b:  CNN with 3 layers + L2 regularization"
      ]
    },
    {
      "cell_type": "code",
      "metadata": {
        "id": "wssRi3RI6b1H",
        "colab_type": "code",
        "colab": {}
      },
      "source": [
        "model_4bdo = models.Sequential()\n",
        "model_4bdo.add(layers.Conv2D(32, (3, 3), activation='relu', kernel_regularizer=regularizers.l2(0.01),\n",
        "                           input_shape=(28, 28, 1)))\n",
        "model_4bdo.add(layers.MaxPooling2D((2, 2)))\n",
        "model_4bdo.add(layers.Dropout(0.2))\n",
        "model_4bdo.add(layers.Conv2D(64, (3, 3), activation='relu',  \n",
        "                           kernel_regularizer=regularizers.l2(0.01)))\n",
        "model_4bdo.add(layers.MaxPooling2D((2, 2)))\n",
        "model_4bdo.add(layers.Dropout(0.2))\n",
        "model_4bdo.add(layers.Conv2D(64, (3, 3), activation='relu',\n",
        "                           kernel_regularizer=regularizers.l2(0.01)))\n",
        "model_4bdo.add(layers.Dropout(0.2))\n",
        "model_4bdo.add(layers.Flatten())\n",
        "model_4bdo.add(layers.Dense(64, activation='relu', kernel_regularizer=regularizers.l2(0.01)))\n",
        "model_4bdo.add(layers.Dense(10, activation='softmax'))"
      ],
      "execution_count": 0,
      "outputs": []
    },
    {
      "cell_type": "code",
      "metadata": {
        "id": "OxQ8KEH26b1H",
        "colab_type": "code",
        "outputId": "5a4a634c-ab4b-4bcb-92f0-d78f16668154",
        "colab": {
          "base_uri": "https://localhost:8080/",
          "height": 555
        }
      },
      "source": [
        "model_4bdo.summary()"
      ],
      "execution_count": 0,
      "outputs": [
        {
          "output_type": "stream",
          "text": [
            "Model: \"sequential_7\"\n",
            "_________________________________________________________________\n",
            "Layer (type)                 Output Shape              Param #   \n",
            "=================================================================\n",
            "conv2d_9 (Conv2D)            (None, 26, 26, 32)        320       \n",
            "_________________________________________________________________\n",
            "max_pooling2d_8 (MaxPooling2 (None, 13, 13, 32)        0         \n",
            "_________________________________________________________________\n",
            "dropout_12 (Dropout)         (None, 13, 13, 32)        0         \n",
            "_________________________________________________________________\n",
            "conv2d_10 (Conv2D)           (None, 11, 11, 64)        18496     \n",
            "_________________________________________________________________\n",
            "max_pooling2d_9 (MaxPooling2 (None, 5, 5, 64)          0         \n",
            "_________________________________________________________________\n",
            "dropout_13 (Dropout)         (None, 5, 5, 64)          0         \n",
            "_________________________________________________________________\n",
            "conv2d_11 (Conv2D)           (None, 3, 3, 64)          36928     \n",
            "_________________________________________________________________\n",
            "dropout_14 (Dropout)         (None, 3, 3, 64)          0         \n",
            "_________________________________________________________________\n",
            "flatten_4 (Flatten)          (None, 576)               0         \n",
            "_________________________________________________________________\n",
            "dense_14 (Dense)             (None, 64)                36928     \n",
            "_________________________________________________________________\n",
            "dense_15 (Dense)             (None, 10)                650       \n",
            "=================================================================\n",
            "Total params: 93,322\n",
            "Trainable params: 93,322\n",
            "Non-trainable params: 0\n",
            "_________________________________________________________________\n"
          ],
          "name": "stdout"
        }
      ]
    },
    {
      "cell_type": "code",
      "metadata": {
        "id": "42i682zO6b1J",
        "colab_type": "code",
        "outputId": "63bdb2ae-8c64-4a31-ba16-eec485257853",
        "colab": {
          "base_uri": "https://localhost:8080/",
          "height": 1000
        }
      },
      "source": [
        "keras.utils.plot_model(model_4bdo, show_shapes=True)"
      ],
      "execution_count": 0,
      "outputs": [
        {
          "output_type": "execute_result",
          "data": {
            "image/png": "[encoded data removed]",
            "text/plain": [
              "<IPython.core.display.Image object>"
            ]
          },
          "metadata": {
            "tags": []
          },
          "execution_count": 117
        }
      ]
    },
    {
      "cell_type": "markdown",
      "metadata": {
        "id": "QXHMrhM46b1K",
        "colab_type": "text"
      },
      "source": [
        "## Compile the model"
      ]
    },
    {
      "cell_type": "code",
      "metadata": {
        "id": "Nos1SQqp6b1L",
        "colab_type": "code",
        "colab": {}
      },
      "source": [
        "model_4bdo.compile(optimizer='adam',\n",
        "                loss='sparse_categorical_crossentropy',\n",
        "                metrics=['accuracy'])"
      ],
      "execution_count": 0,
      "outputs": []
    },
    {
      "cell_type": "markdown",
      "metadata": {
        "id": "XQdIRt506b1M",
        "colab_type": "text"
      },
      "source": [
        "## Train the model\n",
        "\n",
        "We are now ready to train our network, which in Keras is done via a call to the `fit` method of the network: \n",
        "we \"fit\" the model to its training data. We train the model for 20 epochs with batch size 100. Also we pass the method the callback object we create to get the total training time."
      ]
    },
    {
      "cell_type": "code",
      "metadata": {
        "id": "QQ4Sireu6b1M",
        "colab_type": "code",
        "outputId": "430854cc-ffcc-4794-f789-675a8ef0859f",
        "colab": {
          "base_uri": "https://localhost:8080/",
          "height": 770
        }
      },
      "source": [
        "train_rt = TrainRuntimeCallback()\n",
        "history = model_4bdo.fit(train_images, train_labels, callbacks=[train_rt], epochs=20, batch_size = 100,\n",
        "                    validation_data=(val_images, val_labels))\n",
        "\n",
        "# Saving models locally after fitting\n",
        "save_dir = \"results/\"\n",
        "model_name = 'fashion_mnist_model_4bdo.h5'\n",
        "model_path = os.path.join(save_dir, model_name)\n",
        "model_4bdo.save(model_path)\n",
        "print('Saved trained model at %s ' % model_path)\n",
        "print('--------------------------')"
      ],
      "execution_count": 77,
      "outputs": [
        {
          "output_type": "stream",
          "text": [
            "Epoch 1/20\n",
            "550/550 [==============================] - 2s 4ms/step - loss: 1.3313 - accuracy: 0.6980 - val_loss: 0.8739 - val_accuracy: 0.7870\n",
            "Epoch 2/20\n",
            "550/550 [==============================] - 2s 4ms/step - loss: 0.8616 - accuracy: 0.7693 - val_loss: 0.7634 - val_accuracy: 0.8030\n",
            "Epoch 3/20\n",
            "550/550 [==============================] - 2s 4ms/step - loss: 0.8049 - accuracy: 0.7810 - val_loss: 0.7336 - val_accuracy: 0.8096\n",
            "Epoch 4/20\n",
            "550/550 [==============================] - 2s 4ms/step - loss: 0.7789 - accuracy: 0.7906 - val_loss: 0.7281 - val_accuracy: 0.8264\n",
            "Epoch 5/20\n",
            "550/550 [==============================] - 2s 4ms/step - loss: 0.7710 - accuracy: 0.7915 - val_loss: 0.6977 - val_accuracy: 0.8268\n",
            "Epoch 6/20\n",
            "550/550 [==============================] - 2s 4ms/step - loss: 0.7569 - accuracy: 0.7961 - val_loss: 0.6940 - val_accuracy: 0.8302\n",
            "Epoch 7/20\n",
            "550/550 [==============================] - 2s 4ms/step - loss: 0.7463 - accuracy: 0.7991 - val_loss: 0.7009 - val_accuracy: 0.8194\n",
            "Epoch 8/20\n",
            "550/550 [==============================] - 2s 4ms/step - loss: 0.7379 - accuracy: 0.8035 - val_loss: 0.6988 - val_accuracy: 0.8222\n",
            "Epoch 9/20\n",
            "550/550 [==============================] - 2s 4ms/step - loss: 0.7311 - accuracy: 0.8061 - val_loss: 0.7188 - val_accuracy: 0.8178\n",
            "Epoch 10/20\n",
            "550/550 [==============================] - 2s 4ms/step - loss: 0.7203 - accuracy: 0.8069 - val_loss: 0.6690 - val_accuracy: 0.8314\n",
            "Epoch 11/20\n",
            "550/550 [==============================] - 2s 4ms/step - loss: 0.7133 - accuracy: 0.8104 - val_loss: 0.6558 - val_accuracy: 0.8422\n",
            "Epoch 12/20\n",
            "550/550 [==============================] - 2s 4ms/step - loss: 0.7089 - accuracy: 0.8113 - val_loss: 0.6331 - val_accuracy: 0.8496\n",
            "Epoch 13/20\n",
            "550/550 [==============================] - 2s 4ms/step - loss: 0.7000 - accuracy: 0.8155 - val_loss: 0.6472 - val_accuracy: 0.8408\n",
            "Epoch 14/20\n",
            "550/550 [==============================] - 2s 4ms/step - loss: 0.6930 - accuracy: 0.8155 - val_loss: 0.6390 - val_accuracy: 0.8416\n",
            "Epoch 15/20\n",
            "550/550 [==============================] - 2s 4ms/step - loss: 0.6907 - accuracy: 0.8165 - val_loss: 0.6343 - val_accuracy: 0.8374\n",
            "Epoch 16/20\n",
            "550/550 [==============================] - 2s 4ms/step - loss: 0.6841 - accuracy: 0.8165 - val_loss: 0.6521 - val_accuracy: 0.8396\n",
            "Epoch 17/20\n",
            "550/550 [==============================] - 2s 4ms/step - loss: 0.6835 - accuracy: 0.8173 - val_loss: 0.6313 - val_accuracy: 0.8466\n",
            "Epoch 18/20\n",
            "550/550 [==============================] - 2s 4ms/step - loss: 0.6759 - accuracy: 0.8188 - val_loss: 0.6151 - val_accuracy: 0.8540\n",
            "Epoch 19/20\n",
            "550/550 [==============================] - 2s 4ms/step - loss: 0.6768 - accuracy: 0.8193 - val_loss: 0.6187 - val_accuracy: 0.8484\n",
            "Epoch 20/20\n",
            "550/550 [==============================] - 2s 4ms/step - loss: 0.6741 - accuracy: 0.8198 - val_loss: 0.6291 - val_accuracy: 0.8384\n",
            "Saved trained model at results/fashion_mnist_model_4bdo.h5 \n",
            "--------------------------\n"
          ],
          "name": "stdout"
        }
      ]
    },
    {
      "cell_type": "code",
      "metadata": {
        "id": "OSFjavYV6b1N",
        "colab_type": "code",
        "outputId": "91e1c8ed-b194-40d6-ecf6-219ea9e49666",
        "colab": {
          "base_uri": "https://localhost:8080/",
          "height": 35
        }
      },
      "source": [
        "# Get the training time\n",
        "train_time = train_rt.process_time\n",
        "train_time # in seconds"
      ],
      "execution_count": 78,
      "outputs": [
        {
          "output_type": "execute_result",
          "data": {
            "text/plain": [
              "42.996661"
            ]
          },
          "metadata": {
            "tags": []
          },
          "execution_count": 78
        }
      ]
    },
    {
      "cell_type": "markdown",
      "metadata": {
        "id": "NF9ScWpd6b1O",
        "colab_type": "text"
      },
      "source": [
        "## Testing the model\n",
        "\n",
        "Evaluate the model on the test dataset using a callback to get the total test time."
      ]
    },
    {
      "cell_type": "code",
      "metadata": {
        "id": "zRX7tBBC6b1O",
        "colab_type": "code",
        "outputId": "f25f344c-4e61-4e28-af3b-e278e5128882",
        "colab": {
          "base_uri": "https://localhost:8080/",
          "height": 35
        }
      },
      "source": [
        "test_rt = TestRuntimeCallback()\n",
        "test_loss, test_acc = model_4bdo.evaluate(test_images, test_labels, callbacks=[test_rt])"
      ],
      "execution_count": 79,
      "outputs": [
        {
          "output_type": "stream",
          "text": [
            "313/313 [==============================] - 1s 2ms/step - loss: 0.6640 - accuracy: 0.8192\n"
          ],
          "name": "stdout"
        }
      ]
    },
    {
      "cell_type": "code",
      "metadata": {
        "id": "zF3tsBeP6b1Q",
        "colab_type": "code",
        "outputId": "542b21f5-ca94-425e-80c7-ff78a4ea0366",
        "colab": {
          "base_uri": "https://localhost:8080/",
          "height": 35
        }
      },
      "source": [
        "# Get the test time\n",
        "test_time = test_rt.process_time\n",
        "test_time # in seconds"
      ],
      "execution_count": 80,
      "outputs": [
        {
          "output_type": "execute_result",
          "data": {
            "text/plain": [
              "1.00616"
            ]
          },
          "metadata": {
            "tags": []
          },
          "execution_count": 80
        }
      ]
    },
    {
      "cell_type": "markdown",
      "metadata": {
        "id": "HjlR325p6b1R",
        "colab_type": "text"
      },
      "source": [
        "## Create a DataFrame for the training and test statistics\n",
        "\n",
        "We will create a new DataFrame to hold the training/test times and their accuracy and loss values of the current model. The resulting DataFrame will hold the statistics for all the models we have worked with so far."
      ]
    },
    {
      "cell_type": "code",
      "metadata": {
        "id": "GefDlfV06b1R",
        "colab_type": "code",
        "outputId": "cb4e59a0-78bf-4bec-f018-1b217231c532",
        "colab": {
          "base_uri": "https://localhost:8080/",
          "height": 35
        }
      },
      "source": [
        "history_dict = history.history\n",
        "history_dict.keys()"
      ],
      "execution_count": 81,
      "outputs": [
        {
          "output_type": "execute_result",
          "data": {
            "text/plain": [
              "dict_keys(['loss', 'accuracy', 'val_loss', 'val_accuracy'])"
            ]
          },
          "metadata": {
            "tags": []
          },
          "execution_count": 81
        }
      ]
    },
    {
      "cell_type": "code",
      "metadata": {
        "id": "_2xzFyIL6b1T",
        "colab_type": "code",
        "outputId": "9900b232-bb3a-498b-c76c-e16257ef7880",
        "colab": {
          "base_uri": "https://localhost:8080/",
          "height": 206
        }
      },
      "source": [
        "history_df=pd.DataFrame(history_dict)\n",
        "history_df.tail()"
      ],
      "execution_count": 82,
      "outputs": [
        {
          "output_type": "execute_result",
          "data": {
            "text/html": [
              "<div>\n",
              "<style scoped>\n",
              "    .dataframe tbody tr th:only-of-type {\n",
              "        vertical-align: middle;\n",
              "    }\n",
              "\n",
              "    .dataframe tbody tr th {\n",
              "        vertical-align: top;\n",
              "    }\n",
              "\n",
              "    .dataframe thead th {\n",
              "        text-align: right;\n",
              "    }\n",
              "</style>\n",
              "<table border=\"1\" class=\"dataframe\">\n",
              "  <thead>\n",
              "    <tr style=\"text-align: right;\">\n",
              "      <th></th>\n",
              "      <th>loss</th>\n",
              "      <th>accuracy</th>\n",
              "      <th>val_loss</th>\n",
              "      <th>val_accuracy</th>\n",
              "    </tr>\n",
              "  </thead>\n",
              "  <tbody>\n",
              "    <tr>\n",
              "      <th>15</th>\n",
              "      <td>0.684128</td>\n",
              "      <td>0.816455</td>\n",
              "      <td>0.652140</td>\n",
              "      <td>0.8396</td>\n",
              "    </tr>\n",
              "    <tr>\n",
              "      <th>16</th>\n",
              "      <td>0.683546</td>\n",
              "      <td>0.817291</td>\n",
              "      <td>0.631336</td>\n",
              "      <td>0.8466</td>\n",
              "    </tr>\n",
              "    <tr>\n",
              "      <th>17</th>\n",
              "      <td>0.675915</td>\n",
              "      <td>0.818800</td>\n",
              "      <td>0.615065</td>\n",
              "      <td>0.8540</td>\n",
              "    </tr>\n",
              "    <tr>\n",
              "      <th>18</th>\n",
              "      <td>0.676843</td>\n",
              "      <td>0.819273</td>\n",
              "      <td>0.618677</td>\n",
              "      <td>0.8484</td>\n",
              "    </tr>\n",
              "    <tr>\n",
              "      <th>19</th>\n",
              "      <td>0.674064</td>\n",
              "      <td>0.819782</td>\n",
              "      <td>0.629076</td>\n",
              "      <td>0.8384</td>\n",
              "    </tr>\n",
              "  </tbody>\n",
              "</table>\n",
              "</div>"
            ],
            "text/plain": [
              "        loss  accuracy  val_loss  val_accuracy\n",
              "15  0.684128  0.816455  0.652140        0.8396\n",
              "16  0.683546  0.817291  0.631336        0.8466\n",
              "17  0.675915  0.818800  0.615065        0.8540\n",
              "18  0.676843  0.819273  0.618677        0.8484\n",
              "19  0.674064  0.819782  0.629076        0.8384"
            ]
          },
          "metadata": {
            "tags": []
          },
          "execution_count": 82
        }
      ]
    },
    {
      "cell_type": "code",
      "metadata": {
        "id": "tUJFrlsZ6b1U",
        "colab_type": "code",
        "outputId": "e993c20a-5711-416a-9ec2-07fff0b7fc50",
        "colab": {
          "base_uri": "https://localhost:8080/",
          "height": 81
        }
      },
      "source": [
        "# Pull statistics \n",
        "# Pull statistics \n",
        "results_df4b = history_df.iloc[-1:].copy()\n",
        "results_df4b.insert(0,'model','CNN (3 layers L2 DO)') # want the model name to appear first\n",
        "results_df4b['training time (sec)'] = train_time      # we are okay with training time appearing last\n",
        "results_df4b['testing time (sec)'] = test_time      # we are okay with training time appearing last\n",
        "results_df4b"
      ],
      "execution_count": 83,
      "outputs": [
        {
          "output_type": "execute_result",
          "data": {
            "text/html": [
              "<div>\n",
              "<style scoped>\n",
              "    .dataframe tbody tr th:only-of-type {\n",
              "        vertical-align: middle;\n",
              "    }\n",
              "\n",
              "    .dataframe tbody tr th {\n",
              "        vertical-align: top;\n",
              "    }\n",
              "\n",
              "    .dataframe thead th {\n",
              "        text-align: right;\n",
              "    }\n",
              "</style>\n",
              "<table border=\"1\" class=\"dataframe\">\n",
              "  <thead>\n",
              "    <tr style=\"text-align: right;\">\n",
              "      <th></th>\n",
              "      <th>model</th>\n",
              "      <th>loss</th>\n",
              "      <th>accuracy</th>\n",
              "      <th>val_loss</th>\n",
              "      <th>val_accuracy</th>\n",
              "      <th>training time (sec)</th>\n",
              "      <th>testing time (sec)</th>\n",
              "    </tr>\n",
              "  </thead>\n",
              "  <tbody>\n",
              "    <tr>\n",
              "      <th>19</th>\n",
              "      <td>CNN (3 layers L2 DO)</td>\n",
              "      <td>0.674064</td>\n",
              "      <td>0.819782</td>\n",
              "      <td>0.629076</td>\n",
              "      <td>0.8384</td>\n",
              "      <td>42.996661</td>\n",
              "      <td>1.00616</td>\n",
              "    </tr>\n",
              "  </tbody>\n",
              "</table>\n",
              "</div>"
            ],
            "text/plain": [
              "                   model      loss  ...  training time (sec)  testing time (sec)\n",
              "19  CNN (3 layers L2 DO)  0.674064  ...            42.996661             1.00616\n",
              "\n",
              "[1 rows x 7 columns]"
            ]
          },
          "metadata": {
            "tags": []
          },
          "execution_count": 83
        }
      ]
    },
    {
      "cell_type": "code",
      "metadata": {
        "id": "TPmmZK5q6b1W",
        "colab_type": "code",
        "colab": {}
      },
      "source": [
        "# Combine with previous results\n",
        "# prev_results_df = pd.read_pickle('results.pkl')\n",
        "# results_df = results_df.append(results_df3a,ignore_index=True)\n",
        "# results_df = results_df.append(results_df3b,ignore_index=True)\n",
        "# results_df"
      ],
      "execution_count": 0,
      "outputs": []
    },
    {
      "cell_type": "markdown",
      "metadata": {
        "id": "AxLTqtgH6b1W",
        "colab_type": "text"
      },
      "source": [
        "## Plot the performance "
      ]
    },
    {
      "cell_type": "markdown",
      "metadata": {
        "id": "_5gXYuOa6b1X",
        "colab_type": "text"
      },
      "source": [
        "**Figure 7: Learning curves for Model 4b with dropout**"
      ]
    },
    {
      "cell_type": "code",
      "metadata": {
        "scrolled": true,
        "id": "S9q-uaC06b1Y",
        "colab_type": "code",
        "outputId": "15bd19ca-8c85-436f-f39b-fb0ad91ccbd3",
        "colab": {
          "base_uri": "https://localhost:8080/",
          "height": 320
        }
      },
      "source": [
        "# Plot learning curves for model\n",
        "pd.DataFrame(history.history).plot(figsize=(8, 5))\n",
        "plt.grid(True)\n",
        "plt.gca().set_ylim(0, 1.5) # set the vertical range to [0-1]\n",
        "plt.savefig(\"figures/learning_curves_model_4bdo\", tight_layout=False)\n",
        "plt.show()"
      ],
      "execution_count": 84,
      "outputs": [
        {
          "output_type": "display_data",
          "data": {
            "image/png": "[encoded data removed]",
            "text/plain": [
              "<Figure size 576x360 with 1 Axes>"
            ]
          },
          "metadata": {
            "tags": [],
            "needs_background": "light"
          }
        }
      ]
    },
    {
      "cell_type": "markdown",
      "metadata": {
        "id": "aAvNiUUY6b1Z",
        "colab_type": "text"
      },
      "source": [
        "# Compile all results into a DataFrame"
      ]
    },
    {
      "cell_type": "code",
      "metadata": {
        "id": "gjFjwnr06b1Z",
        "colab_type": "code",
        "outputId": "5dfefa11-82bf-4b89-d338-60c5df721461",
        "colab": {
          "base_uri": "https://localhost:8080/",
          "height": 269
        }
      },
      "source": [
        "# # Add the new data to results_df:\n",
        "# results_df2\n",
        "# results_df3a\n",
        "# results_df3b\n",
        "# results_df3c\n",
        "# results_df4a\n",
        "# results_df4b\n",
        "\n",
        "results_df_do=results_df_do.append(results_df2,ignore_index=True)\n",
        "results_df_do=results_df_do.append(results_df3a,ignore_index=True)\n",
        "results_df_do=results_df_do.append(results_df3b,ignore_index=True)\n",
        "results_df_do=results_df_do.append(results_df3c,ignore_index=True)\n",
        "results_df_do=results_df_do.append(results_df4a,ignore_index=True)\n",
        "results_df_do=results_df_do.append(results_df4b,ignore_index=True)\n",
        "\n",
        "results_df_do"
      ],
      "execution_count": 85,
      "outputs": [
        {
          "output_type": "execute_result",
          "data": {
            "text/html": [
              "<div>\n",
              "<style scoped>\n",
              "    .dataframe tbody tr th:only-of-type {\n",
              "        vertical-align: middle;\n",
              "    }\n",
              "\n",
              "    .dataframe tbody tr th {\n",
              "        vertical-align: top;\n",
              "    }\n",
              "\n",
              "    .dataframe thead th {\n",
              "        text-align: right;\n",
              "    }\n",
              "</style>\n",
              "<table border=\"1\" class=\"dataframe\">\n",
              "  <thead>\n",
              "    <tr style=\"text-align: right;\">\n",
              "      <th></th>\n",
              "      <th>model</th>\n",
              "      <th>loss</th>\n",
              "      <th>accuracy</th>\n",
              "      <th>val_loss</th>\n",
              "      <th>val_accuracy</th>\n",
              "      <th>training time (sec)</th>\n",
              "      <th>testing time (sec)</th>\n",
              "    </tr>\n",
              "  </thead>\n",
              "  <tbody>\n",
              "    <tr>\n",
              "      <th>0</th>\n",
              "      <td>DNN (2 layers DO)</td>\n",
              "      <td>1.039818</td>\n",
              "      <td>0.627073</td>\n",
              "      <td>0.687543</td>\n",
              "      <td>0.8116</td>\n",
              "      <td>25.842328</td>\n",
              "      <td>0.654728</td>\n",
              "    </tr>\n",
              "    <tr>\n",
              "      <th>1</th>\n",
              "      <td>DNN (3 layers DO)</td>\n",
              "      <td>0.979232</td>\n",
              "      <td>0.608491</td>\n",
              "      <td>0.672728</td>\n",
              "      <td>0.7602</td>\n",
              "      <td>25.392829</td>\n",
              "      <td>0.637817</td>\n",
              "    </tr>\n",
              "    <tr>\n",
              "      <th>2</th>\n",
              "      <td>CNN (2 layers DO)</td>\n",
              "      <td>0.146241</td>\n",
              "      <td>0.944364</td>\n",
              "      <td>0.230351</td>\n",
              "      <td>0.9198</td>\n",
              "      <td>43.519450</td>\n",
              "      <td>0.802108</td>\n",
              "    </tr>\n",
              "    <tr>\n",
              "      <th>3</th>\n",
              "      <td>CNN (2 layers L2 DO)</td>\n",
              "      <td>0.593767</td>\n",
              "      <td>0.836236</td>\n",
              "      <td>0.556045</td>\n",
              "      <td>0.8532</td>\n",
              "      <td>40.009027</td>\n",
              "      <td>0.826110</td>\n",
              "    </tr>\n",
              "    <tr>\n",
              "      <th>4</th>\n",
              "      <td>CNN (2 layers aug DO)</td>\n",
              "      <td>0.986620</td>\n",
              "      <td>0.632764</td>\n",
              "      <td>0.713365</td>\n",
              "      <td>0.7226</td>\n",
              "      <td>274.081636</td>\n",
              "      <td>0.759575</td>\n",
              "    </tr>\n",
              "    <tr>\n",
              "      <th>5</th>\n",
              "      <td>CNN (3 layers DO)</td>\n",
              "      <td>0.204254</td>\n",
              "      <td>0.922327</td>\n",
              "      <td>0.212962</td>\n",
              "      <td>0.9220</td>\n",
              "      <td>41.460279</td>\n",
              "      <td>0.794109</td>\n",
              "    </tr>\n",
              "    <tr>\n",
              "      <th>6</th>\n",
              "      <td>CNN (3 layers L2 DO)</td>\n",
              "      <td>0.674064</td>\n",
              "      <td>0.819782</td>\n",
              "      <td>0.629076</td>\n",
              "      <td>0.8384</td>\n",
              "      <td>42.996661</td>\n",
              "      <td>1.006160</td>\n",
              "    </tr>\n",
              "  </tbody>\n",
              "</table>\n",
              "</div>"
            ],
            "text/plain": [
              "                   model      loss  ...  training time (sec)  testing time (sec)\n",
              "0      DNN (2 layers DO)  1.039818  ...            25.842328            0.654728\n",
              "1      DNN (3 layers DO)  0.979232  ...            25.392829            0.637817\n",
              "2      CNN (2 layers DO)  0.146241  ...            43.519450            0.802108\n",
              "3   CNN (2 layers L2 DO)  0.593767  ...            40.009027            0.826110\n",
              "4  CNN (2 layers aug DO)  0.986620  ...           274.081636            0.759575\n",
              "5      CNN (3 layers DO)  0.204254  ...            41.460279            0.794109\n",
              "6   CNN (3 layers L2 DO)  0.674064  ...            42.996661            1.006160\n",
              "\n",
              "[7 rows x 7 columns]"
            ]
          },
          "metadata": {
            "tags": []
          },
          "execution_count": 85
        }
      ]
    },
    {
      "cell_type": "code",
      "metadata": {
        "id": "_TCO4Xvx6b1b",
        "colab_type": "code",
        "colab": {
          "base_uri": "https://localhost:8080/",
          "height": 489
        },
        "outputId": "ea1426e7-7ecf-492c-b920-52f5dfa0eddf"
      },
      "source": [
        "# Combine with previous results\n",
        "prev_results_df = pd.read_pickle('results/results_table.pkl')\n",
        "results_df_new = prev_results_df.append(results_df_do,ignore_index=True)\n",
        "results_df_new"
      ],
      "execution_count": 87,
      "outputs": [
        {
          "output_type": "execute_result",
          "data": {
            "text/html": [
              "<div>\n",
              "<style scoped>\n",
              "    .dataframe tbody tr th:only-of-type {\n",
              "        vertical-align: middle;\n",
              "    }\n",
              "\n",
              "    .dataframe tbody tr th {\n",
              "        vertical-align: top;\n",
              "    }\n",
              "\n",
              "    .dataframe thead th {\n",
              "        text-align: right;\n",
              "    }\n",
              "</style>\n",
              "<table border=\"1\" class=\"dataframe\">\n",
              "  <thead>\n",
              "    <tr style=\"text-align: right;\">\n",
              "      <th></th>\n",
              "      <th>model</th>\n",
              "      <th>loss</th>\n",
              "      <th>accuracy</th>\n",
              "      <th>val_loss</th>\n",
              "      <th>val_accuracy</th>\n",
              "      <th>training time (sec)</th>\n",
              "      <th>testing time (sec)</th>\n",
              "    </tr>\n",
              "  </thead>\n",
              "  <tbody>\n",
              "    <tr>\n",
              "      <th>0</th>\n",
              "      <td>DNN (2 layers)</td>\n",
              "      <td>0.445179</td>\n",
              "      <td>0.845818</td>\n",
              "      <td>0.446092</td>\n",
              "      <td>0.8482</td>\n",
              "      <td>33.456518</td>\n",
              "      <td>0.959970</td>\n",
              "    </tr>\n",
              "    <tr>\n",
              "      <th>1</th>\n",
              "      <td>DNN (3 layers)</td>\n",
              "      <td>0.393804</td>\n",
              "      <td>0.862691</td>\n",
              "      <td>0.418285</td>\n",
              "      <td>0.8578</td>\n",
              "      <td>33.351694</td>\n",
              "      <td>0.907039</td>\n",
              "    </tr>\n",
              "    <tr>\n",
              "      <th>2</th>\n",
              "      <td>CNN (2 layers)</td>\n",
              "      <td>0.062694</td>\n",
              "      <td>0.977255</td>\n",
              "      <td>0.342600</td>\n",
              "      <td>0.9102</td>\n",
              "      <td>46.694116</td>\n",
              "      <td>1.092569</td>\n",
              "    </tr>\n",
              "    <tr>\n",
              "      <th>3</th>\n",
              "      <td>CNN (2 layers L2)</td>\n",
              "      <td>0.520660</td>\n",
              "      <td>0.857909</td>\n",
              "      <td>0.493949</td>\n",
              "      <td>0.8732</td>\n",
              "      <td>43.898222</td>\n",
              "      <td>1.081623</td>\n",
              "    </tr>\n",
              "    <tr>\n",
              "      <th>4</th>\n",
              "      <td>CNN (2 layers aug)</td>\n",
              "      <td>1.025814</td>\n",
              "      <td>0.621236</td>\n",
              "      <td>0.765337</td>\n",
              "      <td>0.7222</td>\n",
              "      <td>436.083312</td>\n",
              "      <td>1.024631</td>\n",
              "    </tr>\n",
              "    <tr>\n",
              "      <th>5</th>\n",
              "      <td>CNN (3 layers)</td>\n",
              "      <td>0.082464</td>\n",
              "      <td>0.969909</td>\n",
              "      <td>0.314664</td>\n",
              "      <td>0.9150</td>\n",
              "      <td>44.815734</td>\n",
              "      <td>1.112644</td>\n",
              "    </tr>\n",
              "    <tr>\n",
              "      <th>6</th>\n",
              "      <td>CNN (3 layers L2)</td>\n",
              "      <td>0.589668</td>\n",
              "      <td>0.846236</td>\n",
              "      <td>0.581835</td>\n",
              "      <td>0.8528</td>\n",
              "      <td>48.277778</td>\n",
              "      <td>1.097991</td>\n",
              "    </tr>\n",
              "    <tr>\n",
              "      <th>7</th>\n",
              "      <td>DNN (2 layers DO)</td>\n",
              "      <td>1.039818</td>\n",
              "      <td>0.627073</td>\n",
              "      <td>0.687543</td>\n",
              "      <td>0.8116</td>\n",
              "      <td>25.842328</td>\n",
              "      <td>0.654728</td>\n",
              "    </tr>\n",
              "    <tr>\n",
              "      <th>8</th>\n",
              "      <td>DNN (3 layers DO)</td>\n",
              "      <td>0.979232</td>\n",
              "      <td>0.608491</td>\n",
              "      <td>0.672728</td>\n",
              "      <td>0.7602</td>\n",
              "      <td>25.392829</td>\n",
              "      <td>0.637817</td>\n",
              "    </tr>\n",
              "    <tr>\n",
              "      <th>9</th>\n",
              "      <td>CNN (2 layers DO)</td>\n",
              "      <td>0.146241</td>\n",
              "      <td>0.944364</td>\n",
              "      <td>0.230351</td>\n",
              "      <td>0.9198</td>\n",
              "      <td>43.519450</td>\n",
              "      <td>0.802108</td>\n",
              "    </tr>\n",
              "    <tr>\n",
              "      <th>10</th>\n",
              "      <td>CNN (2 layers L2 DO)</td>\n",
              "      <td>0.593767</td>\n",
              "      <td>0.836236</td>\n",
              "      <td>0.556045</td>\n",
              "      <td>0.8532</td>\n",
              "      <td>40.009027</td>\n",
              "      <td>0.826110</td>\n",
              "    </tr>\n",
              "    <tr>\n",
              "      <th>11</th>\n",
              "      <td>CNN (2 layers aug DO)</td>\n",
              "      <td>0.986620</td>\n",
              "      <td>0.632764</td>\n",
              "      <td>0.713365</td>\n",
              "      <td>0.7226</td>\n",
              "      <td>274.081636</td>\n",
              "      <td>0.759575</td>\n",
              "    </tr>\n",
              "    <tr>\n",
              "      <th>12</th>\n",
              "      <td>CNN (3 layers DO)</td>\n",
              "      <td>0.204254</td>\n",
              "      <td>0.922327</td>\n",
              "      <td>0.212962</td>\n",
              "      <td>0.9220</td>\n",
              "      <td>41.460279</td>\n",
              "      <td>0.794109</td>\n",
              "    </tr>\n",
              "    <tr>\n",
              "      <th>13</th>\n",
              "      <td>CNN (3 layers L2 DO)</td>\n",
              "      <td>0.674064</td>\n",
              "      <td>0.819782</td>\n",
              "      <td>0.629076</td>\n",
              "      <td>0.8384</td>\n",
              "      <td>42.996661</td>\n",
              "      <td>1.006160</td>\n",
              "    </tr>\n",
              "  </tbody>\n",
              "</table>\n",
              "</div>"
            ],
            "text/plain": [
              "                    model      loss  ...  training time (sec)  testing time (sec)\n",
              "0          DNN (2 layers)  0.445179  ...            33.456518            0.959970\n",
              "1          DNN (3 layers)  0.393804  ...            33.351694            0.907039\n",
              "2          CNN (2 layers)  0.062694  ...            46.694116            1.092569\n",
              "3       CNN (2 layers L2)  0.520660  ...            43.898222            1.081623\n",
              "4      CNN (2 layers aug)  1.025814  ...           436.083312            1.024631\n",
              "5          CNN (3 layers)  0.082464  ...            44.815734            1.112644\n",
              "6       CNN (3 layers L2)  0.589668  ...            48.277778            1.097991\n",
              "7       DNN (2 layers DO)  1.039818  ...            25.842328            0.654728\n",
              "8       DNN (3 layers DO)  0.979232  ...            25.392829            0.637817\n",
              "9       CNN (2 layers DO)  0.146241  ...            43.519450            0.802108\n",
              "10   CNN (2 layers L2 DO)  0.593767  ...            40.009027            0.826110\n",
              "11  CNN (2 layers aug DO)  0.986620  ...           274.081636            0.759575\n",
              "12      CNN (3 layers DO)  0.204254  ...            41.460279            0.794109\n",
              "13   CNN (3 layers L2 DO)  0.674064  ...            42.996661            1.006160\n",
              "\n",
              "[14 rows x 7 columns]"
            ]
          },
          "metadata": {
            "tags": []
          },
          "execution_count": 87
        }
      ]
    },
    {
      "cell_type": "code",
      "metadata": {
        "id": "QwV9ezTPTg0U",
        "colab_type": "code",
        "colab": {}
      },
      "source": [
        ""
      ],
      "execution_count": 0,
      "outputs": []
    }
  ]
}